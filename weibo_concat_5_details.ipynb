{
 "cells": [
  {
   "cell_type": "code",
   "execution_count": 21,
   "metadata": {
    "collapsed": true
   },
   "outputs": [],
   "source": [
    "import time\n",
    "import pandas as pd\n",
    "%matplotlib inline\n",
    "from pylab import mpl\n",
    "\n",
    "mpl.rcParams['font.sans-serif'] = ['FangSong'] # 指定默认字体\n",
    "mpl.rcParams['axes.unicode_minus'] = False # 解决保存图像是负号'-'显示为方块的问题"
   ]
  },
  {
   "cell_type": "code",
   "execution_count": 22,
   "metadata": {},
   "outputs": [
    {
     "data": {
      "text/html": [
       "<div>\n",
       "<style>\n",
       "    .dataframe thead tr:only-child th {\n",
       "        text-align: right;\n",
       "    }\n",
       "\n",
       "    .dataframe thead th {\n",
       "        text-align: left;\n",
       "    }\n",
       "\n",
       "    .dataframe tbody tr th {\n",
       "        vertical-align: top;\n",
       "    }\n",
       "</style>\n",
       "<table border=\"1\" class=\"dataframe\">\n",
       "  <thead>\n",
       "    <tr style=\"text-align: right;\">\n",
       "      <th></th>\n",
       "      <th>id</th>\n",
       "      <th>statdate</th>\n",
       "      <th>text</th>\n",
       "      <th>所属分类</th>\n",
       "    </tr>\n",
       "  </thead>\n",
       "  <tbody>\n",
       "    <tr>\n",
       "      <th>0</th>\n",
       "      <td>3585</td>\n",
       "      <td>2017/8/22</td>\n",
       "      <td>http://t.cn/h91BSI【升级气象灾害应急响应通知】据市气象台监测，广州市达到启...</td>\n",
       "      <td>气象灾害应急响应：灾害响应</td>\n",
       "    </tr>\n",
       "    <tr>\n",
       "      <th>1</th>\n",
       "      <td>3658</td>\n",
       "      <td>2017/8/23</td>\n",
       "      <td>http://t.cn/h91BSI【解除气象灾害应急响应通知】解除气象灾害应急响应通知：目...</td>\n",
       "      <td>气象灾害应急响应：灾害响应</td>\n",
       "    </tr>\n",
       "    <tr>\n",
       "      <th>2</th>\n",
       "      <td>3589</td>\n",
       "      <td>2017/8/22</td>\n",
       "      <td>#天气要闻# 受台风“天鸽”影响，截止到22日20时26分，广州市南沙、番禺、天河、越秀、荔...</td>\n",
       "      <td>气象灾害应急响应：延迟上学</td>\n",
       "    </tr>\n",
       "    <tr>\n",
       "      <th>3</th>\n",
       "      <td>3608</td>\n",
       "      <td>2017/8/23</td>\n",
       "      <td>#天气话你知# #13号台风天鸽# 台风靠近，注意远离海边，山区，洼地等危险区域[doge]...</td>\n",
       "      <td>气象灾害应急响应：延迟上学</td>\n",
       "    </tr>\n",
       "    <tr>\n",
       "      <th>4</th>\n",
       "      <td>3612</td>\n",
       "      <td>2017/8/23</td>\n",
       "      <td>升级气象灾害应急响应通知：市气象灾害应急指挥部决定从23日09时00分起将广州市气象灾害（台...</td>\n",
       "      <td>气象灾害应急响应：灾害响应</td>\n",
       "    </tr>\n",
       "  </tbody>\n",
       "</table>\n",
       "</div>"
      ],
      "text/plain": [
       "     id   statdate                                               text  \\\n",
       "0  3585  2017/8/22  http://t.cn/h91BSI【升级气象灾害应急响应通知】据市气象台监测，广州市达到启...   \n",
       "1  3658  2017/8/23  http://t.cn/h91BSI【解除气象灾害应急响应通知】解除气象灾害应急响应通知：目...   \n",
       "2  3589  2017/8/22  #天气要闻# 受台风“天鸽”影响，截止到22日20时26分，广州市南沙、番禺、天河、越秀、荔...   \n",
       "3  3608  2017/8/23  #天气话你知# #13号台风天鸽# 台风靠近，注意远离海边，山区，洼地等危险区域[doge]...   \n",
       "4  3612  2017/8/23  升级气象灾害应急响应通知：市气象灾害应急指挥部决定从23日09时00分起将广州市气象灾害（台...   \n",
       "\n",
       "            所属分类  \n",
       "0  气象灾害应急响应：灾害响应  \n",
       "1  气象灾害应急响应：灾害响应  \n",
       "2  气象灾害应急响应：延迟上学  \n",
       "3  气象灾害应急响应：延迟上学  \n",
       "4  气象灾害应急响应：灾害响应  "
      ]
     },
     "execution_count": 22,
     "metadata": {},
     "output_type": "execute_result"
    }
   ],
   "source": [
    "cxtx = pd.read_csv('LDA_clustered_cxtx.csv', encoding='gb18030')\n",
    "cxtx.head()"
   ]
  },
  {
   "cell_type": "code",
   "execution_count": 23,
   "metadata": {},
   "outputs": [
    {
     "data": {
      "text/plain": [
       "(282, 4)"
      ]
     },
     "execution_count": 23,
     "metadata": {},
     "output_type": "execute_result"
    }
   ],
   "source": [
    "cxtx.shape"
   ]
  },
  {
   "cell_type": "code",
   "execution_count": 24,
   "metadata": {},
   "outputs": [
    {
     "data": {
      "text/plain": [
       "气象灾害应急响应：延迟上学    131\n",
       "气象灾害应急响应：灾害响应     76\n",
       "气象灾害应急响应：拜祭提醒     75\n",
       "Name: 所属分类, dtype: int64"
      ]
     },
     "execution_count": 24,
     "metadata": {},
     "output_type": "execute_result"
    }
   ],
   "source": [
    "cxtxhuatu = cxtx.所属分类.value_counts()\n",
    "cxtxhuatu"
   ]
  },
  {
   "cell_type": "code",
   "execution_count": 25,
   "metadata": {},
   "outputs": [
    {
     "data": {
      "text/plain": [
       "<matplotlib.axes._subplots.AxesSubplot at 0xec137e5240>"
      ]
     },
     "execution_count": 25,
     "metadata": {},
     "output_type": "execute_result"
    },
    {
     "data": {
      "image/png": "[encoded data removed]",
      "text/plain": [
       "<matplotlib.figure.Figure at 0xec137925f8>"
      ]
     },
     "metadata": {},
     "output_type": "display_data"
    }
   ],
   "source": [
    "cxtx.所属分类.value_counts().plot()"
   ]
  },
  {
   "cell_type": "code",
   "execution_count": 26,
   "metadata": {},
   "outputs": [
    {
     "data": {
      "text/html": [
       "<div>\n",
       "<style>\n",
       "    .dataframe thead tr:only-child th {\n",
       "        text-align: right;\n",
       "    }\n",
       "\n",
       "    .dataframe thead th {\n",
       "        text-align: left;\n",
       "    }\n",
       "\n",
       "    .dataframe tbody tr th {\n",
       "        vertical-align: top;\n",
       "    }\n",
       "</style>\n",
       "<table border=\"1\" class=\"dataframe\">\n",
       "  <thead>\n",
       "    <tr style=\"text-align: right;\">\n",
       "      <th></th>\n",
       "      <th>id</th>\n",
       "      <th>statdate</th>\n",
       "      <th>text</th>\n",
       "      <th>所属分类</th>\n",
       "    </tr>\n",
       "  </thead>\n",
       "  <tbody>\n",
       "    <tr>\n",
       "      <th>0</th>\n",
       "      <td>3663</td>\n",
       "      <td>2017/8/24</td>\n",
       "      <td>http://t.cn/h91BSI【雷雨大风预警信号解除】过去3小时，广州市区普遍出现了中...</td>\n",
       "      <td>预警信号：雷雨大风预警</td>\n",
       "    </tr>\n",
       "    <tr>\n",
       "      <th>1</th>\n",
       "      <td>3664</td>\n",
       "      <td>2017/8/24</td>\n",
       "      <td>【番禺区暴雨预警解除】过去3个半小时我区出现中雨并伴有6级阵风，目前我区雨势已明显减弱，番禺...</td>\n",
       "      <td>预警信号：最大雨量记录</td>\n",
       "    </tr>\n",
       "    <tr>\n",
       "      <th>2</th>\n",
       "      <td>3665</td>\n",
       "      <td>2017/8/24</td>\n",
       "      <td>【海珠雷雨大风和暴雨预警解除】过去3小时，我区出现了雷阵雨，并伴有6级阵风，其中瀛洲生态公园...</td>\n",
       "      <td>预警信号：最大雨量记录</td>\n",
       "    </tr>\n",
       "    <tr>\n",
       "      <th>3</th>\n",
       "      <td>3669</td>\n",
       "      <td>2017/8/24</td>\n",
       "      <td>【增城区雷雨大风预警解除】过去三个半小时，我区普降中雨局部大雨，并伴有6级阵风。目前影响我区...</td>\n",
       "      <td>预警信号：最大雨量记录</td>\n",
       "    </tr>\n",
       "    <tr>\n",
       "      <th>4</th>\n",
       "      <td>3672</td>\n",
       "      <td>2017/8/24</td>\n",
       "      <td>【从化雷雨大风预警解除】过去3-4小时，我区大部有阵雨，局部伴有6-7级阵风，江埔钓里站录得...</td>\n",
       "      <td>预警信号：最大雨量记录</td>\n",
       "    </tr>\n",
       "  </tbody>\n",
       "</table>\n",
       "</div>"
      ],
      "text/plain": [
       "     id   statdate                                               text  \\\n",
       "0  3663  2017/8/24  http://t.cn/h91BSI【雷雨大风预警信号解除】过去3小时，广州市区普遍出现了中...   \n",
       "1  3664  2017/8/24  【番禺区暴雨预警解除】过去3个半小时我区出现中雨并伴有6级阵风，目前我区雨势已明显减弱，番禺...   \n",
       "2  3665  2017/8/24  【海珠雷雨大风和暴雨预警解除】过去3小时，我区出现了雷阵雨，并伴有6级阵风，其中瀛洲生态公园...   \n",
       "3  3669  2017/8/24  【增城区雷雨大风预警解除】过去三个半小时，我区普降中雨局部大雨，并伴有6级阵风。目前影响我区...   \n",
       "4  3672  2017/8/24  【从化雷雨大风预警解除】过去3-4小时，我区大部有阵雨，局部伴有6-7级阵风，江埔钓里站录得...   \n",
       "\n",
       "          所属分类  \n",
       "0  预警信号：雷雨大风预警  \n",
       "1  预警信号：最大雨量记录  \n",
       "2  预警信号：最大雨量记录  \n",
       "3  预警信号：最大雨量记录  \n",
       "4  预警信号：最大雨量记录  "
      ]
     },
     "execution_count": 26,
     "metadata": {},
     "output_type": "execute_result"
    }
   ],
   "source": [
    "jdyj = pd.read_csv('LDA_clustered_jdyj.csv', encoding='gb18030')\n",
    "jdyj.head()"
   ]
  },
  {
   "cell_type": "code",
   "execution_count": 27,
   "metadata": {},
   "outputs": [
    {
     "data": {
      "text/plain": [
       "(1085, 4)"
      ]
     },
     "execution_count": 27,
     "metadata": {},
     "output_type": "execute_result"
    }
   ],
   "source": [
    "jdyj.shape"
   ]
  },
  {
   "cell_type": "code",
   "execution_count": 28,
   "metadata": {},
   "outputs": [
    {
     "data": {
      "text/plain": [
       "预警信号：高温寒冷预警    257\n",
       "预警信号：雷雨大风预警    209\n",
       "预警信号：暴雨预警      200\n",
       "预警信号：最大雨量记录    194\n",
       "预警信号：大雾灰霾       92\n",
       "预警信号：森林火险       85\n",
       "预警信号：台风预警       47\n",
       "预警信号：新造附近预警      1\n",
       "Name: 所属分类, dtype: int64"
      ]
     },
     "execution_count": 28,
     "metadata": {},
     "output_type": "execute_result"
    }
   ],
   "source": [
    "jdyjhuatu = jdyj.所属分类.value_counts()\n",
    "jdyjhuatu"
   ]
  },
  {
   "cell_type": "code",
   "execution_count": 29,
   "metadata": {},
   "outputs": [
    {
     "data": {
      "text/plain": [
       "<matplotlib.axes._subplots.AxesSubplot at 0xec15752da0>"
      ]
     },
     "execution_count": 29,
     "metadata": {},
     "output_type": "execute_result"
    },
    {
     "data": {
      "image/png": "[encoded data removed]",
      "text/plain": [
       "<matplotlib.figure.Figure at 0xec13803c88>"
      ]
     },
     "metadata": {},
     "output_type": "display_data"
    }
   ],
   "source": [
    "jdyj.所属分类.value_counts().plot()"
   ]
  },
  {
   "cell_type": "code",
   "execution_count": 30,
   "metadata": {},
   "outputs": [
    {
     "data": {
      "text/html": [
       "<div>\n",
       "<style>\n",
       "    .dataframe thead tr:only-child th {\n",
       "        text-align: right;\n",
       "    }\n",
       "\n",
       "    .dataframe thead th {\n",
       "        text-align: left;\n",
       "    }\n",
       "\n",
       "    .dataframe tbody tr th {\n",
       "        vertical-align: top;\n",
       "    }\n",
       "</style>\n",
       "<table border=\"1\" class=\"dataframe\">\n",
       "  <thead>\n",
       "    <tr style=\"text-align: right;\">\n",
       "      <th></th>\n",
       "      <th>id</th>\n",
       "      <th>statdate</th>\n",
       "      <th>text</th>\n",
       "      <th>所属分类</th>\n",
       "    </tr>\n",
       "  </thead>\n",
       "  <tbody>\n",
       "    <tr>\n",
       "      <th>0</th>\n",
       "      <td>3671</td>\n",
       "      <td>2017/8/24</td>\n",
       "      <td>http://t.cn/h91BSI【广州上班天气】据广州市气象台预测：目前我市有阵雨，并伴...</td>\n",
       "      <td>日常预报：下班高峰天气</td>\n",
       "    </tr>\n",
       "    <tr>\n",
       "      <th>1</th>\n",
       "      <td>3591</td>\n",
       "      <td>2017/8/22</td>\n",
       "      <td>大家注意啦！</td>\n",
       "      <td>日常预报：上班天气预测</td>\n",
       "    </tr>\n",
       "    <tr>\n",
       "      <th>2</th>\n",
       "      <td>3600</td>\n",
       "      <td>2017/8/23</td>\n",
       "      <td>http://t.cn/h91BSI【广州上班天气】据广州市气象台预测：目前我市受台风“天鸽...</td>\n",
       "      <td>日常预报：下班高峰天气</td>\n",
       "    </tr>\n",
       "    <tr>\n",
       "      <th>3</th>\n",
       "      <td>3605</td>\n",
       "      <td>2017/8/23</td>\n",
       "      <td>http://t.cn/h91BSI【广州市今日天气】据广州市气象台预测：今日白天：阴天，有...</td>\n",
       "      <td>日常预报：上班天气预测</td>\n",
       "    </tr>\n",
       "    <tr>\n",
       "      <th>4</th>\n",
       "      <td>3688</td>\n",
       "      <td>2017/8/24</td>\n",
       "      <td>http://t.cn/h91BSI【广州午间天气预报】据广州市气象台监测：目前，广州市多云...</td>\n",
       "      <td>日常预报：午间天气预报</td>\n",
       "    </tr>\n",
       "  </tbody>\n",
       "</table>\n",
       "</div>"
      ],
      "text/plain": [
       "     id   statdate                                               text  \\\n",
       "0  3671  2017/8/24  http://t.cn/h91BSI【广州上班天气】据广州市气象台预测：目前我市有阵雨，并伴...   \n",
       "1  3591  2017/8/22                                             大家注意啦！   \n",
       "2  3600  2017/8/23  http://t.cn/h91BSI【广州上班天气】据广州市气象台预测：目前我市受台风“天鸽...   \n",
       "3  3605  2017/8/23  http://t.cn/h91BSI【广州市今日天气】据广州市气象台预测：今日白天：阴天，有...   \n",
       "4  3688  2017/8/24  http://t.cn/h91BSI【广州午间天气预报】据广州市气象台监测：目前，广州市多云...   \n",
       "\n",
       "          所属分类  \n",
       "0  日常预报：下班高峰天气  \n",
       "1  日常预报：上班天气预测  \n",
       "2  日常预报：下班高峰天气  \n",
       "3  日常预报：上班天气预测  \n",
       "4  日常预报：午间天气预报  "
      ]
     },
     "execution_count": 30,
     "metadata": {},
     "output_type": "execute_result"
    }
   ],
   "source": [
    "rcyb = pd.read_csv('LDA_clustered_rcyb.csv', encoding='gb18030')\n",
    "rcyb.head()"
   ]
  },
  {
   "cell_type": "code",
   "execution_count": 31,
   "metadata": {},
   "outputs": [
    {
     "data": {
      "text/plain": [
       "(1092, 4)"
      ]
     },
     "execution_count": 31,
     "metadata": {},
     "output_type": "execute_result"
    }
   ],
   "source": [
    "rcyb.shape"
   ]
  },
  {
   "cell_type": "code",
   "execution_count": 32,
   "metadata": {},
   "outputs": [
    {
     "data": {
      "text/plain": [
       "日常预报：上班天气预测    451\n",
       "日常预报：下班高峰天气    361\n",
       "日常预报：午间天气预报    280\n",
       "Name: 所属分类, dtype: int64"
      ]
     },
     "execution_count": 32,
     "metadata": {},
     "output_type": "execute_result"
    }
   ],
   "source": [
    "rcybhuatu = rcyb.所属分类.value_counts()\n",
    "rcybhuatu"
   ]
  },
  {
   "cell_type": "code",
   "execution_count": 33,
   "metadata": {},
   "outputs": [
    {
     "data": {
      "text/plain": [
       "<matplotlib.axes._subplots.AxesSubplot at 0xec138ef978>"
      ]
     },
     "execution_count": 33,
     "metadata": {},
     "output_type": "execute_result"
    },
    {
     "data": {
      "image/png": "[encoded data removed]",
      "text/plain": [
       "<matplotlib.figure.Figure at 0xec138e1940>"
      ]
     },
     "metadata": {},
     "output_type": "display_data"
    }
   ],
   "source": [
    "rcyb.所属分类.value_counts().plot()"
   ]
  },
  {
   "cell_type": "code",
   "execution_count": 34,
   "metadata": {},
   "outputs": [
    {
     "data": {
      "text/html": [
       "<div>\n",
       "<style>\n",
       "    .dataframe thead tr:only-child th {\n",
       "        text-align: right;\n",
       "    }\n",
       "\n",
       "    .dataframe thead th {\n",
       "        text-align: left;\n",
       "    }\n",
       "\n",
       "    .dataframe tbody tr th {\n",
       "        vertical-align: top;\n",
       "    }\n",
       "</style>\n",
       "<table border=\"1\" class=\"dataframe\">\n",
       "  <thead>\n",
       "    <tr style=\"text-align: right;\">\n",
       "      <th></th>\n",
       "      <th>id</th>\n",
       "      <th>statdate</th>\n",
       "      <th>text</th>\n",
       "      <th>所属分类</th>\n",
       "    </tr>\n",
       "  </thead>\n",
       "  <tbody>\n",
       "    <tr>\n",
       "      <th>0</th>\n",
       "      <td>3586</td>\n",
       "      <td>2017/8/22</td>\n",
       "      <td>转发微博</td>\n",
       "      <td>热带风暴：台风中心消息</td>\n",
       "    </tr>\n",
       "    <tr>\n",
       "      <th>1</th>\n",
       "      <td>3641</td>\n",
       "      <td>2017/8/23</td>\n",
       "      <td>http://t.cn/h91BSI【台风紧急警报】今天下午16时，今年第13号台风“天鸽”...</td>\n",
       "      <td>热带风暴：台风中心消息</td>\n",
       "    </tr>\n",
       "    <tr>\n",
       "      <th>2</th>\n",
       "      <td>3642</td>\n",
       "      <td>2017/8/23</td>\n",
       "      <td>【七天天气预报—“天鸽”上岸，仍有风雨】#天气话你知# #13号台风天鸽# 强台风“天鸽”已...</td>\n",
       "      <td>热带风暴：台风登陆广东</td>\n",
       "    </tr>\n",
       "    <tr>\n",
       "      <th>3</th>\n",
       "      <td>3643</td>\n",
       "      <td>2017/8/23</td>\n",
       "      <td>http://t.cn/h91BSI【台风蓝色预警信号】今年第13号台风“天鸽”，23日17...</td>\n",
       "      <td>热带风暴：热带低压消息</td>\n",
       "    </tr>\n",
       "    <tr>\n",
       "      <th>4</th>\n",
       "      <td>3645</td>\n",
       "      <td>2017/8/23</td>\n",
       "      <td>转发微博</td>\n",
       "      <td>热带风暴：台风中心消息</td>\n",
       "    </tr>\n",
       "  </tbody>\n",
       "</table>\n",
       "</div>"
      ],
      "text/plain": [
       "     id   statdate                                               text  \\\n",
       "0  3586  2017/8/22                                               转发微博   \n",
       "1  3641  2017/8/23  http://t.cn/h91BSI【台风紧急警报】今天下午16时，今年第13号台风“天鸽”...   \n",
       "2  3642  2017/8/23  【七天天气预报—“天鸽”上岸，仍有风雨】#天气话你知# #13号台风天鸽# 强台风“天鸽”已...   \n",
       "3  3643  2017/8/23  http://t.cn/h91BSI【台风蓝色预警信号】今年第13号台风“天鸽”，23日17...   \n",
       "4  3645  2017/8/23                                               转发微博   \n",
       "\n",
       "          所属分类  \n",
       "0  热带风暴：台风中心消息  \n",
       "1  热带风暴：台风中心消息  \n",
       "2  热带风暴：台风登陆广东  \n",
       "3  热带风暴：热带低压消息  \n",
       "4  热带风暴：台风中心消息  "
      ]
     },
     "execution_count": 34,
     "metadata": {},
     "output_type": "execute_result"
    }
   ],
   "source": [
    "rdfb = pd.read_csv('LDA_clustered_rdfb.csv', encoding='gb18030')\n",
    "rdfb.head()"
   ]
  },
  {
   "cell_type": "code",
   "execution_count": 35,
   "metadata": {},
   "outputs": [
    {
     "data": {
      "text/plain": [
       "(409, 4)"
      ]
     },
     "execution_count": 35,
     "metadata": {},
     "output_type": "execute_result"
    }
   ],
   "source": [
    "rdfb.shape"
   ]
  },
  {
   "cell_type": "code",
   "execution_count": 36,
   "metadata": {},
   "outputs": [
    {
     "data": {
      "text/plain": [
       "热带风暴：台风中心消息    241\n",
       "热带风暴：台风登陆广东     91\n",
       "热带风暴：热带低压消息     77\n",
       "Name: 所属分类, dtype: int64"
      ]
     },
     "execution_count": 36,
     "metadata": {},
     "output_type": "execute_result"
    }
   ],
   "source": [
    "rdfbhuatu = rdfb.所属分类.value_counts()\n",
    "rdfbhuatu"
   ]
  },
  {
   "cell_type": "code",
   "execution_count": 37,
   "metadata": {},
   "outputs": [
    {
     "data": {
      "text/plain": [
       "<matplotlib.axes._subplots.AxesSubplot at 0xec13910978>"
      ]
     },
     "execution_count": 37,
     "metadata": {},
     "output_type": "execute_result"
    },
    {
     "data": {
      "image/png": "[encoded data removed]",
      "text/plain": [
       "<matplotlib.figure.Figure at 0xec13a82d68>"
      ]
     },
     "metadata": {},
     "output_type": "display_data"
    }
   ],
   "source": [
    "rcyb.所属分类.value_counts().plot()"
   ]
  },
  {
   "cell_type": "code",
   "execution_count": 38,
   "metadata": {},
   "outputs": [
    {
     "data": {
      "text/html": [
       "<div>\n",
       "<style>\n",
       "    .dataframe thead tr:only-child th {\n",
       "        text-align: right;\n",
       "    }\n",
       "\n",
       "    .dataframe thead th {\n",
       "        text-align: left;\n",
       "    }\n",
       "\n",
       "    .dataframe tbody tr th {\n",
       "        vertical-align: top;\n",
       "    }\n",
       "</style>\n",
       "<table border=\"1\" class=\"dataframe\">\n",
       "  <thead>\n",
       "    <tr style=\"text-align: right;\">\n",
       "      <th></th>\n",
       "      <th>id</th>\n",
       "      <th>statdate</th>\n",
       "      <th>text</th>\n",
       "      <th>所属分类</th>\n",
       "    </tr>\n",
       "  </thead>\n",
       "  <tbody>\n",
       "    <tr>\n",
       "      <th>0</th>\n",
       "      <td>3644</td>\n",
       "      <td>2017/8/23</td>\n",
       "      <td>#13号台风天鸽#  地铁4号线地面高架段恢复运营服务 ,</td>\n",
       "      <td>粉丝互动：奖品福利</td>\n",
       "    </tr>\n",
       "    <tr>\n",
       "      <th>1</th>\n",
       "      <td>3660</td>\n",
       "      <td>2017/8/23</td>\n",
       "      <td>#13号台风天鸽# #随手拍广州# 应该是散发着仙气的小蛮腰@广州塔</td>\n",
       "      <td>粉丝互动：随手拍广州</td>\n",
       "    </tr>\n",
       "    <tr>\n",
       "      <th>2</th>\n",
       "      <td>3661</td>\n",
       "      <td>2017/8/23</td>\n",
       "      <td>#13号台风天鸽# #随手拍广州# 从延时摄影回顾一下今天这只鸽子[憧憬]</td>\n",
       "      <td>粉丝互动：随手拍广州</td>\n",
       "    </tr>\n",
       "    <tr>\n",
       "      <th>3</th>\n",
       "      <td>3662</td>\n",
       "      <td>2017/8/23</td>\n",
       "      <td>#小编8天气# 目前有一小块回波从番禺靠近市区，小伙伴们注意啦</td>\n",
       "      <td>粉丝互动：首席小编互动</td>\n",
       "    </tr>\n",
       "    <tr>\n",
       "      <th>4</th>\n",
       "      <td>3666</td>\n",
       "      <td>2017/8/24</td>\n",
       "      <td>#天气话你知# 降水回波靠近海珠啦[并不简单]</td>\n",
       "      <td>粉丝互动：首席小编互动</td>\n",
       "    </tr>\n",
       "  </tbody>\n",
       "</table>\n",
       "</div>"
      ],
      "text/plain": [
       "     id   statdate                                   text         所属分类\n",
       "0  3644  2017/8/23          #13号台风天鸽#  地铁4号线地面高架段恢复运营服务 ,    粉丝互动：奖品福利\n",
       "1  3660  2017/8/23     #13号台风天鸽# #随手拍广州# 应该是散发着仙气的小蛮腰@广州塔   粉丝互动：随手拍广州\n",
       "2  3661  2017/8/23  #13号台风天鸽# #随手拍广州# 从延时摄影回顾一下今天这只鸽子[憧憬]   粉丝互动：随手拍广州\n",
       "3  3662  2017/8/23        #小编8天气# 目前有一小块回波从番禺靠近市区，小伙伴们注意啦  粉丝互动：首席小编互动\n",
       "4  3666  2017/8/24                #天气话你知# 降水回波靠近海珠啦[并不简单]  粉丝互动：首席小编互动"
      ]
     },
     "execution_count": 38,
     "metadata": {},
     "output_type": "execute_result"
    }
   ],
   "source": [
    "fshd = pd.read_csv('LDA_clustered_fshd.csv', encoding='gb18030')\n",
    "fshd.head()"
   ]
  },
  {
   "cell_type": "code",
   "execution_count": 39,
   "metadata": {},
   "outputs": [
    {
     "data": {
      "text/plain": [
       "(4560, 4)"
      ]
     },
     "execution_count": 39,
     "metadata": {},
     "output_type": "execute_result"
    }
   ],
   "source": [
    "fshd.shape"
   ]
  },
  {
   "cell_type": "code",
   "execution_count": 40,
   "metadata": {},
   "outputs": [
    {
     "data": {
      "text/plain": [
       "粉丝互动：随手拍广州     1254\n",
       "粉丝互动：出行提醒      1155\n",
       "粉丝互动：首席小编互动    1125\n",
       "粉丝互动：春运天气       578\n",
       "粉丝互动：奖品福利       448\n",
       "Name: 所属分类, dtype: int64"
      ]
     },
     "execution_count": 40,
     "metadata": {},
     "output_type": "execute_result"
    }
   ],
   "source": [
    "fshdhuatu = fshd.所属分类.value_counts()\n",
    "fshdhuatu"
   ]
  },
  {
   "cell_type": "code",
   "execution_count": 41,
   "metadata": {},
   "outputs": [
    {
     "data": {
      "text/plain": [
       "<matplotlib.axes._subplots.AxesSubplot at 0xec139c5908>"
      ]
     },
     "execution_count": 41,
     "metadata": {},
     "output_type": "execute_result"
    },
    {
     "data": {
      "image/png": "[encoded data removed]",
      "text/plain": [
       "<matplotlib.figure.Figure at 0xec13a6fa90>"
      ]
     },
     "metadata": {},
     "output_type": "display_data"
    }
   ],
   "source": [
    "fshd.所属分类.value_counts().plot()"
   ]
  },
  {
   "cell_type": "code",
   "execution_count": 42,
   "metadata": {},
   "outputs": [
    {
     "data": {
      "text/html": [
       "<div>\n",
       "<style>\n",
       "    .dataframe thead tr:only-child th {\n",
       "        text-align: right;\n",
       "    }\n",
       "\n",
       "    .dataframe thead th {\n",
       "        text-align: left;\n",
       "    }\n",
       "\n",
       "    .dataframe tbody tr th {\n",
       "        vertical-align: top;\n",
       "    }\n",
       "</style>\n",
       "<table border=\"1\" class=\"dataframe\">\n",
       "  <thead>\n",
       "    <tr style=\"text-align: right;\">\n",
       "      <th></th>\n",
       "      <th>id</th>\n",
       "      <th>statdate</th>\n",
       "      <th>text</th>\n",
       "      <th>所属分类</th>\n",
       "    </tr>\n",
       "  </thead>\n",
       "  <tbody>\n",
       "    <tr>\n",
       "      <th>0</th>\n",
       "      <td>3585</td>\n",
       "      <td>2017/8/22</td>\n",
       "      <td>http://t.cn/h91BSI【升级气象灾害应急响应通知】据市气象台监测，广州市达到启...</td>\n",
       "      <td>气象灾害应急响应：灾害响应</td>\n",
       "    </tr>\n",
       "    <tr>\n",
       "      <th>1</th>\n",
       "      <td>3658</td>\n",
       "      <td>2017/8/23</td>\n",
       "      <td>http://t.cn/h91BSI【解除气象灾害应急响应通知】解除气象灾害应急响应通知：目...</td>\n",
       "      <td>气象灾害应急响应：灾害响应</td>\n",
       "    </tr>\n",
       "    <tr>\n",
       "      <th>2</th>\n",
       "      <td>3589</td>\n",
       "      <td>2017/8/22</td>\n",
       "      <td>#天气要闻# 受台风“天鸽”影响，截止到22日20时26分，广州市南沙、番禺、天河、越秀、荔...</td>\n",
       "      <td>气象灾害应急响应：延迟上学</td>\n",
       "    </tr>\n",
       "    <tr>\n",
       "      <th>3</th>\n",
       "      <td>3608</td>\n",
       "      <td>2017/8/23</td>\n",
       "      <td>#天气话你知# #13号台风天鸽# 台风靠近，注意远离海边，山区，洼地等危险区域[doge]...</td>\n",
       "      <td>气象灾害应急响应：延迟上学</td>\n",
       "    </tr>\n",
       "    <tr>\n",
       "      <th>4</th>\n",
       "      <td>3612</td>\n",
       "      <td>2017/8/23</td>\n",
       "      <td>升级气象灾害应急响应通知：市气象灾害应急指挥部决定从23日09时00分起将广州市气象灾害（台...</td>\n",
       "      <td>气象灾害应急响应：灾害响应</td>\n",
       "    </tr>\n",
       "  </tbody>\n",
       "</table>\n",
       "</div>"
      ],
      "text/plain": [
       "     id   statdate                                               text  \\\n",
       "0  3585  2017/8/22  http://t.cn/h91BSI【升级气象灾害应急响应通知】据市气象台监测，广州市达到启...   \n",
       "1  3658  2017/8/23  http://t.cn/h91BSI【解除气象灾害应急响应通知】解除气象灾害应急响应通知：目...   \n",
       "2  3589  2017/8/22  #天气要闻# 受台风“天鸽”影响，截止到22日20时26分，广州市南沙、番禺、天河、越秀、荔...   \n",
       "3  3608  2017/8/23  #天气话你知# #13号台风天鸽# 台风靠近，注意远离海边，山区，洼地等危险区域[doge]...   \n",
       "4  3612  2017/8/23  升级气象灾害应急响应通知：市气象灾害应急指挥部决定从23日09时00分起将广州市气象灾害（台...   \n",
       "\n",
       "            所属分类  \n",
       "0  气象灾害应急响应：灾害响应  \n",
       "1  气象灾害应急响应：灾害响应  \n",
       "2  气象灾害应急响应：延迟上学  \n",
       "3  气象灾害应急响应：延迟上学  \n",
       "4  气象灾害应急响应：灾害响应  "
      ]
     },
     "execution_count": 42,
     "metadata": {},
     "output_type": "execute_result"
    }
   ],
   "source": [
    "frames = [cxtx, jdyj, rcyb, rdfb, fshd]\n",
    "result = pd.concat(frames, axis = 0)\n",
    "result.head()"
   ]
  },
  {
   "cell_type": "code",
   "execution_count": 43,
   "metadata": {},
   "outputs": [
    {
     "data": {
      "text/plain": [
       "(7428, 4)"
      ]
     },
     "execution_count": 43,
     "metadata": {},
     "output_type": "execute_result"
    }
   ],
   "source": [
    "result.shape"
   ]
  },
  {
   "cell_type": "code",
   "execution_count": 44,
   "metadata": {},
   "outputs": [
    {
     "data": {
      "text/html": [
       "<div>\n",
       "<style>\n",
       "    .dataframe thead tr:only-child th {\n",
       "        text-align: right;\n",
       "    }\n",
       "\n",
       "    .dataframe thead th {\n",
       "        text-align: left;\n",
       "    }\n",
       "\n",
       "    .dataframe tbody tr th {\n",
       "        vertical-align: top;\n",
       "    }\n",
       "</style>\n",
       "<table border=\"1\" class=\"dataframe\">\n",
       "  <thead>\n",
       "    <tr style=\"text-align: right;\">\n",
       "      <th></th>\n",
       "      <th>statdate</th>\n",
       "      <th>text</th>\n",
       "      <th>所属分类</th>\n",
       "    </tr>\n",
       "    <tr>\n",
       "      <th>id</th>\n",
       "      <th></th>\n",
       "      <th></th>\n",
       "      <th></th>\n",
       "    </tr>\n",
       "  </thead>\n",
       "  <tbody>\n",
       "    <tr>\n",
       "      <th>3585</th>\n",
       "      <td>2017/8/22</td>\n",
       "      <td>http://t.cn/h91BSI【升级气象灾害应急响应通知】据市气象台监测，广州市达到启...</td>\n",
       "      <td>气象灾害应急响应：灾害响应</td>\n",
       "    </tr>\n",
       "    <tr>\n",
       "      <th>3658</th>\n",
       "      <td>2017/8/23</td>\n",
       "      <td>http://t.cn/h91BSI【解除气象灾害应急响应通知】解除气象灾害应急响应通知：目...</td>\n",
       "      <td>气象灾害应急响应：灾害响应</td>\n",
       "    </tr>\n",
       "    <tr>\n",
       "      <th>3589</th>\n",
       "      <td>2017/8/22</td>\n",
       "      <td>#天气要闻# 受台风“天鸽”影响，截止到22日20时26分，广州市南沙、番禺、天河、越秀、荔...</td>\n",
       "      <td>气象灾害应急响应：延迟上学</td>\n",
       "    </tr>\n",
       "    <tr>\n",
       "      <th>3608</th>\n",
       "      <td>2017/8/23</td>\n",
       "      <td>#天气话你知# #13号台风天鸽# 台风靠近，注意远离海边，山区，洼地等危险区域[doge]...</td>\n",
       "      <td>气象灾害应急响应：延迟上学</td>\n",
       "    </tr>\n",
       "    <tr>\n",
       "      <th>3612</th>\n",
       "      <td>2017/8/23</td>\n",
       "      <td>升级气象灾害应急响应通知：市气象灾害应急指挥部决定从23日09时00分起将广州市气象灾害（台...</td>\n",
       "      <td>气象灾害应急响应：灾害响应</td>\n",
       "    </tr>\n",
       "    <tr>\n",
       "      <th>3623</th>\n",
       "      <td>2017/8/23</td>\n",
       "      <td>http://t.cn/h91BSI【广州南站应急提醒信息】广州市应急办、广州市交委、广铁集...</td>\n",
       "      <td>气象灾害应急响应：拜祭提醒</td>\n",
       "    </tr>\n",
       "    <tr>\n",
       "      <th>3625</th>\n",
       "      <td>2017/8/23</td>\n",
       "      <td>#13号台风天鸽#  大家注意啦！受“天鸽”影响，8月23日5时至16时期间广深港高铁、厦深...</td>\n",
       "      <td>气象灾害应急响应：延迟上学</td>\n",
       "    </tr>\n",
       "    <tr>\n",
       "      <th>3626</th>\n",
       "      <td>2017/8/23</td>\n",
       "      <td>#13号台风天鸽##警惕倒树、高空坠物#市区最大阵风达7-10级，外出要警惕高空落物、树木、...</td>\n",
       "      <td>气象灾害应急响应：拜祭提醒</td>\n",
       "    </tr>\n",
       "    <tr>\n",
       "      <th>3627</th>\n",
       "      <td>2017/8/23</td>\n",
       "      <td>阳台花盆、衣服和其他小杂物记得收好，另外走过路过高楼、广告牌、临时工棚、大树和小树旁边都要注...</td>\n",
       "      <td>气象灾害应急响应：延迟上学</td>\n",
       "    </tr>\n",
       "    <tr>\n",
       "      <th>3572</th>\n",
       "      <td>2017/8/22</td>\n",
       "      <td>http://t.cn/h91BSI【启动气象灾害应急响应通知】据市气象台监测，广州市达到启...</td>\n",
       "      <td>气象灾害应急响应：灾害响应</td>\n",
       "    </tr>\n",
       "    <tr>\n",
       "      <th>3575</th>\n",
       "      <td>2017/8/22</td>\n",
       "      <td>http://t.cn/h91BSI【解除气象灾害应急响应通知】据市气象台监测，广州市达到解...</td>\n",
       "      <td>气象灾害应急响应：灾害响应</td>\n",
       "    </tr>\n",
       "    <tr>\n",
       "      <th>3583</th>\n",
       "      <td>2017/8/22</td>\n",
       "      <td>http://t.cn/h91BSI【解除气象灾害应急响应通知】目前天河区、越秀区、荔湾区、...</td>\n",
       "      <td>气象灾害应急响应：灾害响应</td>\n",
       "    </tr>\n",
       "    <tr>\n",
       "      <th>3740</th>\n",
       "      <td>2017/8/26</td>\n",
       "      <td>#14号台风帕卡#记得提前收起阳台的花盆等小杂物，风大雨大期间尽量不外出，因为不知道大风下一...</td>\n",
       "      <td>气象灾害应急响应：延迟上学</td>\n",
       "    </tr>\n",
       "    <tr>\n",
       "      <th>3741</th>\n",
       "      <td>2017/8/26</td>\n",
       "      <td>http://t.cn/h91BSI【启动气象灾害应急响应通知】据市气象台监测，广州市达到启...</td>\n",
       "      <td>气象灾害应急响应：灾害响应</td>\n",
       "    </tr>\n",
       "    <tr>\n",
       "      <th>3634</th>\n",
       "      <td>2017/8/23</td>\n",
       "      <td>【广州市三防办水情信息】受天鸽台风风暴潮增水影响，预计中站和黄埔站将出现超100年一遇的高潮...</td>\n",
       "      <td>气象灾害应急响应：延迟上学</td>\n",
       "    </tr>\n",
       "    <tr>\n",
       "      <th>3761</th>\n",
       "      <td>2017/8/26</td>\n",
       "      <td>http://t.cn/h91BSI【台风“帕卡”预警信息】广州市政府应急办、三防办、气象局...</td>\n",
       "      <td>气象灾害应急响应：拜祭提醒</td>\n",
       "    </tr>\n",
       "    <tr>\n",
       "      <th>3773</th>\n",
       "      <td>2017/8/26</td>\n",
       "      <td>省政府应急办、省三防办、省气象局提醒您：台风影响期间，社会公众务必服从当地政府的防灾部署，避...</td>\n",
       "      <td>气象灾害应急响应：拜祭提醒</td>\n",
       "    </tr>\n",
       "    <tr>\n",
       "      <th>3776</th>\n",
       "      <td>2017/8/26</td>\n",
       "      <td>#天气话你知# 台风“帕卡”跑这么快，急着去追“天鸽”了。小姐姐告诉您[小黄人高兴]：明后天...</td>\n",
       "      <td>气象灾害应急响应：延迟上学</td>\n",
       "    </tr>\n",
       "    <tr>\n",
       "      <th>3883</th>\n",
       "      <td>2017/8/28</td>\n",
       "      <td>http://t.cn/h91BSI【解除气象灾害应急响应通知】据市气象台监测，广州市达到解...</td>\n",
       "      <td>气象灾害应急响应：灾害响应</td>\n",
       "    </tr>\n",
       "    <tr>\n",
       "      <th>3886</th>\n",
       "      <td>2017/8/28</td>\n",
       "      <td>#小编8科普# 连续降雨过后，要注意防御地质灾害哦[来]~</td>\n",
       "      <td>气象灾害应急响应：延迟上学</td>\n",
       "    </tr>\n",
       "    <tr>\n",
       "      <th>3896</th>\n",
       "      <td>2017/8/28</td>\n",
       "      <td>【广州地质灾害气象风险预警】广州市国土资源和规划委员会、气象局提醒你：预计未来24小时，广州...</td>\n",
       "      <td>气象灾害应急响应：拜祭提醒</td>\n",
       "    </tr>\n",
       "    <tr>\n",
       "      <th>3787</th>\n",
       "      <td>2017/8/26</td>\n",
       "      <td>http://t.cn/h91BSI【升级气象灾害应急响应通知】据市气象台监测，广州市达到启...</td>\n",
       "      <td>气象灾害应急响应：灾害响应</td>\n",
       "    </tr>\n",
       "    <tr>\n",
       "      <th>3794</th>\n",
       "      <td>2017/8/26</td>\n",
       "      <td>#帕卡影响广州#预计自27日凌晨开始，受台风“帕卡”影响，风开始加大，27日白天风雨逐渐加大...</td>\n",
       "      <td>气象灾害应急响应：延迟上学</td>\n",
       "    </tr>\n",
       "    <tr>\n",
       "      <th>3797</th>\n",
       "      <td>2017/8/27</td>\n",
       "      <td>http://t.cn/h91BSI【警惕大风和暴雨】受台风“帕卡”影响，预计广州清晨风力开...</td>\n",
       "      <td>气象灾害应急响应：拜祭提醒</td>\n",
       "    </tr>\n",
       "    <tr>\n",
       "      <th>3806</th>\n",
       "      <td>2017/8/27</td>\n",
       "      <td>#帕卡影响广州#来自南站默默等车的小伙伴。预计今天上午风雨就开始对飞机、高铁、轻轨、水上交通...</td>\n",
       "      <td>气象灾害应急响应：延迟上学</td>\n",
       "    </tr>\n",
       "    <tr>\n",
       "      <th>3808</th>\n",
       "      <td>2017/8/27</td>\n",
       "      <td>#14号台风帕卡##帕卡影响广州# 截至8月27日7时40分，广州中南部台风橙色预警、暴雨黄...</td>\n",
       "      <td>气象灾害应急响应：拜祭提醒</td>\n",
       "    </tr>\n",
       "    <tr>\n",
       "      <th>3813</th>\n",
       "      <td>2017/8/27</td>\n",
       "      <td>【早安，广州】#14号台风帕卡# #帕卡影响广州# 14号台风“帕卡”在今日08时加强为台风...</td>\n",
       "      <td>气象灾害应急响应：拜祭提醒</td>\n",
       "    </tr>\n",
       "    <tr>\n",
       "      <th>3826</th>\n",
       "      <td>2017/8/27</td>\n",
       "      <td>#14号台风帕卡# 出门一定要注意安全！！！</td>\n",
       "      <td>气象灾害应急响应：延迟上学</td>\n",
       "    </tr>\n",
       "    <tr>\n",
       "      <th>3832</th>\n",
       "      <td>2017/8/27</td>\n",
       "      <td>http://t.cn/h91BSI【降级气象灾害应急响应通知】据市气象台监测，广州市达到降...</td>\n",
       "      <td>气象灾害应急响应：灾害响应</td>\n",
       "    </tr>\n",
       "    <tr>\n",
       "      <th>3837</th>\n",
       "      <td>2017/8/27</td>\n",
       "      <td>#14号台风帕卡##帕卡影响广州# “帕卡”渐行渐远，目前全市各区的台风蓝色预警信号，除从化...</td>\n",
       "      <td>气象灾害应急响应：延迟上学</td>\n",
       "    </tr>\n",
       "    <tr>\n",
       "      <th>...</th>\n",
       "      <td>...</td>\n",
       "      <td>...</td>\n",
       "      <td>...</td>\n",
       "    </tr>\n",
       "    <tr>\n",
       "      <th>6534</th>\n",
       "      <td>2018/1/9</td>\n",
       "      <td>#小编8天气#天气那么冷，后山的喵子居然出来了，为了撸猫，小编冻得鼻涕直流~~~[允悲]</td>\n",
       "      <td>粉丝互动：首席小编互动</td>\n",
       "    </tr>\n",
       "    <tr>\n",
       "      <th>6536</th>\n",
       "      <td>2018/1/9</td>\n",
       "      <td>从评论上看，泥萌是真的不想要小编手写的祝福语明信片[允悲]//@广州天气: #天气福利#话说...</td>\n",
       "      <td>粉丝互动：奖品福利</td>\n",
       "    </tr>\n",
       "    <tr>\n",
       "      <th>6537</th>\n",
       "      <td>2018/1/9</td>\n",
       "      <td>#天气话你知#气温就像一条蛇，终于抬头了~~周杰伦《蜗牛-周杰伦》 http://t.cn/...</td>\n",
       "      <td>粉丝互动：首席小编互动</td>\n",
       "    </tr>\n",
       "    <tr>\n",
       "      <th>6538</th>\n",
       "      <td>2018/1/9</td>\n",
       "      <td>《今天的广州塔为什么看不到雪？》 本次寒潮横扫广东，粤北多地下雪和冰冻，于是大家就盼望着近6...</td>\n",
       "      <td>粉丝互动：春运天气</td>\n",
       "    </tr>\n",
       "    <tr>\n",
       "      <th>6539</th>\n",
       "      <td>2018/1/9</td>\n",
       "      <td>【七天天气预报-终于可以晾干衣服了】 #天气话你知# 昨天到今天，我们大咩咩城那是冷雨铺面，...</td>\n",
       "      <td>粉丝互动：出行提醒</td>\n",
       "    </tr>\n",
       "    <tr>\n",
       "      <th>6540</th>\n",
       "      <td>2018/1/9</td>\n",
       "      <td>几个小编都按规矩转了，每次抽奖都转，然而从来都没有小编中过[摊手]就是这么公平[二哈]//@...</td>\n",
       "      <td>粉丝互动：奖品福利</td>\n",
       "    </tr>\n",
       "    <tr>\n",
       "      <th>6541</th>\n",
       "      <td>2018/1/9</td>\n",
       "      <td>恭喜@Ferry178-OH 等25名用户获得【乖乖云声光控小夜灯】, @小婕婕醬oO 等2...</td>\n",
       "      <td>粉丝互动：奖品福利</td>\n",
       "    </tr>\n",
       "    <tr>\n",
       "      <th>3402</th>\n",
       "      <td>2017/8/15</td>\n",
       "      <td>#随手拍广州# 街头巷尾都是生活[心][心]</td>\n",
       "      <td>粉丝互动：随手拍广州</td>\n",
       "    </tr>\n",
       "    <tr>\n",
       "      <th>3403</th>\n",
       "      <td>2017/8/15</td>\n",
       "      <td>#随手拍广州# [爱你]</td>\n",
       "      <td>粉丝互动：随手拍广州</td>\n",
       "    </tr>\n",
       "    <tr>\n",
       "      <th>3404</th>\n",
       "      <td>2017/8/15</td>\n",
       "      <td>#随手拍广州# 夏天傍晚的广州[心]</td>\n",
       "      <td>粉丝互动：随手拍广州</td>\n",
       "    </tr>\n",
       "    <tr>\n",
       "      <th>3405</th>\n",
       "      <td>2017/8/16</td>\n",
       "      <td>#随手拍广州# 美丽朝霞[心][心]</td>\n",
       "      <td>粉丝互动：随手拍广州</td>\n",
       "    </tr>\n",
       "    <tr>\n",
       "      <th>3406</th>\n",
       "      <td>2017/8/16</td>\n",
       "      <td>#随手拍广州# 早起的人儿有美景看[小黄人坏笑]。美丽的早晨，预计上下班时段大广州没雨，安心...</td>\n",
       "      <td>粉丝互动：随手拍广州</td>\n",
       "    </tr>\n",
       "    <tr>\n",
       "      <th>3409</th>\n",
       "      <td>2017/8/16</td>\n",
       "      <td>【早安，广州】#随手拍广州#有吃货粉丝说，今天的云像是撕开的面包丝[笑cry]。云霞如此美腻...</td>\n",
       "      <td>粉丝互动：随手拍广州</td>\n",
       "    </tr>\n",
       "    <tr>\n",
       "      <th>3410</th>\n",
       "      <td>2017/8/16</td>\n",
       "      <td>#小编8天气# 副高减退，久违的雷雨又在海上现身，午后广州发生雷雨的可能性很高哦。晒被子的，...</td>\n",
       "      <td>粉丝互动：出行提醒</td>\n",
       "    </tr>\n",
       "    <tr>\n",
       "      <th>3411</th>\n",
       "      <td>2017/8/16</td>\n",
       "      <td>早[doge]天热多喝水[doge]</td>\n",
       "      <td>粉丝互动：首席小编互动</td>\n",
       "    </tr>\n",
       "    <tr>\n",
       "      <th>3412</th>\n",
       "      <td>2017/8/16</td>\n",
       "      <td>#小编8天气# 降雨回波自南向北，从海上越发加强逼近广州了[doge]。泥萌都是聪明粉儿，快...</td>\n",
       "      <td>粉丝互动：出行提醒</td>\n",
       "    </tr>\n",
       "    <tr>\n",
       "      <th>3414</th>\n",
       "      <td>2017/8/16</td>\n",
       "      <td>#小编8天气# 受局地雷雨影响，热辣烤鸡腿的根部已褪色。雷雨会继续北推影响市区，黄埔南部也有...</td>\n",
       "      <td>粉丝互动：首席小编互动</td>\n",
       "    </tr>\n",
       "    <tr>\n",
       "      <th>3417</th>\n",
       "      <td>2017/8/16</td>\n",
       "      <td>#小编8天气# 南沙榄核附近局地雷雨生成，番禺的小伙伴也要注意哦~</td>\n",
       "      <td>粉丝互动：首席小编互动</td>\n",
       "    </tr>\n",
       "    <tr>\n",
       "      <th>3418</th>\n",
       "      <td>2017/8/16</td>\n",
       "      <td>#随手拍广州#午后局地雷雨还没来，先送大家两张超美的图片[憧憬]。感谢两位拍摄者，见水印</td>\n",
       "      <td>粉丝互动：随手拍广州</td>\n",
       "    </tr>\n",
       "    <tr>\n",
       "      <th>3419</th>\n",
       "      <td>2017/8/16</td>\n",
       "      <td>[允悲]</td>\n",
       "      <td>粉丝互动：首席小编互动</td>\n",
       "    </tr>\n",
       "    <tr>\n",
       "      <th>3420</th>\n",
       "      <td>2017/8/16</td>\n",
       "      <td>#小编8天气# 影响市区的局地雷雨已经过去，大家不用等了[允悲]。小谷围和长洲的童鞋们有被淋...</td>\n",
       "      <td>粉丝互动：首席小编互动</td>\n",
       "    </tr>\n",
       "    <tr>\n",
       "      <th>3424</th>\n",
       "      <td>2017/8/16</td>\n",
       "      <td>【七天天气预报—副高魔王很任性】受西伸加强的副高边缘影响，明日仍有局地雷雨打扰，有幸被“局”...</td>\n",
       "      <td>粉丝互动：出行提醒</td>\n",
       "    </tr>\n",
       "    <tr>\n",
       "      <th>3425</th>\n",
       "      <td>2017/8/16</td>\n",
       "      <td>美呆了[憧憬]。泥萌说代表了啥？</td>\n",
       "      <td>粉丝互动：首席小编互动</td>\n",
       "    </tr>\n",
       "    <tr>\n",
       "      <th>3430</th>\n",
       "      <td>2017/8/16</td>\n",
       "      <td>#小编8天气# 花都的局地雷雨很强哦，正值下班高峰期，小伙伴们注意防御哈，雷电、大风、强降水...</td>\n",
       "      <td>粉丝互动：首席小编互动</td>\n",
       "    </tr>\n",
       "    <tr>\n",
       "      <th>3431</th>\n",
       "      <td>2017/8/16</td>\n",
       "      <td>#随手拍广州# 有一种爱，叫做你若安好，便是晴天[嘻嘻]。今天的午后雷雨，没有给大家造成什么...</td>\n",
       "      <td>粉丝互动：出行提醒</td>\n",
       "    </tr>\n",
       "    <tr>\n",
       "      <th>3433</th>\n",
       "      <td>2017/8/16</td>\n",
       "      <td>【晚安，广州】#随手拍广州#  明日天气仍旧晴好，大家上下班路上，不妨细心留意天上美景[憧憬...</td>\n",
       "      <td>粉丝互动：首席小编互动</td>\n",
       "    </tr>\n",
       "    <tr>\n",
       "      <th>3434</th>\n",
       "      <td>2017/8/16</td>\n",
       "      <td>#小编8天气# 看下过雨的花都，才26℃左右，再看看小编这里[允悲]。只能安慰一句，还好没停...</td>\n",
       "      <td>粉丝互动：首席小编互动</td>\n",
       "    </tr>\n",
       "    <tr>\n",
       "      <th>3437</th>\n",
       "      <td>2017/8/17</td>\n",
       "      <td>【早安，广州】虽美，但热[doge]。by@杨建荣win</td>\n",
       "      <td>粉丝互动：随手拍广州</td>\n",
       "    </tr>\n",
       "    <tr>\n",
       "      <th>3438</th>\n",
       "      <td>2017/8/17</td>\n",
       "      <td>#小编8天气# 蓝天白云，阳光直射，身体会感觉更加炎热。今天体感温度可达41.4℃[衰]</td>\n",
       "      <td>粉丝互动：出行提醒</td>\n",
       "    </tr>\n",
       "    <tr>\n",
       "      <th>3439</th>\n",
       "      <td>2017/8/17</td>\n",
       "      <td>#小编8天气# 局地雷雨出现在中山了，并正向北移动[笑而不语]。上午晾晒起的被子，不妨先收起...</td>\n",
       "      <td>粉丝互动：首席小编互动</td>\n",
       "    </tr>\n",
       "  </tbody>\n",
       "</table>\n",
       "<p>7428 rows × 3 columns</p>\n",
       "</div>"
      ],
      "text/plain": [
       "       statdate                                               text  \\\n",
       "id                                                                   \n",
       "3585  2017/8/22  http://t.cn/h91BSI【升级气象灾害应急响应通知】据市气象台监测，广州市达到启...   \n",
       "3658  2017/8/23  http://t.cn/h91BSI【解除气象灾害应急响应通知】解除气象灾害应急响应通知：目...   \n",
       "3589  2017/8/22  #天气要闻# 受台风“天鸽”影响，截止到22日20时26分，广州市南沙、番禺、天河、越秀、荔...   \n",
       "3608  2017/8/23  #天气话你知# #13号台风天鸽# 台风靠近，注意远离海边，山区，洼地等危险区域[doge]...   \n",
       "3612  2017/8/23  升级气象灾害应急响应通知：市气象灾害应急指挥部决定从23日09时00分起将广州市气象灾害（台...   \n",
       "3623  2017/8/23  http://t.cn/h91BSI【广州南站应急提醒信息】广州市应急办、广州市交委、广铁集...   \n",
       "3625  2017/8/23  #13号台风天鸽#  大家注意啦！受“天鸽”影响，8月23日5时至16时期间广深港高铁、厦深...   \n",
       "3626  2017/8/23  #13号台风天鸽##警惕倒树、高空坠物#市区最大阵风达7-10级，外出要警惕高空落物、树木、...   \n",
       "3627  2017/8/23  阳台花盆、衣服和其他小杂物记得收好，另外走过路过高楼、广告牌、临时工棚、大树和小树旁边都要注...   \n",
       "3572  2017/8/22  http://t.cn/h91BSI【启动气象灾害应急响应通知】据市气象台监测，广州市达到启...   \n",
       "3575  2017/8/22  http://t.cn/h91BSI【解除气象灾害应急响应通知】据市气象台监测，广州市达到解...   \n",
       "3583  2017/8/22  http://t.cn/h91BSI【解除气象灾害应急响应通知】目前天河区、越秀区、荔湾区、...   \n",
       "3740  2017/8/26  #14号台风帕卡#记得提前收起阳台的花盆等小杂物，风大雨大期间尽量不外出，因为不知道大风下一...   \n",
       "3741  2017/8/26  http://t.cn/h91BSI【启动气象灾害应急响应通知】据市气象台监测，广州市达到启...   \n",
       "3634  2017/8/23  【广州市三防办水情信息】受天鸽台风风暴潮增水影响，预计中站和黄埔站将出现超100年一遇的高潮...   \n",
       "3761  2017/8/26  http://t.cn/h91BSI【台风“帕卡”预警信息】广州市政府应急办、三防办、气象局...   \n",
       "3773  2017/8/26  省政府应急办、省三防办、省气象局提醒您：台风影响期间，社会公众务必服从当地政府的防灾部署，避...   \n",
       "3776  2017/8/26  #天气话你知# 台风“帕卡”跑这么快，急着去追“天鸽”了。小姐姐告诉您[小黄人高兴]：明后天...   \n",
       "3883  2017/8/28  http://t.cn/h91BSI【解除气象灾害应急响应通知】据市气象台监测，广州市达到解...   \n",
       "3886  2017/8/28                      #小编8科普# 连续降雨过后，要注意防御地质灾害哦[来]~   \n",
       "3896  2017/8/28  【广州地质灾害气象风险预警】广州市国土资源和规划委员会、气象局提醒你：预计未来24小时，广州...   \n",
       "3787  2017/8/26  http://t.cn/h91BSI【升级气象灾害应急响应通知】据市气象台监测，广州市达到启...   \n",
       "3794  2017/8/26  #帕卡影响广州#预计自27日凌晨开始，受台风“帕卡”影响，风开始加大，27日白天风雨逐渐加大...   \n",
       "3797  2017/8/27  http://t.cn/h91BSI【警惕大风和暴雨】受台风“帕卡”影响，预计广州清晨风力开...   \n",
       "3806  2017/8/27  #帕卡影响广州#来自南站默默等车的小伙伴。预计今天上午风雨就开始对飞机、高铁、轻轨、水上交通...   \n",
       "3808  2017/8/27  #14号台风帕卡##帕卡影响广州# 截至8月27日7时40分，广州中南部台风橙色预警、暴雨黄...   \n",
       "3813  2017/8/27  【早安，广州】#14号台风帕卡# #帕卡影响广州# 14号台风“帕卡”在今日08时加强为台风...   \n",
       "3826  2017/8/27                             #14号台风帕卡# 出门一定要注意安全！！！   \n",
       "3832  2017/8/27  http://t.cn/h91BSI【降级气象灾害应急响应通知】据市气象台监测，广州市达到降...   \n",
       "3837  2017/8/27  #14号台风帕卡##帕卡影响广州# “帕卡”渐行渐远，目前全市各区的台风蓝色预警信号，除从化...   \n",
       "...         ...                                                ...   \n",
       "6534   2018/1/9       #小编8天气#天气那么冷，后山的喵子居然出来了，为了撸猫，小编冻得鼻涕直流~~~[允悲]   \n",
       "6536   2018/1/9  从评论上看，泥萌是真的不想要小编手写的祝福语明信片[允悲]//@广州天气: #天气福利#话说...   \n",
       "6537   2018/1/9  #天气话你知#气温就像一条蛇，终于抬头了~~周杰伦《蜗牛-周杰伦》 http://t.cn/...   \n",
       "6538   2018/1/9  《今天的广州塔为什么看不到雪？》 本次寒潮横扫广东，粤北多地下雪和冰冻，于是大家就盼望着近6...   \n",
       "6539   2018/1/9  【七天天气预报-终于可以晾干衣服了】 #天气话你知# 昨天到今天，我们大咩咩城那是冷雨铺面，...   \n",
       "6540   2018/1/9  几个小编都按规矩转了，每次抽奖都转，然而从来都没有小编中过[摊手]就是这么公平[二哈]//@...   \n",
       "6541   2018/1/9  恭喜@Ferry178-OH 等25名用户获得【乖乖云声光控小夜灯】, @小婕婕醬oO 等2...   \n",
       "3402  2017/8/15                             #随手拍广州# 街头巷尾都是生活[心][心]   \n",
       "3403  2017/8/15                                       #随手拍广州# [爱你]   \n",
       "3404  2017/8/15                                 #随手拍广州# 夏天傍晚的广州[心]   \n",
       "3405  2017/8/16                                 #随手拍广州# 美丽朝霞[心][心]   \n",
       "3406  2017/8/16  #随手拍广州# 早起的人儿有美景看[小黄人坏笑]。美丽的早晨，预计上下班时段大广州没雨，安心...   \n",
       "3409  2017/8/16  【早安，广州】#随手拍广州#有吃货粉丝说，今天的云像是撕开的面包丝[笑cry]。云霞如此美腻...   \n",
       "3410  2017/8/16  #小编8天气# 副高减退，久违的雷雨又在海上现身，午后广州发生雷雨的可能性很高哦。晒被子的，...   \n",
       "3411  2017/8/16                                 早[doge]天热多喝水[doge]   \n",
       "3412  2017/8/16  #小编8天气# 降雨回波自南向北，从海上越发加强逼近广州了[doge]。泥萌都是聪明粉儿，快...   \n",
       "3414  2017/8/16  #小编8天气# 受局地雷雨影响，热辣烤鸡腿的根部已褪色。雷雨会继续北推影响市区，黄埔南部也有...   \n",
       "3417  2017/8/16                  #小编8天气# 南沙榄核附近局地雷雨生成，番禺的小伙伴也要注意哦~   \n",
       "3418  2017/8/16       #随手拍广州#午后局地雷雨还没来，先送大家两张超美的图片[憧憬]。感谢两位拍摄者，见水印   \n",
       "3419  2017/8/16                                               [允悲]   \n",
       "3420  2017/8/16  #小编8天气# 影响市区的局地雷雨已经过去，大家不用等了[允悲]。小谷围和长洲的童鞋们有被淋...   \n",
       "3424  2017/8/16  【七天天气预报—副高魔王很任性】受西伸加强的副高边缘影响，明日仍有局地雷雨打扰，有幸被“局”...   \n",
       "3425  2017/8/16                                   美呆了[憧憬]。泥萌说代表了啥？   \n",
       "3430  2017/8/16  #小编8天气# 花都的局地雷雨很强哦，正值下班高峰期，小伙伴们注意防御哈，雷电、大风、强降水...   \n",
       "3431  2017/8/16  #随手拍广州# 有一种爱，叫做你若安好，便是晴天[嘻嘻]。今天的午后雷雨，没有给大家造成什么...   \n",
       "3433  2017/8/16  【晚安，广州】#随手拍广州#  明日天气仍旧晴好，大家上下班路上，不妨细心留意天上美景[憧憬...   \n",
       "3434  2017/8/16  #小编8天气# 看下过雨的花都，才26℃左右，再看看小编这里[允悲]。只能安慰一句，还好没停...   \n",
       "3437  2017/8/17                       【早安，广州】虽美，但热[doge]。by@杨建荣win   \n",
       "3438  2017/8/17       #小编8天气# 蓝天白云，阳光直射，身体会感觉更加炎热。今天体感温度可达41.4℃[衰]   \n",
       "3439  2017/8/17  #小编8天气# 局地雷雨出现在中山了，并正向北移动[笑而不语]。上午晾晒起的被子，不妨先收起...   \n",
       "\n",
       "               所属分类  \n",
       "id                   \n",
       "3585  气象灾害应急响应：灾害响应  \n",
       "3658  气象灾害应急响应：灾害响应  \n",
       "3589  气象灾害应急响应：延迟上学  \n",
       "3608  气象灾害应急响应：延迟上学  \n",
       "3612  气象灾害应急响应：灾害响应  \n",
       "3623  气象灾害应急响应：拜祭提醒  \n",
       "3625  气象灾害应急响应：延迟上学  \n",
       "3626  气象灾害应急响应：拜祭提醒  \n",
       "3627  气象灾害应急响应：延迟上学  \n",
       "3572  气象灾害应急响应：灾害响应  \n",
       "3575  气象灾害应急响应：灾害响应  \n",
       "3583  气象灾害应急响应：灾害响应  \n",
       "3740  气象灾害应急响应：延迟上学  \n",
       "3741  气象灾害应急响应：灾害响应  \n",
       "3634  气象灾害应急响应：延迟上学  \n",
       "3761  气象灾害应急响应：拜祭提醒  \n",
       "3773  气象灾害应急响应：拜祭提醒  \n",
       "3776  气象灾害应急响应：延迟上学  \n",
       "3883  气象灾害应急响应：灾害响应  \n",
       "3886  气象灾害应急响应：延迟上学  \n",
       "3896  气象灾害应急响应：拜祭提醒  \n",
       "3787  气象灾害应急响应：灾害响应  \n",
       "3794  气象灾害应急响应：延迟上学  \n",
       "3797  气象灾害应急响应：拜祭提醒  \n",
       "3806  气象灾害应急响应：延迟上学  \n",
       "3808  气象灾害应急响应：拜祭提醒  \n",
       "3813  气象灾害应急响应：拜祭提醒  \n",
       "3826  气象灾害应急响应：延迟上学  \n",
       "3832  气象灾害应急响应：灾害响应  \n",
       "3837  气象灾害应急响应：延迟上学  \n",
       "...             ...  \n",
       "6534    粉丝互动：首席小编互动  \n",
       "6536      粉丝互动：奖品福利  \n",
       "6537    粉丝互动：首席小编互动  \n",
       "6538      粉丝互动：春运天气  \n",
       "6539      粉丝互动：出行提醒  \n",
       "6540      粉丝互动：奖品福利  \n",
       "6541      粉丝互动：奖品福利  \n",
       "3402     粉丝互动：随手拍广州  \n",
       "3403     粉丝互动：随手拍广州  \n",
       "3404     粉丝互动：随手拍广州  \n",
       "3405     粉丝互动：随手拍广州  \n",
       "3406     粉丝互动：随手拍广州  \n",
       "3409     粉丝互动：随手拍广州  \n",
       "3410      粉丝互动：出行提醒  \n",
       "3411    粉丝互动：首席小编互动  \n",
       "3412      粉丝互动：出行提醒  \n",
       "3414    粉丝互动：首席小编互动  \n",
       "3417    粉丝互动：首席小编互动  \n",
       "3418     粉丝互动：随手拍广州  \n",
       "3419    粉丝互动：首席小编互动  \n",
       "3420    粉丝互动：首席小编互动  \n",
       "3424      粉丝互动：出行提醒  \n",
       "3425    粉丝互动：首席小编互动  \n",
       "3430    粉丝互动：首席小编互动  \n",
       "3431      粉丝互动：出行提醒  \n",
       "3433    粉丝互动：首席小编互动  \n",
       "3434    粉丝互动：首席小编互动  \n",
       "3437     粉丝互动：随手拍广州  \n",
       "3438      粉丝互动：出行提醒  \n",
       "3439    粉丝互动：首席小编互动  \n",
       "\n",
       "[7428 rows x 3 columns]"
      ]
     },
     "execution_count": 44,
     "metadata": {},
     "output_type": "execute_result"
    }
   ],
   "source": [
    "result.set_index('id', inplace=True)\n",
    "result"
   ]
  },
  {
   "cell_type": "code",
   "execution_count": 45,
   "metadata": {
    "collapsed": true
   },
   "outputs": [],
   "source": [
    "result.sort_index().to_csv('LDA_clustered_5_detail.csv', encoding='gb18030')"
   ]
  },
  {
   "cell_type": "code",
   "execution_count": 46,
   "metadata": {},
   "outputs": [
    {
     "data": {
      "text/plain": [
       "(7428, 3)"
      ]
     },
     "execution_count": 46,
     "metadata": {},
     "output_type": "execute_result"
    }
   ],
   "source": [
    "result.shape"
   ]
  },
  {
   "cell_type": "code",
   "execution_count": 47,
   "metadata": {},
   "outputs": [
    {
     "data": {
      "text/plain": [
       "粉丝互动：随手拍广州       1254\n",
       "粉丝互动：出行提醒        1155\n",
       "粉丝互动：首席小编互动      1125\n",
       "粉丝互动：春运天气         578\n",
       "日常预报：上班天气预测       451\n",
       "粉丝互动：奖品福利         448\n",
       "日常预报：下班高峰天气       361\n",
       "日常预报：午间天气预报       280\n",
       "预警信号：高温寒冷预警       257\n",
       "热带风暴：台风中心消息       241\n",
       "预警信号：雷雨大风预警       209\n",
       "预警信号：暴雨预警         200\n",
       "预警信号：最大雨量记录       194\n",
       "气象灾害应急响应：延迟上学     131\n",
       "预警信号：大雾灰霾          92\n",
       "热带风暴：台风登陆广东        91\n",
       "预警信号：森林火险          85\n",
       "热带风暴：热带低压消息        77\n",
       "气象灾害应急响应：灾害响应      76\n",
       "气象灾害应急响应：拜祭提醒      75\n",
       "预警信号：台风预警          47\n",
       "预警信号：新造附近预警         1\n",
       "Name: 所属分类, dtype: int64"
      ]
     },
     "execution_count": 47,
     "metadata": {},
     "output_type": "execute_result"
    }
   ],
   "source": [
    "result.所属分类.value_counts()"
   ]
  },
  {
   "cell_type": "code",
   "execution_count": 48,
   "metadata": {},
   "outputs": [
    {
     "data": {
      "text/plain": [
       "<matplotlib.axes._subplots.AxesSubplot at 0xec150fbf28>"
      ]
     },
     "execution_count": 48,
     "metadata": {},
     "output_type": "execute_result"
    },
    {
     "data": {
      "image/png": "[encoded data removed]",
      "text/plain": [
       "<matplotlib.figure.Figure at 0xec139b3748>"
      ]
     },
     "metadata": {},
     "output_type": "display_data"
    }
   ],
   "source": [
    "result.所属分类.value_counts().plot()"
   ]
  },
  {
   "cell_type": "code",
   "execution_count": 49,
   "metadata": {},
   "outputs": [
    {
     "data": {
      "text/plain": [
       "日常预报：上班天气预测       451\n",
       "日常预报：下班高峰天气       361\n",
       "日常预报：午间天气预报       280\n",
       "气象灾害应急响应：延迟上学     131\n",
       "气象灾害应急响应：拜祭提醒      75\n",
       "气象灾害应急响应：灾害响应      76\n",
       "热带风暴：台风中心消息       241\n",
       "热带风暴：台风登陆广东        91\n",
       "热带风暴：热带低压消息        77\n",
       "粉丝互动：出行提醒        1155\n",
       "粉丝互动：奖品福利         448\n",
       "粉丝互动：春运天气         578\n",
       "粉丝互动：随手拍广州       1254\n",
       "粉丝互动：首席小编互动      1125\n",
       "预警信号：台风预警          47\n",
       "预警信号：大雾灰霾          92\n",
       "预警信号：新造附近预警         1\n",
       "预警信号：暴雨预警         200\n",
       "预警信号：最大雨量记录       194\n",
       "预警信号：森林火险          85\n",
       "预警信号：雷雨大风预警       209\n",
       "预警信号：高温寒冷预警       257\n",
       "Name: 所属分类, dtype: int64"
      ]
     },
     "execution_count": 49,
     "metadata": {},
     "output_type": "execute_result"
    }
   ],
   "source": [
    "result.所属分类.value_counts().sort_index()"
   ]
  },
  {
   "cell_type": "code",
   "execution_count": 50,
   "metadata": {},
   "outputs": [
    {
     "data": {
      "text/plain": [
       "<matplotlib.axes._subplots.AxesSubplot at 0xec150f46d8>"
      ]
     },
     "execution_count": 50,
     "metadata": {},
     "output_type": "execute_result"
    },
    {
     "data": {
      "image/png": "[encoded data removed]",
      "text/plain": [
       "<matplotlib.figure.Figure at 0xec1510b6a0>"
      ]
     },
     "metadata": {},
     "output_type": "display_data"
    }
   ],
   "source": [
    "result.所属分类.value_counts().sort_index().plot()"
   ]
  },
  {
   "cell_type": "code",
   "execution_count": 51,
   "metadata": {},
   "outputs": [
    {
     "data": {
      "text/html": [
       "<div>\n",
       "<style>\n",
       "    .dataframe thead tr:only-child th {\n",
       "        text-align: right;\n",
       "    }\n",
       "\n",
       "    .dataframe thead th {\n",
       "        text-align: left;\n",
       "    }\n",
       "\n",
       "    .dataframe tbody tr th {\n",
       "        vertical-align: top;\n",
       "    }\n",
       "</style>\n",
       "<table border=\"1\" class=\"dataframe\">\n",
       "  <thead>\n",
       "    <tr style=\"text-align: right;\">\n",
       "      <th></th>\n",
       "      <th>所属分类</th>\n",
       "    </tr>\n",
       "  </thead>\n",
       "  <tbody>\n",
       "    <tr>\n",
       "      <th>日常预报：上班天气预测</th>\n",
       "      <td>451</td>\n",
       "    </tr>\n",
       "    <tr>\n",
       "      <th>日常预报：下班高峰天气</th>\n",
       "      <td>361</td>\n",
       "    </tr>\n",
       "    <tr>\n",
       "      <th>日常预报：午间天气预报</th>\n",
       "      <td>280</td>\n",
       "    </tr>\n",
       "    <tr>\n",
       "      <th>气象灾害应急响应：延迟上学</th>\n",
       "      <td>131</td>\n",
       "    </tr>\n",
       "    <tr>\n",
       "      <th>气象灾害应急响应：拜祭提醒</th>\n",
       "      <td>75</td>\n",
       "    </tr>\n",
       "    <tr>\n",
       "      <th>气象灾害应急响应：灾害响应</th>\n",
       "      <td>76</td>\n",
       "    </tr>\n",
       "    <tr>\n",
       "      <th>热带风暴：台风中心消息</th>\n",
       "      <td>241</td>\n",
       "    </tr>\n",
       "    <tr>\n",
       "      <th>热带风暴：台风登陆广东</th>\n",
       "      <td>91</td>\n",
       "    </tr>\n",
       "    <tr>\n",
       "      <th>热带风暴：热带低压消息</th>\n",
       "      <td>77</td>\n",
       "    </tr>\n",
       "    <tr>\n",
       "      <th>粉丝互动：出行提醒</th>\n",
       "      <td>1155</td>\n",
       "    </tr>\n",
       "    <tr>\n",
       "      <th>粉丝互动：奖品福利</th>\n",
       "      <td>448</td>\n",
       "    </tr>\n",
       "    <tr>\n",
       "      <th>粉丝互动：春运天气</th>\n",
       "      <td>578</td>\n",
       "    </tr>\n",
       "    <tr>\n",
       "      <th>粉丝互动：随手拍广州</th>\n",
       "      <td>1254</td>\n",
       "    </tr>\n",
       "    <tr>\n",
       "      <th>粉丝互动：首席小编互动</th>\n",
       "      <td>1125</td>\n",
       "    </tr>\n",
       "    <tr>\n",
       "      <th>预警信号：台风预警</th>\n",
       "      <td>47</td>\n",
       "    </tr>\n",
       "    <tr>\n",
       "      <th>预警信号：大雾灰霾</th>\n",
       "      <td>92</td>\n",
       "    </tr>\n",
       "    <tr>\n",
       "      <th>预警信号：新造附近预警</th>\n",
       "      <td>1</td>\n",
       "    </tr>\n",
       "    <tr>\n",
       "      <th>预警信号：暴雨预警</th>\n",
       "      <td>200</td>\n",
       "    </tr>\n",
       "    <tr>\n",
       "      <th>预警信号：最大雨量记录</th>\n",
       "      <td>194</td>\n",
       "    </tr>\n",
       "    <tr>\n",
       "      <th>预警信号：森林火险</th>\n",
       "      <td>85</td>\n",
       "    </tr>\n",
       "    <tr>\n",
       "      <th>预警信号：雷雨大风预警</th>\n",
       "      <td>209</td>\n",
       "    </tr>\n",
       "    <tr>\n",
       "      <th>预警信号：高温寒冷预警</th>\n",
       "      <td>257</td>\n",
       "    </tr>\n",
       "  </tbody>\n",
       "</table>\n",
       "</div>"
      ],
      "text/plain": [
       "               所属分类\n",
       "日常预报：上班天气预测     451\n",
       "日常预报：下班高峰天气     361\n",
       "日常预报：午间天气预报     280\n",
       "气象灾害应急响应：延迟上学   131\n",
       "气象灾害应急响应：拜祭提醒    75\n",
       "气象灾害应急响应：灾害响应    76\n",
       "热带风暴：台风中心消息     241\n",
       "热带风暴：台风登陆广东      91\n",
       "热带风暴：热带低压消息      77\n",
       "粉丝互动：出行提醒      1155\n",
       "粉丝互动：奖品福利       448\n",
       "粉丝互动：春运天气       578\n",
       "粉丝互动：随手拍广州     1254\n",
       "粉丝互动：首席小编互动    1125\n",
       "预警信号：台风预警        47\n",
       "预警信号：大雾灰霾        92\n",
       "预警信号：新造附近预警       1\n",
       "预警信号：暴雨预警       200\n",
       "预警信号：最大雨量记录     194\n",
       "预警信号：森林火险        85\n",
       "预警信号：雷雨大风预警     209\n",
       "预警信号：高温寒冷预警     257"
      ]
     },
     "execution_count": 51,
     "metadata": {},
     "output_type": "execute_result"
    }
   ],
   "source": [
    "huatu = pd.DataFrame(result.所属分类.value_counts().sort_index())\n",
    "huatu.to_csv('画图.csv', encoding='gb18030')\n",
    "huatu"
   ]
  },
  {
   "cell_type": "code",
   "execution_count": 52,
   "metadata": {},
   "outputs": [
    {
     "data": {
      "text/plain": [
       "气象灾害应急响应：延迟上学     131\n",
       "气象灾害应急响应：灾害响应      76\n",
       "气象灾害应急响应：拜祭提醒      75\n",
       "日常预报：上班天气预测       451\n",
       "日常预报：下班高峰天气       361\n",
       "日常预报：午间天气预报       280\n",
       "预警信号：高温寒冷预警       257\n",
       "预警信号：雷雨大风预警       209\n",
       "预警信号：暴雨预警         200\n",
       "预警信号：最大雨量记录       194\n",
       "预警信号：大雾灰霾          92\n",
       "预警信号：森林火险          85\n",
       "预警信号：台风预警          47\n",
       "预警信号：新造附近预警         1\n",
       "热带风暴：台风中心消息       241\n",
       "热带风暴：台风登陆广东        91\n",
       "热带风暴：热带低压消息        77\n",
       "粉丝互动：随手拍广州       1254\n",
       "粉丝互动：出行提醒        1155\n",
       "粉丝互动：首席小编互动      1125\n",
       "粉丝互动：春运天气         578\n",
       "粉丝互动：奖品福利         448\n",
       "Name: 所属分类, dtype: int64"
      ]
     },
     "execution_count": 52,
     "metadata": {},
     "output_type": "execute_result"
    }
   ],
   "source": [
    "frames = [cxtxhuatu, rcybhuatu, jdyjhuatu, rdfbhuatu, fshdhuatu]\n",
    "ht = pd.concat(frames, axis = 0)\n",
    "ht"
   ]
  },
  {
   "cell_type": "code",
   "execution_count": 53,
   "metadata": {},
   "outputs": [
    {
     "data": {
      "text/html": [
       "<div>\n",
       "<style>\n",
       "    .dataframe thead tr:only-child th {\n",
       "        text-align: right;\n",
       "    }\n",
       "\n",
       "    .dataframe thead th {\n",
       "        text-align: left;\n",
       "    }\n",
       "\n",
       "    .dataframe tbody tr th {\n",
       "        vertical-align: top;\n",
       "    }\n",
       "</style>\n",
       "<table border=\"1\" class=\"dataframe\">\n",
       "  <thead>\n",
       "    <tr style=\"text-align: right;\">\n",
       "      <th></th>\n",
       "      <th>所属分类</th>\n",
       "    </tr>\n",
       "  </thead>\n",
       "  <tbody>\n",
       "    <tr>\n",
       "      <th>气象灾害应急响应：延迟上学</th>\n",
       "      <td>131</td>\n",
       "    </tr>\n",
       "    <tr>\n",
       "      <th>气象灾害应急响应：灾害响应</th>\n",
       "      <td>76</td>\n",
       "    </tr>\n",
       "    <tr>\n",
       "      <th>气象灾害应急响应：拜祭提醒</th>\n",
       "      <td>75</td>\n",
       "    </tr>\n",
       "    <tr>\n",
       "      <th>日常预报：上班天气预测</th>\n",
       "      <td>451</td>\n",
       "    </tr>\n",
       "    <tr>\n",
       "      <th>日常预报：下班高峰天气</th>\n",
       "      <td>361</td>\n",
       "    </tr>\n",
       "    <tr>\n",
       "      <th>日常预报：午间天气预报</th>\n",
       "      <td>280</td>\n",
       "    </tr>\n",
       "    <tr>\n",
       "      <th>预警信号：高温寒冷预警</th>\n",
       "      <td>257</td>\n",
       "    </tr>\n",
       "    <tr>\n",
       "      <th>预警信号：雷雨大风预警</th>\n",
       "      <td>209</td>\n",
       "    </tr>\n",
       "    <tr>\n",
       "      <th>预警信号：暴雨预警</th>\n",
       "      <td>200</td>\n",
       "    </tr>\n",
       "    <tr>\n",
       "      <th>预警信号：最大雨量记录</th>\n",
       "      <td>194</td>\n",
       "    </tr>\n",
       "    <tr>\n",
       "      <th>预警信号：大雾灰霾</th>\n",
       "      <td>92</td>\n",
       "    </tr>\n",
       "    <tr>\n",
       "      <th>预警信号：森林火险</th>\n",
       "      <td>85</td>\n",
       "    </tr>\n",
       "    <tr>\n",
       "      <th>预警信号：台风预警</th>\n",
       "      <td>47</td>\n",
       "    </tr>\n",
       "    <tr>\n",
       "      <th>预警信号：新造附近预警</th>\n",
       "      <td>1</td>\n",
       "    </tr>\n",
       "    <tr>\n",
       "      <th>热带风暴：台风中心消息</th>\n",
       "      <td>241</td>\n",
       "    </tr>\n",
       "    <tr>\n",
       "      <th>热带风暴：台风登陆广东</th>\n",
       "      <td>91</td>\n",
       "    </tr>\n",
       "    <tr>\n",
       "      <th>热带风暴：热带低压消息</th>\n",
       "      <td>77</td>\n",
       "    </tr>\n",
       "    <tr>\n",
       "      <th>粉丝互动：随手拍广州</th>\n",
       "      <td>1254</td>\n",
       "    </tr>\n",
       "    <tr>\n",
       "      <th>粉丝互动：出行提醒</th>\n",
       "      <td>1155</td>\n",
       "    </tr>\n",
       "    <tr>\n",
       "      <th>粉丝互动：首席小编互动</th>\n",
       "      <td>1125</td>\n",
       "    </tr>\n",
       "    <tr>\n",
       "      <th>粉丝互动：春运天气</th>\n",
       "      <td>578</td>\n",
       "    </tr>\n",
       "    <tr>\n",
       "      <th>粉丝互动：奖品福利</th>\n",
       "      <td>448</td>\n",
       "    </tr>\n",
       "  </tbody>\n",
       "</table>\n",
       "</div>"
      ],
      "text/plain": [
       "               所属分类\n",
       "气象灾害应急响应：延迟上学   131\n",
       "气象灾害应急响应：灾害响应    76\n",
       "气象灾害应急响应：拜祭提醒    75\n",
       "日常预报：上班天气预测     451\n",
       "日常预报：下班高峰天气     361\n",
       "日常预报：午间天气预报     280\n",
       "预警信号：高温寒冷预警     257\n",
       "预警信号：雷雨大风预警     209\n",
       "预警信号：暴雨预警       200\n",
       "预警信号：最大雨量记录     194\n",
       "预警信号：大雾灰霾        92\n",
       "预警信号：森林火险        85\n",
       "预警信号：台风预警        47\n",
       "预警信号：新造附近预警       1\n",
       "热带风暴：台风中心消息     241\n",
       "热带风暴：台风登陆广东      91\n",
       "热带风暴：热带低压消息      77\n",
       "粉丝互动：随手拍广州     1254\n",
       "粉丝互动：出行提醒      1155\n",
       "粉丝互动：首席小编互动    1125\n",
       "粉丝互动：春运天气       578\n",
       "粉丝互动：奖品福利       448"
      ]
     },
     "execution_count": 53,
     "metadata": {},
     "output_type": "execute_result"
    }
   ],
   "source": [
    "huatu_ordered = pd.DataFrame(ht)\n",
    "huatu_ordered"
   ]
  },
  {
   "cell_type": "code",
   "execution_count": 54,
   "metadata": {
    "collapsed": true
   },
   "outputs": [],
   "source": [
    "huatu_ordered.to_csv('画图顺序.csv', encoding='gb18030')"
   ]
  },
  {
   "cell_type": "code",
   "execution_count": null,
   "metadata": {
    "collapsed": true
   },
   "outputs": [],
   "source": []
  }
 ],
 "metadata": {
  "kernelspec": {
   "display_name": "Python 3",
   "language": "python",
   "name": "python3"
  },
  "language_info": {
   "codemirror_mode": {
    "name": "ipython",
    "version": 3
   },
   "file_extension": ".py",
   "mimetype": "text/x-python",
   "name": "python",
   "nbconvert_exporter": "python",
   "pygments_lexer": "ipython3",
   "version": "3.6.3"
  }
 },
 "nbformat": 4,
 "nbformat_minor": 2
}

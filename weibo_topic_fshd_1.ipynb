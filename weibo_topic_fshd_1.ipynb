{
 "cells": [
  {
   "cell_type": "markdown",
   "metadata": {},
   "source": [
    "# 对主题挖掘的结果进行进一步细分\n",
    "## 1.读数据"
   ]
  },
  {
   "cell_type": "code",
   "execution_count": 47,
   "metadata": {},
   "outputs": [],
   "source": [
    "import time\n",
    "import pandas as pd"
   ]
  },
  {
   "cell_type": "code",
   "execution_count": 48,
   "metadata": {},
   "outputs": [
    {
     "data": {
      "text/html": [
       "<div>\n",
       "<style scoped>\n",
       "    .dataframe tbody tr th:only-of-type {\n",
       "        vertical-align: middle;\n",
       "    }\n",
       "\n",
       "    .dataframe tbody tr th {\n",
       "        vertical-align: top;\n",
       "    }\n",
       "\n",
       "    .dataframe thead th {\n",
       "        text-align: right;\n",
       "    }\n",
       "</style>\n",
       "<table border=\"1\" class=\"dataframe\">\n",
       "  <thead>\n",
       "    <tr style=\"text-align: right;\">\n",
       "      <th></th>\n",
       "      <th>id</th>\n",
       "      <th>statdate</th>\n",
       "      <th>text</th>\n",
       "      <th>所属分类</th>\n",
       "    </tr>\n",
       "  </thead>\n",
       "  <tbody>\n",
       "    <tr>\n",
       "      <th>0</th>\n",
       "      <td>3585</td>\n",
       "      <td>2017/8/22</td>\n",
       "      <td>http://t.cn/h91BSI【升级气象灾害应急响应通知】据市气象台监测，广州市达到启...</td>\n",
       "      <td>气象灾害应急响应</td>\n",
       "    </tr>\n",
       "    <tr>\n",
       "      <th>1</th>\n",
       "      <td>3586</td>\n",
       "      <td>2017/8/22</td>\n",
       "      <td>转发微博</td>\n",
       "      <td>热带风暴</td>\n",
       "    </tr>\n",
       "    <tr>\n",
       "      <th>2</th>\n",
       "      <td>3641</td>\n",
       "      <td>2017/8/23</td>\n",
       "      <td>http://t.cn/h91BSI【台风紧急警报】今天下午16时，今年第13号台风“天鸽”...</td>\n",
       "      <td>热带风暴</td>\n",
       "    </tr>\n",
       "    <tr>\n",
       "      <th>3</th>\n",
       "      <td>3642</td>\n",
       "      <td>2017/8/23</td>\n",
       "      <td>【七天天气预报—“天鸽”上岸，仍有风雨】#天气话你知# #13号台风天鸽# 强台风“天鸽”已...</td>\n",
       "      <td>热带风暴</td>\n",
       "    </tr>\n",
       "    <tr>\n",
       "      <th>4</th>\n",
       "      <td>3643</td>\n",
       "      <td>2017/8/23</td>\n",
       "      <td>http://t.cn/h91BSI【台风蓝色预警信号】今年第13号台风“天鸽”，23日17...</td>\n",
       "      <td>热带风暴</td>\n",
       "    </tr>\n",
       "  </tbody>\n",
       "</table>\n",
       "</div>"
      ],
      "text/plain": [
       "     id   statdate                                               text  \\\n",
       "0  3585  2017/8/22  http://t.cn/h91BSI【升级气象灾害应急响应通知】据市气象台监测，广州市达到启...   \n",
       "1  3586  2017/8/22                                               转发微博   \n",
       "2  3641  2017/8/23  http://t.cn/h91BSI【台风紧急警报】今天下午16时，今年第13号台风“天鸽”...   \n",
       "3  3642  2017/8/23  【七天天气预报—“天鸽”上岸，仍有风雨】#天气话你知# #13号台风天鸽# 强台风“天鸽”已...   \n",
       "4  3643  2017/8/23  http://t.cn/h91BSI【台风蓝色预警信号】今年第13号台风“天鸽”，23日17...   \n",
       "\n",
       "       所属分类  \n",
       "0  气象灾害应急响应  \n",
       "1      热带风暴  \n",
       "2      热带风暴  \n",
       "3      热带风暴  \n",
       "4      热带风暴  "
      ]
     },
     "execution_count": 48,
     "metadata": {},
     "output_type": "execute_result"
    }
   ],
   "source": [
    "result = pd.read_csv('LDA_clustered_5.csv', encoding='gb18030')\n",
    "result.head()"
   ]
  },
  {
   "cell_type": "code",
   "execution_count": 49,
   "metadata": {},
   "outputs": [
    {
     "data": {
      "text/html": [
       "<div>\n",
       "<style scoped>\n",
       "    .dataframe tbody tr th:only-of-type {\n",
       "        vertical-align: middle;\n",
       "    }\n",
       "\n",
       "    .dataframe tbody tr th {\n",
       "        vertical-align: top;\n",
       "    }\n",
       "\n",
       "    .dataframe thead th {\n",
       "        text-align: right;\n",
       "    }\n",
       "</style>\n",
       "<table border=\"1\" class=\"dataframe\">\n",
       "  <thead>\n",
       "    <tr style=\"text-align: right;\">\n",
       "      <th></th>\n",
       "      <th>statdate</th>\n",
       "      <th>text</th>\n",
       "      <th>所属分类</th>\n",
       "    </tr>\n",
       "    <tr>\n",
       "      <th>id</th>\n",
       "      <th></th>\n",
       "      <th></th>\n",
       "      <th></th>\n",
       "    </tr>\n",
       "  </thead>\n",
       "  <tbody>\n",
       "    <tr>\n",
       "      <th>3585</th>\n",
       "      <td>2017/8/22</td>\n",
       "      <td>http://t.cn/h91BSI【升级气象灾害应急响应通知】据市气象台监测，广州市达到启...</td>\n",
       "      <td>气象灾害应急响应</td>\n",
       "    </tr>\n",
       "    <tr>\n",
       "      <th>3586</th>\n",
       "      <td>2017/8/22</td>\n",
       "      <td>转发微博</td>\n",
       "      <td>热带风暴</td>\n",
       "    </tr>\n",
       "    <tr>\n",
       "      <th>3641</th>\n",
       "      <td>2017/8/23</td>\n",
       "      <td>http://t.cn/h91BSI【台风紧急警报】今天下午16时，今年第13号台风“天鸽”...</td>\n",
       "      <td>热带风暴</td>\n",
       "    </tr>\n",
       "    <tr>\n",
       "      <th>3642</th>\n",
       "      <td>2017/8/23</td>\n",
       "      <td>【七天天气预报—“天鸽”上岸，仍有风雨】#天气话你知# #13号台风天鸽# 强台风“天鸽”已...</td>\n",
       "      <td>热带风暴</td>\n",
       "    </tr>\n",
       "    <tr>\n",
       "      <th>3643</th>\n",
       "      <td>2017/8/23</td>\n",
       "      <td>http://t.cn/h91BSI【台风蓝色预警信号】今年第13号台风“天鸽”，23日17...</td>\n",
       "      <td>热带风暴</td>\n",
       "    </tr>\n",
       "  </tbody>\n",
       "</table>\n",
       "</div>"
      ],
      "text/plain": [
       "       statdate                                               text      所属分类\n",
       "id                                                                          \n",
       "3585  2017/8/22  http://t.cn/h91BSI【升级气象灾害应急响应通知】据市气象台监测，广州市达到启...  气象灾害应急响应\n",
       "3586  2017/8/22                                               转发微博      热带风暴\n",
       "3641  2017/8/23  http://t.cn/h91BSI【台风紧急警报】今天下午16时，今年第13号台风“天鸽”...      热带风暴\n",
       "3642  2017/8/23  【七天天气预报—“天鸽”上岸，仍有风雨】#天气话你知# #13号台风天鸽# 强台风“天鸽”已...      热带风暴\n",
       "3643  2017/8/23  http://t.cn/h91BSI【台风蓝色预警信号】今年第13号台风“天鸽”，23日17...      热带风暴"
      ]
     },
     "execution_count": 49,
     "metadata": {},
     "output_type": "execute_result"
    }
   ],
   "source": [
    "result.set_index('id', inplace=True)\n",
    "result.head()"
   ]
  },
  {
   "cell_type": "markdown",
   "metadata": {},
   "source": [
    "## 2. 粉丝互动主题细分"
   ]
  },
  {
   "cell_type": "code",
   "execution_count": 50,
   "metadata": {},
   "outputs": [
    {
     "data": {
      "text/html": [
       "<div>\n",
       "<style scoped>\n",
       "    .dataframe tbody tr th:only-of-type {\n",
       "        vertical-align: middle;\n",
       "    }\n",
       "\n",
       "    .dataframe tbody tr th {\n",
       "        vertical-align: top;\n",
       "    }\n",
       "\n",
       "    .dataframe thead th {\n",
       "        text-align: right;\n",
       "    }\n",
       "</style>\n",
       "<table border=\"1\" class=\"dataframe\">\n",
       "  <thead>\n",
       "    <tr style=\"text-align: right;\">\n",
       "      <th></th>\n",
       "      <th>statdate</th>\n",
       "      <th>text</th>\n",
       "      <th>所属分类</th>\n",
       "    </tr>\n",
       "    <tr>\n",
       "      <th>id</th>\n",
       "      <th></th>\n",
       "      <th></th>\n",
       "      <th></th>\n",
       "    </tr>\n",
       "  </thead>\n",
       "  <tbody>\n",
       "    <tr>\n",
       "      <th>3644</th>\n",
       "      <td>2017/8/23</td>\n",
       "      <td>#13号台风天鸽#  地铁4号线地面高架段恢复运营服务 ,</td>\n",
       "      <td>粉丝互动</td>\n",
       "    </tr>\n",
       "    <tr>\n",
       "      <th>3660</th>\n",
       "      <td>2017/8/23</td>\n",
       "      <td>#13号台风天鸽# #随手拍广州# 应该是散发着仙气的小蛮腰@广州塔</td>\n",
       "      <td>粉丝互动</td>\n",
       "    </tr>\n",
       "    <tr>\n",
       "      <th>3661</th>\n",
       "      <td>2017/8/23</td>\n",
       "      <td>#13号台风天鸽# #随手拍广州# 从延时摄影回顾一下今天这只鸽子[憧憬]</td>\n",
       "      <td>粉丝互动</td>\n",
       "    </tr>\n",
       "    <tr>\n",
       "      <th>3662</th>\n",
       "      <td>2017/8/23</td>\n",
       "      <td>#小编8天气# 目前有一小块回波从番禺靠近市区，小伙伴们注意啦</td>\n",
       "      <td>粉丝互动</td>\n",
       "    </tr>\n",
       "    <tr>\n",
       "      <th>3666</th>\n",
       "      <td>2017/8/24</td>\n",
       "      <td>#天气话你知# 降水回波靠近海珠啦[并不简单]</td>\n",
       "      <td>粉丝互动</td>\n",
       "    </tr>\n",
       "    <tr>\n",
       "      <th>3667</th>\n",
       "      <td>2017/8/24</td>\n",
       "      <td>#天气话你知# 目前降水回波主要集中在南沙和番禺，以及增城从化交界，黄埔也有一点点[并不简单]</td>\n",
       "      <td>粉丝互动</td>\n",
       "    </tr>\n",
       "    <tr>\n",
       "      <th>3668</th>\n",
       "      <td>2017/8/24</td>\n",
       "      <td>#天气话你知# 降水回波擦到荔湾啦，而增城的回波也移向黄埔和从化了[并不简单]</td>\n",
       "      <td>粉丝互动</td>\n",
       "    </tr>\n",
       "    <tr>\n",
       "      <th>3709</th>\n",
       "      <td>2017/8/25</td>\n",
       "      <td>#小编精分日常#胖“天鸽”飞走，“帕卡”鱼游来。??\\n小编A：台风来之前都好热，登陆了下雨...</td>\n",
       "      <td>粉丝互动</td>\n",
       "    </tr>\n",
       "    <tr>\n",
       "      <th>3588</th>\n",
       "      <td>2017/8/22</td>\n",
       "      <td>#13号台风天鸽# 加密会商ING[微笑]……</td>\n",
       "      <td>粉丝互动</td>\n",
       "    </tr>\n",
       "    <tr>\n",
       "      <th>3596</th>\n",
       "      <td>2017/8/23</td>\n",
       "      <td>#13号台风天鸽# #小编8天气# 旋转跳跃，“天鸽”目前还闭着眼……不过可以看到它西南侧的...</td>\n",
       "      <td>粉丝互动</td>\n",
       "    </tr>\n",
       "    <tr>\n",
       "      <th>3598</th>\n",
       "      <td>2017/8/23</td>\n",
       "      <td>【实况播报】#天气话你知#外面的风呼呼的，外围云系甩上来，增城、番禺、南沙有雨，预计早上班期...</td>\n",
       "      <td>粉丝互动</td>\n",
       "    </tr>\n",
       "    <tr>\n",
       "      <th>3601</th>\n",
       "      <td>2017/8/23</td>\n",
       "      <td>【实况播报】#13号台风天鸽##天气话你知# 南沙最大阵风达到8级了，预计今日风力仍会继续加...</td>\n",
       "      <td>粉丝互动</td>\n",
       "    </tr>\n",
       "    <tr>\n",
       "      <th>3610</th>\n",
       "      <td>2017/8/23</td>\n",
       "      <td>【早安，广州】#天气话你知# #13号台风天鸽#天鸽已加强为强台风级，距离登陆越发靠近，南部...</td>\n",
       "      <td>粉丝互动</td>\n",
       "    </tr>\n",
       "    <tr>\n",
       "      <th>3619</th>\n",
       "      <td>2017/8/23</td>\n",
       "      <td>#天气话你知# #13号台风天鸽# 【要去海边的同志注意了！】8月23日10时，风暴潮叠加天...</td>\n",
       "      <td>粉丝互动</td>\n",
       "    </tr>\n",
       "    <tr>\n",
       "      <th>3620</th>\n",
       "      <td>2017/8/23</td>\n",
       "      <td>#13号台风天鸽# #天气话你知# 南沙风雨实况，在外的筒子还好么[允悲]</td>\n",
       "      <td>粉丝互动</td>\n",
       "    </tr>\n",
       "    <tr>\n",
       "      <th>3628</th>\n",
       "      <td>2017/8/23</td>\n",
       "      <td>大家注意了！#13号台风天鸽#广州地铁的最新消息：【四号线新造~黄村短线运行】受高架段停运影...</td>\n",
       "      <td>粉丝互动</td>\n",
       "    </tr>\n",
       "    <tr>\n",
       "      <th>3676</th>\n",
       "      <td>2017/8/24</td>\n",
       "      <td>#小编8天气# 小编这里被局部啦 http://t.cn/RCpzapD</td>\n",
       "      <td>粉丝互动</td>\n",
       "    </tr>\n",
       "    <tr>\n",
       "      <th>3679</th>\n",
       "      <td>2017/8/24</td>\n",
       "      <td>【早安，广州】#小编8天气# “天鸽”虽然远去，偏南气流还要作怪，一大清早任性地甩上来一波雷...</td>\n",
       "      <td>粉丝互动</td>\n",
       "    </tr>\n",
       "    <tr>\n",
       "      <th>3681</th>\n",
       "      <td>2017/8/24</td>\n",
       "      <td>#随手拍广州#阴阳分野，雨后蓝天[污]</td>\n",
       "      <td>粉丝互动</td>\n",
       "    </tr>\n",
       "    <tr>\n",
       "      <th>3684</th>\n",
       "      <td>2017/8/24</td>\n",
       "      <td>#随手拍广州# 好大的太阳[汗]。后续还会有阵雨影响，时晴时雨，带伞防偷袭哦[笑而不语]</td>\n",
       "      <td>粉丝互动</td>\n",
       "    </tr>\n",
       "    <tr>\n",
       "      <th>3686</th>\n",
       "      <td>2017/8/24</td>\n",
       "      <td>#小编8天气# 市区降水已经基本结束，不过南边还有雷雨云团不断北上，天气不稳定，今天都是雨-...</td>\n",
       "      <td>粉丝互动</td>\n",
       "    </tr>\n",
       "    <tr>\n",
       "      <th>3687</th>\n",
       "      <td>2017/8/24</td>\n",
       "      <td>#随手拍广州#树：在哪里被刮倒，就在哪里趴着不起来[二哈]</td>\n",
       "      <td>粉丝互动</td>\n",
       "    </tr>\n",
       "    <tr>\n",
       "      <th>3689</th>\n",
       "      <td>2017/8/24</td>\n",
       "      <td>#随手拍广州# 蓝天白云，热死狗[二哈]。作者见水印</td>\n",
       "      <td>粉丝互动</td>\n",
       "    </tr>\n",
       "    <tr>\n",
       "      <th>3690</th>\n",
       "      <td>2017/8/24</td>\n",
       "      <td>#小编8科普#先转了再说[doge]</td>\n",
       "      <td>粉丝互动</td>\n",
       "    </tr>\n",
       "    <tr>\n",
       "      <th>3691</th>\n",
       "      <td>2017/8/24</td>\n",
       "      <td>http://t.cn/h91BSI【七天天气预报—降水日趋明显】“天鸽”总算远去，雷雨又将...</td>\n",
       "      <td>粉丝互动</td>\n",
       "    </tr>\n",
       "    <tr>\n",
       "      <th>3692</th>\n",
       "      <td>2017/8/24</td>\n",
       "      <td>#小编8天气# 海上代有台风出，一代新台换旧台[允悲]。13号台风刚刚远去，太平洋上又有新扰...</td>\n",
       "      <td>粉丝互动</td>\n",
       "    </tr>\n",
       "    <tr>\n",
       "      <th>3695</th>\n",
       "      <td>2017/8/24</td>\n",
       "      <td>#小编8天气# 荔湾、白云、花都的小伙伴注意，泥萌的下班雨，到货了[doge]</td>\n",
       "      <td>粉丝互动</td>\n",
       "    </tr>\n",
       "    <tr>\n",
       "      <th>3697</th>\n",
       "      <td>2017/8/24</td>\n",
       "      <td>#小编8天气# 喏，你们要的准14号台风宝宝[doge]。小编只希望它半路夭折，别来祸害广东...</td>\n",
       "      <td>粉丝互动</td>\n",
       "    </tr>\n",
       "    <tr>\n",
       "      <th>3698</th>\n",
       "      <td>2017/8/24</td>\n",
       "      <td>#小编8天气# 增城，从化的雨下了挺长时间了[汗]。那边的小伙伴还好吗？</td>\n",
       "      <td>粉丝互动</td>\n",
       "    </tr>\n",
       "    <tr>\n",
       "      <th>3559</th>\n",
       "      <td>2017/8/22</td>\n",
       "      <td>#小编8天气# 被局部的和没被局部的，请自行感受[微笑]……</td>\n",
       "      <td>粉丝互动</td>\n",
       "    </tr>\n",
       "    <tr>\n",
       "      <th>...</th>\n",
       "      <td>...</td>\n",
       "      <td>...</td>\n",
       "      <td>...</td>\n",
       "    </tr>\n",
       "    <tr>\n",
       "      <th>6534</th>\n",
       "      <td>2018/1/9</td>\n",
       "      <td>#小编8天气#天气那么冷，后山的喵子居然出来了，为了撸猫，小编冻得鼻涕直流~~~[允悲]</td>\n",
       "      <td>粉丝互动</td>\n",
       "    </tr>\n",
       "    <tr>\n",
       "      <th>6536</th>\n",
       "      <td>2018/1/9</td>\n",
       "      <td>从评论上看，泥萌是真的不想要小编手写的祝福语明信片[允悲]//@广州天气: #天气福利#话说...</td>\n",
       "      <td>粉丝互动</td>\n",
       "    </tr>\n",
       "    <tr>\n",
       "      <th>6537</th>\n",
       "      <td>2018/1/9</td>\n",
       "      <td>#天气话你知#气温就像一条蛇，终于抬头了~~周杰伦《蜗牛-周杰伦》 http://t.cn/...</td>\n",
       "      <td>粉丝互动</td>\n",
       "    </tr>\n",
       "    <tr>\n",
       "      <th>6538</th>\n",
       "      <td>2018/1/9</td>\n",
       "      <td>《今天的广州塔为什么看不到雪？》 本次寒潮横扫广东，粤北多地下雪和冰冻，于是大家就盼望着近6...</td>\n",
       "      <td>粉丝互动</td>\n",
       "    </tr>\n",
       "    <tr>\n",
       "      <th>6539</th>\n",
       "      <td>2018/1/9</td>\n",
       "      <td>【七天天气预报-终于可以晾干衣服了】 #天气话你知# 昨天到今天，我们大咩咩城那是冷雨铺面，...</td>\n",
       "      <td>粉丝互动</td>\n",
       "    </tr>\n",
       "    <tr>\n",
       "      <th>6540</th>\n",
       "      <td>2018/1/9</td>\n",
       "      <td>几个小编都按规矩转了，每次抽奖都转，然而从来都没有小编中过[摊手]就是这么公平[二哈]//@...</td>\n",
       "      <td>粉丝互动</td>\n",
       "    </tr>\n",
       "    <tr>\n",
       "      <th>6541</th>\n",
       "      <td>2018/1/9</td>\n",
       "      <td>恭喜@Ferry178-OH 等25名用户获得【乖乖云声光控小夜灯】, @小婕婕醬oO 等2...</td>\n",
       "      <td>粉丝互动</td>\n",
       "    </tr>\n",
       "    <tr>\n",
       "      <th>3402</th>\n",
       "      <td>2017/8/15</td>\n",
       "      <td>#随手拍广州# 街头巷尾都是生活[心][心]</td>\n",
       "      <td>粉丝互动</td>\n",
       "    </tr>\n",
       "    <tr>\n",
       "      <th>3403</th>\n",
       "      <td>2017/8/15</td>\n",
       "      <td>#随手拍广州# [爱你]</td>\n",
       "      <td>粉丝互动</td>\n",
       "    </tr>\n",
       "    <tr>\n",
       "      <th>3404</th>\n",
       "      <td>2017/8/15</td>\n",
       "      <td>#随手拍广州# 夏天傍晚的广州[心]</td>\n",
       "      <td>粉丝互动</td>\n",
       "    </tr>\n",
       "    <tr>\n",
       "      <th>3405</th>\n",
       "      <td>2017/8/16</td>\n",
       "      <td>#随手拍广州# 美丽朝霞[心][心]</td>\n",
       "      <td>粉丝互动</td>\n",
       "    </tr>\n",
       "    <tr>\n",
       "      <th>3406</th>\n",
       "      <td>2017/8/16</td>\n",
       "      <td>#随手拍广州# 早起的人儿有美景看[小黄人坏笑]。美丽的早晨，预计上下班时段大广州没雨，安心...</td>\n",
       "      <td>粉丝互动</td>\n",
       "    </tr>\n",
       "    <tr>\n",
       "      <th>3409</th>\n",
       "      <td>2017/8/16</td>\n",
       "      <td>【早安，广州】#随手拍广州#有吃货粉丝说，今天的云像是撕开的面包丝[笑cry]。云霞如此美腻...</td>\n",
       "      <td>粉丝互动</td>\n",
       "    </tr>\n",
       "    <tr>\n",
       "      <th>3410</th>\n",
       "      <td>2017/8/16</td>\n",
       "      <td>#小编8天气# 副高减退，久违的雷雨又在海上现身，午后广州发生雷雨的可能性很高哦。晒被子的，...</td>\n",
       "      <td>粉丝互动</td>\n",
       "    </tr>\n",
       "    <tr>\n",
       "      <th>3411</th>\n",
       "      <td>2017/8/16</td>\n",
       "      <td>早[doge]天热多喝水[doge]</td>\n",
       "      <td>粉丝互动</td>\n",
       "    </tr>\n",
       "    <tr>\n",
       "      <th>3412</th>\n",
       "      <td>2017/8/16</td>\n",
       "      <td>#小编8天气# 降雨回波自南向北，从海上越发加强逼近广州了[doge]。泥萌都是聪明粉儿，快...</td>\n",
       "      <td>粉丝互动</td>\n",
       "    </tr>\n",
       "    <tr>\n",
       "      <th>3414</th>\n",
       "      <td>2017/8/16</td>\n",
       "      <td>#小编8天气# 受局地雷雨影响，热辣烤鸡腿的根部已褪色。雷雨会继续北推影响市区，黄埔南部也有...</td>\n",
       "      <td>粉丝互动</td>\n",
       "    </tr>\n",
       "    <tr>\n",
       "      <th>3417</th>\n",
       "      <td>2017/8/16</td>\n",
       "      <td>#小编8天气# 南沙榄核附近局地雷雨生成，番禺的小伙伴也要注意哦~</td>\n",
       "      <td>粉丝互动</td>\n",
       "    </tr>\n",
       "    <tr>\n",
       "      <th>3418</th>\n",
       "      <td>2017/8/16</td>\n",
       "      <td>#随手拍广州#午后局地雷雨还没来，先送大家两张超美的图片[憧憬]。感谢两位拍摄者，见水印</td>\n",
       "      <td>粉丝互动</td>\n",
       "    </tr>\n",
       "    <tr>\n",
       "      <th>3419</th>\n",
       "      <td>2017/8/16</td>\n",
       "      <td>[允悲]</td>\n",
       "      <td>粉丝互动</td>\n",
       "    </tr>\n",
       "    <tr>\n",
       "      <th>3420</th>\n",
       "      <td>2017/8/16</td>\n",
       "      <td>#小编8天气# 影响市区的局地雷雨已经过去，大家不用等了[允悲]。小谷围和长洲的童鞋们有被淋...</td>\n",
       "      <td>粉丝互动</td>\n",
       "    </tr>\n",
       "    <tr>\n",
       "      <th>3424</th>\n",
       "      <td>2017/8/16</td>\n",
       "      <td>【七天天气预报—副高魔王很任性】受西伸加强的副高边缘影响，明日仍有局地雷雨打扰，有幸被“局”...</td>\n",
       "      <td>粉丝互动</td>\n",
       "    </tr>\n",
       "    <tr>\n",
       "      <th>3425</th>\n",
       "      <td>2017/8/16</td>\n",
       "      <td>美呆了[憧憬]。泥萌说代表了啥？</td>\n",
       "      <td>粉丝互动</td>\n",
       "    </tr>\n",
       "    <tr>\n",
       "      <th>3430</th>\n",
       "      <td>2017/8/16</td>\n",
       "      <td>#小编8天气# 花都的局地雷雨很强哦，正值下班高峰期，小伙伴们注意防御哈，雷电、大风、强降水...</td>\n",
       "      <td>粉丝互动</td>\n",
       "    </tr>\n",
       "    <tr>\n",
       "      <th>3431</th>\n",
       "      <td>2017/8/16</td>\n",
       "      <td>#随手拍广州# 有一种爱，叫做你若安好，便是晴天[嘻嘻]。今天的午后雷雨，没有给大家造成什么...</td>\n",
       "      <td>粉丝互动</td>\n",
       "    </tr>\n",
       "    <tr>\n",
       "      <th>3433</th>\n",
       "      <td>2017/8/16</td>\n",
       "      <td>【晚安，广州】#随手拍广州#  明日天气仍旧晴好，大家上下班路上，不妨细心留意天上美景[憧憬...</td>\n",
       "      <td>粉丝互动</td>\n",
       "    </tr>\n",
       "    <tr>\n",
       "      <th>3434</th>\n",
       "      <td>2017/8/16</td>\n",
       "      <td>#小编8天气# 看下过雨的花都，才26℃左右，再看看小编这里[允悲]。只能安慰一句，还好没停...</td>\n",
       "      <td>粉丝互动</td>\n",
       "    </tr>\n",
       "    <tr>\n",
       "      <th>3437</th>\n",
       "      <td>2017/8/17</td>\n",
       "      <td>【早安，广州】虽美，但热[doge]。by@杨建荣win</td>\n",
       "      <td>粉丝互动</td>\n",
       "    </tr>\n",
       "    <tr>\n",
       "      <th>3438</th>\n",
       "      <td>2017/8/17</td>\n",
       "      <td>#小编8天气# 蓝天白云，阳光直射，身体会感觉更加炎热。今天体感温度可达41.4℃[衰]</td>\n",
       "      <td>粉丝互动</td>\n",
       "    </tr>\n",
       "    <tr>\n",
       "      <th>3439</th>\n",
       "      <td>2017/8/17</td>\n",
       "      <td>#小编8天气# 局地雷雨出现在中山了，并正向北移动[笑而不语]。上午晾晒起的被子，不妨先收起...</td>\n",
       "      <td>粉丝互动</td>\n",
       "    </tr>\n",
       "  </tbody>\n",
       "</table>\n",
       "<p>4560 rows × 3 columns</p>\n",
       "</div>"
      ],
      "text/plain": [
       "       statdate                                               text  所属分类\n",
       "id                                                                      \n",
       "3644  2017/8/23                      #13号台风天鸽#  地铁4号线地面高架段恢复运营服务 ,  粉丝互动\n",
       "3660  2017/8/23                 #13号台风天鸽# #随手拍广州# 应该是散发着仙气的小蛮腰@广州塔  粉丝互动\n",
       "3661  2017/8/23              #13号台风天鸽# #随手拍广州# 从延时摄影回顾一下今天这只鸽子[憧憬]  粉丝互动\n",
       "3662  2017/8/23                    #小编8天气# 目前有一小块回波从番禺靠近市区，小伙伴们注意啦  粉丝互动\n",
       "3666  2017/8/24                            #天气话你知# 降水回波靠近海珠啦[并不简单]  粉丝互动\n",
       "3667  2017/8/24    #天气话你知# 目前降水回波主要集中在南沙和番禺，以及增城从化交界，黄埔也有一点点[并不简单]  粉丝互动\n",
       "3668  2017/8/24            #天气话你知# 降水回波擦到荔湾啦，而增城的回波也移向黄埔和从化了[并不简单]  粉丝互动\n",
       "3709  2017/8/25  #小编精分日常#胖“天鸽”飞走，“帕卡”鱼游来。??\\n小编A：台风来之前都好热，登陆了下雨...  粉丝互动\n",
       "3588  2017/8/22                            #13号台风天鸽# 加密会商ING[微笑]……  粉丝互动\n",
       "3596  2017/8/23  #13号台风天鸽# #小编8天气# 旋转跳跃，“天鸽”目前还闭着眼……不过可以看到它西南侧的...  粉丝互动\n",
       "3598  2017/8/23  【实况播报】#天气话你知#外面的风呼呼的，外围云系甩上来，增城、番禺、南沙有雨，预计早上班期...  粉丝互动\n",
       "3601  2017/8/23  【实况播报】#13号台风天鸽##天气话你知# 南沙最大阵风达到8级了，预计今日风力仍会继续加...  粉丝互动\n",
       "3610  2017/8/23  【早安，广州】#天气话你知# #13号台风天鸽#天鸽已加强为强台风级，距离登陆越发靠近，南部...  粉丝互动\n",
       "3619  2017/8/23  #天气话你知# #13号台风天鸽# 【要去海边的同志注意了！】8月23日10时，风暴潮叠加天...  粉丝互动\n",
       "3620  2017/8/23              #13号台风天鸽# #天气话你知# 南沙风雨实况，在外的筒子还好么[允悲]  粉丝互动\n",
       "3628  2017/8/23  大家注意了！#13号台风天鸽#广州地铁的最新消息：【四号线新造~黄村短线运行】受高架段停运影...  粉丝互动\n",
       "3676  2017/8/24               #小编8天气# 小编这里被局部啦 http://t.cn/RCpzapD  粉丝互动\n",
       "3679  2017/8/24  【早安，广州】#小编8天气# “天鸽”虽然远去，偏南气流还要作怪，一大清早任性地甩上来一波雷...  粉丝互动\n",
       "3681  2017/8/24                                #随手拍广州#阴阳分野，雨后蓝天[污]  粉丝互动\n",
       "3684  2017/8/24       #随手拍广州# 好大的太阳[汗]。后续还会有阵雨影响，时晴时雨，带伞防偷袭哦[笑而不语]  粉丝互动\n",
       "3686  2017/8/24  #小编8天气# 市区降水已经基本结束，不过南边还有雷雨云团不断北上，天气不稳定，今天都是雨-...  粉丝互动\n",
       "3687  2017/8/24                      #随手拍广州#树：在哪里被刮倒，就在哪里趴着不起来[二哈]  粉丝互动\n",
       "3689  2017/8/24                         #随手拍广州# 蓝天白云，热死狗[二哈]。作者见水印  粉丝互动\n",
       "3690  2017/8/24                                 #小编8科普#先转了再说[doge]  粉丝互动\n",
       "3691  2017/8/24  http://t.cn/h91BSI【七天天气预报—降水日趋明显】“天鸽”总算远去，雷雨又将...  粉丝互动\n",
       "3692  2017/8/24  #小编8天气# 海上代有台风出，一代新台换旧台[允悲]。13号台风刚刚远去，太平洋上又有新扰...  粉丝互动\n",
       "3695  2017/8/24            #小编8天气# 荔湾、白云、花都的小伙伴注意，泥萌的下班雨，到货了[doge]  粉丝互动\n",
       "3697  2017/8/24  #小编8天气# 喏，你们要的准14号台风宝宝[doge]。小编只希望它半路夭折，别来祸害广东...  粉丝互动\n",
       "3698  2017/8/24               #小编8天气# 增城，从化的雨下了挺长时间了[汗]。那边的小伙伴还好吗？  粉丝互动\n",
       "3559  2017/8/22                     #小编8天气# 被局部的和没被局部的，请自行感受[微笑]……  粉丝互动\n",
       "...         ...                                                ...   ...\n",
       "6534   2018/1/9       #小编8天气#天气那么冷，后山的喵子居然出来了，为了撸猫，小编冻得鼻涕直流~~~[允悲]  粉丝互动\n",
       "6536   2018/1/9  从评论上看，泥萌是真的不想要小编手写的祝福语明信片[允悲]//@广州天气: #天气福利#话说...  粉丝互动\n",
       "6537   2018/1/9  #天气话你知#气温就像一条蛇，终于抬头了~~周杰伦《蜗牛-周杰伦》 http://t.cn/...  粉丝互动\n",
       "6538   2018/1/9  《今天的广州塔为什么看不到雪？》 本次寒潮横扫广东，粤北多地下雪和冰冻，于是大家就盼望着近6...  粉丝互动\n",
       "6539   2018/1/9  【七天天气预报-终于可以晾干衣服了】 #天气话你知# 昨天到今天，我们大咩咩城那是冷雨铺面，...  粉丝互动\n",
       "6540   2018/1/9  几个小编都按规矩转了，每次抽奖都转，然而从来都没有小编中过[摊手]就是这么公平[二哈]//@...  粉丝互动\n",
       "6541   2018/1/9  恭喜@Ferry178-OH 等25名用户获得【乖乖云声光控小夜灯】, @小婕婕醬oO 等2...  粉丝互动\n",
       "3402  2017/8/15                             #随手拍广州# 街头巷尾都是生活[心][心]  粉丝互动\n",
       "3403  2017/8/15                                       #随手拍广州# [爱你]  粉丝互动\n",
       "3404  2017/8/15                                 #随手拍广州# 夏天傍晚的广州[心]  粉丝互动\n",
       "3405  2017/8/16                                 #随手拍广州# 美丽朝霞[心][心]  粉丝互动\n",
       "3406  2017/8/16  #随手拍广州# 早起的人儿有美景看[小黄人坏笑]。美丽的早晨，预计上下班时段大广州没雨，安心...  粉丝互动\n",
       "3409  2017/8/16  【早安，广州】#随手拍广州#有吃货粉丝说，今天的云像是撕开的面包丝[笑cry]。云霞如此美腻...  粉丝互动\n",
       "3410  2017/8/16  #小编8天气# 副高减退，久违的雷雨又在海上现身，午后广州发生雷雨的可能性很高哦。晒被子的，...  粉丝互动\n",
       "3411  2017/8/16                                 早[doge]天热多喝水[doge]  粉丝互动\n",
       "3412  2017/8/16  #小编8天气# 降雨回波自南向北，从海上越发加强逼近广州了[doge]。泥萌都是聪明粉儿，快...  粉丝互动\n",
       "3414  2017/8/16  #小编8天气# 受局地雷雨影响，热辣烤鸡腿的根部已褪色。雷雨会继续北推影响市区，黄埔南部也有...  粉丝互动\n",
       "3417  2017/8/16                  #小编8天气# 南沙榄核附近局地雷雨生成，番禺的小伙伴也要注意哦~  粉丝互动\n",
       "3418  2017/8/16       #随手拍广州#午后局地雷雨还没来，先送大家两张超美的图片[憧憬]。感谢两位拍摄者，见水印  粉丝互动\n",
       "3419  2017/8/16                                               [允悲]  粉丝互动\n",
       "3420  2017/8/16  #小编8天气# 影响市区的局地雷雨已经过去，大家不用等了[允悲]。小谷围和长洲的童鞋们有被淋...  粉丝互动\n",
       "3424  2017/8/16  【七天天气预报—副高魔王很任性】受西伸加强的副高边缘影响，明日仍有局地雷雨打扰，有幸被“局”...  粉丝互动\n",
       "3425  2017/8/16                                   美呆了[憧憬]。泥萌说代表了啥？  粉丝互动\n",
       "3430  2017/8/16  #小编8天气# 花都的局地雷雨很强哦，正值下班高峰期，小伙伴们注意防御哈，雷电、大风、强降水...  粉丝互动\n",
       "3431  2017/8/16  #随手拍广州# 有一种爱，叫做你若安好，便是晴天[嘻嘻]。今天的午后雷雨，没有给大家造成什么...  粉丝互动\n",
       "3433  2017/8/16  【晚安，广州】#随手拍广州#  明日天气仍旧晴好，大家上下班路上，不妨细心留意天上美景[憧憬...  粉丝互动\n",
       "3434  2017/8/16  #小编8天气# 看下过雨的花都，才26℃左右，再看看小编这里[允悲]。只能安慰一句，还好没停...  粉丝互动\n",
       "3437  2017/8/17                       【早安，广州】虽美，但热[doge]。by@杨建荣win  粉丝互动\n",
       "3438  2017/8/17       #小编8天气# 蓝天白云，阳光直射，身体会感觉更加炎热。今天体感温度可达41.4℃[衰]  粉丝互动\n",
       "3439  2017/8/17  #小编8天气# 局地雷雨出现在中山了，并正向北移动[笑而不语]。上午晾晒起的被子，不妨先收起...  粉丝互动\n",
       "\n",
       "[4560 rows x 3 columns]"
      ]
     },
     "execution_count": 50,
     "metadata": {},
     "output_type": "execute_result"
    }
   ],
   "source": [
    "fshd = result.loc[result.所属分类 == '粉丝互动', :]\n",
    "fshd"
   ]
  },
  {
   "cell_type": "code",
   "execution_count": 51,
   "metadata": {},
   "outputs": [],
   "source": [
    "X = fshd.loc[:, ['text']]"
   ]
  },
  {
   "cell_type": "code",
   "execution_count": 52,
   "metadata": {},
   "outputs": [
    {
     "data": {
      "text/plain": [
       "(4560, 1)"
      ]
     },
     "execution_count": 52,
     "metadata": {},
     "output_type": "execute_result"
    }
   ],
   "source": [
    "X.shape"
   ]
  },
  {
   "cell_type": "code",
   "execution_count": 53,
   "metadata": {},
   "outputs": [
    {
     "data": {
      "text/html": [
       "<div>\n",
       "<style scoped>\n",
       "    .dataframe tbody tr th:only-of-type {\n",
       "        vertical-align: middle;\n",
       "    }\n",
       "\n",
       "    .dataframe tbody tr th {\n",
       "        vertical-align: top;\n",
       "    }\n",
       "\n",
       "    .dataframe thead th {\n",
       "        text-align: right;\n",
       "    }\n",
       "</style>\n",
       "<table border=\"1\" class=\"dataframe\">\n",
       "  <thead>\n",
       "    <tr style=\"text-align: right;\">\n",
       "      <th></th>\n",
       "      <th>text</th>\n",
       "    </tr>\n",
       "    <tr>\n",
       "      <th>id</th>\n",
       "      <th></th>\n",
       "    </tr>\n",
       "  </thead>\n",
       "  <tbody>\n",
       "    <tr>\n",
       "      <th>3644</th>\n",
       "      <td>#13号台风天鸽#  地铁4号线地面高架段恢复运营服务 ,</td>\n",
       "    </tr>\n",
       "    <tr>\n",
       "      <th>3660</th>\n",
       "      <td>#13号台风天鸽# #随手拍广州# 应该是散发着仙气的小蛮腰@广州塔</td>\n",
       "    </tr>\n",
       "    <tr>\n",
       "      <th>3661</th>\n",
       "      <td>#13号台风天鸽# #随手拍广州# 从延时摄影回顾一下今天这只鸽子[憧憬]</td>\n",
       "    </tr>\n",
       "    <tr>\n",
       "      <th>3662</th>\n",
       "      <td>#小编8天气# 目前有一小块回波从番禺靠近市区，小伙伴们注意啦</td>\n",
       "    </tr>\n",
       "    <tr>\n",
       "      <th>3666</th>\n",
       "      <td>#天气话你知# 降水回波靠近海珠啦[并不简单]</td>\n",
       "    </tr>\n",
       "  </tbody>\n",
       "</table>\n",
       "</div>"
      ],
      "text/plain": [
       "                                       text\n",
       "id                                         \n",
       "3644          #13号台风天鸽#  地铁4号线地面高架段恢复运营服务 ,\n",
       "3660     #13号台风天鸽# #随手拍广州# 应该是散发着仙气的小蛮腰@广州塔\n",
       "3661  #13号台风天鸽# #随手拍广州# 从延时摄影回顾一下今天这只鸽子[憧憬]\n",
       "3662        #小编8天气# 目前有一小块回波从番禺靠近市区，小伙伴们注意啦\n",
       "3666                #天气话你知# 降水回波靠近海珠啦[并不简单]"
      ]
     },
     "execution_count": 53,
     "metadata": {},
     "output_type": "execute_result"
    }
   ],
   "source": [
    "X.head()"
   ]
  },
  {
   "cell_type": "code",
   "execution_count": 54,
   "metadata": {},
   "outputs": [
    {
     "data": {
      "text/plain": [
       "text    object\n",
       "dtype: object"
      ]
     },
     "execution_count": 54,
     "metadata": {},
     "output_type": "execute_result"
    }
   ],
   "source": [
    "X.dtypes"
   ]
  },
  {
   "cell_type": "code",
   "execution_count": 55,
   "metadata": {},
   "outputs": [
    {
     "data": {
      "text/plain": [
       "count        4560\n",
       "unique       4532\n",
       "top       #随手拍广州#\n",
       "freq           14\n",
       "Name: text, dtype: object"
      ]
     },
     "execution_count": 55,
     "metadata": {},
     "output_type": "execute_result"
    }
   ],
   "source": [
    "X.text.describe()"
   ]
  },
  {
   "cell_type": "code",
   "execution_count": 56,
   "metadata": {},
   "outputs": [],
   "source": [
    "import jieba"
   ]
  },
  {
   "cell_type": "code",
   "execution_count": 57,
   "metadata": {},
   "outputs": [],
   "source": [
    "def chinese_word_cut(mytext):\n",
    "    return ' '.join(jieba.cut(mytext))"
   ]
  },
  {
   "cell_type": "code",
   "execution_count": 58,
   "metadata": {},
   "outputs": [],
   "source": [
    "jieba.load_userdict(\"userdict_weibo.txt\")"
   ]
  },
  {
   "cell_type": "code",
   "execution_count": 59,
   "metadata": {},
   "outputs": [
    {
     "name": "stdout",
     "output_type": "stream",
     "text": [
      "Wall time: 2.04 s\n"
     ]
    }
   ],
   "source": [
    "%%time\n",
    "X['cutted_text'] = X.text.apply(chinese_word_cut)"
   ]
  },
  {
   "cell_type": "code",
   "execution_count": 60,
   "metadata": {},
   "outputs": [
    {
     "data": {
      "text/html": [
       "<div>\n",
       "<style scoped>\n",
       "    .dataframe tbody tr th:only-of-type {\n",
       "        vertical-align: middle;\n",
       "    }\n",
       "\n",
       "    .dataframe tbody tr th {\n",
       "        vertical-align: top;\n",
       "    }\n",
       "\n",
       "    .dataframe thead th {\n",
       "        text-align: right;\n",
       "    }\n",
       "</style>\n",
       "<table border=\"1\" class=\"dataframe\">\n",
       "  <thead>\n",
       "    <tr style=\"text-align: right;\">\n",
       "      <th></th>\n",
       "      <th>text</th>\n",
       "      <th>cutted_text</th>\n",
       "    </tr>\n",
       "    <tr>\n",
       "      <th>id</th>\n",
       "      <th></th>\n",
       "      <th></th>\n",
       "    </tr>\n",
       "  </thead>\n",
       "  <tbody>\n",
       "    <tr>\n",
       "      <th>3644</th>\n",
       "      <td>#13号台风天鸽#  地铁4号线地面高架段恢复运营服务 ,</td>\n",
       "      <td># 13号台风天鸽 #     地铁 4 号线 地面 高架 段 恢复 运营 服务   ,</td>\n",
       "    </tr>\n",
       "    <tr>\n",
       "      <th>3660</th>\n",
       "      <td>#13号台风天鸽# #随手拍广州# 应该是散发着仙气的小蛮腰@广州塔</td>\n",
       "      <td># 13号台风天鸽 #   # 随手拍广州 #   应该 是 散发 着 仙气 的 小蛮 腰 ...</td>\n",
       "    </tr>\n",
       "    <tr>\n",
       "      <th>3661</th>\n",
       "      <td>#13号台风天鸽# #随手拍广州# 从延时摄影回顾一下今天这只鸽子[憧憬]</td>\n",
       "      <td># 13号台风天鸽 #   # 随手拍广州 #   从 延时 摄影 回顾 一下 今天 这 只...</td>\n",
       "    </tr>\n",
       "    <tr>\n",
       "      <th>3662</th>\n",
       "      <td>#小编8天气# 目前有一小块回波从番禺靠近市区，小伙伴们注意啦</td>\n",
       "      <td># 小编8天气 #   目前 有 一小块 回波 从 番禺 靠近 市区 ， 小伙伴 们 注意 啦</td>\n",
       "    </tr>\n",
       "    <tr>\n",
       "      <th>3666</th>\n",
       "      <td>#天气话你知# 降水回波靠近海珠啦[并不简单]</td>\n",
       "      <td># 天气话你知 #   降水 回波 靠近 海珠 啦 [ 并 不 简单 ]</td>\n",
       "    </tr>\n",
       "  </tbody>\n",
       "</table>\n",
       "</div>"
      ],
      "text/plain": [
       "                                       text  \\\n",
       "id                                            \n",
       "3644          #13号台风天鸽#  地铁4号线地面高架段恢复运营服务 ,   \n",
       "3660     #13号台风天鸽# #随手拍广州# 应该是散发着仙气的小蛮腰@广州塔   \n",
       "3661  #13号台风天鸽# #随手拍广州# 从延时摄影回顾一下今天这只鸽子[憧憬]   \n",
       "3662        #小编8天气# 目前有一小块回波从番禺靠近市区，小伙伴们注意啦   \n",
       "3666                #天气话你知# 降水回波靠近海珠啦[并不简单]   \n",
       "\n",
       "                                            cutted_text  \n",
       "id                                                       \n",
       "3644       # 13号台风天鸽 #     地铁 4 号线 地面 高架 段 恢复 运营 服务   ,  \n",
       "3660  # 13号台风天鸽 #   # 随手拍广州 #   应该 是 散发 着 仙气 的 小蛮 腰 ...  \n",
       "3661  # 13号台风天鸽 #   # 随手拍广州 #   从 延时 摄影 回顾 一下 今天 这 只...  \n",
       "3662    # 小编8天气 #   目前 有 一小块 回波 从 番禺 靠近 市区 ， 小伙伴 们 注意 啦  \n",
       "3666               # 天气话你知 #   降水 回波 靠近 海珠 啦 [ 并 不 简单 ]  "
      ]
     },
     "execution_count": 60,
     "metadata": {},
     "output_type": "execute_result"
    }
   ],
   "source": [
    "X.head()"
   ]
  },
  {
   "cell_type": "code",
   "execution_count": 61,
   "metadata": {},
   "outputs": [
    {
     "data": {
      "text/plain": [
       "(4560, 2)"
      ]
     },
     "execution_count": 61,
     "metadata": {},
     "output_type": "execute_result"
    }
   ],
   "source": [
    "X.shape"
   ]
  },
  {
   "cell_type": "code",
   "execution_count": 62,
   "metadata": {},
   "outputs": [],
   "source": [
    "def get_custom_stopwords(stop_words_file):\n",
    "    with open(stop_words_file, encoding='utf-8') as f:\n",
    "        stopwords = f.read( )\n",
    "    stopwords_list = stopwords.split('\\n')\n",
    "    custom_stopwords_list = [i for i in stopwords_list]\n",
    "    return custom_stopwords_list"
   ]
  },
  {
   "cell_type": "code",
   "execution_count": 63,
   "metadata": {},
   "outputs": [],
   "source": [
    "stop_words_file = 'mystopwords.txt'\n",
    "stopwords = get_custom_stopwords(stop_words_file)"
   ]
  },
  {
   "cell_type": "code",
   "execution_count": 64,
   "metadata": {},
   "outputs": [
    {
     "data": {
      "text/plain": [
       "['没错', '缓慢', '增加', '务必', '较强', '辐射', '时段', '雷雨', '', '']"
      ]
     },
     "execution_count": 64,
     "metadata": {},
     "output_type": "execute_result"
    }
   ],
   "source": [
    "stopwords[-10:]"
   ]
  },
  {
   "cell_type": "code",
   "execution_count": 65,
   "metadata": {},
   "outputs": [],
   "source": [
    "from sklearn.feature_extraction.text import CountVectorizer"
   ]
  },
  {
   "cell_type": "code",
   "execution_count": 66,
   "metadata": {},
   "outputs": [],
   "source": [
    "vect = CountVectorizer()"
   ]
  },
  {
   "cell_type": "code",
   "execution_count": 67,
   "metadata": {},
   "outputs": [],
   "source": [
    "term_matrix = pd.DataFrame(vect.fit_transform(X.cutted_text).toarray(), columns=vect.get_feature_names())"
   ]
  },
  {
   "cell_type": "code",
   "execution_count": 68,
   "metadata": {},
   "outputs": [
    {
     "data": {
      "text/html": [
       "<div>\n",
       "<style scoped>\n",
       "    .dataframe tbody tr th:only-of-type {\n",
       "        vertical-align: middle;\n",
       "    }\n",
       "\n",
       "    .dataframe tbody tr th {\n",
       "        vertical-align: top;\n",
       "    }\n",
       "\n",
       "    .dataframe thead th {\n",
       "        text-align: right;\n",
       "    }\n",
       "</style>\n",
       "<table border=\"1\" class=\"dataframe\">\n",
       "  <thead>\n",
       "    <tr style=\"text-align: right;\">\n",
       "      <th></th>\n",
       "      <th>00</th>\n",
       "      <th>0125</th>\n",
       "      <th>02</th>\n",
       "      <th>03</th>\n",
       "      <th>062</th>\n",
       "      <th>07</th>\n",
       "      <th>08</th>\n",
       "      <th>0818</th>\n",
       "      <th>09</th>\n",
       "      <th>0929</th>\n",
       "      <th>...</th>\n",
       "      <th>齐心</th>\n",
       "      <th>齐飞</th>\n",
       "      <th>龐爺</th>\n",
       "      <th>龙卷</th>\n",
       "      <th>龙岩</th>\n",
       "      <th>龙江</th>\n",
       "      <th>龙胜</th>\n",
       "      <th>龙舟</th>\n",
       "      <th>龙虾</th>\n",
       "      <th>龟速</th>\n",
       "    </tr>\n",
       "  </thead>\n",
       "  <tbody>\n",
       "    <tr>\n",
       "      <th>0</th>\n",
       "      <td>0</td>\n",
       "      <td>0</td>\n",
       "      <td>0</td>\n",
       "      <td>0</td>\n",
       "      <td>0</td>\n",
       "      <td>0</td>\n",
       "      <td>0</td>\n",
       "      <td>0</td>\n",
       "      <td>0</td>\n",
       "      <td>0</td>\n",
       "      <td>...</td>\n",
       "      <td>0</td>\n",
       "      <td>0</td>\n",
       "      <td>0</td>\n",
       "      <td>0</td>\n",
       "      <td>0</td>\n",
       "      <td>0</td>\n",
       "      <td>0</td>\n",
       "      <td>0</td>\n",
       "      <td>0</td>\n",
       "      <td>0</td>\n",
       "    </tr>\n",
       "    <tr>\n",
       "      <th>1</th>\n",
       "      <td>0</td>\n",
       "      <td>0</td>\n",
       "      <td>0</td>\n",
       "      <td>0</td>\n",
       "      <td>0</td>\n",
       "      <td>0</td>\n",
       "      <td>0</td>\n",
       "      <td>0</td>\n",
       "      <td>0</td>\n",
       "      <td>0</td>\n",
       "      <td>...</td>\n",
       "      <td>0</td>\n",
       "      <td>0</td>\n",
       "      <td>0</td>\n",
       "      <td>0</td>\n",
       "      <td>0</td>\n",
       "      <td>0</td>\n",
       "      <td>0</td>\n",
       "      <td>0</td>\n",
       "      <td>0</td>\n",
       "      <td>0</td>\n",
       "    </tr>\n",
       "    <tr>\n",
       "      <th>2</th>\n",
       "      <td>0</td>\n",
       "      <td>0</td>\n",
       "      <td>0</td>\n",
       "      <td>0</td>\n",
       "      <td>0</td>\n",
       "      <td>0</td>\n",
       "      <td>0</td>\n",
       "      <td>0</td>\n",
       "      <td>0</td>\n",
       "      <td>0</td>\n",
       "      <td>...</td>\n",
       "      <td>0</td>\n",
       "      <td>0</td>\n",
       "      <td>0</td>\n",
       "      <td>0</td>\n",
       "      <td>0</td>\n",
       "      <td>0</td>\n",
       "      <td>0</td>\n",
       "      <td>0</td>\n",
       "      <td>0</td>\n",
       "      <td>0</td>\n",
       "    </tr>\n",
       "    <tr>\n",
       "      <th>3</th>\n",
       "      <td>0</td>\n",
       "      <td>0</td>\n",
       "      <td>0</td>\n",
       "      <td>0</td>\n",
       "      <td>0</td>\n",
       "      <td>0</td>\n",
       "      <td>0</td>\n",
       "      <td>0</td>\n",
       "      <td>0</td>\n",
       "      <td>0</td>\n",
       "      <td>...</td>\n",
       "      <td>0</td>\n",
       "      <td>0</td>\n",
       "      <td>0</td>\n",
       "      <td>0</td>\n",
       "      <td>0</td>\n",
       "      <td>0</td>\n",
       "      <td>0</td>\n",
       "      <td>0</td>\n",
       "      <td>0</td>\n",
       "      <td>0</td>\n",
       "    </tr>\n",
       "    <tr>\n",
       "      <th>4</th>\n",
       "      <td>0</td>\n",
       "      <td>0</td>\n",
       "      <td>0</td>\n",
       "      <td>0</td>\n",
       "      <td>0</td>\n",
       "      <td>0</td>\n",
       "      <td>0</td>\n",
       "      <td>0</td>\n",
       "      <td>0</td>\n",
       "      <td>0</td>\n",
       "      <td>...</td>\n",
       "      <td>0</td>\n",
       "      <td>0</td>\n",
       "      <td>0</td>\n",
       "      <td>0</td>\n",
       "      <td>0</td>\n",
       "      <td>0</td>\n",
       "      <td>0</td>\n",
       "      <td>0</td>\n",
       "      <td>0</td>\n",
       "      <td>0</td>\n",
       "    </tr>\n",
       "  </tbody>\n",
       "</table>\n",
       "<p>5 rows × 10825 columns</p>\n",
       "</div>"
      ],
      "text/plain": [
       "   00  0125  02  03  062  07  08  0818  09  0929 ...  齐心  齐飞  龐爺  龙卷  龙岩  龙江  \\\n",
       "0   0     0   0   0    0   0   0     0   0     0 ...   0   0   0   0   0   0   \n",
       "1   0     0   0   0    0   0   0     0   0     0 ...   0   0   0   0   0   0   \n",
       "2   0     0   0   0    0   0   0     0   0     0 ...   0   0   0   0   0   0   \n",
       "3   0     0   0   0    0   0   0     0   0     0 ...   0   0   0   0   0   0   \n",
       "4   0     0   0   0    0   0   0     0   0     0 ...   0   0   0   0   0   0   \n",
       "\n",
       "   龙胜  龙舟  龙虾  龟速  \n",
       "0   0   0   0   0  \n",
       "1   0   0   0   0  \n",
       "2   0   0   0   0  \n",
       "3   0   0   0   0  \n",
       "4   0   0   0   0  \n",
       "\n",
       "[5 rows x 10825 columns]"
      ]
     },
     "execution_count": 68,
     "metadata": {},
     "output_type": "execute_result"
    }
   ],
   "source": [
    "term_matrix.head()"
   ]
  },
  {
   "cell_type": "code",
   "execution_count": 69,
   "metadata": {},
   "outputs": [
    {
     "data": {
      "text/plain": [
       "(4560, 10825)"
      ]
     },
     "execution_count": 69,
     "metadata": {},
     "output_type": "execute_result"
    }
   ],
   "source": [
    "term_matrix.shape"
   ]
  },
  {
   "cell_type": "code",
   "execution_count": 70,
   "metadata": {},
   "outputs": [],
   "source": [
    "vect = CountVectorizer(stop_words=frozenset(stopwords)) #加上停用词去除功能"
   ]
  },
  {
   "cell_type": "code",
   "execution_count": 71,
   "metadata": {},
   "outputs": [],
   "source": [
    "term_matrix = pd.DataFrame(vect.fit_transform(X.cutted_text).toarray(), columns=vect.get_feature_names())"
   ]
  },
  {
   "cell_type": "code",
   "execution_count": 72,
   "metadata": {},
   "outputs": [
    {
     "data": {
      "text/html": [
       "<div>\n",
       "<style scoped>\n",
       "    .dataframe tbody tr th:only-of-type {\n",
       "        vertical-align: middle;\n",
       "    }\n",
       "\n",
       "    .dataframe tbody tr th {\n",
       "        vertical-align: top;\n",
       "    }\n",
       "\n",
       "    .dataframe thead th {\n",
       "        text-align: right;\n",
       "    }\n",
       "</style>\n",
       "<table border=\"1\" class=\"dataframe\">\n",
       "  <thead>\n",
       "    <tr style=\"text-align: right;\">\n",
       "      <th></th>\n",
       "      <th>00</th>\n",
       "      <th>0125</th>\n",
       "      <th>02</th>\n",
       "      <th>03</th>\n",
       "      <th>062</th>\n",
       "      <th>07</th>\n",
       "      <th>08</th>\n",
       "      <th>0818</th>\n",
       "      <th>09</th>\n",
       "      <th>0929</th>\n",
       "      <th>...</th>\n",
       "      <th>齐心</th>\n",
       "      <th>齐飞</th>\n",
       "      <th>龐爺</th>\n",
       "      <th>龙卷</th>\n",
       "      <th>龙岩</th>\n",
       "      <th>龙江</th>\n",
       "      <th>龙胜</th>\n",
       "      <th>龙舟</th>\n",
       "      <th>龙虾</th>\n",
       "      <th>龟速</th>\n",
       "    </tr>\n",
       "  </thead>\n",
       "  <tbody>\n",
       "    <tr>\n",
       "      <th>0</th>\n",
       "      <td>0</td>\n",
       "      <td>0</td>\n",
       "      <td>0</td>\n",
       "      <td>0</td>\n",
       "      <td>0</td>\n",
       "      <td>0</td>\n",
       "      <td>0</td>\n",
       "      <td>0</td>\n",
       "      <td>0</td>\n",
       "      <td>0</td>\n",
       "      <td>...</td>\n",
       "      <td>0</td>\n",
       "      <td>0</td>\n",
       "      <td>0</td>\n",
       "      <td>0</td>\n",
       "      <td>0</td>\n",
       "      <td>0</td>\n",
       "      <td>0</td>\n",
       "      <td>0</td>\n",
       "      <td>0</td>\n",
       "      <td>0</td>\n",
       "    </tr>\n",
       "    <tr>\n",
       "      <th>1</th>\n",
       "      <td>0</td>\n",
       "      <td>0</td>\n",
       "      <td>0</td>\n",
       "      <td>0</td>\n",
       "      <td>0</td>\n",
       "      <td>0</td>\n",
       "      <td>0</td>\n",
       "      <td>0</td>\n",
       "      <td>0</td>\n",
       "      <td>0</td>\n",
       "      <td>...</td>\n",
       "      <td>0</td>\n",
       "      <td>0</td>\n",
       "      <td>0</td>\n",
       "      <td>0</td>\n",
       "      <td>0</td>\n",
       "      <td>0</td>\n",
       "      <td>0</td>\n",
       "      <td>0</td>\n",
       "      <td>0</td>\n",
       "      <td>0</td>\n",
       "    </tr>\n",
       "    <tr>\n",
       "      <th>2</th>\n",
       "      <td>0</td>\n",
       "      <td>0</td>\n",
       "      <td>0</td>\n",
       "      <td>0</td>\n",
       "      <td>0</td>\n",
       "      <td>0</td>\n",
       "      <td>0</td>\n",
       "      <td>0</td>\n",
       "      <td>0</td>\n",
       "      <td>0</td>\n",
       "      <td>...</td>\n",
       "      <td>0</td>\n",
       "      <td>0</td>\n",
       "      <td>0</td>\n",
       "      <td>0</td>\n",
       "      <td>0</td>\n",
       "      <td>0</td>\n",
       "      <td>0</td>\n",
       "      <td>0</td>\n",
       "      <td>0</td>\n",
       "      <td>0</td>\n",
       "    </tr>\n",
       "    <tr>\n",
       "      <th>3</th>\n",
       "      <td>0</td>\n",
       "      <td>0</td>\n",
       "      <td>0</td>\n",
       "      <td>0</td>\n",
       "      <td>0</td>\n",
       "      <td>0</td>\n",
       "      <td>0</td>\n",
       "      <td>0</td>\n",
       "      <td>0</td>\n",
       "      <td>0</td>\n",
       "      <td>...</td>\n",
       "      <td>0</td>\n",
       "      <td>0</td>\n",
       "      <td>0</td>\n",
       "      <td>0</td>\n",
       "      <td>0</td>\n",
       "      <td>0</td>\n",
       "      <td>0</td>\n",
       "      <td>0</td>\n",
       "      <td>0</td>\n",
       "      <td>0</td>\n",
       "    </tr>\n",
       "    <tr>\n",
       "      <th>4</th>\n",
       "      <td>0</td>\n",
       "      <td>0</td>\n",
       "      <td>0</td>\n",
       "      <td>0</td>\n",
       "      <td>0</td>\n",
       "      <td>0</td>\n",
       "      <td>0</td>\n",
       "      <td>0</td>\n",
       "      <td>0</td>\n",
       "      <td>0</td>\n",
       "      <td>...</td>\n",
       "      <td>0</td>\n",
       "      <td>0</td>\n",
       "      <td>0</td>\n",
       "      <td>0</td>\n",
       "      <td>0</td>\n",
       "      <td>0</td>\n",
       "      <td>0</td>\n",
       "      <td>0</td>\n",
       "      <td>0</td>\n",
       "      <td>0</td>\n",
       "    </tr>\n",
       "  </tbody>\n",
       "</table>\n",
       "<p>5 rows × 10069 columns</p>\n",
       "</div>"
      ],
      "text/plain": [
       "   00  0125  02  03  062  07  08  0818  09  0929 ...  齐心  齐飞  龐爺  龙卷  龙岩  龙江  \\\n",
       "0   0     0   0   0    0   0   0     0   0     0 ...   0   0   0   0   0   0   \n",
       "1   0     0   0   0    0   0   0     0   0     0 ...   0   0   0   0   0   0   \n",
       "2   0     0   0   0    0   0   0     0   0     0 ...   0   0   0   0   0   0   \n",
       "3   0     0   0   0    0   0   0     0   0     0 ...   0   0   0   0   0   0   \n",
       "4   0     0   0   0    0   0   0     0   0     0 ...   0   0   0   0   0   0   \n",
       "\n",
       "   龙胜  龙舟  龙虾  龟速  \n",
       "0   0   0   0   0  \n",
       "1   0   0   0   0  \n",
       "2   0   0   0   0  \n",
       "3   0   0   0   0  \n",
       "4   0   0   0   0  \n",
       "\n",
       "[5 rows x 10069 columns]"
      ]
     },
     "execution_count": 72,
     "metadata": {},
     "output_type": "execute_result"
    }
   ],
   "source": [
    "term_matrix.head()"
   ]
  },
  {
   "cell_type": "code",
   "execution_count": 73,
   "metadata": {},
   "outputs": [],
   "source": [
    "max_df = 0.8 # 在超过这一比例的文档中出现的关键词（过于平凡），去除掉。\n",
    "min_df = 3 # 在地狱这一数量的文档中出现的关键词（过于独特），去除掉。"
   ]
  },
  {
   "cell_type": "code",
   "execution_count": 74,
   "metadata": {},
   "outputs": [],
   "source": [
    "vect = CountVectorizer(max_df=max_df,\n",
    "                      min_df=min_df,\n",
    "                      token_pattern=u'(?u)\\\\b[^\\\\d\\\\W]\\\\w+\\\\b',\n",
    "                      stop_words=frozenset(stopwords))"
   ]
  },
  {
   "cell_type": "code",
   "execution_count": 75,
   "metadata": {},
   "outputs": [
    {
     "name": "stderr",
     "output_type": "stream",
     "text": [
      "D:\\Anaconda3\\lib\\site-packages\\_pytest\\fixtures.py:844: DeprecationWarning: The `convert` argument is deprecated in favor of `converter`.  It will be removed after 2019/01.\n",
      "  params = attr.ib(convert=attr.converters.optional(tuple))\n",
      "D:\\Anaconda3\\lib\\site-packages\\_pytest\\fixtures.py:846: DeprecationWarning: The `convert` argument is deprecated in favor of `converter`.  It will be removed after 2019/01.\n",
      "  ids = attr.ib(default=None, convert=_ensure_immutable_ids)\n"
     ]
    },
    {
     "ename": "MemoryError",
     "evalue": "",
     "output_type": "error",
     "traceback": [
      "\u001b[1;31m---------------------------------------------------------------------------\u001b[0m",
      "\u001b[1;31mMemoryError\u001b[0m                               Traceback (most recent call last)",
      "\u001b[1;32m<ipython-input-75-864db606c6c5>\u001b[0m in \u001b[0;36m<module>\u001b[1;34m()\u001b[0m\n\u001b[1;32m----> 1\u001b[1;33m \u001b[0mterm_matrix\u001b[0m \u001b[1;33m=\u001b[0m \u001b[0mpd\u001b[0m\u001b[1;33m.\u001b[0m\u001b[0mDataFrame\u001b[0m\u001b[1;33m(\u001b[0m\u001b[0mvect\u001b[0m\u001b[1;33m.\u001b[0m\u001b[0mfit_transform\u001b[0m\u001b[1;33m(\u001b[0m\u001b[0mX\u001b[0m\u001b[1;33m.\u001b[0m\u001b[0mcutted_text\u001b[0m\u001b[1;33m)\u001b[0m\u001b[1;33m.\u001b[0m\u001b[0mtoarray\u001b[0m\u001b[1;33m(\u001b[0m\u001b[1;33m)\u001b[0m\u001b[1;33m,\u001b[0m \u001b[0mcolumns\u001b[0m\u001b[1;33m=\u001b[0m\u001b[0mvect\u001b[0m\u001b[1;33m.\u001b[0m\u001b[0mget_feature_names\u001b[0m\u001b[1;33m(\u001b[0m\u001b[1;33m)\u001b[0m\u001b[1;33m)\u001b[0m\u001b[1;33m\u001b[0m\u001b[0m\n\u001b[0m",
      "\u001b[1;32mD:\\Anaconda3\\lib\\site-packages\\scipy\\sparse\\compressed.py\u001b[0m in \u001b[0;36mtoarray\u001b[1;34m(self, order, out)\u001b[0m\n\u001b[0;32m    941\u001b[0m         \u001b[1;32mif\u001b[0m \u001b[0mout\u001b[0m \u001b[1;32mis\u001b[0m \u001b[1;32mNone\u001b[0m \u001b[1;32mand\u001b[0m \u001b[0morder\u001b[0m \u001b[1;32mis\u001b[0m \u001b[1;32mNone\u001b[0m\u001b[1;33m:\u001b[0m\u001b[1;33m\u001b[0m\u001b[0m\n\u001b[0;32m    942\u001b[0m             \u001b[0morder\u001b[0m \u001b[1;33m=\u001b[0m \u001b[0mself\u001b[0m\u001b[1;33m.\u001b[0m\u001b[0m_swap\u001b[0m\u001b[1;33m(\u001b[0m\u001b[1;34m'cf'\u001b[0m\u001b[1;33m)\u001b[0m\u001b[1;33m[\u001b[0m\u001b[1;36m0\u001b[0m\u001b[1;33m]\u001b[0m\u001b[1;33m\u001b[0m\u001b[0m\n\u001b[1;32m--> 943\u001b[1;33m         \u001b[0mout\u001b[0m \u001b[1;33m=\u001b[0m \u001b[0mself\u001b[0m\u001b[1;33m.\u001b[0m\u001b[0m_process_toarray_args\u001b[0m\u001b[1;33m(\u001b[0m\u001b[0morder\u001b[0m\u001b[1;33m,\u001b[0m \u001b[0mout\u001b[0m\u001b[1;33m)\u001b[0m\u001b[1;33m\u001b[0m\u001b[0m\n\u001b[0m\u001b[0;32m    944\u001b[0m         \u001b[1;32mif\u001b[0m \u001b[1;32mnot\u001b[0m \u001b[1;33m(\u001b[0m\u001b[0mout\u001b[0m\u001b[1;33m.\u001b[0m\u001b[0mflags\u001b[0m\u001b[1;33m.\u001b[0m\u001b[0mc_contiguous\u001b[0m \u001b[1;32mor\u001b[0m \u001b[0mout\u001b[0m\u001b[1;33m.\u001b[0m\u001b[0mflags\u001b[0m\u001b[1;33m.\u001b[0m\u001b[0mf_contiguous\u001b[0m\u001b[1;33m)\u001b[0m\u001b[1;33m:\u001b[0m\u001b[1;33m\u001b[0m\u001b[0m\n\u001b[0;32m    945\u001b[0m             \u001b[1;32mraise\u001b[0m \u001b[0mValueError\u001b[0m\u001b[1;33m(\u001b[0m\u001b[1;34m'Output array must be C or F contiguous'\u001b[0m\u001b[1;33m)\u001b[0m\u001b[1;33m\u001b[0m\u001b[0m\n",
      "\u001b[1;32mD:\\Anaconda3\\lib\\site-packages\\scipy\\sparse\\base.py\u001b[0m in \u001b[0;36m_process_toarray_args\u001b[1;34m(self, order, out)\u001b[0m\n\u001b[0;32m   1128\u001b[0m             \u001b[1;32mreturn\u001b[0m \u001b[0mout\u001b[0m\u001b[1;33m\u001b[0m\u001b[0m\n\u001b[0;32m   1129\u001b[0m         \u001b[1;32melse\u001b[0m\u001b[1;33m:\u001b[0m\u001b[1;33m\u001b[0m\u001b[0m\n\u001b[1;32m-> 1130\u001b[1;33m             \u001b[1;32mreturn\u001b[0m \u001b[0mnp\u001b[0m\u001b[1;33m.\u001b[0m\u001b[0mzeros\u001b[0m\u001b[1;33m(\u001b[0m\u001b[0mself\u001b[0m\u001b[1;33m.\u001b[0m\u001b[0mshape\u001b[0m\u001b[1;33m,\u001b[0m \u001b[0mdtype\u001b[0m\u001b[1;33m=\u001b[0m\u001b[0mself\u001b[0m\u001b[1;33m.\u001b[0m\u001b[0mdtype\u001b[0m\u001b[1;33m,\u001b[0m \u001b[0morder\u001b[0m\u001b[1;33m=\u001b[0m\u001b[0morder\u001b[0m\u001b[1;33m)\u001b[0m\u001b[1;33m\u001b[0m\u001b[0m\n\u001b[0m\u001b[0;32m   1131\u001b[0m \u001b[1;33m\u001b[0m\u001b[0m\n\u001b[0;32m   1132\u001b[0m     \u001b[1;32mdef\u001b[0m \u001b[0m__numpy_ufunc__\u001b[0m\u001b[1;33m(\u001b[0m\u001b[0mself\u001b[0m\u001b[1;33m,\u001b[0m \u001b[0mfunc\u001b[0m\u001b[1;33m,\u001b[0m \u001b[0mmethod\u001b[0m\u001b[1;33m,\u001b[0m \u001b[0mpos\u001b[0m\u001b[1;33m,\u001b[0m \u001b[0minputs\u001b[0m\u001b[1;33m,\u001b[0m \u001b[1;33m**\u001b[0m\u001b[0mkwargs\u001b[0m\u001b[1;33m)\u001b[0m\u001b[1;33m:\u001b[0m\u001b[1;33m\u001b[0m\u001b[0m\n",
      "\u001b[1;31mMemoryError\u001b[0m: "
     ]
    }
   ],
   "source": [
    "term_matrix = pd.DataFrame(vect.fit_transform(X.cutted_text).toarray(), columns=vect.get_feature_names())"
   ]
  },
  {
   "cell_type": "code",
   "execution_count": null,
   "metadata": {},
   "outputs": [],
   "source": [
    "term_matrix.head()"
   ]
  },
  {
   "cell_type": "code",
   "execution_count": null,
   "metadata": {},
   "outputs": [],
   "source": [
    "n_features = 1000"
   ]
  },
  {
   "cell_type": "code",
   "execution_count": null,
   "metadata": {},
   "outputs": [],
   "source": [
    "tf_vectorizer = CountVectorizer(max_features=n_features,\n",
    "                               max_df=max_df,\n",
    "                               min_df=min_df,\n",
    "                               token_pattern=u'(?u)\\\\b[^\\\\d\\\\W]\\\\w+\\\\b',\n",
    "                               stop_words=frozenset(stopwords))"
   ]
  },
  {
   "cell_type": "code",
   "execution_count": null,
   "metadata": {},
   "outputs": [],
   "source": [
    "term_matrix = pd.DataFrame(tf_vectorizer.fit_transform(X.cutted_text).toarray(), columns=tf_vectorizer.get_feature_names())"
   ]
  },
  {
   "cell_type": "code",
   "execution_count": null,
   "metadata": {},
   "outputs": [],
   "source": [
    "term_matrix.head()"
   ]
  },
  {
   "cell_type": "code",
   "execution_count": null,
   "metadata": {},
   "outputs": [],
   "source": [
    "term_matrix.shape"
   ]
  },
  {
   "cell_type": "code",
   "execution_count": 36,
   "metadata": {},
   "outputs": [],
   "source": [
    "tf = tf_vectorizer.fit_transform(X.cutted_text)"
   ]
  },
  {
   "cell_type": "code",
   "execution_count": 37,
   "metadata": {},
   "outputs": [],
   "source": [
    "from sklearn.decomposition import LatentDirichletAllocation"
   ]
  },
  {
   "cell_type": "code",
   "execution_count": 38,
   "metadata": {},
   "outputs": [],
   "source": [
    "n_topics = 5\n",
    "lda = LatentDirichletAllocation(n_topics=n_topics,\n",
    "                               max_iter=50,\n",
    "                               learning_method='online',\n",
    "                               learning_offset=50.,\n",
    "                               random_state=0)"
   ]
  },
  {
   "cell_type": "code",
   "execution_count": 39,
   "metadata": {},
   "outputs": [
    {
     "name": "stderr",
     "output_type": "stream",
     "text": [
      "D:\\Anaconda3\\lib\\site-packages\\sklearn\\decomposition\\online_lda.py:294: DeprecationWarning: n_topics has been renamed to n_components in version 0.19 and will be removed in 0.21\n",
      "  DeprecationWarning)\n"
     ]
    },
    {
     "name": "stdout",
     "output_type": "stream",
     "text": [
      "Wall time: 48.8 s\n"
     ]
    },
    {
     "data": {
      "text/plain": [
       "LatentDirichletAllocation(batch_size=128, doc_topic_prior=None,\n",
       "             evaluate_every=-1, learning_decay=0.7,\n",
       "             learning_method='online', learning_offset=50.0,\n",
       "             max_doc_update_iter=100, max_iter=50, mean_change_tol=0.001,\n",
       "             n_components=10, n_jobs=1, n_topics=5, perp_tol=0.1,\n",
       "             random_state=0, topic_word_prior=None,\n",
       "             total_samples=1000000.0, verbose=0)"
      ]
     },
     "execution_count": 39,
     "metadata": {},
     "output_type": "execute_result"
    }
   ],
   "source": [
    "%%time\n",
    "lda.fit(tf)"
   ]
  },
  {
   "cell_type": "code",
   "execution_count": 40,
   "metadata": {},
   "outputs": [],
   "source": [
    "def print_top_words(model, feature_names, n_top_words):\n",
    "    for topic_idx, topic in enumerate(model.components_):\n",
    "        print('Topic #%d:' % topic_idx)\n",
    "        print(' '.join([feature_names[i]\n",
    "                      for i in topic.argsort()[:-n_top_words -1:-1]]))\n",
    "    print()"
   ]
  },
  {
   "cell_type": "code",
   "execution_count": 41,
   "metadata": {},
   "outputs": [],
   "source": [
    "n_top_words = 20"
   ]
  },
  {
   "cell_type": "code",
   "execution_count": 42,
   "metadata": {},
   "outputs": [
    {
     "name": "stdout",
     "output_type": "stream",
     "text": [
      "Topic #0:\n",
      "不语 太阳 小编8天气 气象 生病 鼓掌 抽奖 秒拍 视频 微博 r2wjcgp 阳光 小可爱 天气君撸猫日常 转发 奖品 doge 春节 一片 加油\n",
      "Topic #1:\n",
      "天气话你知 天气预报 冷空气 七天 早安 简单 小编8天气 摊手 几天 阳光 早晚 不语 出门 最高 温度 防晒 比较 高温 二哈 记得\n",
      "Topic #2:\n",
      "天气话你知 小编8天气 微笑 降水 广州春运天气 出门 晚上 小伙伴 南沙 预警 市区 简单 广东 记得 上班 中国 交通安全 带伞 注意安全 留意\n",
      "Topic #3:\n",
      "随手拍广州 二哈 小编8天气 小编 泥萌 doge 吃瓜 摊手 天气话你知 外套 可爱 阳光 鸡腿 允悲 长袖 短袖 开心 cry 早安 喜欢\n",
      "Topic #4:\n",
      "小编8天气 小编 憧憬 晚安 允悲 doge 简单 回波 首席 月亮 小伙伴 摊手 降水 下雨 二哈 局地 r2wjcgp 白云 cry 阴险\n",
      "\n"
     ]
    }
   ],
   "source": [
    "tf_feature_names = tf_vectorizer.get_feature_names()\n",
    "print_top_words(lda, tf_feature_names, n_top_words)"
   ]
  },
  {
   "cell_type": "code",
   "execution_count": 43,
   "metadata": {},
   "outputs": [
    {
     "name": "stderr",
     "output_type": "stream",
     "text": [
      "D:\\Anaconda3\\lib\\site-packages\\pyLDAvis\\_prepare.py:387: DeprecationWarning: \n",
      ".ix is deprecated. Please use\n",
      ".loc for label based indexing or\n",
      ".iloc for positional indexing\n",
      "\n",
      "See the documentation here:\n",
      "http://pandas.pydata.org/pandas-docs/stable/indexing.html#ix-indexer-is-deprecated\n",
      "  topic_term_dists = topic_term_dists.ix[topic_order]\n"
     ]
    },
    {
     "data": {
      "text/html": [
       "\n",
       "<link rel=\"stylesheet\" type=\"text/css\" href=\"https://cdn.rawgit.com/bmabey/pyLDAvis/files/ldavis.v1.0.0.css\">\n",
       "\n",
       "\n",
       "<div id=\"ldavis_el634410077813722168593190120\"></div>\n",
       "<script type=\"text/javascript\">\n",
       "\n",
       "var ldavis_el634410077813722168593190120_data = {\"mdsDat\": {\"Freq\": [32.04454501961838, 21.179928834168226, 18.40151539827221, 16.651929452785865, 11.72208129515531], \"cluster\": [1, 1, 1, 1, 1], \"topics\": [1, 2, 3, 4, 5], \"x\": [-0.08800568484524965, -0.06447548772107926, -0.045439690045533165, -0.16622182742134126, 0.3641426900332035], \"y\": [-0.035263761861262934, 0.0807887270306803, 0.2744956244300772, -0.2472104207684195, -0.07281016883107495]}, \"tinfo\": {\"Category\": [\"Default\", \"Default\", \"Default\", \"Default\", \"Default\", \"Default\", \"Default\", \"Default\", \"Default\", \"Default\", \"Default\", \"Default\", \"Default\", \"Default\", \"Default\", \"Default\", \"Default\", \"Default\", \"Default\", \"Default\", \"Default\", \"Default\", \"Default\", \"Default\", \"Default\", \"Default\", \"Default\", \"Default\", \"Default\", \"Default\", \"Topic1\", \"Topic1\", \"Topic1\", \"Topic1\", \"Topic1\", \"Topic1\", \"Topic1\", \"Topic1\", \"Topic1\", \"Topic1\", \"Topic1\", \"Topic1\", \"Topic1\", \"Topic1\", \"Topic1\", \"Topic1\", \"Topic1\", \"Topic1\", \"Topic1\", \"Topic1\", \"Topic1\", \"Topic1\", \"Topic1\", \"Topic1\", \"Topic1\", \"Topic1\", \"Topic1\", \"Topic1\", \"Topic1\", \"Topic1\", \"Topic1\", \"Topic1\", \"Topic1\", \"Topic1\", \"Topic1\", \"Topic1\", \"Topic1\", \"Topic1\", \"Topic1\", \"Topic1\", \"Topic1\", \"Topic1\", \"Topic1\", \"Topic1\", \"Topic1\", \"Topic1\", \"Topic1\", \"Topic1\", \"Topic1\", \"Topic1\", \"Topic1\", \"Topic2\", \"Topic2\", \"Topic2\", \"Topic2\", \"Topic2\", \"Topic2\", \"Topic2\", \"Topic2\", \"Topic2\", \"Topic2\", \"Topic2\", \"Topic2\", \"Topic2\", \"Topic2\", \"Topic2\", \"Topic2\", \"Topic2\", \"Topic2\", \"Topic2\", \"Topic2\", \"Topic2\", \"Topic2\", \"Topic2\", \"Topic2\", \"Topic2\", \"Topic2\", \"Topic2\", \"Topic2\", \"Topic2\", \"Topic2\", \"Topic2\", \"Topic2\", \"Topic2\", \"Topic2\", \"Topic2\", \"Topic2\", \"Topic2\", \"Topic2\", \"Topic2\", \"Topic2\", \"Topic2\", \"Topic2\", \"Topic2\", \"Topic2\", \"Topic2\", \"Topic2\", \"Topic2\", \"Topic2\", \"Topic2\", \"Topic2\", \"Topic3\", \"Topic3\", \"Topic3\", \"Topic3\", \"Topic3\", \"Topic3\", \"Topic3\", \"Topic3\", \"Topic3\", \"Topic3\", \"Topic3\", \"Topic3\", \"Topic3\", \"Topic3\", \"Topic3\", \"Topic3\", \"Topic3\", \"Topic3\", \"Topic3\", \"Topic3\", \"Topic3\", \"Topic3\", \"Topic3\", \"Topic3\", \"Topic3\", \"Topic3\", \"Topic3\", \"Topic3\", \"Topic3\", \"Topic3\", \"Topic3\", \"Topic3\", \"Topic3\", \"Topic3\", \"Topic3\", \"Topic3\", \"Topic3\", \"Topic3\", \"Topic3\", \"Topic3\", \"Topic3\", \"Topic3\", \"Topic3\", \"Topic3\", \"Topic3\", \"Topic3\", \"Topic3\", \"Topic3\", \"Topic3\", \"Topic3\", \"Topic3\", \"Topic3\", \"Topic3\", \"Topic3\", \"Topic4\", \"Topic4\", \"Topic4\", \"Topic4\", \"Topic4\", \"Topic4\", \"Topic4\", \"Topic4\", \"Topic4\", \"Topic4\", \"Topic4\", \"Topic4\", \"Topic4\", \"Topic4\", \"Topic4\", \"Topic4\", \"Topic4\", \"Topic4\", \"Topic4\", \"Topic4\", \"Topic4\", \"Topic4\", \"Topic4\", \"Topic4\", \"Topic4\", \"Topic4\", \"Topic4\", \"Topic4\", \"Topic4\", \"Topic4\", \"Topic4\", \"Topic4\", \"Topic4\", \"Topic4\", \"Topic4\", \"Topic4\", \"Topic4\", \"Topic4\", \"Topic4\", \"Topic4\", \"Topic4\", \"Topic4\", \"Topic4\", \"Topic4\", \"Topic4\", \"Topic4\", \"Topic4\", \"Topic4\", \"Topic5\", \"Topic5\", \"Topic5\", \"Topic5\", \"Topic5\", \"Topic5\", \"Topic5\", \"Topic5\", \"Topic5\", \"Topic5\", \"Topic5\", \"Topic5\", \"Topic5\", \"Topic5\", \"Topic5\", \"Topic5\", \"Topic5\", \"Topic5\", \"Topic5\", \"Topic5\", \"Topic5\", \"Topic5\", \"Topic5\", \"Topic5\", \"Topic5\", \"Topic5\", \"Topic5\", \"Topic5\", \"Topic5\", \"Topic5\", \"Topic5\", \"Topic5\", \"Topic5\", \"Topic5\", \"Topic5\", \"Topic5\", \"Topic5\", \"Topic5\", \"Topic5\"], \"Freq\": [792.0, 741.0, 694.0, 366.0, 532.0, 294.0, 972.0, 211.0, 328.0, 317.0, 307.0, 218.0, 404.0, 198.0, 161.0, 1216.0, 222.0, 292.0, 152.0, 502.0, 176.0, 211.0, 292.0, 147.0, 101.0, 277.0, 92.0, 290.0, 560.0, 266.0, 327.7674922109215, 316.35181894244744, 306.3479867014147, 130.70851398888038, 120.13980286507375, 109.36074921768395, 97.3186025501121, 87.42123330797072, 84.55019247370257, 80.29041677775412, 62.72182852918443, 61.49517206065329, 60.878530854556644, 58.89030807963824, 57.66392539531762, 56.39506043728112, 55.82080320543426, 55.00440276402196, 53.86767382780448, 47.76788271397779, 45.7081338509356, 44.91852726831402, 44.65787053073184, 40.610000450263364, 40.258593639630135, 39.54471293781058, 32.751696512526344, 35.0629479433718, 33.029538776830734, 31.14397482767302, 85.8842639814153, 94.75938863642419, 230.351144397564, 88.79190466139077, 589.75340055389, 88.48268022273675, 87.46594291472503, 99.1447496681557, 95.14720944926653, 75.6664609221026, 192.205862873529, 127.18269331366031, 142.67496794352803, 111.88105640807467, 164.45241533936803, 90.33138767626063, 115.49440179365666, 91.51815249884423, 73.63807359710619, 82.0248994863596, 74.14778474850877, 365.7108990860886, 293.7974359983322, 217.52850807708302, 197.6719871752969, 151.98620126699953, 65.96800230704932, 55.81178098666042, 52.212563432546766, 50.45327585104218, 49.164918058411956, 38.04742113825469, 35.145994718251266, 31.45239182238482, 30.074249156973444, 29.767925600211132, 19.877684032313663, 18.934171179732264, 18.70961216125671, 18.68290821733265, 18.432118673739467, 18.17328794776448, 17.984811877258846, 16.97634630486782, 16.794776813798492, 16.412786883457322, 15.982882991167726, 15.06776572093006, 25.888959553017177, 14.476178809686767, 39.84423825129896, 67.21886524082973, 513.6653281602834, 286.06566394880286, 90.93719028840843, 549.0106279447795, 76.23052714156894, 236.09044078058932, 252.73930543715562, 52.39856688966747, 72.63931194317551, 59.37912479635742, 128.49187207462802, 29.385933150003606, 105.65709927770526, 125.90549624472756, 66.11051494286559, 58.288181160797976, 42.66477447346086, 80.09128354211832, 40.295100603648514, 791.8433036750484, 100.6350878000922, 74.46743190066243, 56.89701976036892, 55.220604748031484, 44.21532092530172, 34.997638140755924, 32.06673452458293, 31.10465223997329, 30.1197429857813, 26.7173271543217, 26.618992441278813, 26.4730024037319, 25.14298790696061, 24.40605449420561, 23.389806816932126, 23.46017091165862, 23.02777490086609, 22.04262292191238, 21.583796561275722, 19.662134463795464, 19.353305511188946, 18.79535568230976, 17.095730084113548, 16.691700395018543, 16.127242626817804, 16.013951987916457, 16.004262127383175, 15.870809315125715, 15.93144811807292, 92.98900334103939, 71.80554262543401, 53.75310190277105, 118.31658229889116, 360.3694929861116, 162.34542550964605, 39.27841050594022, 135.9507508192552, 44.56912838698615, 69.6535989823167, 46.89870554982918, 159.32466736729603, 130.44464895979252, 180.47270449752892, 93.25917750925395, 69.00649837507093, 196.1507299482216, 35.11639294197716, 121.80642646074507, 75.27421493899512, 61.68306946407692, 38.44812411914708, 47.294865971732456, 40.18536556406851, 160.27914831680908, 91.42683558432124, 78.82437437105025, 70.8104590503164, 67.34977877100779, 64.06137853982248, 62.98060040746407, 59.798613268811884, 56.522372880601814, 50.45353032801342, 46.46728633093587, 45.59852553576393, 43.547054294391586, 43.51329678767281, 41.86617183758033, 41.076815224786245, 33.7875548347518, 29.67175954040753, 29.468457779446084, 28.540046091680697, 27.579315430379616, 26.745189680512265, 23.760182036405645, 23.044510643932323, 22.936455146088804, 22.79670425791731, 22.130157330112638, 21.03039108479065, 21.084782454273938, 19.941979800696114, 22.60740209456765, 67.30614316842016, 39.802604036996506, 121.56332853822447, 50.47046700664537, 85.35436836270428, 69.39400498055302, 155.17809713558387, 66.65247774381328, 117.77235005070084, 260.58203128336874, 76.40973627571591, 61.41630078433135, 87.2173292277703, 169.4315809888927, 70.2845370504228, 74.13124011479013, 42.918553764496856, 64.21100716765893, 59.15960916932172, 59.4525041301739, 54.035751033215206, 53.068007663836, 52.069341578877896, 51.44766983853735, 45.161702480349255, 40.8135637499174, 36.891229272735515, 35.67958845461893, 29.903361012934415, 28.866507615678717, 29.148540705271834, 26.472605438612227, 26.692929349605414, 25.042858153102895, 24.185623217387068, 22.891546869960827, 22.86253566124256, 22.84903881011881, 21.88774060096248, 21.427689139093474, 21.10661802003404, 20.994000481819924, 20.717456027868216, 20.513082329062915, 19.894898735993603, 18.44401768281276, 18.39197573245008, 588.164368391106, 167.71510448874446, 50.659634705881174, 137.75952661914522, 25.58295211893332, 45.26188336747301, 22.538163712243605, 23.891352444830467, 30.10085766943409], \"Term\": [\"\\u968f\\u624b\\u62cd\\u5e7f\\u5dde\", \"\\u4e0d\\u8bed\", \"\\u5c0f\\u7f16\", \"\\u61a7\\u61ac\", \"\\u4e8c\\u54c8\", \"\\u665a\\u5b89\", \"\\u5929\\u6c14\\u8bdd\\u4f60\\u77e5\", \"\\u592a\\u9633\", \"\\u5929\\u6c14\\u9884\\u62a5\", \"\\u51b7\\u7a7a\\u6c14\", \"\\u4e03\\u5929\", \"\\u56de\\u6ce2\", \"\\u5141\\u60b2\", \"\\u9996\\u5e2d\", \"\\u5fae\\u7b11\", \"\\u5c0f\\u7f168\\u5929\\u6c14\", \"\\u6ce5\\u840c\", \"\\u964d\\u6c34\", \"\\u6708\\u4eae\", \"\\u7b80\\u5355\", \"\\u5e7f\\u5dde\\u6625\\u8fd0\\u5929\\u6c14\", \"\\u5403\\u74dc\", \"\\u65e9\\u5b89\", \"\\u5916\\u5957\", \"\\u53ef\\u7231\", \"\\u51fa\\u95e8\", \"\\u665a\\u4e0a\", \"\\u5c0f\\u4f19\\u4f34\", \"doge\", \"\\u9633\\u5149\", \"\\u5929\\u6c14\\u9884\\u62a5\", \"\\u51b7\\u7a7a\\u6c14\", \"\\u4e03\\u5929\", \"\\u51e0\\u5929\", \"\\u65e9\\u665a\", \"\\u6700\\u9ad8\", \"\\u9632\\u6652\", \"\\u5e72\\u71e5\", \"\\u964d\\u6e29\", \"\\u611f\\u5192\", \"\\u4f53\\u611f\", \"\\u591a\\u4e91\", \"\\u4e91\\u91cf\", \"\\u7d2b\\u5916\\u7ebf\", \"\\u8865\\u6c34\", \"\\u4e0b\\u964d\", \"\\u9632\\u6691\", \"\\u4e3a\\u4e3b\", \"\\u96f7\\u8fbe\", \"\\u5f31\\u51b7\\u7a7a\\u6c14\", \"\\u6e05\\u51c9\", \"\\u589e\\u591a\", \"\\u4e00\\u5468\", \"\\u56de\\u5347\", \"\\u6700\\u4f4e\\u6c14\\u6e29\", \"\\u8865\\u5145\", \"\\u8863\\u7269\", \"\\u7a7a\\u6c14\\u8d28\\u91cf\", \"\\u9632\\u5fa1\", \"\\u76f8\\u5bf9\\u6e7f\\u5ea6\", \"\\u4e24\\u5929\", \"\\u9ad8\\u6e29\", \"\\u65e9\\u5b89\", \"\\u4f9d\\u7136\", \"\\u5929\\u6c14\\u8bdd\\u4f60\\u77e5\", \"\\u5468\\u672b\", \"\\u5929\\u6c14\\u5267\\u900f\", \"\\u6e29\\u5ea6\", \"\\u6bd4\\u8f83\", \"\\u5348\\u540e\", \"\\u7b80\\u5355\", \"\\u9633\\u5149\", \"\\u644a\\u624b\", \"\\u51fa\\u95e8\", \"\\u5c0f\\u7f168\\u5929\\u6c14\", \"\\u8bb0\\u5f97\", \"\\u4e0d\\u8bed\", \"\\u4e8c\\u54c8\", \"\\u5403\\u74dc\", \"doge\", \"\\u5c0f\\u4f19\\u4f34\", \"\\u61a7\\u61ac\", \"\\u665a\\u5b89\", \"\\u56de\\u6ce2\", \"\\u9996\\u5e2d\", \"\\u6708\\u4eae\", \"\\u9634\\u9669\", \"\\u7a7a\\u8c03\", \"\\u65e9\\u70b9\", \"\\u79fb\\u52a8\", \"\\u6d77\\u73e0\", \"\\u5c0f\\u7f16\\u7cbe\\u5206\\u65e5\\u5e38\", \"\\u65b9\\u5411\", \"\\u868a\\u5b50\", \"\\u7761\\u89c9\", \"\\u5929\\u6cb3\", \"\\u96f7\\u96e8\\u4e91\", \"\\u4e00\\u5757\", \"\\u591c\\u6df1\", \"\\u8d8a\\u79c0\", \"\\u8354\\u6e7e\", \"\\u5feb\\u4e50\", \"\\u5357\\u8fb9\", \"\\u505c\\u7535\", \"\\u624b\\u673a\", \"\\u4f11\\u606f\", \"\\u4e0a\\u7a7a\", \"\\u4e00\\u5c0f\\u5757\", \"\\u503c\\u73ed\", \"\\u597d\\u7f8e\", \"\\u4e0b\\u73ed\", \"\\u767d\\u4e91\", \"\\u5c0f\\u7f16\", \"\\u5141\\u60b2\", \"\\u4e0b\\u96e8\", \"\\u5c0f\\u7f168\\u5929\\u6c14\", \"\\u5c40\\u5730\", \"\\u7b80\\u5355\", \"doge\", \"\\u770b\\u770b\", \"r2wjcgp\", \"\\u4eca\\u665a\", \"\\u5c0f\\u4f19\\u4f34\", \"\\u770b\\u7740\", \"\\u964d\\u6c34\", \"\\u644a\\u624b\", \"cry\", \"\\u5e02\\u533a\", \"\\u88ab\\u5b50\", \"\\u4e8c\\u54c8\", \"\\u5357\\u6c99\", \"\\u968f\\u624b\\u62cd\\u5e7f\\u5dde\", \"\\u53ef\\u7231\", \"\\u957f\\u8896\", \"\\u559c\\u6b22\", \"\\u5929\\u7a7a\", \"\\u56fe\\u7247\", \"\\u84dd\\u5929\", \"\\u6c34\\u5370\", \"\\u8d4f\\u82b1\", \"\\u4e0b\\u96ea\", \"\\u6625\\u5929\", \"\\u7167\\u7247\", \"\\u8d77\\u5e8a\", \"\\u5730\\u94c1\", \"\\u5165\\u51ac\", \"\\u70e4\\u9e21\", \"\\u9ad8\\u5174\", \"\\u7f8e\\u666f\", \"\\u82b1\\u82b1\", \"\\u6e05\\u8fdc\", \"\\u62cd\\u7167\", \"\\u4f5c\\u8005\", \"\\u5b63\\u8282\", \"\\u7a7f\\u7740\", \"\\u6d6e\\u4e91\", \"\\u7a7f\\u539a\", \"\\u6f02\\u4eae\", \"\\u597d\\u770b\", \"\\u7f8e\\u7f8e\", \"\\u6bdb\\u8863\", \"\\u9e21\\u817f\", \"\\u77ed\\u8896\", \"\\u62dc\\u62dc\", \"\\u5916\\u5957\", \"\\u4e8c\\u54c8\", \"\\u6ce5\\u840c\", \"\\u590f\\u5929\", \"\\u5403\\u74dc\", \"\\u7a7f\\u8863\", \"\\u5f00\\u5fc3\", \"\\u56de\\u590d\", \"doge\", \"\\u644a\\u624b\", \"\\u5c0f\\u7f16\", \"\\u9633\\u5149\", \"cry\", \"\\u5c0f\\u7f168\\u5929\\u6c14\", \"\\u7c89\\u4e1d\", \"\\u5929\\u6c14\\u8bdd\\u4f60\\u77e5\", \"\\u5141\\u60b2\", \"\\u65e9\\u5b89\", \"\\u4e00\\u5929\", \"\\u51fa\\u95e8\", \"\\u4e2d\\u5348\", \"\\u5fae\\u7b11\", \"\\u665a\\u4e0a\", \"\\u9884\\u8b66\", \"\\u5e7f\\u4e1c\", \"\\u4e2d\\u56fd\", \"\\u6ce8\\u610f\\u5b89\\u5168\", \"\\u7559\\u610f\", \"\\u5c0f\\u59d0\\u59d0\", \"\\u8d39\\u89e3\", \"\\u6709\\u96e8\", \"\\u6625\\u8fd0\\u5e7f\\u5dde\", \"\\u5e7f\\u5dde\\u4ea4\\u901a\", \"\\u54e5\\u54e5\", \"\\u66b4\\u96e8\", \"\\u8bdd\\u7b52\", \"\\u5b9e\\u51b5\\u64ad\\u62a5\", \"\\u79ef\\u6c34\", \"\\u4e91\\u7cfb\", \"\\u5404\\u533a\", \"\\u516c\\u5b89\", \"\\u5f3a\\u964d\\u6c34\", \"\\u63d0\\u524d\", \"\\u7ca4\\u897f\", \"\\u8fd4\\u7a0b\", \"\\u6587\\u7ae0\", \"\\u98ce\\u529b\", \"\\u4fe1\\u606f\", \"\\u6e7f\\u6ed1\", \"\\u96e8\\u96fe\", \"\\u5934\\u6761\", \"\\u96f7\\u7535\", \"\\u4ea4\\u901a\\u5b89\\u5168\", \"\\u7a33\\u5b9a\", \"\\u5e7f\\u5dde\\u6625\\u8fd0\\u5929\\u6c14\", \"\\u8def\\u4e0a\", \"\\u5357\\u6c99\", \"\\u4e0a\\u73ed\", \"\\u964d\\u6c34\", \"\\u5e26\\u4f1e\", \"\\u51fa\\u95e8\", \"\\u5929\\u6c14\\u8bdd\\u4f60\\u77e5\", \"\\u5e02\\u533a\", \"\\u96e8\\u6c34\", \"\\u5c0f\\u4f19\\u4f34\", \"\\u5c0f\\u7f168\\u5929\\u6c14\", \"\\u8bb0\\u5f97\", \"\\u7b80\\u5355\", \"\\u9635\\u96e8\", \"\\u6c14\\u8c61\", \"\\u9f13\\u638c\", \"\\u751f\\u75c5\", \"\\u62bd\\u5956\", \"\\u79d2\\u62cd\", \"\\u89c6\\u9891\", \"\\u5fae\\u535a\", \"\\u5c0f\\u53ef\\u7231\", \"\\u5929\\u6c14\\u541b\\u64b8\\u732b\\u65e5\\u5e38\", \"\\u8f6c\\u53d1\", \"\\u5956\\u54c1\", \"\\u6625\\u8282\", \"\\u52a0\\u6cb9\", \"\\u4e00\\u7247\", \"\\u6c14\\u8c61\\u6c6a\\u7684\\u65e5\\u5e38\", \"\\u5317\\u8fb9\", \"\\u83b7\\u5f97\", \"\\u4e0b\\u8f7d\", \"\\u6d17\\u6fa1\", \"\\u998b\\u5634\", \"\\u516c\\u516c\", \"\\u73b0\\u573a\", \"\\u55e8\\u68ee\\u4e00\\u523b\", \"\\u5c0f\\u9ed1\", \"\\u5929\\u6c14\\u798f\\u5229\", \"\\u7ed9\\u529b\", \"\\u4f7f\\u7528\", \"\\u7528\\u6237\", \"\\u5f00\\u5956\", \"\\u7f8e\\u5973\", \"\\u4e0d\\u8bed\", \"\\u592a\\u9633\", \"r2wjcgp\", \"\\u5c0f\\u7f168\\u5929\\u6c14\", \"\\u53ef\\u601c\", \"\\u9633\\u5149\", \"\\u60f3\\u8981\", \"\\u673a\\u4f1a\", \"doge\"], \"Total\": [792.0, 741.0, 694.0, 366.0, 532.0, 294.0, 972.0, 211.0, 328.0, 317.0, 307.0, 218.0, 404.0, 198.0, 161.0, 1216.0, 222.0, 292.0, 152.0, 502.0, 176.0, 211.0, 292.0, 147.0, 101.0, 277.0, 92.0, 290.0, 560.0, 266.0, 328.55637160085314, 317.1447291458699, 307.1351283832065, 131.5069146786782, 120.928950523101, 110.15668111857308, 98.10666172956147, 88.21482529653873, 85.35159228191183, 81.08055171514779, 63.5123077735541, 62.28620384678913, 61.668919563209656, 59.67778615100408, 58.452547745169845, 57.18741354049752, 56.60696829617178, 55.80126909360881, 54.666694363546284, 48.554184221617305, 46.50057731338732, 45.70764065939159, 45.44590240457495, 41.39979574031671, 41.051798970688516, 40.33054378763888, 33.54570468688994, 35.915192890390976, 33.835194670210136, 31.93535332431218, 95.43135944544956, 108.84559842065686, 292.6377202331382, 104.68365335307539, 972.5431429723689, 110.02741324850881, 109.23644833430441, 133.97132446805816, 133.49014688834995, 96.53160805534567, 502.82510469443235, 266.1690242236629, 406.2671729979923, 277.39532614370245, 1216.804880840407, 237.62006281133904, 741.8107916336003, 532.3917758555575, 211.16003844512613, 560.2984856591262, 290.2560776421887, 366.5050196632214, 294.5870411049286, 218.32413562997846, 198.46547140367676, 152.7746597406217, 66.76366899596019, 56.60494338918962, 53.001938140976456, 51.24764740972971, 49.95339521415592, 38.835368395144364, 35.942284356469884, 32.240563235544556, 30.861937048495367, 30.55699354969457, 20.672728330872392, 19.725419831129752, 19.49696600642304, 19.473616267458734, 19.220186951441374, 18.96838094482056, 18.780628027762123, 17.761946875841275, 17.589904290125972, 17.202225946001747, 16.78050544236584, 15.855909665757345, 27.304769033806753, 15.268850292753946, 42.050434354346876, 75.08316693772271, 694.7493457413378, 404.6293292723313, 132.61829784461784, 1216.804880840407, 117.87835552192261, 502.82510469443235, 560.2984856591262, 77.70046333987634, 123.88939708902194, 94.75707842398961, 290.2560776421887, 37.938796664791425, 292.40218658763166, 406.2671729979923, 161.6785891247089, 143.36163424524, 77.65030172556902, 532.3917758555575, 126.2379132514857, 792.648891623801, 101.43000426729134, 75.28714267567138, 57.695742222806025, 56.0173587432022, 45.025504934277954, 35.79355659719059, 32.85712162779198, 31.89697054315664, 30.915759688170514, 27.512772467380607, 27.412563783979998, 27.274405977848506, 25.943505357917477, 25.202111610706766, 24.188747860594603, 24.261960442735568, 23.821070675853708, 22.834222873698682, 22.380402664002464, 20.460823712268752, 20.14466596958357, 19.60153862426435, 17.890963465144768, 17.49586779591324, 16.91988971323968, 16.80752112148053, 16.799438724223467, 16.663172567662976, 16.72778318187757, 101.82131441585288, 78.52548427041923, 59.267936300798034, 147.8445702247637, 532.3917758555575, 222.7966215804681, 47.12213383286952, 211.16003844512613, 55.4711028422519, 99.1237501023666, 76.54524933669396, 560.2984856591262, 406.2671729979923, 694.7493457413378, 266.1690242236629, 161.6785891247089, 1216.804880840407, 49.843715993158895, 972.5431429723689, 404.6293292723313, 292.6377202331382, 87.67880649536919, 277.39532614370245, 114.83371418456899, 161.0684361413202, 92.22466795314895, 79.60511624101792, 71.60072300888633, 68.13290322093715, 64.84738211525963, 63.765030406950224, 60.58399444527882, 57.31502516237011, 51.239007432642026, 47.245684158069, 46.376117774428124, 44.3277557266682, 44.29489414562239, 42.64702772390498, 41.859099567611544, 34.565321464955254, 30.454903006889342, 30.24944957821688, 29.317790562172977, 28.360081049456685, 27.52818007432962, 24.543845468159407, 23.830565364639348, 23.71934207625612, 23.580699350736772, 22.913966460578962, 21.808087637658833, 21.866760453325494, 20.721047001508513, 23.49544586991047, 74.42548331978082, 44.65131709030129, 176.7738960226272, 62.60324815482869, 126.2379132514857, 97.20020001092428, 292.40218658763166, 99.0527331628267, 277.39532614370245, 972.5431429723689, 143.36163424524, 112.1829891548011, 290.2560776421887, 1216.804880840407, 237.62006281133904, 502.82510469443235, 121.13835252653013, 64.9932042201676, 59.93966249442955, 60.23777196057407, 54.81075955271236, 53.842501382734646, 52.846065633585965, 52.22896070461623, 45.94849024067881, 41.589032412146196, 37.67046170461313, 36.45542276164072, 30.689433095431294, 29.64893401642472, 29.940589532657576, 27.250863853416785, 27.484686990838686, 25.818528765847027, 24.95993868455406, 23.671014444313336, 23.64362230149509, 23.632168697493366, 22.67085469850831, 22.20565216569972, 21.88375393604875, 21.769354872705044, 21.502154953516687, 21.29171199492802, 20.670412385526266, 19.21997945069166, 19.17102676738667, 741.8107916336003, 211.51059395440024, 123.88939708902194, 1216.804880840407, 37.69402443141708, 266.1690242236629, 28.117737008381077, 35.43447658622017, 560.2984856591262], \"loglift\": [30.0, 29.0, 28.0, 27.0, 26.0, 25.0, 24.0, 23.0, 22.0, 21.0, 20.0, 19.0, 18.0, 17.0, 16.0, 15.0, 14.0, 13.0, 12.0, 11.0, 10.0, 9.0, 8.0, 7.0, 6.0, 5.0, 4.0, 3.0, 2.0, 1.0, 1.1356, 1.1355, 1.1355, 1.132, 1.1315, 1.1308, 1.13, 1.129, 1.1286, 1.1283, 1.1255, 1.1253, 1.1251, 1.1248, 1.1245, 1.1241, 1.1241, 1.1237, 1.1233, 1.1217, 1.1209, 1.1206, 1.1206, 1.1188, 1.1185, 1.1184, 1.1141, 1.114, 1.1139, 1.113, 1.0326, 0.9995, 0.8987, 0.9734, 0.6378, 0.9201, 0.9158, 0.837, 0.7994, 0.8945, 0.1764, 0.3995, 0.0916, 0.23, -0.8633, 0.1709, -0.7218, -0.6228, 0.0846, -0.7834, -0.2267, 1.5499, 1.5494, 1.5485, 1.5481, 1.5469, 1.5401, 1.538, 1.5371, 1.5365, 1.5362, 1.5316, 1.5297, 1.5274, 1.5263, 1.526, 1.5129, 1.5112, 1.5109, 1.5107, 1.5102, 1.5093, 1.5088, 1.5069, 1.5059, 1.5051, 1.5034, 1.5011, 1.4989, 1.4988, 1.4982, 1.4415, 1.2501, 1.2054, 1.1748, 0.7563, 1.1162, 0.7961, 0.756, 1.1581, 1.0182, 1.0847, 0.7372, 1.2967, 0.5342, 0.3806, 0.6578, 0.6521, 0.9533, -0.3421, 0.4102, 1.6917, 1.6849, 1.6818, 1.6788, 1.6784, 1.6746, 1.6702, 1.6684, 1.6676, 1.6667, 1.6634, 1.6634, 1.6629, 1.6614, 1.6606, 1.6591, 1.6591, 1.6589, 1.6575, 1.6565, 1.6529, 1.6527, 1.6507, 1.6473, 1.6457, 1.6448, 1.6444, 1.6442, 1.644, 1.644, 1.602, 1.6033, 1.5951, 1.4699, 1.3025, 1.3762, 1.5107, 1.2524, 1.4739, 1.3399, 1.2028, 0.4352, 0.5567, 0.3448, 0.644, 0.8413, -0.1324, 1.3425, -0.3847, 0.0109, 0.1358, 0.8684, -0.0763, 0.6428, 1.7877, 1.784, 1.7828, 1.7815, 1.7811, 1.7804, 1.7803, 1.7796, 1.7787, 1.7772, 1.776, 1.7757, 1.7749, 1.7748, 1.7742, 1.7738, 1.7699, 1.7666, 1.7665, 1.7658, 1.7647, 1.7638, 1.7602, 1.7591, 1.7591, 1.7588, 1.7578, 1.7563, 1.7562, 1.7543, 1.7541, 1.6921, 1.6777, 1.4182, 1.5772, 1.4013, 1.4557, 1.1591, 1.3965, 0.936, 0.4756, 1.1634, 1.1902, 0.5903, -0.1789, 0.5745, -0.1218, 0.755, 2.1316, 2.1306, 2.1306, 2.1295, 2.1292, 2.1289, 2.1286, 2.1264, 2.1249, 2.1228, 2.1222, 2.1177, 2.117, 2.1169, 2.1147, 2.1145, 2.1132, 2.1122, 2.1102, 2.1101, 2.11, 2.1085, 2.108, 2.1075, 2.1074, 2.1065, 2.1064, 2.1055, 2.1025, 2.1022, 1.9116, 1.9117, 1.2494, -0.0348, 1.7561, 0.372, 1.9225, 1.7495, -0.7802], \"logprob\": [30.0, 29.0, 28.0, 27.0, 26.0, 25.0, 24.0, 23.0, 22.0, 21.0, 20.0, 19.0, 18.0, 17.0, 16.0, 15.0, 14.0, 13.0, 12.0, 11.0, 10.0, 9.0, 8.0, 7.0, 6.0, 5.0, 4.0, 3.0, 2.0, 1.0, -3.4787, -3.5141, -3.5463, -4.398, -4.4823, -4.5763, -4.693, -4.8003, -4.8337, -4.8853, -5.1323, -5.152, -5.1621, -5.1953, -5.2164, -5.2386, -5.2488, -5.2636, -5.2845, -5.4046, -5.4487, -5.4661, -5.472, -5.567, -5.5757, -5.5936, -5.782, -5.7139, -5.7736, -5.8324, -4.818, -4.7197, -3.8314, -4.7847, -2.8913, -4.7882, -4.7997, -4.6744, -4.7156, -4.9447, -4.0124, -4.4254, -4.3104, -4.5536, -4.1684, -4.7675, -4.5218, -4.7545, -4.9718, -4.864, -4.9649, -2.9551, -3.174, -3.4746, -3.5703, -3.8331, -4.6678, -4.8349, -4.9016, -4.9359, -4.9617, -5.2181, -5.2974, -5.4084, -5.4533, -5.4635, -5.8673, -5.916, -5.9279, -5.9293, -5.9428, -5.957, -5.9674, -6.0251, -6.0359, -6.0589, -6.0854, -6.1444, -5.6031, -6.1844, -5.1719, -4.649, -2.6154, -3.2007, -4.3468, -2.5488, -4.5232, -3.3927, -3.3246, -4.898, -4.5714, -4.773, -4.0011, -5.4764, -4.1967, -4.0214, -4.6656, -4.7915, -5.1035, -4.4738, -5.1607, -2.0419, -4.1048, -4.4059, -4.6751, -4.705, -4.9272, -5.161, -5.2485, -5.2789, -5.3111, -5.431, -5.4347, -5.4402, -5.4917, -5.5215, -5.564, -5.561, -5.5796, -5.6233, -5.6444, -5.7376, -5.7534, -5.7827, -5.8775, -5.9014, -5.9358, -5.9428, -5.9434, -5.9518, -5.948, -4.1838, -4.4423, -4.7319, -3.9429, -2.8292, -3.6266, -5.0456, -3.804, -4.9193, -4.4728, -4.8683, -3.6454, -3.8454, -3.5207, -4.1809, -4.4821, -3.4374, -5.1576, -3.9139, -4.3952, -4.5943, -5.067, -4.8599, -5.0228, -3.5395, -4.1009, -4.2492, -4.3564, -4.4065, -4.4566, -4.4736, -4.5254, -4.5818, -4.6953, -4.7776, -4.7965, -4.8426, -4.8433, -4.8819, -4.901, -5.0963, -5.2262, -5.2331, -5.2651, -5.2993, -5.33, -5.4484, -5.479, -5.4837, -5.4898, -5.5195, -5.5704, -5.5678, -5.6236, -5.4981, -4.4071, -4.9325, -3.816, -4.695, -4.1696, -4.3766, -3.5718, -4.4169, -3.8476, -3.0535, -4.2803, -4.4987, -4.148, -3.4839, -4.3638, -4.3106, -4.8571, -4.1032, -4.1851, -4.1802, -4.2757, -4.2938, -4.3128, -4.3248, -4.4551, -4.5563, -4.6574, -4.6908, -4.8674, -4.9027, -4.8929, -4.9892, -4.9809, -5.0448, -5.0796, -5.1346, -5.1358, -5.1364, -5.1794, -5.2007, -5.2158, -5.2211, -5.2344, -5.2443, -5.2749, -5.3506, -5.3534, -1.8883, -3.1431, -4.3402, -3.3398, -5.0234, -4.4529, -5.1501, -5.0918, -4.8608]}, \"token.table\": {\"Topic\": [1, 2, 3, 4, 1, 2, 3, 4, 5, 2, 5, 1, 2, 1, 3, 4, 2, 5, 1, 2, 4, 2, 1, 2, 5, 1, 2, 4, 3, 1, 2, 5, 1, 3, 1, 2, 3, 5, 4, 1, 1, 2, 3, 4, 1, 1, 4, 1, 2, 4, 2, 1, 3, 5, 1, 3, 4, 4, 2, 4, 2, 1, 2, 3, 3, 5, 4, 1, 1, 1, 3, 4, 5, 5, 1, 2, 2, 4, 2, 1, 5, 3, 1, 3, 4, 4, 1, 4, 4, 3, 5, 1, 2, 3, 2, 3, 3, 1, 1, 3, 1, 3, 1, 2, 1, 4, 5, 5, 5, 1, 3, 4, 1, 2, 3, 1, 5, 4, 5, 3, 2, 3, 4, 1, 2, 4, 5, 4, 2, 3, 1, 2, 3, 4, 5, 2, 5, 1, 2, 1, 2, 4, 1, 4, 1, 4, 4, 1, 4, 5, 1, 3, 1, 4, 5, 4, 2, 1, 5, 1, 2, 2, 5, 3, 1, 3, 4, 1, 2, 3, 4, 4, 2, 1, 3, 1, 2, 3, 5, 4, 4, 2, 4, 1, 1, 2, 4, 1, 5, 1, 2, 3, 5, 5, 3, 1, 3, 4, 5, 3, 2, 1, 3, 1, 2, 4, 3, 3, 3, 5, 5, 5, 4, 1, 2, 1, 1, 2, 2, 3, 2, 1, 3, 5, 4, 2, 1, 2, 4, 1, 2, 3, 3, 1, 3, 1, 2, 4, 3, 5, 4, 1, 5, 5, 3, 3, 3, 2, 5, 3, 2, 1, 1, 1, 1, 2, 4, 5, 1, 2, 3, 4, 5, 4, 4, 3, 3, 2, 1, 4, 5, 4, 3, 1, 1, 1, 1, 3, 5, 2, 1, 2, 4, 1, 2, 4, 1, 3, 1, 4, 4, 4, 1, 2, 4, 4, 5, 2, 3, 1, 2, 1, 3, 5], \"Freq\": [0.06803621963521266, 0.40821731781127596, 0.4267726504390612, 0.09277666313892635, 0.14635056509841626, 0.45154503621828435, 0.28377731525180716, 0.06425146760418275, 0.05354288967015229, 0.5892352510808099, 0.4116575041797439, 0.9901882814295252, 0.9632241119661784, 0.513236913214332, 0.4334000600476581, 0.034215794214288796, 0.9460195167732458, 0.9685848025259612, 0.9963041401705434, 0.2777772061885211, 0.709875082481776, 0.95348736990989, 0.04756193439398455, 0.9512386878796909, 0.9615408236099514, 0.9792364531461691, 0.6861798219324161, 0.3091579417497699, 0.9703788715720637, 0.15502605421356758, 0.05122600052274407, 0.7926549554571977, 0.9011712763995496, 0.09430862194879008, 0.4441204428694968, 0.13933190364533235, 0.34832975911333086, 0.06966595182266618, 0.9833721569553048, 0.9856406654073647, 0.1728050735798, 0.15026528137373912, 0.676193766181826, 0.9850630617084403, 0.9891530520082483, 0.09405380640826203, 0.9002292899076508, 0.337705641966042, 0.62264477737489, 0.03165990393431644, 0.9301121872381187, 0.991933724477771, 0.9431777140751849, 0.9862992701104774, 0.8501804928399107, 0.1241836674934701, 0.019105179614380016, 0.9601131274172308, 0.9522146101220895, 0.0366236388508496, 0.9571022883264205, 0.10627010176778195, 0.7068197466415265, 0.18535482866473596, 0.9523011551858985, 0.9732496536570332, 0.9891604873328005, 0.9963905149899451, 0.996145338213456, 0.4037559015755705, 0.1694332801254626, 0.4253856820171189, 0.9781127370021051, 0.9823651988105142, 0.7873068887076445, 0.20718602334411698, 0.3168620184675719, 0.6733317892435903, 0.9584344023741819, 0.3183528471955434, 0.6897645022570107, 0.9957605811968796, 0.3504450962639424, 0.6440612579985968, 0.00473574454410733, 0.958695130138281, 0.7998006805925946, 0.19086152605050552, 0.9926060834505317, 0.9879411860216782, 0.9457051674635322, 0.9903430504144402, 0.37886087316065603, 0.6140158978810633, 0.9985153467845268, 0.9772239104086707, 0.9636323100945363, 0.9845181101193813, 0.14855014895605656, 0.8276365441837437, 0.1961519449507829, 0.7981355001445648, 0.9793501005462957, 0.9745105978920351, 0.796437465027675, 0.10985344345209311, 0.09154453621007759, 0.9858368329825782, 0.9646588115631447, 0.6066568915357234, 0.125444306385353, 0.26836855710309127, 0.9983066175276337, 0.9817719780321733, 0.9818385092402154, 0.2032995094764398, 0.794286455628881, 0.9652021926567698, 0.9875074069331621, 0.9524127717986947, 0.9168994214740518, 0.9693116629365147, 0.9794763963753231, 0.25494728861878657, 0.44098990463790105, 0.29973532580857337, 0.9793575319730724, 0.9903605820212746, 0.7398351695481371, 0.25908624614526204, 0.1347792095366437, 0.4511816221683988, 0.16107759188525714, 0.13888833177861457, 0.11341177387839534, 0.9784894947655804, 0.959615980940411, 0.3478161857490026, 0.6447324418761999, 0.05580293529798139, 0.40457128091036504, 0.5301278853308231, 0.3230602425416891, 0.6764073828216615, 0.9862287853265589, 0.991610098562667, 0.9918898391569223, 0.3111319105223542, 0.6901471469768584, 0.9365254549922134, 0.2925635881416034, 0.7061879713762841, 0.9885862726250775, 0.9873032432866202, 0.9764697461324823, 0.9933665703416729, 0.9489476224861995, 0.17782369891679567, 0.8179890150172602, 0.9866731085039482, 0.9986220661761046, 0.9664634735700574, 0.9852080219407899, 0.9774777536452537, 0.08436264719297601, 0.9111165896841409, 0.9808131132205811, 0.3519851208867094, 0.3101407358861915, 0.3199864735333722, 0.017230040882566196, 0.9696727643649018, 0.9737834037724353, 0.7859547286548156, 0.21186605728955898, 0.9923182123132415, 0.981096198061447, 0.9813623847618936, 0.9775351635435088, 0.9736339058208717, 0.9867208201414063, 0.9980072405672472, 0.9933424799559762, 0.9743787362049708, 0.9894996734939026, 0.9949293963937678, 0.9758190586679337, 0.3104321288120198, 0.6773064628625887, 0.711663011948419, 0.2846652047793676, 0.9564925505092611, 0.984718337369503, 0.9540981944592576, 0.973913672734285, 0.26930390404654153, 0.727120540925662, 0.9869326704082904, 0.9716524846921152, 0.9716580050959766, 0.9809143060232722, 0.989235030137073, 0.9830028677448991, 0.7389641058867331, 0.25378565252675683, 0.9629455066815027, 0.9519547757433133, 0.9508553370581382, 0.9849498285811157, 0.97040893660915, 0.9794518967038788, 0.9675665694025679, 0.9880023517268356, 0.09322995133924104, 0.8923438199613071, 0.9707110388035036, 0.32174840310340663, 0.6692366784550858, 0.7643890304753141, 0.21086593944146598, 0.9720711941333771, 0.07640831579386027, 0.9168997895263233, 0.9843524843553274, 0.9836448370506718, 0.975654542739208, 0.04479151188206316, 0.04479151188206316, 0.8958302376412631, 0.9745179458402454, 0.9893128876566432, 0.9456326412978996, 0.9502003641737603, 0.1802740433778266, 0.8112331952002197, 0.38184250986568924, 0.469348085043243, 0.14716846734406772, 0.7021948364524786, 0.2808779345809914, 0.9778418802031273, 0.9886425721408455, 0.9766462964013494, 0.9389168466772579, 0.9655317476268609, 0.9602013023048236, 0.9634661149489098, 0.9365153442823371, 0.9682968470717129, 0.9778296243058207, 0.9615216636731438, 0.9837325019109463, 0.9918041326350727, 0.992257861074888, 0.42498225076611157, 0.5537647509982666, 0.025756500046431003, 0.9839899976764164, 0.37875589685142225, 0.13466876332495012, 0.13887716217885482, 0.2945879197733284, 0.0505007862468563, 0.9848283043757747, 0.9945036199237868, 0.9718791305919464, 0.9532746568748907, 0.9756790797890904, 0.19168334477345197, 0.7986806032227166, 0.9822019249493025, 0.965147055811283, 0.9829035525864457, 0.9753158012433286, 0.9887198105607541, 0.9892774986111944, 0.4771404199659288, 0.3494020398175699, 0.16906550313753382, 0.988561608320142, 0.48704641238272245, 0.1485904308964238, 0.35496602936367905, 0.10601835903408825, 0.36251438895526955, 0.5300917951704412, 0.9958806593701199, 0.9991813631096214, 0.4457003720145582, 0.543754453857761, 0.9603617346439776, 0.9789131105383718, 0.9878043775774585, 0.9674581738750105, 0.9923985257532213, 0.9753739555345873, 0.9727781854536566, 0.9976546479325363, 0.9479860481301947, 0.8727959731807655, 0.11943523843526266, 0.07856901127132233, 0.9133647560291221, 0.984323193436118], \"Term\": [\"cry\", \"cry\", \"cry\", \"cry\", \"doge\", \"doge\", \"doge\", \"doge\", \"doge\", \"r2wjcgp\", \"r2wjcgp\", \"\\u4e00\\u5468\", \"\\u4e00\\u5757\", \"\\u4e00\\u5929\", \"\\u4e00\\u5929\", \"\\u4e00\\u5929\", \"\\u4e00\\u5c0f\\u5757\", \"\\u4e00\\u7247\", \"\\u4e03\\u5929\", \"\\u4e0a\\u73ed\", \"\\u4e0a\\u73ed\", \"\\u4e0a\\u7a7a\", \"\\u4e0b\\u73ed\", \"\\u4e0b\\u73ed\", \"\\u4e0b\\u8f7d\", \"\\u4e0b\\u964d\", \"\\u4e0b\\u96e8\", \"\\u4e0b\\u96e8\", \"\\u4e0b\\u96ea\", \"\\u4e0d\\u8bed\", \"\\u4e0d\\u8bed\", \"\\u4e0d\\u8bed\", \"\\u4e24\\u5929\", \"\\u4e24\\u5929\", \"\\u4e2d\\u5348\", \"\\u4e2d\\u5348\", \"\\u4e2d\\u5348\", \"\\u4e2d\\u5348\", \"\\u4e2d\\u56fd\", \"\\u4e3a\\u4e3b\", \"\\u4e8c\\u54c8\", \"\\u4e8c\\u54c8\", \"\\u4e8c\\u54c8\", \"\\u4e91\\u7cfb\", \"\\u4e91\\u91cf\", \"\\u4ea4\\u901a\\u5b89\\u5168\", \"\\u4ea4\\u901a\\u5b89\\u5168\", \"\\u4eca\\u665a\", \"\\u4eca\\u665a\", \"\\u4eca\\u665a\", \"\\u4f11\\u606f\", \"\\u4f53\\u611f\", \"\\u4f5c\\u8005\", \"\\u4f7f\\u7528\", \"\\u4f9d\\u7136\", \"\\u4f9d\\u7136\", \"\\u4f9d\\u7136\", \"\\u4fe1\\u606f\", \"\\u503c\\u73ed\", \"\\u503c\\u73ed\", \"\\u505c\\u7535\", \"\\u5141\\u60b2\", \"\\u5141\\u60b2\", \"\\u5141\\u60b2\", \"\\u5165\\u51ac\", \"\\u516c\\u516c\", \"\\u516c\\u5b89\", \"\\u51b7\\u7a7a\\u6c14\", \"\\u51e0\\u5929\", \"\\u51fa\\u95e8\", \"\\u51fa\\u95e8\", \"\\u51fa\\u95e8\", \"\\u52a0\\u6cb9\", \"\\u5317\\u8fb9\", \"\\u5348\\u540e\", \"\\u5348\\u540e\", \"\\u5357\\u6c99\", \"\\u5357\\u6c99\", \"\\u5357\\u8fb9\", \"\\u53ef\\u601c\", \"\\u53ef\\u601c\", \"\\u53ef\\u7231\", \"\\u5403\\u74dc\", \"\\u5403\\u74dc\", \"\\u5403\\u74dc\", \"\\u5404\\u533a\", \"\\u5468\\u672b\", \"\\u5468\\u672b\", \"\\u54e5\\u54e5\", \"\\u559c\\u6b22\", \"\\u55e8\\u68ee\\u4e00\\u523b\", \"\\u56de\\u5347\", \"\\u56de\\u590d\", \"\\u56de\\u590d\", \"\\u56de\\u6ce2\", \"\\u56fe\\u7247\", \"\\u5730\\u94c1\", \"\\u589e\\u591a\", \"\\u590f\\u5929\", \"\\u590f\\u5929\", \"\\u5916\\u5957\", \"\\u5916\\u5957\", \"\\u591a\\u4e91\", \"\\u591c\\u6df1\", \"\\u5929\\u6c14\\u5267\\u900f\", \"\\u5929\\u6c14\\u5267\\u900f\", \"\\u5929\\u6c14\\u5267\\u900f\", \"\\u5929\\u6c14\\u541b\\u64b8\\u732b\\u65e5\\u5e38\", \"\\u5929\\u6c14\\u798f\\u5229\", \"\\u5929\\u6c14\\u8bdd\\u4f60\\u77e5\", \"\\u5929\\u6c14\\u8bdd\\u4f60\\u77e5\", \"\\u5929\\u6c14\\u8bdd\\u4f60\\u77e5\", \"\\u5929\\u6c14\\u9884\\u62a5\", \"\\u5929\\u6cb3\", \"\\u5929\\u7a7a\", \"\\u592a\\u9633\", \"\\u592a\\u9633\", \"\\u5934\\u6761\", \"\\u5956\\u54c1\", \"\\u597d\\u770b\", \"\\u597d\\u7f8e\", \"\\u5b63\\u8282\", \"\\u5b9e\\u51b5\\u64ad\\u62a5\", \"\\u5c0f\\u4f19\\u4f34\", \"\\u5c0f\\u4f19\\u4f34\", \"\\u5c0f\\u4f19\\u4f34\", \"\\u5c0f\\u53ef\\u7231\", \"\\u5c0f\\u59d0\\u59d0\", \"\\u5c0f\\u7f16\", \"\\u5c0f\\u7f16\", \"\\u5c0f\\u7f168\\u5929\\u6c14\", \"\\u5c0f\\u7f168\\u5929\\u6c14\", \"\\u5c0f\\u7f168\\u5929\\u6c14\", \"\\u5c0f\\u7f168\\u5929\\u6c14\", \"\\u5c0f\\u7f168\\u5929\\u6c14\", \"\\u5c0f\\u7f16\\u7cbe\\u5206\\u65e5\\u5e38\", \"\\u5c0f\\u9ed1\", \"\\u5c40\\u5730\", \"\\u5c40\\u5730\", \"\\u5e02\\u533a\", \"\\u5e02\\u533a\", \"\\u5e02\\u533a\", \"\\u5e26\\u4f1e\", \"\\u5e26\\u4f1e\", \"\\u5e72\\u71e5\", \"\\u5e7f\\u4e1c\", \"\\u5e7f\\u5dde\\u4ea4\\u901a\", \"\\u5e7f\\u5dde\\u6625\\u8fd0\\u5929\\u6c14\", \"\\u5e7f\\u5dde\\u6625\\u8fd0\\u5929\\u6c14\", \"\\u5f00\\u5956\", \"\\u5f00\\u5fc3\", \"\\u5f00\\u5fc3\", \"\\u5f31\\u51b7\\u7a7a\\u6c14\", \"\\u5f3a\\u964d\\u6c34\", \"\\u5fae\\u535a\", \"\\u5fae\\u7b11\", \"\\u5feb\\u4e50\", \"\\u60f3\\u8981\", \"\\u60f3\\u8981\", \"\\u611f\\u5192\", \"\\u61a7\\u61ac\", \"\\u624b\\u673a\", \"\\u62bd\\u5956\", \"\\u62cd\\u7167\", \"\\u62dc\\u62dc\", \"\\u62dc\\u62dc\", \"\\u63d0\\u524d\", \"\\u644a\\u624b\", \"\\u644a\\u624b\", \"\\u644a\\u624b\", \"\\u644a\\u624b\", \"\\u6587\\u7ae0\", \"\\u65b9\\u5411\", \"\\u65e9\\u5b89\", \"\\u65e9\\u5b89\", \"\\u65e9\\u665a\", \"\\u65e9\\u70b9\", \"\\u6625\\u5929\", \"\\u6625\\u8282\", \"\\u6625\\u8fd0\\u5e7f\\u5dde\", \"\\u665a\\u4e0a\", \"\\u665a\\u5b89\", \"\\u66b4\\u96e8\", \"\\u6700\\u4f4e\\u6c14\\u6e29\", \"\\u6700\\u9ad8\", \"\\u6708\\u4eae\", \"\\u6709\\u96e8\", \"\\u673a\\u4f1a\", \"\\u673a\\u4f1a\", \"\\u6bd4\\u8f83\", \"\\u6bd4\\u8f83\", \"\\u6bdb\\u8863\", \"\\u6c14\\u8c61\", \"\\u6c14\\u8c61\\u6c6a\\u7684\\u65e5\\u5e38\", \"\\u6c34\\u5370\", \"\\u6ce5\\u840c\", \"\\u6ce5\\u840c\", \"\\u6ce8\\u610f\\u5b89\\u5168\", \"\\u6d17\\u6fa1\", \"\\u6d6e\\u4e91\", \"\\u6d77\\u73e0\", \"\\u6e05\\u51c9\", \"\\u6e05\\u8fdc\", \"\\u6e29\\u5ea6\", \"\\u6e29\\u5ea6\", \"\\u6e7f\\u6ed1\", \"\\u6f02\\u4eae\", \"\\u70e4\\u9e21\", \"\\u7167\\u7247\", \"\\u73b0\\u573a\", \"\\u751f\\u75c5\", \"\\u7528\\u6237\", \"\\u7559\\u610f\", \"\\u767d\\u4e91\", \"\\u767d\\u4e91\", \"\\u76f8\\u5bf9\\u6e7f\\u5ea6\", \"\\u770b\\u770b\", \"\\u770b\\u770b\", \"\\u770b\\u7740\", \"\\u770b\\u7740\", \"\\u7761\\u89c9\", \"\\u77ed\\u8896\", \"\\u77ed\\u8896\", \"\\u79d2\\u62cd\", \"\\u79ef\\u6c34\", \"\\u79fb\\u52a8\", \"\\u7a33\\u5b9a\", \"\\u7a33\\u5b9a\", \"\\u7a33\\u5b9a\", \"\\u7a7a\\u6c14\\u8d28\\u91cf\", \"\\u7a7a\\u8c03\", \"\\u7a7f\\u539a\", \"\\u7a7f\\u7740\", \"\\u7a7f\\u8863\", \"\\u7a7f\\u8863\", \"\\u7b80\\u5355\", \"\\u7b80\\u5355\", \"\\u7b80\\u5355\", \"\\u7c89\\u4e1d\", \"\\u7c89\\u4e1d\", \"\\u7ca4\\u897f\", \"\\u7d2b\\u5916\\u7ebf\", \"\\u7ed9\\u529b\", \"\\u7f8e\\u5973\", \"\\u7f8e\\u666f\", \"\\u7f8e\\u7f8e\", \"\\u82b1\\u82b1\", \"\\u8354\\u6e7e\", \"\\u83b7\\u5f97\", \"\\u84dd\\u5929\", \"\\u868a\\u5b50\", \"\\u8863\\u7269\", \"\\u8865\\u5145\", \"\\u8865\\u6c34\", \"\\u88ab\\u5b50\", \"\\u88ab\\u5b50\", \"\\u88ab\\u5b50\", \"\\u89c6\\u9891\", \"\\u8bb0\\u5f97\", \"\\u8bb0\\u5f97\", \"\\u8bb0\\u5f97\", \"\\u8bb0\\u5f97\", \"\\u8bb0\\u5f97\", \"\\u8bdd\\u7b52\", \"\\u8d39\\u89e3\", \"\\u8d4f\\u82b1\", \"\\u8d77\\u5e8a\", \"\\u8d8a\\u79c0\", \"\\u8def\\u4e0a\", \"\\u8def\\u4e0a\", \"\\u8f6c\\u53d1\", \"\\u8fd4\\u7a0b\", \"\\u957f\\u8896\", \"\\u9632\\u5fa1\", \"\\u9632\\u6652\", \"\\u9632\\u6691\", \"\\u9633\\u5149\", \"\\u9633\\u5149\", \"\\u9633\\u5149\", \"\\u9634\\u9669\", \"\\u9635\\u96e8\", \"\\u9635\\u96e8\", \"\\u9635\\u96e8\", \"\\u964d\\u6c34\", \"\\u964d\\u6c34\", \"\\u964d\\u6c34\", \"\\u964d\\u6e29\", \"\\u968f\\u624b\\u62cd\\u5e7f\\u5dde\", \"\\u96e8\\u6c34\", \"\\u96e8\\u6c34\", \"\\u96e8\\u96fe\", \"\\u96f7\\u7535\", \"\\u96f7\\u8fbe\", \"\\u96f7\\u96e8\\u4e91\", \"\\u9884\\u8b66\", \"\\u98ce\\u529b\", \"\\u998b\\u5634\", \"\\u9996\\u5e2d\", \"\\u9ad8\\u5174\", \"\\u9ad8\\u6e29\", \"\\u9ad8\\u6e29\", \"\\u9e21\\u817f\", \"\\u9e21\\u817f\", \"\\u9f13\\u638c\"]}, \"R\": 30, \"lambda.step\": 0.01, \"plot.opts\": {\"xlab\": \"PC1\", \"ylab\": \"PC2\"}, \"topic.order\": [2, 5, 4, 3, 1]};\n",
       "\n",
       "function LDAvis_load_lib(url, callback){\n",
       "  var s = document.createElement('script');\n",
       "  s.src = url;\n",
       "  s.async = true;\n",
       "  s.onreadystatechange = s.onload = callback;\n",
       "  s.onerror = function(){console.warn(\"failed to load library \" + url);};\n",
       "  document.getElementsByTagName(\"head\")[0].appendChild(s);\n",
       "}\n",
       "\n",
       "if(typeof(LDAvis) !== \"undefined\"){\n",
       "   // already loaded: just create the visualization\n",
       "   !function(LDAvis){\n",
       "       new LDAvis(\"#\" + \"ldavis_el634410077813722168593190120\", ldavis_el634410077813722168593190120_data);\n",
       "   }(LDAvis);\n",
       "}else if(typeof define === \"function\" && define.amd){\n",
       "   // require.js is available: use it to load d3/LDAvis\n",
       "   require.config({paths: {d3: \"https://cdnjs.cloudflare.com/ajax/libs/d3/3.5.5/d3.min\"}});\n",
       "   require([\"d3\"], function(d3){\n",
       "      window.d3 = d3;\n",
       "      LDAvis_load_lib(\"https://cdn.rawgit.com/bmabey/pyLDAvis/files/ldavis.v1.0.0.js\", function(){\n",
       "        new LDAvis(\"#\" + \"ldavis_el634410077813722168593190120\", ldavis_el634410077813722168593190120_data);\n",
       "      });\n",
       "    });\n",
       "}else{\n",
       "    // require.js not available: dynamically load d3 & LDAvis\n",
       "    LDAvis_load_lib(\"https://cdnjs.cloudflare.com/ajax/libs/d3/3.5.5/d3.min.js\", function(){\n",
       "         LDAvis_load_lib(\"https://cdn.rawgit.com/bmabey/pyLDAvis/files/ldavis.v1.0.0.js\", function(){\n",
       "                 new LDAvis(\"#\" + \"ldavis_el634410077813722168593190120\", ldavis_el634410077813722168593190120_data);\n",
       "            })\n",
       "         });\n",
       "}\n",
       "</script>"
      ],
      "text/plain": [
       "PreparedData(topic_coordinates=            Freq  cluster  topics         x         y\n",
       "topic                                                \n",
       "1      32.044545        1       1 -0.088006 -0.035264\n",
       "4      21.179929        1       2 -0.064475  0.080789\n",
       "3      18.401515        1       3 -0.045440  0.274496\n",
       "2      16.651929        1       4 -0.166222 -0.247210\n",
       "0      11.722081        1       5  0.364143 -0.072810, topic_info=     Category         Freq     Term        Total  loglift  logprob\n",
       "term                                                              \n",
       "939   Default   792.000000    随手拍广州   792.000000  30.0000  30.0000\n",
       "65    Default   741.000000       不语   741.000000  29.0000  29.0000\n",
       "383   Default   694.000000       小编   694.000000  28.0000  28.0000\n",
       "456   Default   366.000000       憧憬   366.000000  27.0000  27.0000\n",
       "92    Default   532.000000       二哈   532.000000  26.0000  26.0000\n",
       "538   Default   294.000000       晚安   294.000000  25.0000  25.0000\n",
       "337   Default   972.000000    天气话你知   972.000000  24.0000  24.0000\n",
       "344   Default   211.000000       太阳   211.000000  23.0000  23.0000\n",
       "338   Default   328.000000     天气预报   328.000000  22.0000  22.0000\n",
       "180   Default   317.000000      冷空气   317.000000  21.0000  21.0000\n",
       "36    Default   307.000000       七天   307.000000  20.0000  20.0000\n",
       "294   Default   218.000000       回波   218.000000  19.0000  19.0000\n",
       "157   Default   404.000000       允悲   404.000000  18.0000  18.0000\n",
       "985   Default   198.000000       首席   198.000000  17.0000  17.0000\n",
       "432   Default   161.000000       微笑   161.000000  16.0000  16.0000\n",
       "384   Default  1216.000000    小编8天气  1216.000000  15.0000  15.0000\n",
       "628   Default   222.000000       泥萌   222.000000  14.0000  14.0000\n",
       "935   Default   292.000000       降水   292.000000  13.0000  13.0000\n",
       "565   Default   152.000000       月亮   152.000000  12.0000  12.0000\n",
       "749   Default   502.000000       简单   502.000000  11.0000  11.0000\n",
       "412   Default   176.000000   广州春运天气   176.000000  10.0000  10.0000\n",
       "262   Default   211.000000       吃瓜   211.000000   9.0000   9.0000\n",
       "511   Default   292.000000       早安   292.000000   8.0000   8.0000\n",
       "315   Default   147.000000       外套   147.000000   7.0000   7.0000\n",
       "258   Default   101.000000       可爱   101.000000   6.0000   6.0000\n",
       "192   Default   277.000000       出门   277.000000   5.0000   5.0000\n",
       "537   Default    92.000000       晚上    92.000000   4.0000   4.0000\n",
       "377   Default   290.000000      小伙伴   290.000000   3.0000   3.0000\n",
       "4     Default   560.000000     doge   560.000000   2.0000   2.0000\n",
       "922   Default   266.000000       阳光   266.000000   1.0000   1.0000\n",
       "...       ...          ...      ...          ...      ...      ...\n",
       "860    Topic5    36.891229       转发    37.670462   2.1228  -4.6574\n",
       "347    Topic5    35.679588       奖品    36.455423   2.1222  -4.6908\n",
       "530    Topic5    29.903361       春节    30.689433   2.1177  -4.8674\n",
       "207    Topic5    28.866508       加油    29.648934   2.1170  -4.9027\n",
       "29     Topic5    29.148541       一片    29.940590   2.1169  -4.8929\n",
       "612    Topic5    26.472605   气象汪的日常    27.250864   2.1147  -4.9892\n",
       "214    Topic5    26.692929       北边    27.484687   2.1145  -4.9809\n",
       "804    Topic5    25.042858       获得    25.818529   2.1132  -5.0448\n",
       "48     Topic5    24.185623       下载    24.959939   2.1122  -5.0796\n",
       "633    Topic5    22.891547       洗澡    23.671014   2.1102  -5.1346\n",
       "984    Topic5    22.862536       馋嘴    23.643622   2.1101  -5.1358\n",
       "166    Topic5    22.849039       公公    23.632169   2.1100  -5.1364\n",
       "684    Topic5    21.887741       现场    22.670855   2.1085  -5.1794\n",
       "283    Topic5    21.427689     嗨森一刻    22.205652   2.1080  -5.2007\n",
       "390    Topic5    21.106618       小黑    21.883754   2.1075  -5.2158\n",
       "336    Topic5    20.994000     天气福利    21.769355   2.1074  -5.2211\n",
       "766    Topic5    20.717456       给力    21.502155   2.1065  -5.2344\n",
       "135    Topic5    20.513082       使用    21.291712   2.1064  -5.2443\n",
       "689    Topic5    19.894899       用户    20.670412   2.1055  -5.2749\n",
       "417    Topic5    18.444018       开奖    19.219979   2.1025  -5.3506\n",
       "775    Topic5    18.391976       美女    19.171027   2.1022  -5.3534\n",
       "65     Topic5   588.164368       不语   741.810792   1.9116  -1.8883\n",
       "344    Topic5   167.715104       太阳   211.510594   1.9117  -3.1431\n",
       "11     Topic5    50.659635  r2wjcgp   123.889397   1.2494  -4.3402\n",
       "384    Topic5   137.759527    小编8天气  1216.804881  -0.0348  -3.3398\n",
       "256    Topic5    25.582952       可怜    37.694024   1.7561  -5.0234\n",
       "922    Topic5    45.261883       阳光   266.169024   0.3720  -4.4529\n",
       "447    Topic5    22.538164       想要    28.117737   1.9225  -5.1501\n",
       "580    Topic5    23.891352       机会    35.434477   1.7495  -5.0918\n",
       "4      Topic5    30.100858     doge   560.298486  -0.7802  -4.8608\n",
       "\n",
       "[272 rows x 6 columns], token_table=      Topic      Freq     Term\n",
       "term                          \n",
       "3         1  0.068036      cry\n",
       "3         2  0.408217      cry\n",
       "3         3  0.426773      cry\n",
       "3         4  0.092777      cry\n",
       "4         1  0.146351     doge\n",
       "4         2  0.451545     doge\n",
       "4         3  0.283777     doge\n",
       "4         4  0.064251     doge\n",
       "4         5  0.053543     doge\n",
       "11        2  0.589235  r2wjcgp\n",
       "11        5  0.411658  r2wjcgp\n",
       "14        1  0.990188       一周\n",
       "16        2  0.963224       一块\n",
       "19        1  0.513237       一天\n",
       "19        3  0.433400       一天\n",
       "19        4  0.034216       一天\n",
       "20        2  0.946020      一小块\n",
       "29        5  0.968585       一片\n",
       "36        1  0.996304       七天\n",
       "43        2  0.277777       上班\n",
       "43        4  0.709875       上班\n",
       "44        2  0.953487       上空\n",
       "47        1  0.047562       下班\n",
       "47        2  0.951239       下班\n",
       "48        5  0.961541       下载\n",
       "49        1  0.979236       下降\n",
       "50        2  0.686180       下雨\n",
       "50        4  0.309158       下雨\n",
       "51        3  0.970379       下雪\n",
       "65        1  0.155026       不语\n",
       "...     ...       ...      ...\n",
       "913       1  0.988720       防晒\n",
       "915       1  0.989277       防暑\n",
       "922       1  0.477140       阳光\n",
       "922       3  0.349402       阳光\n",
       "922       5  0.169066       阳光\n",
       "927       2  0.988562       阴险\n",
       "930       1  0.487046       阵雨\n",
       "930       2  0.148590       阵雨\n",
       "930       4  0.354966       阵雨\n",
       "935       1  0.106018       降水\n",
       "935       2  0.362514       降水\n",
       "935       4  0.530092       降水\n",
       "936       1  0.995881       降温\n",
       "939       3  0.999181    随手拍广州\n",
       "949       1  0.445700       雨水\n",
       "949       4  0.543754       雨水\n",
       "952       4  0.960362       雨雾\n",
       "958       4  0.978913       雷电\n",
       "959       1  0.987804       雷达\n",
       "961       2  0.967458      雷雨云\n",
       "972       4  0.992399       预警\n",
       "977       4  0.975374       风力\n",
       "984       5  0.972778       馋嘴\n",
       "985       2  0.997655       首席\n",
       "988       3  0.947986       高兴\n",
       "990       1  0.872796       高温\n",
       "990       2  0.119435       高温\n",
       "995       1  0.078569       鸡腿\n",
       "995       3  0.913365       鸡腿\n",
       "998       5  0.984323       鼓掌\n",
       "\n",
       "[304 rows x 3 columns], R=30, lambda_step=0.01, plot_opts={'xlab': 'PC1', 'ylab': 'PC2'}, topic_order=[2, 5, 4, 3, 1])"
      ]
     },
     "execution_count": 43,
     "metadata": {},
     "output_type": "execute_result"
    }
   ],
   "source": [
    "import pyLDAvis\n",
    "import pyLDAvis.sklearn\n",
    "pyLDAvis.enable_notebook()\n",
    "pyLDAvis.sklearn.prepare(lda, tf, tf_vectorizer)"
   ]
  },
  {
   "cell_type": "code",
   "execution_count": 44,
   "metadata": {},
   "outputs": [],
   "source": [
    "# data = pyLDAvis.sklearn.prepare(lda, tf, tf_vectorizer)\n",
    "# pyLDAvis.show(data)"
   ]
  },
  {
   "cell_type": "code",
   "execution_count": 45,
   "metadata": {},
   "outputs": [
    {
     "name": "stderr",
     "output_type": "stream",
     "text": [
      "D:\\Anaconda3\\lib\\site-packages\\sklearn\\decomposition\\online_lda.py:294: DeprecationWarning: n_topics has been renamed to n_components in version 0.19 and will be removed in 0.21\n",
      "  DeprecationWarning)\n"
     ]
    },
    {
     "name": "stdout",
     "output_type": "stream",
     "text": [
      "Topic #0:\n",
      "不语 太阳 小编8天气 气象 生病 鼓掌 抽奖 秒拍 视频 微博 r2wjcgp 阳光 小可爱 天气君撸猫日常 转发 奖品 doge 春节 一片 加油\n",
      "Topic #1:\n",
      "天气话你知 天气预报 冷空气 七天 早安 简单 小编8天气 摊手 几天 阳光 早晚 不语 出门 最高 温度 防晒 比较 高温 二哈 记得\n",
      "Topic #2:\n",
      "天气话你知 小编8天气 微笑 降水 广州春运天气 出门 晚上 小伙伴 南沙 预警 市区 简单 广东 记得 上班 中国 交通安全 带伞 注意安全 留意\n",
      "Topic #3:\n",
      "随手拍广州 二哈 小编8天气 小编 泥萌 doge 吃瓜 摊手 天气话你知 外套 可爱 阳光 鸡腿 允悲 长袖 短袖 开心 cry 早安 喜欢\n",
      "Topic #4:\n",
      "小编8天气 小编 憧憬 晚安 允悲 doge 简单 回波 首席 月亮 小伙伴 摊手 降水 下雨 二哈 局地 r2wjcgp 白云 cry 阴险\n",
      "\n"
     ]
    },
    {
     "name": "stderr",
     "output_type": "stream",
     "text": [
      "D:\\Anaconda3\\lib\\site-packages\\pyLDAvis\\_prepare.py:387: DeprecationWarning: \n",
      ".ix is deprecated. Please use\n",
      ".loc for label based indexing or\n",
      ".iloc for positional indexing\n",
      "\n",
      "See the documentation here:\n",
      "http://pandas.pydata.org/pandas-docs/stable/indexing.html#ix-indexer-is-deprecated\n",
      "  topic_term_dists = topic_term_dists.ix[topic_order]\n"
     ]
    },
    {
     "name": "stdout",
     "output_type": "stream",
     "text": [
      "Wall time: 54.3 s\n"
     ]
    }
   ],
   "source": [
    "%%time\n",
    "n_topics = 5    #此处的10可以自定义\n",
    "lda = LatentDirichletAllocation(n_topics=n_topics, max_iter=50,\n",
    "                                learning_method='online',\n",
    "                                learning_offset=50.,\n",
    "                                random_state=0)\n",
    "lda.fit(tf)\n",
    "print_top_words(lda, tf_feature_names, n_top_words)\n",
    "pyLDAvis.sklearn.prepare(lda, tf, tf_vectorizer)"
   ]
  },
  {
   "cell_type": "code",
   "execution_count": 46,
   "metadata": {},
   "outputs": [
    {
     "name": "stderr",
     "output_type": "stream",
     "text": [
      "D:\\Anaconda3\\lib\\site-packages\\pyLDAvis\\_prepare.py:387: DeprecationWarning: \n",
      ".ix is deprecated. Please use\n",
      ".loc for label based indexing or\n",
      ".iloc for positional indexing\n",
      "\n",
      "See the documentation here:\n",
      "http://pandas.pydata.org/pandas-docs/stable/indexing.html#ix-indexer-is-deprecated\n",
      "  topic_term_dists = topic_term_dists.ix[topic_order]\n"
     ]
    },
    {
     "name": "stdout",
     "output_type": "stream",
     "text": [
      "\n",
      "Note: if you're in the IPython notebook, pyLDAvis.show() is not the best command\n",
      "      to use. Consider using pyLDAvis.display(), or pyLDAvis.enable_notebook().\n",
      "      See more information at http://pyLDAvis.github.io/quickstart.html .\n",
      "\n",
      "You must interrupt the kernel to end this command\n",
      "\n",
      "Serving to http://127.0.0.1:8889/    [Ctrl-C to exit]\n"
     ]
    },
    {
     "name": "stderr",
     "output_type": "stream",
     "text": [
      "127.0.0.1 - - [23/Jul/2018 16:36:50] \"GET / HTTP/1.1\" 200 -\n",
      "127.0.0.1 - - [23/Jul/2018 16:36:50] \"GET /LDAvis.css HTTP/1.1\" 200 -\n",
      "127.0.0.1 - - [23/Jul/2018 16:36:50] \"GET /d3.js HTTP/1.1\" 200 -\n",
      "127.0.0.1 - - [23/Jul/2018 16:36:50] \"GET /LDAvis.js HTTP/1.1\" 200 -\n"
     ]
    },
    {
     "name": "stdout",
     "output_type": "stream",
     "text": [
      "\n",
      "stopping Server...\n",
      "Wall time: 3min 45s\n"
     ]
    }
   ],
   "source": [
    "%%time\n",
    "data = pyLDAvis.sklearn.prepare(lda, tf, tf_vectorizer)\n",
    "pyLDAvis.show(data)"
   ]
  },
  {
   "cell_type": "markdown",
   "metadata": {},
   "source": [
    "## 3. 粉丝互动细分主题的结果打标签"
   ]
  },
  {
   "cell_type": "code",
   "execution_count": 72,
   "metadata": {},
   "outputs": [
    {
     "name": "stderr",
     "output_type": "stream",
     "text": [
      "D:\\Anaconda3\\lib\\site-packages\\sklearn\\decomposition\\online_lda.py:294: DeprecationWarning: n_topics has been renamed to n_components in version 0.19 and will be removed in 0.21\n",
      "  DeprecationWarning)\n"
     ]
    },
    {
     "name": "stdout",
     "output_type": "stream",
     "text": [
      "[[ 0.54950045  0.05000054  0.0506242   0.299874    0.05000081]\n",
      " [ 0.10000004  0.10000001  0.10000002  0.5999999   0.10000003]\n",
      " [ 0.29979373  0.05000048  0.05000093  0.30011571  0.30008916]\n",
      " ..., \n",
      " [ 0.06695956  0.06975208  0.06691382  0.72819017  0.06818437]\n",
      " [ 0.02894936  0.63300601  0.02878157  0.27998413  0.02927894]\n",
      " [ 0.11872695  0.02610412  0.02563834  0.02504256  0.80448804]]\n",
      "(4560, 5)\n"
     ]
    }
   ],
   "source": [
    "# Doc Topics 结果\n",
    "# 通过fit_transform函数,可以得到文档主题分布,Doc_Topic distribution matrix\n",
    "doctopic_matrix = lda.fit_transform(tf) # numpy.ndarray\n",
    "print(doctopic_matrix)\n",
    "print(doctopic_matrix.shape)"
   ]
  },
  {
   "cell_type": "code",
   "execution_count": 73,
   "metadata": {},
   "outputs": [
    {
     "data": {
      "text/html": [
       "<div>\n",
       "<style>\n",
       "    .dataframe thead tr:only-child th {\n",
       "        text-align: right;\n",
       "    }\n",
       "\n",
       "    .dataframe thead th {\n",
       "        text-align: left;\n",
       "    }\n",
       "\n",
       "    .dataframe tbody tr th {\n",
       "        vertical-align: top;\n",
       "    }\n",
       "</style>\n",
       "<table border=\"1\" class=\"dataframe\">\n",
       "  <thead>\n",
       "    <tr style=\"text-align: right;\">\n",
       "      <th></th>\n",
       "      <th>粉丝互动：奖品福利</th>\n",
       "      <th>粉丝互动：出行提醒</th>\n",
       "      <th>粉丝互动：春运天气</th>\n",
       "      <th>粉丝互动：随手拍广州</th>\n",
       "      <th>粉丝互动：首席小编互动</th>\n",
       "    </tr>\n",
       "  </thead>\n",
       "  <tbody>\n",
       "    <tr>\n",
       "      <th>0</th>\n",
       "      <td>0.549500</td>\n",
       "      <td>0.050001</td>\n",
       "      <td>0.050624</td>\n",
       "      <td>0.299874</td>\n",
       "      <td>0.050001</td>\n",
       "    </tr>\n",
       "    <tr>\n",
       "      <th>1</th>\n",
       "      <td>0.100000</td>\n",
       "      <td>0.100000</td>\n",
       "      <td>0.100000</td>\n",
       "      <td>0.600000</td>\n",
       "      <td>0.100000</td>\n",
       "    </tr>\n",
       "    <tr>\n",
       "      <th>2</th>\n",
       "      <td>0.299794</td>\n",
       "      <td>0.050000</td>\n",
       "      <td>0.050001</td>\n",
       "      <td>0.300116</td>\n",
       "      <td>0.300089</td>\n",
       "    </tr>\n",
       "    <tr>\n",
       "      <th>3</th>\n",
       "      <td>0.033415</td>\n",
       "      <td>0.033455</td>\n",
       "      <td>0.033918</td>\n",
       "      <td>0.033408</td>\n",
       "      <td>0.865804</td>\n",
       "    </tr>\n",
       "    <tr>\n",
       "      <th>4</th>\n",
       "      <td>0.033333</td>\n",
       "      <td>0.034407</td>\n",
       "      <td>0.295119</td>\n",
       "      <td>0.033617</td>\n",
       "      <td>0.603523</td>\n",
       "    </tr>\n",
       "  </tbody>\n",
       "</table>\n",
       "</div>"
      ],
      "text/plain": [
       "   粉丝互动：奖品福利  粉丝互动：出行提醒  粉丝互动：春运天气  粉丝互动：随手拍广州  粉丝互动：首席小编互动\n",
       "0   0.549500   0.050001   0.050624    0.299874     0.050001\n",
       "1   0.100000   0.100000   0.100000    0.600000     0.100000\n",
       "2   0.299794   0.050000   0.050001    0.300116     0.300089\n",
       "3   0.033415   0.033455   0.033918    0.033408     0.865804\n",
       "4   0.033333   0.034407   0.295119    0.033617     0.603523"
      ]
     },
     "execution_count": 73,
     "metadata": {},
     "output_type": "execute_result"
    }
   ],
   "source": [
    "doctopic = pd.DataFrame(doctopic_matrix, columns=['粉丝互动：奖品福利', \n",
    "                                                  '粉丝互动：出行提醒',\n",
    "                                                  '粉丝互动：春运天气',\n",
    "                                                  '粉丝互动：随手拍广州',\n",
    "                                                  '粉丝互动：首席小编互动'])\n",
    "#注意此处的主题排序是根据print_top_words(lda, tf_feature_names, n_top_words)的关键词来确定的，而非ldavis呈现的12345，那里只是按照热度排序。\n",
    "doctopic.head()"
   ]
  },
  {
   "cell_type": "code",
   "execution_count": 74,
   "metadata": {},
   "outputs": [
    {
     "data": {
      "text/plain": [
       "(4560, 5)"
      ]
     },
     "execution_count": 74,
     "metadata": {},
     "output_type": "execute_result"
    }
   ],
   "source": [
    "doctopic.shape"
   ]
  },
  {
   "cell_type": "code",
   "execution_count": 75,
   "metadata": {},
   "outputs": [
    {
     "data": {
      "text/html": [
       "<div>\n",
       "<style>\n",
       "    .dataframe thead tr:only-child th {\n",
       "        text-align: right;\n",
       "    }\n",
       "\n",
       "    .dataframe thead th {\n",
       "        text-align: left;\n",
       "    }\n",
       "\n",
       "    .dataframe tbody tr th {\n",
       "        vertical-align: top;\n",
       "    }\n",
       "</style>\n",
       "<table border=\"1\" class=\"dataframe\">\n",
       "  <thead>\n",
       "    <tr style=\"text-align: right;\">\n",
       "      <th></th>\n",
       "      <th>粉丝互动：奖品福利</th>\n",
       "      <th>粉丝互动：出行提醒</th>\n",
       "      <th>粉丝互动：春运天气</th>\n",
       "      <th>粉丝互动：随手拍广州</th>\n",
       "      <th>粉丝互动：首席小编互动</th>\n",
       "      <th>所属分类</th>\n",
       "    </tr>\n",
       "  </thead>\n",
       "  <tbody>\n",
       "    <tr>\n",
       "      <th>0</th>\n",
       "      <td>0.549500</td>\n",
       "      <td>0.050001</td>\n",
       "      <td>0.050624</td>\n",
       "      <td>0.299874</td>\n",
       "      <td>0.050001</td>\n",
       "      <td>粉丝互动：奖品福利</td>\n",
       "    </tr>\n",
       "    <tr>\n",
       "      <th>1</th>\n",
       "      <td>0.100000</td>\n",
       "      <td>0.100000</td>\n",
       "      <td>0.100000</td>\n",
       "      <td>0.600000</td>\n",
       "      <td>0.100000</td>\n",
       "      <td>粉丝互动：随手拍广州</td>\n",
       "    </tr>\n",
       "    <tr>\n",
       "      <th>2</th>\n",
       "      <td>0.299794</td>\n",
       "      <td>0.050000</td>\n",
       "      <td>0.050001</td>\n",
       "      <td>0.300116</td>\n",
       "      <td>0.300089</td>\n",
       "      <td>粉丝互动：随手拍广州</td>\n",
       "    </tr>\n",
       "    <tr>\n",
       "      <th>3</th>\n",
       "      <td>0.033415</td>\n",
       "      <td>0.033455</td>\n",
       "      <td>0.033918</td>\n",
       "      <td>0.033408</td>\n",
       "      <td>0.865804</td>\n",
       "      <td>粉丝互动：首席小编互动</td>\n",
       "    </tr>\n",
       "    <tr>\n",
       "      <th>4</th>\n",
       "      <td>0.033333</td>\n",
       "      <td>0.034407</td>\n",
       "      <td>0.295119</td>\n",
       "      <td>0.033617</td>\n",
       "      <td>0.603523</td>\n",
       "      <td>粉丝互动：首席小编互动</td>\n",
       "    </tr>\n",
       "  </tbody>\n",
       "</table>\n",
       "</div>"
      ],
      "text/plain": [
       "   粉丝互动：奖品福利  粉丝互动：出行提醒  粉丝互动：春运天气  粉丝互动：随手拍广州  粉丝互动：首席小编互动         所属分类\n",
       "0   0.549500   0.050001   0.050624    0.299874     0.050001    粉丝互动：奖品福利\n",
       "1   0.100000   0.100000   0.100000    0.600000     0.100000   粉丝互动：随手拍广州\n",
       "2   0.299794   0.050000   0.050001    0.300116     0.300089   粉丝互动：随手拍广州\n",
       "3   0.033415   0.033455   0.033918    0.033408     0.865804  粉丝互动：首席小编互动\n",
       "4   0.033333   0.034407   0.295119    0.033617     0.603523  粉丝互动：首席小编互动"
      ]
     },
     "execution_count": 75,
     "metadata": {},
     "output_type": "execute_result"
    }
   ],
   "source": [
    "global collist\n",
    "collist = list(doctopic.columns)\n",
    "\n",
    "def appendmax(sr):\n",
    "    one = sr.idxmax()\n",
    "    maxindex = pd.Series(one)\n",
    "    sr = sr.append(maxindex)\n",
    "    return sr\n",
    "\n",
    "dfe = doctopic.apply(lambda x:appendmax(x), axis=1)\n",
    "dfe.columns = collist + ['所属分类']\n",
    "# dfe.to_csv('cluster.csv')\n",
    "dfe.head()"
   ]
  },
  {
   "cell_type": "code",
   "execution_count": 76,
   "metadata": {},
   "outputs": [
    {
     "data": {
      "text/plain": [
       "(4560, 6)"
      ]
     },
     "execution_count": 76,
     "metadata": {},
     "output_type": "execute_result"
    }
   ],
   "source": [
    "dfe.shape"
   ]
  },
  {
   "cell_type": "code",
   "execution_count": 77,
   "metadata": {},
   "outputs": [
    {
     "name": "stderr",
     "output_type": "stream",
     "text": [
      "D:\\Anaconda3\\lib\\site-packages\\ipykernel_launcher.py:1: SettingWithCopyWarning: \n",
      "A value is trying to be set on a copy of a slice from a DataFrame\n",
      "\n",
      "See the caveats in the documentation: http://pandas.pydata.org/pandas-docs/stable/indexing.html#indexing-view-versus-copy\n",
      "  \"\"\"Entry point for launching an IPython kernel.\n"
     ]
    },
    {
     "data": {
      "text/plain": [
       "(4560, 2)"
      ]
     },
     "execution_count": 77,
     "metadata": {},
     "output_type": "execute_result"
    }
   ],
   "source": [
    "fshd.drop('所属分类', axis=1, inplace=True)\n",
    "fshd.shape"
   ]
  },
  {
   "cell_type": "code",
   "execution_count": 78,
   "metadata": {
    "collapsed": true
   },
   "outputs": [],
   "source": [
    "fshd.to_csv('fshd.csv', encoding='gb18030')"
   ]
  },
  {
   "cell_type": "code",
   "execution_count": 79,
   "metadata": {},
   "outputs": [
    {
     "data": {
      "text/html": [
       "<div>\n",
       "<style>\n",
       "    .dataframe thead tr:only-child th {\n",
       "        text-align: right;\n",
       "    }\n",
       "\n",
       "    .dataframe thead th {\n",
       "        text-align: left;\n",
       "    }\n",
       "\n",
       "    .dataframe tbody tr th {\n",
       "        vertical-align: top;\n",
       "    }\n",
       "</style>\n",
       "<table border=\"1\" class=\"dataframe\">\n",
       "  <thead>\n",
       "    <tr style=\"text-align: right;\">\n",
       "      <th></th>\n",
       "      <th>id</th>\n",
       "      <th>statdate</th>\n",
       "      <th>text</th>\n",
       "    </tr>\n",
       "  </thead>\n",
       "  <tbody>\n",
       "    <tr>\n",
       "      <th>0</th>\n",
       "      <td>3644</td>\n",
       "      <td>2017/8/23</td>\n",
       "      <td>#13号台风天鸽#  地铁4号线地面高架段恢复运营服务 ,</td>\n",
       "    </tr>\n",
       "    <tr>\n",
       "      <th>1</th>\n",
       "      <td>3660</td>\n",
       "      <td>2017/8/23</td>\n",
       "      <td>#13号台风天鸽# #随手拍广州# 应该是散发着仙气的小蛮腰@广州塔</td>\n",
       "    </tr>\n",
       "    <tr>\n",
       "      <th>2</th>\n",
       "      <td>3661</td>\n",
       "      <td>2017/8/23</td>\n",
       "      <td>#13号台风天鸽# #随手拍广州# 从延时摄影回顾一下今天这只鸽子[憧憬]</td>\n",
       "    </tr>\n",
       "    <tr>\n",
       "      <th>3</th>\n",
       "      <td>3662</td>\n",
       "      <td>2017/8/23</td>\n",
       "      <td>#小编8天气# 目前有一小块回波从番禺靠近市区，小伙伴们注意啦</td>\n",
       "    </tr>\n",
       "    <tr>\n",
       "      <th>4</th>\n",
       "      <td>3666</td>\n",
       "      <td>2017/8/24</td>\n",
       "      <td>#天气话你知# 降水回波靠近海珠啦[并不简单]</td>\n",
       "    </tr>\n",
       "  </tbody>\n",
       "</table>\n",
       "</div>"
      ],
      "text/plain": [
       "     id   statdate                                   text\n",
       "0  3644  2017/8/23          #13号台风天鸽#  地铁4号线地面高架段恢复运营服务 ,\n",
       "1  3660  2017/8/23     #13号台风天鸽# #随手拍广州# 应该是散发着仙气的小蛮腰@广州塔\n",
       "2  3661  2017/8/23  #13号台风天鸽# #随手拍广州# 从延时摄影回顾一下今天这只鸽子[憧憬]\n",
       "3  3662  2017/8/23        #小编8天气# 目前有一小块回波从番禺靠近市区，小伙伴们注意啦\n",
       "4  3666  2017/8/24                #天气话你知# 降水回波靠近海珠啦[并不简单]"
      ]
     },
     "execution_count": 79,
     "metadata": {},
     "output_type": "execute_result"
    }
   ],
   "source": [
    "fshd = pd.read_csv('fshd.csv', encoding='gb18030')\n",
    "fshd.head()"
   ]
  },
  {
   "cell_type": "code",
   "execution_count": 80,
   "metadata": {},
   "outputs": [
    {
     "data": {
      "text/html": [
       "<div>\n",
       "<style>\n",
       "    .dataframe thead tr:only-child th {\n",
       "        text-align: right;\n",
       "    }\n",
       "\n",
       "    .dataframe thead th {\n",
       "        text-align: left;\n",
       "    }\n",
       "\n",
       "    .dataframe tbody tr th {\n",
       "        vertical-align: top;\n",
       "    }\n",
       "</style>\n",
       "<table border=\"1\" class=\"dataframe\">\n",
       "  <thead>\n",
       "    <tr style=\"text-align: right;\">\n",
       "      <th></th>\n",
       "      <th>id</th>\n",
       "      <th>statdate</th>\n",
       "      <th>text</th>\n",
       "      <th>所属分类</th>\n",
       "    </tr>\n",
       "  </thead>\n",
       "  <tbody>\n",
       "    <tr>\n",
       "      <th>0</th>\n",
       "      <td>3644</td>\n",
       "      <td>2017/8/23</td>\n",
       "      <td>#13号台风天鸽#  地铁4号线地面高架段恢复运营服务 ,</td>\n",
       "      <td>粉丝互动：奖品福利</td>\n",
       "    </tr>\n",
       "    <tr>\n",
       "      <th>1</th>\n",
       "      <td>3660</td>\n",
       "      <td>2017/8/23</td>\n",
       "      <td>#13号台风天鸽# #随手拍广州# 应该是散发着仙气的小蛮腰@广州塔</td>\n",
       "      <td>粉丝互动：随手拍广州</td>\n",
       "    </tr>\n",
       "    <tr>\n",
       "      <th>2</th>\n",
       "      <td>3661</td>\n",
       "      <td>2017/8/23</td>\n",
       "      <td>#13号台风天鸽# #随手拍广州# 从延时摄影回顾一下今天这只鸽子[憧憬]</td>\n",
       "      <td>粉丝互动：随手拍广州</td>\n",
       "    </tr>\n",
       "    <tr>\n",
       "      <th>3</th>\n",
       "      <td>3662</td>\n",
       "      <td>2017/8/23</td>\n",
       "      <td>#小编8天气# 目前有一小块回波从番禺靠近市区，小伙伴们注意啦</td>\n",
       "      <td>粉丝互动：首席小编互动</td>\n",
       "    </tr>\n",
       "    <tr>\n",
       "      <th>4</th>\n",
       "      <td>3666</td>\n",
       "      <td>2017/8/24</td>\n",
       "      <td>#天气话你知# 降水回波靠近海珠啦[并不简单]</td>\n",
       "      <td>粉丝互动：首席小编互动</td>\n",
       "    </tr>\n",
       "  </tbody>\n",
       "</table>\n",
       "</div>"
      ],
      "text/plain": [
       "     id   statdate                                   text         所属分类\n",
       "0  3644  2017/8/23          #13号台风天鸽#  地铁4号线地面高架段恢复运营服务 ,    粉丝互动：奖品福利\n",
       "1  3660  2017/8/23     #13号台风天鸽# #随手拍广州# 应该是散发着仙气的小蛮腰@广州塔   粉丝互动：随手拍广州\n",
       "2  3661  2017/8/23  #13号台风天鸽# #随手拍广州# 从延时摄影回顾一下今天这只鸽子[憧憬]   粉丝互动：随手拍广州\n",
       "3  3662  2017/8/23        #小编8天气# 目前有一小块回波从番禺靠近市区，小伙伴们注意啦  粉丝互动：首席小编互动\n",
       "4  3666  2017/8/24                #天气话你知# 降水回波靠近海珠啦[并不简单]  粉丝互动：首席小编互动"
      ]
     },
     "execution_count": 80,
     "metadata": {},
     "output_type": "execute_result"
    }
   ],
   "source": [
    "frames = [fshd, dfe['所属分类']]\n",
    "result = pd.concat(frames, axis = 1)\n",
    "result.head()"
   ]
  },
  {
   "cell_type": "code",
   "execution_count": 81,
   "metadata": {
    "collapsed": true
   },
   "outputs": [],
   "source": [
    "result.to_csv('LDA_clustered_fshd.csv', encoding='gb18030')"
   ]
  },
  {
   "cell_type": "code",
   "execution_count": 57,
   "metadata": {
    "collapsed": true
   },
   "outputs": [],
   "source": [
    "# %%time\n",
    "# n_topics = 10    #此处的10可以自定义\n",
    "# lda = LatentDirichletAllocation(n_topics=n_topics, max_iter=50,\n",
    "#                                 learning_method='online',\n",
    "#                                 learning_offset=50.,\n",
    "#                                 random_state=0)\n",
    "# lda.fit(tf)\n",
    "# print_top_words(lda, tf_feature_names, n_top_words)\n",
    "# pyLDAvis.sklearn.prepare(lda, tf, tf_vectorizer)\n",
    "\n",
    "# %%time\n",
    "# data = pyLDAvis.sklearn.prepare(lda, tf, tf_vectorizer)\n",
    "# pyLDAvis.show(data)"
   ]
  }
 ],
 "metadata": {
  "kernelspec": {
   "display_name": "Python 3",
   "language": "python",
   "name": "python3"
  },
  "language_info": {
   "codemirror_mode": {
    "name": "ipython",
    "version": 3
   },
   "file_extension": ".py",
   "mimetype": "text/x-python",
   "name": "python",
   "nbconvert_exporter": "python",
   "pygments_lexer": "ipython3",
   "version": "3.6.4"
  }
 },
 "nbformat": 4,
 "nbformat_minor": 2
}

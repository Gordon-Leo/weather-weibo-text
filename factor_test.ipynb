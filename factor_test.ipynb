{
 "cells": [
  {
   "cell_type": "code",
   "execution_count": null,
   "metadata": {
    "collapsed": true
   },
   "outputs": [],
   "source": [
    "# @zhangjoy\n",
    "# @主题因子检验:分5组\n",
    "# @20180330"
   ]
  },
  {
   "cell_type": "code",
   "execution_count": 1,
   "metadata": {
    "collapsed": true
   },
   "outputs": [],
   "source": [
    "import pandas as pd\n",
    "factor_data_df = pd.read_csv(\"/Users/zhangjoy/Documents/vscode/py_project/lda/data/stock_topicfactor_all.csv\")"
   ]
  },
  {
   "cell_type": "code",
   "execution_count": 2,
   "metadata": {},
   "outputs": [
    {
     "data": {
      "text/plain": [
       "['ST保千里', '*ST油服']"
      ]
     },
     "execution_count": 2,
     "metadata": {},
     "output_type": "execute_result"
    }
   ],
   "source": [
    "factor_data_df['name']\n",
    "stock_list_STPT = [i for i in factor_data_df['name'].tolist() if \"ST\" in i or \"PT\" in i]\n",
    "stock_list_STPT"
   ]
  },
  {
   "cell_type": "code",
   "execution_count": 3,
   "metadata": {
    "collapsed": true
   },
   "outputs": [],
   "source": [
    "# 股票分组\n",
    "STPT = ['ST保千里', '*ST油服'] # 剔除 ST/PT 股票\n",
    "def stock_group(data,time):\n",
    "    group = [] # 股票（每月）分组\n",
    "    data_df = data[['name',time]] # /code\n",
    "    data_df = data_df.sort_values(by = time,axis = 0,ascending = False) # 按201604降序排序\n",
    "    stock_list = data_df['name'].tolist() # /code\n",
    "    group1 = [i for i in stock_list[:60] if not i in STPT]\n",
    "    group2 = [i for i in stock_list[60:120] if not i in STPT]\n",
    "    group3 = [i for i in stock_list[120:180] if not i in STPT]\n",
    "    group4 = [i for i in stock_list[180:240] if not i in STPT]\n",
    "    group5 = [i for i in stock_list[240:300] if not i in STPT]\n",
    "    group.append(group1)\n",
    "    group.append(group2)\n",
    "    group.append(group3)\n",
    "    group.append(group4)\n",
    "    group.append(group5)\n",
    "    stock.append(group)"
   ]
  },
  {
   "cell_type": "code",
   "execution_count": 5,
   "metadata": {},
   "outputs": [
    {
     "name": "stdout",
     "output_type": "stream",
     "text": [
      "18\n",
      "5\n",
      "60\n",
      "[60, 59, 59, 60, 60]\n"
     ]
    }
   ],
   "source": [
    "stock = []\n",
    "time_list = ['201604','201605','201606','201607','201608','201609','201610','201611','201612','201701','201702','201703','201704','201705','201706','201707','201708','201709']\n",
    "for time in time_list:\n",
    "    stock_group(factor_data_df,time)\n",
    "print(len(stock)) # 18个月\n",
    "print(len(stock[0])) # 分成5组\n",
    "print(len(stock[0][0])) # 每组60只股票\n",
    "print([len(stock[0][i]) for i in range(5)])"
   ]
  },
  {
   "cell_type": "code",
   "execution_count": 6,
   "metadata": {
    "collapsed": true
   },
   "outputs": [],
   "source": [
    "# 辅助函数：两列表对应元素相乘并求和\n",
    "def list_sum(a, b): \n",
    "    s = sum([a[i]*b[i] for i in range(len(a))])\n",
    "    return s"
   ]
  },
  {
   "cell_type": "code",
   "execution_count": 7,
   "metadata": {
    "collapsed": true
   },
   "outputs": [],
   "source": [
    "# 获取交易日日期数据\n",
    "s_name = '华夏银行'\n",
    "path = \"/Users/zhangjoy/Documents/vscode/py_project/lda/data/stockname_data/\" + s_name + \".csv\"\n",
    "s_df = pd.read_csv(path).sort_values(by='datetime',axis=0, ascending=True) # 按日期升序排序\n",
    "tradetime = s_df['datetime'].tolist() # 交易日数据"
   ]
  },
  {
   "cell_type": "code",
   "execution_count": 8,
   "metadata": {
    "collapsed": true
   },
   "outputs": [],
   "source": [
    "# 同时筛选股票\n",
    "# 每月交易日开始日和结束日，周末、节假日不（开盘）交易\n",
    "tradetime_start = ['2016-04-01','2016-05-03','2016-06-01','2016-07-01','2016-08-01','2016-09-01','2016-10-10','2016-11-01','2016-12-01','2017-01-03','2017-02-03','2017-03-01','2017-04-05','2017-05-02','2017-06-01','2017-07-03','2017-08-01','2017-09-01']\n",
    "tradetime_end = ['2016-04-29','2016-05-31','2016-06-30','2016-07-29','2016-08-31','2016-09-30','2016-10-31','2016-11-30','2016-12-30','2017-01-26','2017-02-28','2017-03-31','2017-04-28','2017-05-31','2017-06-30','2017-07-31','2017-08-31','2017-09-29']\n",
    "# 计算每个月 月末净（资产）值 + 每个月每组股票的持股数(/stay_num 登权分配)\n",
    "def asset_month(group, asset_list, sharenum_list, staystock_list): # group组号\n",
    "    asset = 1\n",
    "    asset_group = []\n",
    "    sharenum_group = []\n",
    "    staystock_group = []\n",
    "    for month in range(18):\n",
    "        share_num = [] # 持股数\n",
    "        end_close = [] # 月末收盘价，计算月末净值，即新的资产值\n",
    "        stay_stock = [] # 筛选的股票\n",
    "        for s in range(len(stock[month][group])):\n",
    "            s_name = stock[month][group][s]\n",
    "            path = \"/Users/zhangjoy/Documents/vscode/py_project/lda/data/stockname_data/\" + s_name + \".csv\"\n",
    "            try: \n",
    "                s_df = pd.read_csv(path)  # 读取文件数据\n",
    "                index_o = s_df.datetime.tolist().index(tradetime_start[month]) # 月初 2016-04-01 的索引\n",
    "                index_c = s_df.datetime.tolist().index(tradetime_end[month]) # 月末 2016-04-29 的索引\n",
    "\n",
    "                s_close_start = s_df[index_o:index_o+1]['close'].values[0] # 月初收盘价, 收盘价买入\n",
    "                s_num = asset/s_close_start # 根据收盘价计算个股的持股数\n",
    "                \n",
    "                s_close_end = s_df[index_c:index_c+1]['close'].values[0] # 月末收盘价，收盘价卖出\n",
    "                \n",
    "                stay_stock.append(s_name)\n",
    "                share_num.append(s_num)\n",
    "                end_close.append(s_close_end)\n",
    "                \n",
    "            except:\n",
    "                pass\n",
    "            \n",
    "        asset = list_sum(share_num,end_close)/len(stay_stock)\n",
    "        asset_group.append(asset)\n",
    "        sharenum_group.append(share_num)\n",
    "        staystock_group.append(stay_stock)\n",
    "    asset_list.append(asset_group)\n",
    "    sharenum_list.append(sharenum_group)\n",
    "    staystock_list.append(staystock_group)"
   ]
  },
  {
   "cell_type": "code",
   "execution_count": 9,
   "metadata": {
    "collapsed": true
   },
   "outputs": [],
   "source": [
    "asset_list, sharenum_list, staystock_list = [], [], []\n",
    "for i in range(5):\n",
    "    asset_month(i, asset_list, sharenum_list, staystock_list)"
   ]
  },
  {
   "cell_type": "code",
   "execution_count": 10,
   "metadata": {
    "collapsed": true
   },
   "outputs": [],
   "source": [
    "# 绘制净值曲线：已知 asset_list, sharenum_list, staystock_list, tradetime\n",
    "tradetime_list =[tradetime[0:20],tradetime[20:41],tradetime[41:61],tradetime[61:82],tradetime[82:105],tradetime[105:125],tradetime[125:141],tradetime[141:163],tradetime[163:185],tradetime[185:203],tradetime[203:221],tradetime[221:244],tradetime[244:262],tradetime[262:282],tradetime[282:304],tradetime[304:325],tradetime[325:348],tradetime[348:369]]\n",
    "def netvalue(group, netvalue_list):\n",
    "    netvalue_group = []\n",
    "    for month in range(18):\n",
    "        for tradeday in tradetime_list[month]: # month\n",
    "            close = []\n",
    "            for s_name in staystock_list[group][month]:\n",
    "                path = \"/Users/zhangjoy/Documents/vscode/py_project/lda/data/stockname_data/\" + s_name + \".csv\"\n",
    "                try:\n",
    "                    s_df = pd.read_csv(path)  # 读取文件数据\n",
    "                    index_c = s_df.datetime.tolist().index(tradeday) # 交易日的索引\n",
    "                    s_close = s_df[index_c:index_c+1]['close'].values[0] # 交易日收盘价\n",
    "                except:\n",
    "                    s_close = 0\n",
    "                close.append(s_close)\n",
    "            net_value = list_sum(sharenum_list[group][month],close)/len(sharenum_list[group][month])\n",
    "            netvalue_group.append(net_value)\n",
    "    netvalue_list.append(netvalue_group)"
   ]
  },
  {
   "cell_type": "code",
   "execution_count": 11,
   "metadata": {},
   "outputs": [
    {
     "name": "stdout",
     "output_type": "stream",
     "text": [
      "CPU times: user 32.6 s, sys: 1.88 s, total: 34.5 s\n",
      "Wall time: 34.7 s\n",
      "CPU times: user 34.9 s, sys: 2.16 s, total: 37.1 s\n",
      "Wall time: 37.7 s\n",
      "CPU times: user 33 s, sys: 2.08 s, total: 35.1 s\n",
      "Wall time: 35.5 s\n",
      "CPU times: user 34.6 s, sys: 2.28 s, total: 36.8 s\n",
      "Wall time: 37.3 s\n",
      "CPU times: user 31.3 s, sys: 1.85 s, total: 33.2 s\n",
      "Wall time: 33.4 s\n"
     ]
    }
   ],
   "source": [
    "netvalue_list = []\n",
    "for i in range(5):\n",
    "    %time netvalue(i, netvalue_list)"
   ]
  },
  {
   "cell_type": "code",
   "execution_count": 12,
   "metadata": {},
   "outputs": [
    {
     "name": "stdout",
     "output_type": "stream",
     "text": [
      "[0.0465467253686358, 0.12567874642208743, 0.01132543357453586, -0.0642079031733338, -0.07785696890480565]\n",
      "[0.03130375977672939, 0.0835118098438965, 0.007659115034446495, -0.043964916123782394, -0.05343465142159387]\n"
     ]
    }
   ],
   "source": [
    "# 计算策略指标\n",
    "asset_start = 1\n",
    "asset_end = [netvalue_list[i][-1] for i in range(5)] # 每组的最后资产值\n",
    "return_list = [(i-asset_start)/asset_start for i in asset_end] # 总收益率\n",
    "annual_return_list = [pow((1+i),250/369)-1 for i in return_list] # 年化收益率\n",
    "# 总收益率\n",
    "print(return_list)\n",
    "# 年化收益率\n",
    "print(annual_return_list) "
   ]
  },
  {
   "cell_type": "code",
   "execution_count": 13,
   "metadata": {
    "collapsed": true
   },
   "outputs": [],
   "source": [
    "# 日收益率列表\n",
    "dayreturn_list = []\n",
    "for group in range(5):\n",
    "    day_return = [(netvalue_list[group][i]-netvalue_list[group][i-1])/netvalue_list[group][i-1] for i in range(1,369)]\n",
    "    firstday_return = netvalue_list[group][0]-1 # 将第1个交易日的日收益率插入日收益率列表中\n",
    "    day_return.insert(0,firstday_return)\n",
    "    dayreturn_list.append(day_return)"
   ]
  },
  {
   "cell_type": "code",
   "execution_count": 14,
   "metadata": {},
   "outputs": [
    {
     "data": {
      "text/plain": [
       "[1.3222548967337415,\n",
       " 8.619479978304964,\n",
       " -1.4438584018513052,\n",
       " -9.291634075496521,\n",
       " -10.077478424866749]"
      ]
     },
     "execution_count": 14,
     "metadata": {},
     "output_type": "execute_result"
    }
   ],
   "source": [
    "# 夏普比率\n",
    "import numpy as np\n",
    "sharpe_list = []\n",
    "for i in range(5):\n",
    "    dayreturn_array = np.array(dayreturn_list[i])\n",
    "    sigma = np.std(dayreturn_array,ddof=1) # np.std无偏样本标准差方式为 ddof = 1 # 波动率计算\n",
    "    sharpe = (return_list[i]-0.03)/sigma\n",
    "    sharpe_list.append(sharpe)\n",
    "sharpe_list"
   ]
  },
  {
   "cell_type": "code",
   "execution_count": 16,
   "metadata": {},
   "outputs": [
    {
     "name": "stdout",
     "output_type": "stream",
     "text": [
      "[0.5284552845528455, 0.5176151761517616, 0.5365853658536586, 0.47696476964769646, 0.5094850948509485]\n"
     ]
    }
   ],
   "source": [
    "# 胜率\n",
    "def largerthan0_num(lst):\n",
    "    num = 0\n",
    "    for i in lst:\n",
    "        if i >= 0:\n",
    "            num = num + 1\n",
    "    return num\n",
    "print([largerthan0_num(dayreturn_list[i])/len(dayreturn_list[0]) for i in range(5)])"
   ]
  },
  {
   "cell_type": "code",
   "execution_count": 17,
   "metadata": {},
   "outputs": [
    {
     "data": {
      "text/plain": [
       "[0.03560597584514482,\n",
       " 0.024070519850608374,\n",
       " 0.020011180503650694,\n",
       " 0.018443868410791264,\n",
       " 0.021280391864789028]"
      ]
     },
     "execution_count": 17,
     "metadata": {},
     "output_type": "execute_result"
    }
   ],
   "source": [
    "# 最大回撤\n",
    "# 第 num 天的最大回撤值\n",
    "def drawdown(dayreturn_lst, num):\n",
    "    return dayreturn_lst[num] - max(dayreturn_lst[0:num]) # 前 num 天\n",
    "maxdrawdown_list =[]\n",
    "for group in range(5):\n",
    "    drawdown_list = [drawdown(dayreturn_list[group],i) for i in range(1,369)] # 368, 第1天没有回撤值\n",
    "    maxdrawdown_list.append(max(drawdown_list))\n",
    "maxdrawdown_list"
   ]
  }
 ],
 "metadata": {
  "kernelspec": {
   "display_name": "Python 3",
   "language": "python",
   "name": "python3"
  },
  "language_info": {
   "codemirror_mode": {
    "name": "ipython",
    "version": 3
   },
   "file_extension": ".py",
   "mimetype": "text/x-python",
   "name": "python",
   "nbconvert_exporter": "python",
   "pygments_lexer": "ipython3",
   "version": "3.6.3"
  }
 },
 "nbformat": 4,
 "nbformat_minor": 2
}

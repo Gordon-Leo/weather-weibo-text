{
 "cells": [
  {
   "cell_type": "code",
   "execution_count": 1,
   "metadata": {
    "collapsed": true
   },
   "outputs": [],
   "source": [
    "# @zhangjoy\n",
    "# @主题挖掘\n",
    "import csv\n",
    "import time\n",
    "import numpy as np\n",
    "import pandas as pd\n",
    "from pandas import Series,DataFrame\n",
    "import tushare as ts\n",
    "import jieba\n",
    "import re\n",
    "from sklearn.feature_extraction.text import CountVectorizer # 词频统计\n",
    "from sklearn.decomposition import LatentDirichletAllocation # LDA\n",
    "from collections import Counter\n",
    "from sklearn.feature_extraction.text import TfidfVectorizer # tf-idf统计\n",
    "from sklearn.cluster import KMeans # k均值聚类"
   ]
  },
  {
   "cell_type": "code",
   "execution_count": 3,
   "metadata": {},
   "outputs": [
    {
     "name": "stdout",
     "output_type": "stream",
     "text": [
      "6709\n"
     ]
    }
   ],
   "source": [
    "# 评论文本：comment\n",
    "filepath = \"/Users/zhangjoy/Documents/vscode/py_project/lda/data/20180201-20180301.csv\"   # 评论内容的存储路径\n",
    "with open(filepath, 'r') as f:\n",
    "    reader = csv.reader(f)\n",
    "    comment = [row[7] for row in reader]\n",
    "comment.pop(0) # '评论内容'\n",
    "print(len(comment)) # 6710"
   ]
  },
  {
   "cell_type": "code",
   "execution_count": 4,
   "metadata": {
    "collapsed": true
   },
   "outputs": [
    {
     "data": {
      "text/plain": [
       "'来源：凤凰网 编辑：东方财富网北京时间2月1日03:00，美联储主席耶伦将最后一次主持美联储利率会议。接下来，鲍威尔将执掌美联储，成为新一任主席。2014年，耶伦接任美联储主席，成为首位女性掌门人。当时，美联储在前任主席伯南克的领导下实行量化宽松的货币政策。量化宽松主要是指美联储通过从金融机构手中购买债券，增加基础货币供给。量化宽松的货币政策为美国经济注入了数十亿美元的资金，以维持金融危机之后美国经济的正常运行。下个月，耶伦将卸任美联储主席一职。她的功绩就是开启了停止量化宽松这个台“机器”的漫长征程，并在2015年7月宣布了七年来的首次加息。美国的利率在金融危机期间一直保持平稳，但现在又开始上调。由于美国股市处于历史高位，美国经济增长继续走强，失业率正处于2000年以来的最低水平，因此，鲍威尔接下来的任务将十分艰巨。虽然今年晚些时候还会有进一步加息，但预计本月不会加息。荷兰国际集团资深经济学家詹姆斯表示：“耶伦强有力的领导力和强硬的决策能力，让美国经济表现强劲。鉴于美国经济取得的这些成就，下一任主席鲍威尔将面临非常严格的门槛标准。”以下是耶伦取得的几项成就：充分就业在卸任美联储主席时，耶伦已经完成了美国国会设置的关键经济目标，即最大化美国就业率。在耶伦的领导下，美国失业率在过去4年里下降了三分之一以上。去年12月，美国失业率水平从耶伦上任伊始的6.7%下降到4.1%，创2000年以来的最低水平。由于美联储的长期失业率预估水平为4.6%，因此加息的时机已经出现。但是，鲍威尔需谨慎行事，以使得特朗普总统满意。据悉，特朗普胜选的重要一点是他承诺将重点改善美国的就业问题。通胀稳定且通胀速度缓慢耶伦也完成了美国国会设定的第二个目标：将通货膨胀水平保持在稳定且缓慢波动的范围内，美国物价增长水平接近2%的目标水平。尽管2015年，美国消费者价格指数受通货紧缩影响接近她初任美联储主席时的水平，但消费者价格近年来一直在稳步增长，没有出现失控的局面。去年12月，美国通胀率为2.1%。但是，耶伦也必须解决一个难题，这个难题鲍威尔接手之后也会面对：尽管美国失业率处于2000年以来的最低水平，但奇怪的是美国工人的工资仍然没有出现增长。因此，美联储需要确保在进一步加息之前，工人的工资将会增长。去年，耶伦开始缩减美联储4.5 万亿美元(合3.2万亿英镑)的资产负债表，同时，投资者也对她逐渐退出经济刺激计划的做法予以赞赏。相比之下，上一任美联储主席伯南克在信贷紧缩时期推出了量化宽松的货币政策，结果2013年市场陷入混乱。而当时，伯南克首次直播发布了市场展望。在耶伦的领导下，美联储现将利率从零的水平上调，并开始逐步缩减量化宽松政策下的购债规模。这样做，能够让美联储有回旋的余地，能够通过重启量化宽松的货币政策或再次降低利率来应对未来的经济冲击。金融体系更安全2008年金融危机的爆发使得华尔街金融机构几近崩溃。之后，美联储在耶伦的监管下出台了，《多德-弗兰克法案》改革美国金融体系，以大幅提高美国金融和银行体系的安全度。但是，特朗普总统希望能够放松金融监管以促进放贷。但耶伦坚决主张保留《多德-弗兰克法案》，声称该法案并没有过度限制企业和家庭融资。耶伦的立场也是特朗普没有支持她连任的原因。股市或许会想念耶伦在耶伦的领带下，美国股市一路飙升。道琼斯工业平均指数在她执掌的四年内上涨70%。虽然上涨幅度比不上另一位前任主席格林斯潘在任时的幅度，但也着实令人印象深刻。20世纪80年代末到2006年格林斯潘在任期间，道琼斯工业平均指数上涨了4倍。耶伦及其他美联储主席发布的“前瞻指引”明确了货币政策变化的时机和节奏。据报道，全球各大央行行长都会发布“前瞻指引”，这其中就包括英国央行行长马克·卡尼(Mark Carney)和欧洲央行行长德拉吉(Mario Draghi)。事实证明，关注货币政策走向的投资者来说，“前瞻指引”至关重要，因为它让市场维持了低波动性，也为股价的大幅上涨铺平了道路。耶伦的继任者鲍威尔是一名律师，他不是一名经济学家。因此，投资者将密切关注鲍威尔上任之后的货币政策走向。如果鲍威尔不能像耶伦一样及时发布美联储政策的“前瞻指引”，投资者或将感到不安。Royal London资产管理公司分析师Trevor Greetham表示：“耶伦是一个稳中求胜的掌舵者。”总之，鲍威尔的任务非常艰巨。（来源：凤凰网 2018-02-01 00:08）[点击查看原文]'"
      ]
     },
     "execution_count": 4,
     "metadata": {},
     "output_type": "execute_result"
    }
   ],
   "source": [
    "comment[6708]"
   ]
  },
  {
   "cell_type": "code",
   "execution_count": 26,
   "metadata": {
    "collapsed": true
   },
   "outputs": [],
   "source": [
    "# comment可视化分析\n",
    "l_lst = [len(c) for c in comment]"
   ]
  },
  {
   "cell_type": "code",
   "execution_count": 27,
   "metadata": {},
   "outputs": [
    {
     "data": {
      "text/plain": [
       "18037"
      ]
     },
     "execution_count": 27,
     "metadata": {},
     "output_type": "execute_result"
    }
   ],
   "source": [
    "max(l_lst)"
   ]
  },
  {
   "cell_type": "code",
   "execution_count": 28,
   "metadata": {},
   "outputs": [
    {
     "data": {
      "text/plain": [
       "17"
      ]
     },
     "execution_count": 28,
     "metadata": {},
     "output_type": "execute_result"
    }
   ],
   "source": [
    "min(l_lst)"
   ]
  },
  {
   "cell_type": "code",
   "execution_count": 30,
   "metadata": {},
   "outputs": [
    {
     "data": {
      "text/plain": [
       "1521.9317334923237"
      ]
     },
     "execution_count": 30,
     "metadata": {},
     "output_type": "execute_result"
    }
   ],
   "source": [
    "sum(l_lst) / len(l_lst)"
   ]
  },
  {
   "cell_type": "code",
   "execution_count": 44,
   "metadata": {
    "collapsed": true
   },
   "outputs": [],
   "source": [
    "t_lst = [466,511,348,195,689,584,451,355,315,128,123,195,202,178,52,50,51,32,48,43,56,303,302,131,67,272,299,263]"
   ]
  },
  {
   "cell_type": "code",
   "execution_count": 45,
   "metadata": {},
   "outputs": [
    {
     "data": {
      "text/plain": [
       "6709"
      ]
     },
     "execution_count": 45,
     "metadata": {},
     "output_type": "execute_result"
    }
   ],
   "source": [
    "sum(t_lst)"
   ]
  },
  {
   "cell_type": "code",
   "execution_count": 5,
   "metadata": {},
   "outputs": [
    {
     "name": "stdout",
     "output_type": "stream",
     "text": [
      "[Getting data:]###########################"
     ]
    }
   ],
   "source": [
    "# 得到所有股票的代码和中文名字\n",
    "stock_name = ts.get_stock_basics()['name'] # 股票名称\n",
    "stock_code = stock_name.index.tolist() # 股票代码\n",
    "# 获得所有的概念列表、行业列表、地域列表、公司名称等\n",
    "concept = ts.get_concept_classified()['c_name'].drop_duplicates().values.tolist() # 概念列表 163\n",
    "industry = ts.get_industry_classified('sw')['c_name'].drop_duplicates().values.tolist() # 申万行业列表 129 > 110\n",
    "place = ts.get_area_classified()['area'].drop_duplicates().values.tolist() # 获取地域列表 32 省份\n",
    "\n",
    "broker = ts.broker_tops()[\"broker\"] # 获取营业部信息：1062\n",
    "pattern = re.compile(u'.*有限.*?公司') # 最小匹配[*?]到'有限 公司'\n",
    "company = [\" \".join(pattern.findall(s)) for s in broker] # list\n",
    "company = pd.Series(company).drop_duplicates().values.tolist() # 证券公司：94"
   ]
  },
  {
   "cell_type": "code",
   "execution_count": 6,
   "metadata": {},
   "outputs": [
    {
     "name": "stderr",
     "output_type": "stream",
     "text": [
      "Building prefix dict from the default dictionary ...\n",
      "Dumping model to file cache /var/folders/xv/52pzd4c57hb49kf41gxp713w0000gn/T/jieba.cache\n",
      "Loading model cost 0.927 seconds.\n",
      "Prefix dict has been built succesfully.\n"
     ]
    }
   ],
   "source": [
    "# 将上述信息作为新词录入词典\n",
    "for d in stock_name:\n",
    "    jieba.add_word(d)\n",
    "for d in stock_code:\n",
    "    jieba.add_word(d)\n",
    "for d in concept:\n",
    "    jieba.add_word(d)\n",
    "for d in industry:\n",
    "    jieba.add_word(d)\n",
    "for d in place:\n",
    "    jieba.add_word(d)    \n",
    "for d in company:\n",
    "    jieba.add_word(d)"
   ]
  },
  {
   "cell_type": "code",
   "execution_count": 7,
   "metadata": {
    "collapsed": true
   },
   "outputs": [],
   "source": [
    "# 启用自定义词典\n",
    "jieba.load_userdict(\"/Users/zhangjoy/Documents/vscode/py_project/lda/data/userdict.txt\")"
   ]
  },
  {
   "cell_type": "code",
   "execution_count": 8,
   "metadata": {
    "collapsed": true
   },
   "outputs": [],
   "source": [
    "# 停用词列表\n",
    "stop =[line.strip() for line in open('/Users/zhangjoy/Documents/vscode/py_project/lda/data/stopwords.txt').readlines()]"
   ]
  },
  {
   "cell_type": "code",
   "execution_count": 9,
   "metadata": {
    "collapsed": true
   },
   "outputs": [],
   "source": [
    "# 匹配中文\n",
    "pattern = re.compile(u'[\\u4e00-\\u9fa5]{2,20}')"
   ]
  },
  {
   "cell_type": "code",
   "execution_count": 10,
   "metadata": {},
   "outputs": [
    {
     "name": "stdout",
     "output_type": "stream",
     "text": [
      "preprocessing time using 117.78608 s\n"
     ]
    }
   ],
   "source": [
    "text = [] # 清洗后文本\n",
    "t1 = time.time()\n",
    "for sentence in comment:\n",
    "    chinese = pattern.findall(sentence) # 匹配中文：先分句\n",
    "    seg = [jieba.cut(c) for c in chinese] # 双重列表：句上分词\n",
    "    c = []\n",
    "    for ss in seg:\n",
    "        for s in ss:\n",
    "            if s not in stop: # 过滤停用词\n",
    "                c.append(s)\n",
    "    text.append(\" \".join(c))\n",
    "t2 = time.time()\n",
    "print(\"preprocessing time using %.5f s\" %(t2-t1)) # 预处理时间 111.45185 s"
   ]
  },
  {
   "cell_type": "code",
   "execution_count": 11,
   "metadata": {
    "collapsed": true
   },
   "outputs": [
    {
     "data": {
      "text/plain": [
       "'北京时间 美联储 主席 耶伦 最后一次 主持 美联储 利率 鲍威尔 执掌 美联储 成为 新一任 主席 耶伦 接任 美联储 主席 成为 首位 女性 掌门人 当时 美联储 前任 主席 伯南克 领导 实行 量化 宽 松 货币政策 量化 宽松 主要 指 美联储 金融机构 手中 购买 债券 增加 基础 货币 供给 量化 宽松 货币政策 美国 经济 注入 数十亿 美元 资金 维持 金融危机 美国 经济 正常 运行 下个月 耶伦 卸任 美联储 主席 一职 功绩 开启 停止 量化 宽松 台 机器 漫长 征程 宣布 首次 加息 美国 利率 金融危机 期间 保持 平稳 上调 美国股市 处于 历史 高位 美国 经济 增长 走强 失业率 正 处于 最低水平 鲍威尔 任务 十分艰巨 晚些时候 还会 进一步 加息 预计 本月 加息 荷兰 国际 集团 资深 经济学家 詹姆斯 耶伦 强有力 领导力 强硬 决策 能力 美国 经济 表现 强劲 美国 经济 取得 成就 一任 主席 鲍威尔 面临 严格 门槛 标准 耶伦 取得 几项 成就 充分就业 卸任 美联储 主席 时 耶伦 完成 美国国会 设置 关键 经济 目标 最大化 美国 就业率 耶伦 领导 美国 失业率 过去 下降 三分之一 美国 失业率 水平 从耶伦 上任 伊始 下降 最低水平 美联储 长期 失业率 预估 水平 加息 时机 出现 鲍威尔 需谨慎 行事 特朗普 总统 满意 特朗普 胜选 重要 一点 承诺 重点 改善 美 国 就业 通胀 稳定 通胀 速度 缓慢 耶伦 完成 美国 国 设定 第二个 目标 通货膨胀 水平 保持 稳定 缓慢 波动 范围 美国 物价 增长 水平 接近 目标 水平 美国 消费者 价格指数 受 通货紧缩 影响 接近 初 美联储 主席 时 水平 消费者 价格 稳步增长 出现 失控 局面 美国 通胀率 耶伦 解决 难题 难题 鲍威尔 接手 面对 美国 失业率 处于 最低水平 奇怪的是 美国 工人 工资 出现 增长 美联储 需要 确保 进一步 加息 之前 工人 工资 将会 增长 耶伦 缩减 美联储 万亿美元 万 亿英镑 资产负债表 投资者 逐渐 退出 经济 刺激 计划 做法 予 赞赏 相比之下 一任 美联储 主席 伯南克 信贷 紧缩 时期 推出 量化 宽松 货币政策 陷入 混乱 当时 伯南克 首次 直播 发布 展望 耶伦 领导 美联储 现将 利率 零 水平 上调 缩 减量化 宽松 购债 规模 做 能够 美联储 回旋 余地 能够 重启 量化 宽松 货币政策 降低 利率 应对 未来 经济 冲击 金融体系 更 安全 金融危机 爆发 华尔街 金融机构 几近 崩 美联储 耶伦 监管 出台 多德 弗兰克 法案 改革 美国 金融体系 大幅提高 美国 金融 银行 体系 安全度 特朗普 总统 希望 能够 放松 金融监管 促进 放贷 但耶伦 坚决 主张 保留 多德 弗兰克 法案 声称 法案 过度 限制 企业 家庭 融资 耶伦 立场 特朗普 支持 连任 原因 股市 想念 耶伦 耶伦 领带 美国股市 一路 飙升 道琼斯 工业 平均 指数 执掌 四年 上涨 上涨幅度 比不上 一位 前任 主席 格林斯潘 在任 时 幅度 着实 令人 印象 深刻 格林斯潘 在任 期间 道琼斯 工业 平均 指数 上涨 耶伦 美联储 主席 发布 前瞻指引 明确 货币政策 变化 时机 节奏 全球 各大 央行 行长 发布 前瞻指引 包括 英国 央行 行长 马克 卡尼 欧洲央行 行长 德拉吉 事实证明 关注 货币政策 走向 投资者 前瞻指引 至关重要 维持 低 波动性 股价 大幅 上涨 铺平 道路 耶伦 继任者 鲍威尔 一名 律师 一名 经济学家 投资者 密切 关注 鲍威尔 上任 货币政策 走向 鲍威尔 耶伦 及时 发布 美联储 政 策 前瞻指引 投资者 感到 不安 资产管理 分析师 耶伦是 稳中求胜 掌舵者 鲍威尔 任务 艰巨'"
      ]
     },
     "execution_count": 11,
     "metadata": {},
     "output_type": "execute_result"
    }
   ],
   "source": [
    "text[6708]"
   ]
  },
  {
   "cell_type": "code",
   "execution_count": 19,
   "metadata": {
    "collapsed": true
   },
   "outputs": [
    {
     "name": "stdout",
     "output_type": "stream",
     "text": [
      "北京时间 美联储 主席 耶伦 最后一次 主持 美联储 利率 鲍威尔 执掌 美联储 成为 新一任 主席 耶伦 接任 美联储 主席 成为 首位 女性 掌门人 当时 美联储 前任 主席 伯南克 领导 实行 量化 宽 松 货币政策 量化 宽松 主要 指 美联储 金融机构 手中 购买 债券 增加 基础 货币 供给 量化 宽松 货币政策 美国 经济 注入 数十亿 美元 资金 维持 金融危机 美国 经济 正常 运行 下个月 耶伦 卸任 美联储 主席 一职 功绩 开启 停止 量化 宽松 台 机器 漫长 征程 宣布 首次 加息 美国 利率 金融危机 期间 保持 平稳 上调 美国股市 处于 历史 高位 美国 经济 增长 走强 失业率 正 处于 最低水平 鲍威尔 任务 十分艰巨 晚些时候 还会 进一步 加息 预计 本月 加息 荷兰 国际 集团 资深 经济学家 詹姆斯 耶伦 强有力 领导力 强硬 决策 能力 美国 经济 表现 强劲 美国 经济 取得 成就 一任 主席 鲍威尔 面临 严格 门槛 标准 耶伦 取得 几项 成就 充分就业 卸任 美联储 主席 时 耶伦 完成 美国国会 设置 关键 经济 目标 最大化 美国 就业率 耶伦 领导 美国 失业率 过去 下降 三分之一 美国 失业率 水平 从耶伦 上任 伊始 下降 最低水平 美联储 长期 失业率 预估 水平 加息 时机 出现 鲍威尔 需谨慎 行事 特朗普 总统 满意 特朗普 胜选 重要 一点 承诺 重点 改善 美 国 就业 通胀 稳定 通胀 速度 缓慢 耶伦 完成 美国 国 设定 第二个 目标 通货膨胀 水平 保持 稳定 缓慢 波动 范围 美国 物价 增长 水平 接近 目标 水平 美国 消费者 价格指数 受 通货紧缩 影响 接近 初 美联储 主席 时 水平 消费者 价格 稳步增长 出现 失控 局面 美国 通胀率 耶伦 解决 难题 难题 鲍威尔 接手 面对 美国 失业率 处于 最低水平 奇怪的是 美国 工人 工资 出现 增长 美联储 需要 确保 进一步 加息 之前 工人 工资 将会 增长 耶伦 缩减 美联储 万亿美元 万 亿英镑 资产负债表 投资者 逐渐 退出 经济 刺激 计划 做法 予 赞赏 相比之下 一任 美联储 主席 伯南克 信贷 紧缩 时期 推出 量化 宽松 货币政策 陷入 混乱 当时 伯南克 首次 直播 发布 展望 耶伦 领导 美联储 现将 利率 零 水平 上调 缩 减量化 宽松 购债 规模 做 能够 美联储 回旋 余地 能够 重启 量化 宽松 货币政策 降低 利率 应对 未来 经济 冲击 金融体系 更 安全 金融危机 爆发 华尔街 金融机构 几近 崩 美联储 耶伦 监管 出台 多德 弗兰克 法案 改革 美国 金融体系 大幅提高 美国 金融 银行 体系 安全度 特朗普 总统 希望 能够 放松 金融监管 促进 放贷 但耶伦 坚决 主张 保留 多德 弗兰克 法案 声称 法案 过度 限制 企业 家庭 融资 耶伦 立场 特朗普 支持 连任 原因 股市 想念 耶伦 耶伦 领带 美国股市 一路 飙升 道琼斯 工业 平均 指数 执掌 四年 上涨 上涨幅度 比不上 一位 前任 主席 格林斯潘 在任 时 幅度 着实 令人 印象 深刻 格林斯潘 在任 期间 道琼斯 工业 平均 指数 上涨 耶伦 美联储 主席 发布 前瞻指引 明确 货币政策 变化 时机 节奏 全球 各大 央行 行长 发布 前瞻指引 包括 英国 央行 行长 马克 卡尼 欧洲央行 行长 德拉吉 事实证明 关注 货币政策 走向 投资者 前瞻指引 至关重要 维持 低 波动性 股价 大幅 上涨 铺平 道路 耶伦 继任者 鲍威尔 一名 律师 一名 经济学家 投资者 密切 关注 鲍威尔 上任 货币政策 走向 鲍威尔 耶伦 及时 发布 美联储 政 策 前瞻指引 投资者 感到 不安 资产管理 分析师 耶伦是 稳中求胜 掌舵者 鲍威尔 任务 艰巨\n"
     ]
    }
   ],
   "source": [
    "# 使第6708条评论完美分词\n",
    "jieba.load_userdict(\"/Users/zhangjoy/Documents/vscode/py_project/lda/data/userdict.txt\")\n",
    "stop =[line.strip() for line in open('/Users/zhangjoy/Documents/vscode/py_project/lda/data/stopwords.txt').readlines()]\n",
    "text_6708 = \"\" # 清洗后文本\n",
    "comment_6708 = comment[6708]\n",
    "chinese = pattern.findall(comment_6708) # 匹配中文：先分句\n",
    "seg = [jieba.cut(c) for c in chinese] # 双重列表：句上分词\n",
    "c = []\n",
    "for ss in seg:\n",
    "    for s in ss:\n",
    "        if s not in stop: # 过滤停用词\n",
    "            c.append(s)\n",
    "text_6708 = \" \".join(c)\n",
    "print(text_6708)"
   ]
  },
  {
   "cell_type": "code",
   "execution_count": 12,
   "metadata": {
    "collapsed": true
   },
   "outputs": [],
   "source": [
    "corpus = text # 清洗后文本作为语料"
   ]
  },
  {
   "cell_type": "code",
   "execution_count": 13,
   "metadata": {
    "collapsed": true
   },
   "outputs": [],
   "source": [
    "# LDA\n",
    "# 特征处理: 词频做文档特征\n",
    "# 构建 Document-word matrix\n",
    "count_vectorizer = CountVectorizer(stop_words=stop) # 停用词, 特征选择：min_df = 6\n",
    "count = count_vectorizer.fit_transform(corpus) # 文档-词频矩阵：<class 'scipy.sparse.csr.csr_matrix'>\n",
    "word_names = count_vectorizer.get_feature_names() # wordlist 长度：84888"
   ]
  },
  {
   "cell_type": "code",
   "execution_count": 68,
   "metadata": {},
   "outputs": [
    {
     "name": "stdout",
     "output_type": "stream",
     "text": [
      "(6709, 4385)\n"
     ]
    }
   ],
   "source": [
    "countpie_vectorizer = CountVectorizer(min_df=50,stop_words=stop) # 过滤词出现的文档数 < 50 的词 ：特征提取\n",
    "countpie = countpie_vectorizer.fit_transform(corpus) # 文档-词频矩阵：<class 'scipy.sparse.csr.csr_matrix'>\n",
    "print(countpie.shape)"
   ]
  },
  {
   "cell_type": "code",
   "execution_count": 20,
   "metadata": {
    "collapsed": true
   },
   "outputs": [],
   "source": [
    "c_lst = [count.sum(axis=0)[0,i] for i in range(len(word_names))] # 每个词的词频列表 耗时：5m"
   ]
  },
  {
   "cell_type": "code",
   "execution_count": 24,
   "metadata": {},
   "outputs": [
    {
     "data": {
      "text/plain": [
       "59454"
      ]
     },
     "execution_count": 24,
     "metadata": {},
     "output_type": "execute_result"
    }
   ],
   "source": [
    "less_6 = sum([Counter(c_lst)[i] for i in range(6)]) # 词频 < 6 的个数"
   ]
  },
  {
   "cell_type": "code",
   "execution_count": 43,
   "metadata": {
    "collapsed": true
   },
   "outputs": [],
   "source": [
    "# 特征选择：基于文档频率，返回文档频率排名前 K 的词语\n",
    "def word_count_select(df,K):\n",
    "    df_mean = df.mean() # 求每列的均值/和等\n",
    "    # 基于 文档频率排序 选择特征，一定返回K个词语\n",
    "    WordTF_series = df_mean.sort_values(ascending=False) # 降序排序\n",
    "    WordTF_topK = WordTF_series[:K] # 选择前 K 的特征\n",
    "    word_feature = WordTF_topK.index # word_name [pandas.core.indexes.base.Index]\n",
    "    feature_list = list(WordTF_topK.index) # list(word_name)\n",
    "    return word_feature,feature_list\n",
    "# 词频小于 6 的个数统计\n",
    "def count_less_n(lst,N):\n",
    "    lessN = sum([Counter(lst)[i] for i in range(N)]) # 词频 < N 的个数\n",
    "    return lessN"
   ]
  },
  {
   "cell_type": "code",
   "execution_count": null,
   "metadata": {
    "collapsed": true
   },
   "outputs": [],
   "source": [
    "# 把文档-词语矩阵转为数据框格式\n",
    "count_ndarray = count.toarray()\n",
    "count_df = DataFrame(count_ndarray, colunms=word_names)\n",
    "k = len(word_names) - count_less_n(c_lst,6) # 词频 > 6 的个数\n",
    "\n",
    "wordstay_names,wordstay_names_list = word_count_select(count_df,k)\n",
    "count_df2 = count_df[wordstay_names]\n",
    "countstay = count_df2.as_matrix(columns=wordstay_names_list) # matrix"
   ]
  },
  {
   "cell_type": "code",
   "execution_count": 49,
   "metadata": {},
   "outputs": [
    {
     "data": {
      "text/plain": [
       "numpy.matrixlib.defmatrix.matrix"
      ]
     },
     "execution_count": 49,
     "metadata": {},
     "output_type": "execute_result"
    }
   ],
   "source": [
    "# count # 6709x84884 sparse matrix numpy.int64\n",
    "# 去掉低频词：在主题模型中，数据预处理需要去掉低频词，大多数阈值设定为5或6,此处设定为6\n",
    "# matrix是numpy中的特殊类型，作为array的子类出现，所以继承了array的所有特性并且有自己的特殊的地方，专门用来处理线性代数操作"
   ]
  },
  {
   "cell_type": "code",
   "execution_count": 81,
   "metadata": {
    "collapsed": true
   },
   "outputs": [],
   "source": [
    "# 词频数分布情况\n",
    "f = open('/Users/zhangjoy/Documents/vscode/py_project/lda/data/count_1.txt','w')\n",
    "f.write(str([Counter(c_lst).most_common(1178)[i][0] for i in range(1178)]))\n",
    "f.close()\n",
    "f = open('/Users/zhangjoy/Documents/vscode/py_project/lda/data/count_2.txt','w')\n",
    "f.write(str([Counter(c_lst).most_common(1178)[i][1] for i in range(1178)]))\n",
    "f.close()"
   ]
  },
  {
   "cell_type": "code",
   "execution_count": null,
   "metadata": {
    "collapsed": true
   },
   "outputs": [],
   "source": []
  },
  {
   "cell_type": "code",
   "execution_count": null,
   "metadata": {
    "collapsed": true
   },
   "outputs": [],
   "source": []
  },
  {
   "cell_type": "code",
   "execution_count": 50,
   "metadata": {},
   "outputs": [
    {
     "data": {
      "text/plain": [
       "LatentDirichletAllocation(batch_size=128, doc_topic_prior=None,\n",
       "             evaluate_every=-1, learning_decay=0.7,\n",
       "             learning_method='batch', learning_offset=10.0,\n",
       "             max_doc_update_iter=100, max_iter=50, mean_change_tol=0.001,\n",
       "             n_components=50, n_jobs=1, n_topics=None, perp_tol=0.1,\n",
       "             random_state=None, topic_word_prior=None,\n",
       "             total_samples=1000000.0, verbose=0)"
      ]
     },
     "execution_count": 50,
     "metadata": {},
     "output_type": "execute_result"
    }
   ],
   "source": [
    "# 主题挖掘建模：LDA算法\n",
    "# 训练模型\n",
    "k = 50 # 选择主题数\n",
    "lda_50 = LatentDirichletAllocation(n_components=k, max_iter=50, learning_method='batch')\n",
    "lda_50.fit(countstay)\n",
    "# 6709文档，单词数：25434，分50个主题 耗时：< 10m"
   ]
  },
  {
   "cell_type": "code",
   "execution_count": 51,
   "metadata": {},
   "outputs": [
    {
     "data": {
      "text/plain": [
       "LatentDirichletAllocation(batch_size=128, doc_topic_prior=None,\n",
       "             evaluate_every=-1, learning_decay=0.7,\n",
       "             learning_method='batch', learning_offset=10.0,\n",
       "             max_doc_update_iter=100, max_iter=50, mean_change_tol=0.001,\n",
       "             n_components=30, n_jobs=1, n_topics=None, perp_tol=0.1,\n",
       "             random_state=None, topic_word_prior=None,\n",
       "             total_samples=1000000.0, verbose=0)"
      ]
     },
     "execution_count": 51,
     "metadata": {},
     "output_type": "execute_result"
    }
   ],
   "source": [
    "# 训练模型\n",
    "k = 30 # 选择主题数\n",
    "lda_30 = LatentDirichletAllocation(n_components=k, max_iter=50, learning_method='batch')\n",
    "lda_30.fit(countstay)\n",
    "# 6709文档，单词数：25434，分30个主题 耗时：12:54-13:01 7m"
   ]
  },
  {
   "cell_type": "code",
   "execution_count": 52,
   "metadata": {},
   "outputs": [
    {
     "data": {
      "text/plain": [
       "LatentDirichletAllocation(batch_size=128, doc_topic_prior=None,\n",
       "             evaluate_every=-1, learning_decay=0.7,\n",
       "             learning_method='batch', learning_offset=10.0,\n",
       "             max_doc_update_iter=100, max_iter=50, mean_change_tol=0.001,\n",
       "             n_components=10, n_jobs=1, n_topics=None, perp_tol=0.1,\n",
       "             random_state=None, topic_word_prior=None,\n",
       "             total_samples=1000000.0, verbose=0)"
      ]
     },
     "execution_count": 52,
     "metadata": {},
     "output_type": "execute_result"
    }
   ],
   "source": [
    "# 训练模型\n",
    "k = 10 # 选择主题数\n",
    "lda_10 = LatentDirichletAllocation(n_components=k, max_iter=50, learning_method='batch')\n",
    "lda_10.fit(countstay)\n",
    "# 6709文档，单词数：25434，分10个主题 耗时：13:02-13:08 6m"
   ]
  },
  {
   "cell_type": "code",
   "execution_count": 111,
   "metadata": {
    "collapsed": true
   },
   "outputs": [],
   "source": [
    "# 结果展示\n",
    "# Topic Words 结果\n",
    "# topicword_matrix = lda.components_ # numpy.ndarray\n",
    "# print(topicword_matrix[0,1]) # topicword_matrix[i,j]: word j was assigned to topic i\n",
    "# print(topicword_matrix.shape)\n",
    "# topicword_matrix / topicword_matrix.sum(axis=1)[:, np.newaxis] # normalization\n",
    "\n",
    "# Topic（Top）Words结果\n",
    "def print_top_words(model, feature_names, n_top_words):\n",
    "    print(\"# 打印每个主题下权重较高的词\")\n",
    "    topicword_matrix = model.components_ # Topic Words 分布结果 numpy.ndarray\n",
    "    for topic_idx, topic in enumerate(topicword_matrix):\n",
    "        print(\"Topic # %d: \" % topic_idx)\n",
    "        print(''.join([feature_names[i] + ' ' + str(round(topic[i], 2)) + '| ' for i in topic.argsort()[:-n_top_words - 1:-1]]))\n",
    "        # print(\" \".join([feature_names[i] for i in topic.argsort()[:-n_top_words - 1:-1]]))\n",
    "\n",
    "def print_top_words_name(model, feature_names, n_top_words):\n",
    "    print(\"# 打印每个主题下权重较高的词\")\n",
    "    topicword_matrix = model.components_\n",
    "    for topic_idx, topic in enumerate(topicword_matrix):\n",
    "#         print(\"Topic # %d:\" % topic_idx)\n",
    "        print(\"Topic %d:\" % topic_idx, \" \".join([feature_names[i] for i in topic.argsort()[:-n_top_words - 1:-1]]))"
   ]
  },
  {
   "cell_type": "code",
   "execution_count": 55,
   "metadata": {
    "collapsed": true
   },
   "outputs": [],
   "source": [
    "# Doc Topics 结果\n",
    "# 通过fit_transform函数,可以得到文档主题分布,Doc_Topic distribution matrix\n",
    "# doctopic_matrix = lda.fit_transform(dw_countvector) # numpy.ndarray\n",
    "# print(doctopic_matrix)\n",
    "# print(doctopic_matrix.shape)\n",
    "\n",
    "# Doc（Top）Topic结果\n",
    "def print_top_topics(model, feature_names, n_top_topics):\n",
    "#     fo = open(\"/Users/zhangjoy/Documents/vscode/py_project/lda/data/doc_top_topics.txt\", \"rw+\")\n",
    "    print(\"# 打印每个文档下权重较高的主题\")\n",
    "    doctopic_matrix = model.fit_transform(countstay)\n",
    "    for doc_idx, doc in enumerate(doctopic_matrix):\n",
    "        print(\"Doc # %d:\" % doc_idx)\n",
    "        print(''.join([str(feature_names[i]) + ' ' + str(round(doc[i], 2)) + '| ' for i in doc.argsort()[:-n_top_topics - 1:-1]]))"
   ]
  },
  {
   "cell_type": "code",
   "execution_count": 56,
   "metadata": {
    "collapsed": true
   },
   "outputs": [
    {
     "name": "stdout",
     "output_type": "stream",
     "text": [
      "# 打印每个主题下权重较高的词\n",
      "万科 英国 经济 中国 美国 主席 特朗普 董事 薪酬 利润\n",
      "建设 规划 雄安新区 会议 海南 合作 北京 发展 习近平 旅游\n",
      "项目 企业 政府 环保 税收 快递 示范 信用 记者 环境\n",
      "进口 阿胶 中国 药品 股份 美国 出口 发射 国家 火箭\n",
      "期货 原油 石油 原油期货 天然气 合约 价格 国内 中国 国际\n",
      "汽车 新能源 电池 补贴 万辆 企业 回收 材料 动力电池 全球\n",
      "罚款 处罚 陕西 销售 计算机 行政处罚 河南 化工 机械设备 生产\n",
      "腾讯 阿里 阿里巴巴 零售 集团 京东 合作 商业 苏宁 新零售\n",
      "消费 品牌 消费者 销售 产品 电商 渠道 春节 网点 用户\n",
      "券商 旅游 证券 旅客 航空 资管 规模 业务 机场 铁路\n",
      "银行 贷款 房地产 城市 租赁 住房 理财 资产 规模 资金\n",
      "反弹 创业板 下跌 行情 指数 出现 个股 板块 调整 大盘\n",
      "行业 板块 业绩 估值 有望 关注 预期 龙头 提升 投资\n",
      "人民币 电影 票房 春节 汇率 升值 影视 影片 行动 乖离\n",
      "估值 美股 港股 购买 调整 基金 资金 投资者 指数 投资\n",
      "白酒 信托 茅台 价格 私募 检查 管理 记者 证监局 行业\n",
      "平安 服务 医疗 健康 医院 医生 支付 自动 医保 驾驶\n",
      "区块 货币 比特币 富士康 平台 交易 监管 虚拟 相关 数字\n",
      "基金 机构 调研 持有 产品 经理 投资 净值 规模 记者\n",
      "交易 证券 成交 账户 卖出 大宗 机构 万股 回购 金额\n",
      "增长 同比 净利润 业绩 实现 预计 收入 下降 显示 数据\n",
      "股东大会 年度 临时 召开 公告 停牌 基金 管理 发行 披露\n",
      "农村 乡村 建设 发展 振兴 农业 战略 改革 中央 文件\n",
      "保险 保费 财险 保险公司 保监会 增速 人寿 产品 业务 车险\n",
      "增持 分红 股东 股份 上市公司 公告 现金 万股 计划 控股\n",
      "经济 中国 流动性 央行 金融 利率 杠杆 风险 货币 增速\n",
      "手机 全球 视频 中国 网络 芯片 财富 小米 厂商 爱奇艺\n",
      "煤炭 价格 库存 上涨 春节 需求 全国 企业 供应 指数\n",
      "质押 股票 股东 信托 平仓 风险 股权 计划 预增 业务\n",
      "个股 资金 净流入 主力 买入 机构 数据 证券 金额 流出\n",
      "改革 证券 买入 企业 注册 混改 目标 天风 混合 所有制\n",
      "特斯拉 数据 北斗 单车 驾驶 城市 累计 格力 充电桩 董明珠\n",
      "两会 金立 主题 关注 主线 电视 热点 投资 互联网 数据\n",
      "集团 核电 建设 能源 中国 国家 项目 重组 中核 企业\n",
      "监管 风险 发展 金融 管理 要求 机构 加强 资本 投资\n",
      "家庭 养老 中国 新东方 教育 儿童 人口 老年人 印度 记者\n",
      "是否 獐子岛 扇贝 说明 披露 存在 发行人 原因 情况 存货\n",
      "停牌 上市公司 公告 亏损 重大 业绩 事项 股价 披露 股票\n",
      "乐视网 买入 卖出 乐视 机构 营业部 游戏 贾跃亭 金额 龙虎榜\n",
      "苹果 巴菲特 香港 股价 股票 港元 投资 亿港元 每股 预期\n",
      "投资 需要 出现 这种 价值 比较 时间 过去 应该 能够\n",
      "产能 企业 行业 国内 光伏 价格 产品 生产 需求 机器人\n",
      "技术 产品 互联网 业务 领域 行业 智能 服务 发展 企业\n",
      "投资 集团 股份 股权 股东 收购 万达 控股 资产 项目\n",
      "美国 美元 指数 预期 美联储 美股 股市 经济 加息 下跌\n",
      "企业 上市 重组 并购 资本 证监会 审核 投行 监管 融资\n",
      "发展 中国 经济 企业 产业 国家 创新 投资 我国 增长\n",
      "板块 涨停 涨幅 个股 跌幅 上涨 居前 证券 两市 银行\n",
      "员工 生活 管理 企业家 春节 农业 安全 朋友 深圳 希望\n",
      "发行 新股 上市 申购 市值 数量 创业板 投资者 养元饮品 募集\n"
     ]
    }
   ],
   "source": [
    "print_top_words_name(lda_50, wordstay_names_list, 10)"
   ]
  },
  {
   "cell_type": "code",
   "execution_count": 57,
   "metadata": {
    "collapsed": true
   },
   "outputs": [
    {
     "name": "stdout",
     "output_type": "stream",
     "text": [
      "# 打印每个主题下权重较高的词\n",
      "记者 视频 时间 看到 需要 游戏 发现 这种 知道 生活\n",
      "中国 经济 发展 企业 投资 我国 增长 美国 国家 消费\n",
      "基金 注册 万科 发行 改革 巴菲特 股票 董事 授权 董事会\n",
      "技术 中国 区块 互联网 货币 比特币 科技 数据 人工智能 智能\n",
      "信托 项目 投资 业务 计划 产品 管理 杠杆 私募 资产\n",
      "旅游 海南 两会 铁路 航空 旅客 快递 春节 游客 北京\n",
      "汽车 新能源 企业 国内 销量 全球 行业 增长 产能 产品\n",
      "产品 业务 服务 研发 富士康 股份 工业 技术 预增 项目\n",
      "美股 经济 风险 调整 股市 影响 流动性 下跌 全球 估值\n",
      "腾讯 万达 品牌 合作 投资 集团 阿里 零售 业务 战略\n",
      "集团 企业 中国 项目 核电 重组 能源 投资 国家 完成\n",
      "乐视网 乐视 贾跃亭 网络 海航 充电 资金 孙宏斌 金立 测试\n",
      "行业 业绩 板块 估值 增长 基金 关注 有望 龙头 投资\n",
      "农村 乡村 农业 振兴 建设 改革 发展 文件 中央 战略\n",
      "上市 企业 交易 港股 发行 新股 香港 投资者 申购 市值\n",
      "个股 买入 机构 证券 卖出 涨幅 金额 资金 数据 增持\n",
      "券商 融资 证券 业务 规模 行业 项目 电视 余额 光伏\n",
      "股东 股份 质押 公告 增持 股权 停牌 控股 股票 万股\n",
      "银行 金融 监管 贷款 风险 资产 业务 资金 融资 金融机构\n",
      "发展 建设 创新 国家 企业 推动 产业 改革 经济 服务\n",
      "股票 股价 投资者 基金 投资 出现 下跌 跌停 市值 资金\n",
      "资金 临时 召开 年度 股东大会 净流入 流出 主力 连续 北上\n",
      "增长 人民币 同比 增速 下降 数据 环比 汇率 保险 升值\n",
      "业绩 净利润 增长 同比 上市公司 分红 预计 实现 亏损 年度\n",
      "城市 房地产 租赁 住房 房企 销售 北京 地产 房价 调控\n",
      "美元 美国 指数 预期 美联储 经济 数据 黄金 加息 增长\n",
      "春节 电影 票房 阿胶 影视 影片 行动 内容 军工 捉妖\n",
      "监管 相关 交易 规定 要求 信息 存在 进行 行为 证监会\n",
      "板块 反弹 行情 指数 创业板 个股 上涨 下跌 调整 大盘\n",
      "价格 企业 库存 白酒 需求 产能 煤炭 上涨 国内 生产\n"
     ]
    }
   ],
   "source": [
    "print_top_words_name(lda_30, wordstay_names_list, 10)"
   ]
  },
  {
   "cell_type": "code",
   "execution_count": 58,
   "metadata": {
    "collapsed": true
   },
   "outputs": [
    {
     "name": "stdout",
     "output_type": "stream",
     "text": [
      "# 打印每个主题下权重较高的词\n",
      "增长 业绩 个股 同比 行业 净利润 预计 买入 证券 数据\n",
      "银行 监管 业务 金融 风险 贷款 规模 融资 资产 投资\n",
      "中国 企业 经济 增长 投资 消费 发展 增速 行业 需要\n",
      "发展 建设 企业 改革 经济 国家 中国 项目 乡村 农村\n",
      "美国 美元 经济 预期 指数 人民币 美联储 美股 股市 全球\n",
      "股份 股东 公告 质押 增持 股票 交易 发行 停牌 控股\n",
      "估值 下跌 指数 调整 板块 资金 出现 投资者 行情 风险\n",
      "行业 企业 技术 业务 互联网 发展 服务 产品 中国 平台\n",
      "基金 上市公司 分红 投资 股东 投资者 乐视网 亏损 业绩 现金\n",
      "汽车 中国 新能源 春节 万达 增长 国内 销量 同比 电影\n"
     ]
    }
   ],
   "source": [
    "print_top_words_name(lda_10, wordstay_names_list, 10)"
   ]
  },
  {
   "cell_type": "code",
   "execution_count": 108,
   "metadata": {},
   "outputs": [
    {
     "data": {
      "text/plain": [
       "LatentDirichletAllocation(batch_size=128, doc_topic_prior=None,\n",
       "             evaluate_every=-1, learning_decay=0.7,\n",
       "             learning_method='batch', learning_offset=10.0,\n",
       "             max_doc_update_iter=100, max_iter=50, mean_change_tol=0.001,\n",
       "             n_components=20, n_jobs=1, n_topics=None, perp_tol=0.1,\n",
       "             random_state=None, topic_word_prior=None,\n",
       "             total_samples=1000000.0, verbose=0)"
      ]
     },
     "execution_count": 108,
     "metadata": {},
     "output_type": "execute_result"
    }
   ],
   "source": [
    "# 训练模型\n",
    "k = 20 # 选择主题数\n",
    "lda_20 = LatentDirichletAllocation(n_components=k, max_iter=50, learning_method='batch')\n",
    "lda_20.fit(countstay)\n",
    "# 6709文档，单词数：25434，分20个主题 耗时：17:28-17:35 7m"
   ]
  },
  {
   "cell_type": "code",
   "execution_count": 112,
   "metadata": {
    "collapsed": true
   },
   "outputs": [
    {
     "name": "stdout",
     "output_type": "stream",
     "text": [
      "# 打印每个主题下权重较高的词\n",
      "Topic 0: 记者 北京 旅客 上海 航空 海南 股份 快递 铁路 员工 机场 全国 航空公司 红包 车辆\n",
      "Topic 1: 交易 港股 期货 申购 香港 上海 账户 原油期货 投资者 证券 国际 发行人 上市 参与 大宗\n",
      "Topic 2: 基金 银行 券商 融资 规模 业务 投资 资金 资产 贷款 证券 数据 机构 余额 发行\n",
      "Topic 3: 个股 买入 资金 机构 证券 涨幅 卖出 净流入 金额 主力 数据 成交 涨停 跌幅 板块\n",
      "Topic 4: 质押 股票 股东 停牌 乐视网 股价 上市公司 公告 信托 平仓 跌停 股权 亏损 披露 计划\n",
      "Topic 5: 增长 业绩 同比 净利润 预计 行业 实现 增速 盈利 收入 提升 上市公司 板块 预告 年报\n",
      "Topic 6: 投资 经济 中国 股市 美国 资产 出现 风险 价值 投资者 过去 全球 股票 未来 这种\n",
      "Topic 7: 监管 企业 风险 上市 资本 上市公司 发行 投资者 要求 证监会 交易 改革 制度 进行 相关\n",
      "Topic 8: 企业 行业 中国 价格 产品 国内 生产 新能源 需求 汽车 产能 产业 全球 发展 增长\n",
      "Topic 9: 相关 银行 银监会 银行业 行为 违规 处罚 调查 记者 罚款 案件 规定 贷款 存在 金融机构\n",
      "Topic 10: 城市 房地产 租赁 住房 销售 房企 地产 企业 房价 调控 土地 数据 楼市 北京 发展\n",
      "Topic 11: 美元 人民币 美国 货币 中国 黄金 英国 经济 全球 比特币 汇率 升值 价格 交易 央行\n",
      "Topic 12: 发展 建设 经济 中国 改革 国家 农村 乡村 创新 企业 推动 战略 农业 产业 振兴\n",
      "Topic 13: 板块 估值 指数 下跌 调整 行情 反弹 出现 资金 上涨 个股 创业板 投资者 业绩 风险\n",
      "Topic 14: 互联网 中国 腾讯 技术 万达 行业 企业 发展 成为 业务 平台 服务 用户 合作 领域\n",
      "Topic 15: 汽车 万科 乐视 销量 特斯拉 万辆 贾跃亭 电视 董事 吉利 董事会 利润 计划 车型 薪酬\n",
      "Topic 16: 美国 指数 分红 预期 美联储 美股 加息 临时 召开 年度 股市 股东大会 通胀 收益率 经济\n",
      "Topic 17: 保险 区块 金融 业务 平台 平安 数据 投资 科技 项目 服务 保监会 保费 财险 产品\n",
      "Topic 18: 春节 增长 同比 流动性 央行 增速 电影 票房 旅游 库存 价格 需求 消费 影响 期间\n",
      "Topic 19: 股份 增持 集团 股东 公告 项目 投资 控股 股权 万股 计划 收购 回购 股本 持有\n"
     ]
    }
   ],
   "source": [
    "print_top_words_name(lda_20, wordstay_names_list, 15)"
   ]
  },
  {
   "cell_type": "code",
   "execution_count": null,
   "metadata": {
    "collapsed": true
   },
   "outputs": [],
   "source": []
  },
  {
   "cell_type": "code",
   "execution_count": null,
   "metadata": {
    "collapsed": true
   },
   "outputs": [],
   "source": []
  },
  {
   "cell_type": "code",
   "execution_count": null,
   "metadata": {
    "collapsed": true
   },
   "outputs": [],
   "source": []
  },
  {
   "cell_type": "code",
   "execution_count": null,
   "metadata": {
    "collapsed": true
   },
   "outputs": [],
   "source": []
  },
  {
   "cell_type": "code",
   "execution_count": 123,
   "metadata": {
    "collapsed": true
   },
   "outputs": [
    {
     "data": {
      "text/plain": [
       "LatentDirichletAllocation(batch_size=128, doc_topic_prior=None,\n",
       "             evaluate_every=-1, learning_decay=0.7,\n",
       "             learning_method='batch', learning_offset=10.0,\n",
       "             max_doc_update_iter=100, max_iter=50, mean_change_tol=0.001,\n",
       "             n_components=20, n_jobs=1, n_topics=None, perp_tol=0.1,\n",
       "             random_state=None, topic_word_prior=None,\n",
       "             total_samples=1000000.0, verbose=0)"
      ]
     },
     "execution_count": 123,
     "metadata": {},
     "output_type": "execute_result"
    }
   ],
   "source": [
    "# 训练模型\n",
    "k = 20 # 选择主题数\n",
    "lda_20 = LatentDirichletAllocation(n_components=k, max_iter=50, learning_method='batch')\n",
    "lda_20.fit(dw_countvector)\n",
    "# 6709文档，单词数：84884，分20个主题 耗时：2-3m"
   ]
  },
  {
   "cell_type": "code",
   "execution_count": 134,
   "metadata": {
    "collapsed": true
   },
   "outputs": [
    {
     "name": "stdout",
     "output_type": "stream",
     "text": [
      "# 打印每个主题下权重较高的词\n",
      "Topic # 0:\n",
      "上市 券商 股东大会 临时 召开 年度 企业 发行 新股 证券 万科 申购 项目 管理 数量\n",
      "Topic # 1:\n",
      "增持 股份 公告 股东 万股 回购 控股 计划 预增 票房 电影 项目 股本 投资 低于\n",
      "Topic # 2:\n",
      "巴菲特 投资 觉得 这种 需要 看到 财富 能够 价值 应该 养老 知道 时间 比较 这是\n",
      "Topic # 3:\n",
      "银行 人民币 融资 业务 资产 信托 贷款 资金 规模 金融 杠杆 监管 投资 理财 资管\n",
      "Topic # 4:\n",
      "中国 产品 技术 汽车 企业 行业 发展 新能源 全球 产业 增长 国内 业务 领域 服务\n",
      "Topic # 5:\n",
      "业绩 净利润 增长 同比 上市公司 分红 预计 实现 披露 亏损 年报 收入 股东 预告 年度\n",
      "Topic # 6:\n",
      "货币 监管 央行 比特币 交易 金融 流动性 银行业 风险 金融机构 银行 银监会 机构 存款 中国\n",
      "Topic # 7:\n",
      "集团 企业 光伏 两会 混改 投资 混合 项目 重组 所有制 海南 员工 国资委 记者 央企\n",
      "Topic # 8:\n",
      "乐视网 交易 港股 融资 卖出 乐视 贾跃亭 资金 余额 证券 万股 基金 投资者 是否 发行人\n",
      "Topic # 9:\n",
      "基金 城市 房地产 住房 租赁 销售 房企 地产 数据 规模 企业 房价 记者 北京 调控\n",
      "Topic # 10:\n",
      "增长 行业 增速 价格 同比 需求 有望 提升 预计 持续 预期 产能 龙头 板块 业绩\n",
      "Topic # 11:\n",
      "经济 美股 投资者 下跌 估值 风险 出现 调整 指数 股市 投资 影响 预期 中国 股票\n",
      "Topic # 12:\n",
      "发展 建设 经济 企业 国家 中国 改革 农村 创新 乡村 产业 战略 推动 农业 服务\n",
      "Topic # 13:\n",
      "白酒 特斯拉 茅台 发射 火箭 雄安新区 价格 驾驶 记者 自动 卫星 北斗 高端 马斯克 春节\n",
      "Topic # 14:\n",
      "个股 板块 资金 买入 机构 涨幅 证券 创业板 上涨 数据 反弹 行情 跌幅 行业 两市\n",
      "Topic # 15:\n",
      "腾讯 互联网 投资 平台 万达 企业 中国 集团 阿里 行业 用户 区块 成为 零售 业务\n",
      "Topic # 16:\n",
      "美国 中国 英国 全球 特朗普 收购 经济 报道 进口 贸易 日本 香港 政府 国家 石油\n",
      "Topic # 17:\n",
      "监管 注册 保险 上市 期货 改革 发行 境外 制度 证监会 资本 投资者 原油期货 交易 企业\n",
      "Topic # 18:\n",
      "质押 股东 股份 股权 停牌 股票 公告 投资 相关 上市公司 交易 风险 平仓 事项 集团\n",
      "Topic # 19:\n",
      "美元 美国 美联储 预期 指数 加息 数据 黄金 经济 通胀 收益率 增长 公布 上涨 显示\n"
     ]
    }
   ],
   "source": [
    "print_top_words_name(lda_20, word_names, 15)"
   ]
  },
  {
   "cell_type": "code",
   "execution_count": null,
   "metadata": {
    "collapsed": true
   },
   "outputs": [],
   "source": []
  },
  {
   "cell_type": "code",
   "execution_count": null,
   "metadata": {
    "collapsed": true
   },
   "outputs": [],
   "source": []
  },
  {
   "cell_type": "code",
   "execution_count": 62,
   "metadata": {
    "collapsed": true
   },
   "outputs": [],
   "source": [
    "def top_topics(model,topN):\n",
    "    doctopic_matrix = model.fit_transform(countstay)\n",
    "    doctopic = doctopic_matrix.argmax(axis=1).tolist() # 取最大值时的索引\n",
    "    print(\"# 打印前 %d 热门主题的序号\" % topN)\n",
    "    print([Counter(doctopic).most_common(topN)[i][0] for i in range(topN)]) # 找出列表元素最多的N个,结果是list类型"
   ]
  },
  {
   "cell_type": "code",
   "execution_count": 63,
   "metadata": {},
   "outputs": [
    {
     "name": "stdout",
     "output_type": "stream",
     "text": [
      "# 打印前 10 热门主题的序号\n",
      "[41, 6, 31, 23, 29, 14, 30, 20, 44, 38]\n"
     ]
    }
   ],
   "source": [
    "top_topics(lda_50,10)\n",
    "# 6709个文档，lda_50，前10个主题，耗时： 8 m "
   ]
  },
  {
   "cell_type": "code",
   "execution_count": 142,
   "metadata": {
    "collapsed": true
   },
   "outputs": [],
   "source": [
    "# 效果等同上述函数\n",
    "doctopic_matrix = lda_20.fit_transform(countstay)\n",
    "doctopic = doctopic_matrix.argmax(axis=1).tolist() # 取最大值时的索引\n",
    "print(\"# 打印前 %d 热门主题的序号\" % topN)\n",
    "c = Counter(doctopic)\n",
    "c.most_common(10) # 找出列表元素最多的N个,结果是list类型"
   ]
  },
  {
   "cell_type": "code",
   "execution_count": null,
   "metadata": {
    "collapsed": true
   },
   "outputs": [],
   "source": []
  },
  {
   "cell_type": "code",
   "execution_count": null,
   "metadata": {
    "collapsed": true
   },
   "outputs": [],
   "source": []
  },
  {
   "cell_type": "code",
   "execution_count": null,
   "metadata": {
    "collapsed": true
   },
   "outputs": [],
   "source": []
  },
  {
   "cell_type": "code",
   "execution_count": null,
   "metadata": {
    "collapsed": true
   },
   "outputs": [],
   "source": []
  },
  {
   "cell_type": "code",
   "execution_count": null,
   "metadata": {
    "collapsed": true
   },
   "outputs": [],
   "source": []
  },
  {
   "cell_type": "code",
   "execution_count": 76,
   "metadata": {},
   "outputs": [
    {
     "name": "stdout",
     "output_type": "stream",
     "text": [
      "14839\n"
     ]
    }
   ],
   "source": [
    "# 主题挖掘建模：文本聚类算法\n",
    "# 特征处理: TF-IDF做文档特征\n",
    "tfidf_vectorizer = TfidfVectorizer(stop_words=stop,max_df=0.9,min_df=10) # 特征提取\n",
    "tfidf = tfidf_vectorizer.fit_transform(corpus) # matrix \n",
    "word_names = tfidf_vectorizer.get_feature_names() # list\n",
    "# tfidf矩阵:元素a[i][j]表示j词在i文档中的tf-idf权重\n",
    "# weight = tfidf.toarray()  # matrix -> ndarray\n",
    "print(len(word_names))"
   ]
  },
  {
   "cell_type": "code",
   "execution_count": 75,
   "metadata": {
    "collapsed": true
   },
   "outputs": [],
   "source": [
    "# 定义余弦相似度\n",
    "from sklearn.metrics.pairwise import cosine_similarity\n",
    "dist = 1 - cosine_similarity(tfidf)"
   ]
  },
  {
   "cell_type": "code",
   "execution_count": 78,
   "metadata": {},
   "outputs": [
    {
     "name": "stdout",
     "output_type": "stream",
     "text": [
      "CPU times: user 3min 36s, sys: 2.12 s, total: 3min 38s\n",
      "Wall time: 3min 41s\n"
     ]
    }
   ],
   "source": [
    "# keans\n",
    "# 训练模型\n",
    "k = 20\n",
    "km_20 = KMeans(n_clusters=k)\n",
    "%time km_20.fit(tfidf)\n",
    "clusters = km_20.labels_.tolist() # 每个文档所属类别"
   ]
  },
  {
   "cell_type": "code",
   "execution_count": 109,
   "metadata": {},
   "outputs": [
    {
     "name": "stdout",
     "output_type": "stream",
     "text": [
      "Top terms per cluster:\n",
      "\n",
      "Cluster 0: 人民币  美元  汇率  升值  中间价  在岸  美元汇率  货币  基点  中国  贬值  指数  官方  交易日  收盘价 \n",
      "Cluster 1: 增持  股份  公告  股东  回购  万股  控股  股本  计划  公司股票  减持  上市公司  晚间  员工  低于 \n",
      "Cluster 2: 卖出  买入  机构  金额  个股  龙虎榜  营业部  融资  当天  资金  数据  交易  万股  席位  证券 \n",
      "Cluster 3: 美股  股市  下跌  指数  美国  暴跌  经济  估值  大跌  调整  跌幅  全球  影响  风险  预期 \n",
      "Cluster 4: 企业  发展  中国  经济  改革  建设  产业  金融  创新  项目  资本  国家  投资  行业  服务 \n",
      "Cluster 5: 板块  反弹  行情  个股  创业板  指数  估值  业绩  大盘  资金  调整  下跌  春节  上涨  震荡 \n",
      "Cluster 6: 基金  比特币  货币  开户  港股  投资  交易  购买  股票  虚拟  乐视网  投资者  持有  资金  指数 \n",
      "Cluster 7: 分红  现金  上市公司  股息  说明会  上交所  投资者  回报  监管  铁公鸡  具备  东安动力  分配利润  利润分配  联美控股 \n",
      "Cluster 8: 中国  股份  增长  投资  企业  集团  业务  上市  产品  公告  发行  项目  行业  销售  股东 \n",
      "Cluster 9: 主力  净流入  资金  流出  个股  乖离  三日  涨跌幅  证券  净流量  最多  排名  金额  半年线  概念 \n",
      "Cluster 10: 业绩  净利润  增长  同比  预计  预告  行业  年报  板块  实现  上市公司  增速  个股  收入  披露 \n",
      "Cluster 11: 美联储  美国  加息  预期  收益率  经济  指数  通胀  前值  美元  股市  鲍威尔  美股  利率  国债 \n",
      "Cluster 12: 万达  腾讯  阿里  零售  饿了么  新零售  步步高  京东  线下  王健林  商业  阿里巴巴  合作  集团  万达电影 \n",
      "Cluster 13: 买入  证券  天风  增持  目标  涨幅  评级  目标价  国泰君安  个股  十日  东北证券  海通证券  净流入  机构 \n",
      "Cluster 14: 美元  黄金  美国  英镑  金价  盎司  欧元  美联储  预期  指数  通胀  英国  反弹  原油  下跌 \n",
      "Cluster 15: 质押  停牌  平仓  信托  股东  股票  股权  股份  股价  风险  闪崩  上市公司  控股  个股  跌停 \n",
      "Cluster 16: 银行  贷款  银行业  流动性  理财  金融机构  监管  银监会  央行  利率  同业  理财产品  业务  万亿元  银监局 \n",
      "Cluster 17: 合约  价格  库存  期货  需求  原油  原油期货  国内  供应  产能  天然气  产量  上涨  煤炭  现货 \n",
      "Cluster 18: 乡村  振兴  农村  农业  文件  一号  农民  中央  战略  宅基地  建设  发展  三农  改革  韩俊 \n",
      "Cluster 19: 个股  跌幅  换手率  板块  成交  仅供参考  构成  涨幅  最大  指数  信息  建议  涨停  证券  两市 \n"
     ]
    }
   ],
   "source": [
    "print(\"Top terms per cluster:\")\n",
    "print()\n",
    "# 按离质心的距离排列聚类中心，由近到远\n",
    "order_centroids = km_20.cluster_centers_.argsort()[:, ::-1] \n",
    "\n",
    "for i in range(k):\n",
    "    print(\"Cluster %d:\" % i, end='')\n",
    "    for ind in order_centroids[i, :15]: # 每个聚类选 15 个词\n",
    "        print(' %s' % word_names[ind], end=' ')\n",
    "    print() # 空行"
   ]
  },
  {
   "cell_type": "code",
   "execution_count": 113,
   "metadata": {
    "scrolled": true
   },
   "outputs": [
    {
     "data": {
      "text/plain": [
       "array([17,  6, 10, ...,  8, 17, 11], dtype=int32)"
      ]
     },
     "execution_count": 113,
     "metadata": {},
     "output_type": "execute_result"
    }
   ],
   "source": [
    "km_20.labels_ # numpy.ndarray"
   ]
  },
  {
   "cell_type": "code",
   "execution_count": 105,
   "metadata": {
    "scrolled": true
   },
   "outputs": [
    {
     "data": {
      "text/plain": [
       "[8, 4, 5, 10, 17, 3, 16, 6, 11, 14, 19, 15, 2, 9, 1, 12, 18, 0, 7, 13]"
      ]
     },
     "execution_count": 105,
     "metadata": {},
     "output_type": "execute_result"
    }
   ],
   "source": [
    "[Counter(km_20.labels_.tolist()).most_common(20)[i][0] for i in range(20)]"
   ]
  },
  {
   "cell_type": "code",
   "execution_count": 106,
   "metadata": {
    "collapsed": true
   },
   "outputs": [
    {
     "data": {
      "text/plain": [
       "[(8, 2564),\n",
       " (4, 808),\n",
       " (5, 518),\n",
       " (10, 454),\n",
       " (17, 268),\n",
       " (3, 237),\n",
       " (16, 211),\n",
       " (6, 207),\n",
       " (11, 195),\n",
       " (14, 176),\n",
       " (19, 173),\n",
       " (15, 151),\n",
       " (2, 141),\n",
       " (9, 141),\n",
       " (1, 128),\n",
       " (12, 85),\n",
       " (18, 75),\n",
       " (0, 62),\n",
       " (7, 59),\n",
       " (13, 56)]"
      ]
     },
     "execution_count": 106,
     "metadata": {},
     "output_type": "execute_result"
    }
   ],
   "source": [
    "Counter(km_20.labels_.tolist()).most_common(20)"
   ]
  }
 ],
 "metadata": {
  "kernelspec": {
   "display_name": "Python 3",
   "language": "python",
   "name": "python3"
  },
  "language_info": {
   "codemirror_mode": {
    "name": "ipython",
    "version": 3
   },
   "file_extension": ".py",
   "mimetype": "text/x-python",
   "name": "python",
   "nbconvert_exporter": "python",
   "pygments_lexer": "ipython3",
   "version": "3.6.4"
  }
 },
 "nbformat": 4,
 "nbformat_minor": 2
}

{
 "cells": [
  {
   "cell_type": "markdown",
   "metadata": {},
   "source": [
    "# 对主题挖掘的结果进行进一步细分"
   ]
  },
  {
   "cell_type": "code",
   "execution_count": 1,
   "metadata": {
    "collapsed": true
   },
   "outputs": [],
   "source": [
    "import time\n",
    "import pandas as pd\n",
    "%matplotlib inline"
   ]
  },
  {
   "cell_type": "code",
   "execution_count": 2,
   "metadata": {},
   "outputs": [
    {
     "data": {
      "text/html": [
       "<div>\n",
       "<style>\n",
       "    .dataframe thead tr:only-child th {\n",
       "        text-align: right;\n",
       "    }\n",
       "\n",
       "    .dataframe thead th {\n",
       "        text-align: left;\n",
       "    }\n",
       "\n",
       "    .dataframe tbody tr th {\n",
       "        vertical-align: top;\n",
       "    }\n",
       "</style>\n",
       "<table border=\"1\" class=\"dataframe\">\n",
       "  <thead>\n",
       "    <tr style=\"text-align: right;\">\n",
       "      <th></th>\n",
       "      <th>id</th>\n",
       "      <th>statdate</th>\n",
       "      <th>text</th>\n",
       "      <th>所属分类</th>\n",
       "    </tr>\n",
       "  </thead>\n",
       "  <tbody>\n",
       "    <tr>\n",
       "      <th>0</th>\n",
       "      <td>3585</td>\n",
       "      <td>2017/8/22</td>\n",
       "      <td>http://t.cn/h91BSI【升级气象灾害应急响应通知】据市气象台监测，广州市达到启...</td>\n",
       "      <td>气象灾害应急响应</td>\n",
       "    </tr>\n",
       "    <tr>\n",
       "      <th>1</th>\n",
       "      <td>3586</td>\n",
       "      <td>2017/8/22</td>\n",
       "      <td>转发微博</td>\n",
       "      <td>热带风暴</td>\n",
       "    </tr>\n",
       "    <tr>\n",
       "      <th>2</th>\n",
       "      <td>3641</td>\n",
       "      <td>2017/8/23</td>\n",
       "      <td>http://t.cn/h91BSI【台风紧急警报】今天下午16时，今年第13号台风“天鸽”...</td>\n",
       "      <td>热带风暴</td>\n",
       "    </tr>\n",
       "    <tr>\n",
       "      <th>3</th>\n",
       "      <td>3642</td>\n",
       "      <td>2017/8/23</td>\n",
       "      <td>【七天天气预报—“天鸽”上岸，仍有风雨】#天气话你知# #13号台风天鸽# 强台风“天鸽”已...</td>\n",
       "      <td>热带风暴</td>\n",
       "    </tr>\n",
       "    <tr>\n",
       "      <th>4</th>\n",
       "      <td>3643</td>\n",
       "      <td>2017/8/23</td>\n",
       "      <td>http://t.cn/h91BSI【台风蓝色预警信号】今年第13号台风“天鸽”，23日17...</td>\n",
       "      <td>热带风暴</td>\n",
       "    </tr>\n",
       "  </tbody>\n",
       "</table>\n",
       "</div>"
      ],
      "text/plain": [
       "     id   statdate                                               text  \\\n",
       "0  3585  2017/8/22  http://t.cn/h91BSI【升级气象灾害应急响应通知】据市气象台监测，广州市达到启...   \n",
       "1  3586  2017/8/22                                               转发微博   \n",
       "2  3641  2017/8/23  http://t.cn/h91BSI【台风紧急警报】今天下午16时，今年第13号台风“天鸽”...   \n",
       "3  3642  2017/8/23  【七天天气预报—“天鸽”上岸，仍有风雨】#天气话你知# #13号台风天鸽# 强台风“天鸽”已...   \n",
       "4  3643  2017/8/23  http://t.cn/h91BSI【台风蓝色预警信号】今年第13号台风“天鸽”，23日17...   \n",
       "\n",
       "       所属分类  \n",
       "0  气象灾害应急响应  \n",
       "1      热带风暴  \n",
       "2      热带风暴  \n",
       "3      热带风暴  \n",
       "4      热带风暴  "
      ]
     },
     "execution_count": 2,
     "metadata": {},
     "output_type": "execute_result"
    }
   ],
   "source": [
    "result = pd.read_csv('LDA_clustered_5.csv', encoding='gb18030')\n",
    "result.head()"
   ]
  },
  {
   "cell_type": "code",
   "execution_count": 3,
   "metadata": {},
   "outputs": [
    {
     "data": {
      "text/html": [
       "<div>\n",
       "<style>\n",
       "    .dataframe thead tr:only-child th {\n",
       "        text-align: right;\n",
       "    }\n",
       "\n",
       "    .dataframe thead th {\n",
       "        text-align: left;\n",
       "    }\n",
       "\n",
       "    .dataframe tbody tr th {\n",
       "        vertical-align: top;\n",
       "    }\n",
       "</style>\n",
       "<table border=\"1\" class=\"dataframe\">\n",
       "  <thead>\n",
       "    <tr style=\"text-align: right;\">\n",
       "      <th></th>\n",
       "      <th>statdate</th>\n",
       "      <th>text</th>\n",
       "      <th>所属分类</th>\n",
       "    </tr>\n",
       "    <tr>\n",
       "      <th>id</th>\n",
       "      <th></th>\n",
       "      <th></th>\n",
       "      <th></th>\n",
       "    </tr>\n",
       "  </thead>\n",
       "  <tbody>\n",
       "    <tr>\n",
       "      <th>3585</th>\n",
       "      <td>2017/8/22</td>\n",
       "      <td>http://t.cn/h91BSI【升级气象灾害应急响应通知】据市气象台监测，广州市达到启...</td>\n",
       "      <td>气象灾害应急响应</td>\n",
       "    </tr>\n",
       "    <tr>\n",
       "      <th>3586</th>\n",
       "      <td>2017/8/22</td>\n",
       "      <td>转发微博</td>\n",
       "      <td>热带风暴</td>\n",
       "    </tr>\n",
       "    <tr>\n",
       "      <th>3641</th>\n",
       "      <td>2017/8/23</td>\n",
       "      <td>http://t.cn/h91BSI【台风紧急警报】今天下午16时，今年第13号台风“天鸽”...</td>\n",
       "      <td>热带风暴</td>\n",
       "    </tr>\n",
       "    <tr>\n",
       "      <th>3642</th>\n",
       "      <td>2017/8/23</td>\n",
       "      <td>【七天天气预报—“天鸽”上岸，仍有风雨】#天气话你知# #13号台风天鸽# 强台风“天鸽”已...</td>\n",
       "      <td>热带风暴</td>\n",
       "    </tr>\n",
       "    <tr>\n",
       "      <th>3643</th>\n",
       "      <td>2017/8/23</td>\n",
       "      <td>http://t.cn/h91BSI【台风蓝色预警信号】今年第13号台风“天鸽”，23日17...</td>\n",
       "      <td>热带风暴</td>\n",
       "    </tr>\n",
       "  </tbody>\n",
       "</table>\n",
       "</div>"
      ],
      "text/plain": [
       "       statdate                                               text      所属分类\n",
       "id                                                                          \n",
       "3585  2017/8/22  http://t.cn/h91BSI【升级气象灾害应急响应通知】据市气象台监测，广州市达到启...  气象灾害应急响应\n",
       "3586  2017/8/22                                               转发微博      热带风暴\n",
       "3641  2017/8/23  http://t.cn/h91BSI【台风紧急警报】今天下午16时，今年第13号台风“天鸽”...      热带风暴\n",
       "3642  2017/8/23  【七天天气预报—“天鸽”上岸，仍有风雨】#天气话你知# #13号台风天鸽# 强台风“天鸽”已...      热带风暴\n",
       "3643  2017/8/23  http://t.cn/h91BSI【台风蓝色预警信号】今年第13号台风“天鸽”，23日17...      热带风暴"
      ]
     },
     "execution_count": 3,
     "metadata": {},
     "output_type": "execute_result"
    }
   ],
   "source": [
    "result.set_index('id', inplace=True)\n",
    "result.head()"
   ]
  },
  {
   "cell_type": "markdown",
   "metadata": {},
   "source": [
    "## 热带风暴主题细分"
   ]
  },
  {
   "cell_type": "code",
   "execution_count": 4,
   "metadata": {},
   "outputs": [
    {
     "data": {
      "text/html": [
       "<div>\n",
       "<style>\n",
       "    .dataframe thead tr:only-child th {\n",
       "        text-align: right;\n",
       "    }\n",
       "\n",
       "    .dataframe thead th {\n",
       "        text-align: left;\n",
       "    }\n",
       "\n",
       "    .dataframe tbody tr th {\n",
       "        vertical-align: top;\n",
       "    }\n",
       "</style>\n",
       "<table border=\"1\" class=\"dataframe\">\n",
       "  <thead>\n",
       "    <tr style=\"text-align: right;\">\n",
       "      <th></th>\n",
       "      <th>statdate</th>\n",
       "      <th>text</th>\n",
       "      <th>所属分类</th>\n",
       "    </tr>\n",
       "    <tr>\n",
       "      <th>id</th>\n",
       "      <th></th>\n",
       "      <th></th>\n",
       "      <th></th>\n",
       "    </tr>\n",
       "  </thead>\n",
       "  <tbody>\n",
       "    <tr>\n",
       "      <th>3586</th>\n",
       "      <td>2017/8/22</td>\n",
       "      <td>转发微博</td>\n",
       "      <td>热带风暴</td>\n",
       "    </tr>\n",
       "    <tr>\n",
       "      <th>3641</th>\n",
       "      <td>2017/8/23</td>\n",
       "      <td>http://t.cn/h91BSI【台风紧急警报】今天下午16时，今年第13号台风“天鸽”...</td>\n",
       "      <td>热带风暴</td>\n",
       "    </tr>\n",
       "    <tr>\n",
       "      <th>3642</th>\n",
       "      <td>2017/8/23</td>\n",
       "      <td>【七天天气预报—“天鸽”上岸，仍有风雨】#天气话你知# #13号台风天鸽# 强台风“天鸽”已...</td>\n",
       "      <td>热带风暴</td>\n",
       "    </tr>\n",
       "    <tr>\n",
       "      <th>3643</th>\n",
       "      <td>2017/8/23</td>\n",
       "      <td>http://t.cn/h91BSI【台风蓝色预警信号】今年第13号台风“天鸽”，23日17...</td>\n",
       "      <td>热带风暴</td>\n",
       "    </tr>\n",
       "    <tr>\n",
       "      <th>3645</th>\n",
       "      <td>2017/8/23</td>\n",
       "      <td>转发微博</td>\n",
       "      <td>热带风暴</td>\n",
       "    </tr>\n",
       "    <tr>\n",
       "      <th>3646</th>\n",
       "      <td>2017/8/23</td>\n",
       "      <td>转发微博</td>\n",
       "      <td>热带风暴</td>\n",
       "    </tr>\n",
       "    <tr>\n",
       "      <th>3647</th>\n",
       "      <td>2017/8/23</td>\n",
       "      <td>转发微博</td>\n",
       "      <td>热带风暴</td>\n",
       "    </tr>\n",
       "    <tr>\n",
       "      <th>3648</th>\n",
       "      <td>2017/8/23</td>\n",
       "      <td>转发微博</td>\n",
       "      <td>热带风暴</td>\n",
       "    </tr>\n",
       "    <tr>\n",
       "      <th>3649</th>\n",
       "      <td>2017/8/23</td>\n",
       "      <td>#天气话你知##13号台风天鸽# “天鸽”的主风区和主雨区随着台风中心的西移而西移，广州范围...</td>\n",
       "      <td>热带风暴</td>\n",
       "    </tr>\n",
       "    <tr>\n",
       "      <th>3650</th>\n",
       "      <td>2017/8/23</td>\n",
       "      <td>转发微博</td>\n",
       "      <td>热带风暴</td>\n",
       "    </tr>\n",
       "    <tr>\n",
       "      <th>3651</th>\n",
       "      <td>2017/8/23</td>\n",
       "      <td>http://t.cn/h91BSI【台风预警信号解除】受“天鸽”影响，今天白天广州市区普遍...</td>\n",
       "      <td>热带风暴</td>\n",
       "    </tr>\n",
       "    <tr>\n",
       "      <th>3652</th>\n",
       "      <td>2017/8/23</td>\n",
       "      <td>转发微博</td>\n",
       "      <td>热带风暴</td>\n",
       "    </tr>\n",
       "    <tr>\n",
       "      <th>3653</th>\n",
       "      <td>2017/8/23</td>\n",
       "      <td>转发微博</td>\n",
       "      <td>热带风暴</td>\n",
       "    </tr>\n",
       "    <tr>\n",
       "      <th>3654</th>\n",
       "      <td>2017/8/23</td>\n",
       "      <td>转发微博</td>\n",
       "      <td>热带风暴</td>\n",
       "    </tr>\n",
       "    <tr>\n",
       "      <th>3655</th>\n",
       "      <td>2017/8/23</td>\n",
       "      <td>http://t.cn/h91BSI【台风消息】今天20时，台风“天鸽”（强热带风暴级）中心...</td>\n",
       "      <td>热带风暴</td>\n",
       "    </tr>\n",
       "    <tr>\n",
       "      <th>3656</th>\n",
       "      <td>2017/8/23</td>\n",
       "      <td>转发微博</td>\n",
       "      <td>热带风暴</td>\n",
       "    </tr>\n",
       "    <tr>\n",
       "      <th>3657</th>\n",
       "      <td>2017/8/23</td>\n",
       "      <td>转发微博</td>\n",
       "      <td>热带风暴</td>\n",
       "    </tr>\n",
       "    <tr>\n",
       "      <th>3659</th>\n",
       "      <td>2017/8/23</td>\n",
       "      <td>转发微博</td>\n",
       "      <td>热带风暴</td>\n",
       "    </tr>\n",
       "    <tr>\n",
       "      <th>3670</th>\n",
       "      <td>2017/8/24</td>\n",
       "      <td>转发微博</td>\n",
       "      <td>热带风暴</td>\n",
       "    </tr>\n",
       "    <tr>\n",
       "      <th>3706</th>\n",
       "      <td>2017/8/25</td>\n",
       "      <td>http://t.cn/h91BSI【台风消息】25日08时，今年第14号台风“帕卡”（热带...</td>\n",
       "      <td>热带风暴</td>\n",
       "    </tr>\n",
       "    <tr>\n",
       "      <th>3707</th>\n",
       "      <td>2017/8/25</td>\n",
       "      <td>【早安，广州】#天气话你知##台风帕卡# 13号台风“天鸽”飞走了，14号台风“帕卡”生成[...</td>\n",
       "      <td>热带风暴</td>\n",
       "    </tr>\n",
       "    <tr>\n",
       "      <th>3708</th>\n",
       "      <td>2017/8/25</td>\n",
       "      <td>#小编8天气#希望各台风都保住自己的“名字”，争取当优秀的台风。 http://t.cn/R...</td>\n",
       "      <td>热带风暴</td>\n",
       "    </tr>\n",
       "    <tr>\n",
       "      <th>3587</th>\n",
       "      <td>2017/8/22</td>\n",
       "      <td>http://t.cn/h91BSI【台风警报】今天20时，台风“天鸽”（台风级）中心位于广...</td>\n",
       "      <td>热带风暴</td>\n",
       "    </tr>\n",
       "    <tr>\n",
       "      <th>3590</th>\n",
       "      <td>2017/8/22</td>\n",
       "      <td>#13号台风天鸽# 【台风最新消息】今天晚上10时，今年第13号台风\"天鸽\"（台风级）中心位...</td>\n",
       "      <td>热带风暴</td>\n",
       "    </tr>\n",
       "    <tr>\n",
       "      <th>3592</th>\n",
       "      <td>2017/8/22</td>\n",
       "      <td>#13号台风天鸽# 【台风最新消息】今天晚上9时，今年第13号台风\"天鸽\"（台风级）中心位于...</td>\n",
       "      <td>热带风暴</td>\n",
       "    </tr>\n",
       "    <tr>\n",
       "      <th>3593</th>\n",
       "      <td>2017/8/23</td>\n",
       "      <td>#13号台风天鸽#【台风最新消息】今天凌晨4时，今年第13号台风\"天鸽\"（台风级）中心位于北...</td>\n",
       "      <td>热带风暴</td>\n",
       "    </tr>\n",
       "    <tr>\n",
       "      <th>3594</th>\n",
       "      <td>2017/8/23</td>\n",
       "      <td>#13号台风天鸽#【台风最新消息】今天凌晨3时，今年第13号台风\"天鸽\"（台风级）中心位于北...</td>\n",
       "      <td>热带风暴</td>\n",
       "    </tr>\n",
       "    <tr>\n",
       "      <th>3595</th>\n",
       "      <td>2017/8/23</td>\n",
       "      <td>http://t.cn/h91BSI【台风紧急警报】今天02时，台风“天鸽”（台风级）中心位...</td>\n",
       "      <td>热带风暴</td>\n",
       "    </tr>\n",
       "    <tr>\n",
       "      <th>3597</th>\n",
       "      <td>2017/8/23</td>\n",
       "      <td>#13号台风天鸽# 【台风最新消息】今天半夜1时，今年第13号台风\"天鸽\"（台风级）中心位于...</td>\n",
       "      <td>热带风暴</td>\n",
       "    </tr>\n",
       "    <tr>\n",
       "      <th>3599</th>\n",
       "      <td>2017/8/23</td>\n",
       "      <td>http://t.cn/h91BSI【台风紧急警报】今天05时，台风“天鸽”（台风级）中心位...</td>\n",
       "      <td>热带风暴</td>\n",
       "    </tr>\n",
       "    <tr>\n",
       "      <th>...</th>\n",
       "      <td>...</td>\n",
       "      <td>...</td>\n",
       "      <td>...</td>\n",
       "    </tr>\n",
       "    <tr>\n",
       "      <th>2652</th>\n",
       "      <td>2017/7/14</td>\n",
       "      <td>转发微博</td>\n",
       "      <td>热带风暴</td>\n",
       "    </tr>\n",
       "    <tr>\n",
       "      <th>2653</th>\n",
       "      <td>2017/7/14</td>\n",
       "      <td>转发微博</td>\n",
       "      <td>热带风暴</td>\n",
       "    </tr>\n",
       "    <tr>\n",
       "      <th>2654</th>\n",
       "      <td>2017/7/14</td>\n",
       "      <td>转发微博</td>\n",
       "      <td>热带风暴</td>\n",
       "    </tr>\n",
       "    <tr>\n",
       "      <th>2655</th>\n",
       "      <td>2017/7/14</td>\n",
       "      <td>【广州气象快报】12日以来我市维持晴热高温天气，最高气温在34～36℃。目前在西沙群岛附近的...</td>\n",
       "      <td>热带风暴</td>\n",
       "    </tr>\n",
       "    <tr>\n",
       "      <th>2657</th>\n",
       "      <td>2017/7/14</td>\n",
       "      <td>转发微博</td>\n",
       "      <td>热带风暴</td>\n",
       "    </tr>\n",
       "    <tr>\n",
       "      <th>2153</th>\n",
       "      <td>2017/6/23</td>\n",
       "      <td>#随手拍广州# 风雨过后见彩虹[赞]。转发此条锦鲤[哈哈]。</td>\n",
       "      <td>热带风暴</td>\n",
       "    </tr>\n",
       "    <tr>\n",
       "      <th>2155</th>\n",
       "      <td>2017/6/23</td>\n",
       "      <td>转发微博</td>\n",
       "      <td>热带风暴</td>\n",
       "    </tr>\n",
       "    <tr>\n",
       "      <th>2156</th>\n",
       "      <td>2017/6/23</td>\n",
       "      <td>转发微博</td>\n",
       "      <td>热带风暴</td>\n",
       "    </tr>\n",
       "    <tr>\n",
       "      <th>8295</th>\n",
       "      <td>2018/3/20</td>\n",
       "      <td>夜来风雨声，花落知多少~@crazy_susan @天使忍住眼泪</td>\n",
       "      <td>热带风暴</td>\n",
       "    </tr>\n",
       "    <tr>\n",
       "      <th>8299</th>\n",
       "      <td>2018/3/20</td>\n",
       "      <td>一等奖价值1000呢~大家赶紧转发告诉自己认识的摄影爱好者呀</td>\n",
       "      <td>热带风暴</td>\n",
       "    </tr>\n",
       "    <tr>\n",
       "      <th>7914</th>\n",
       "      <td>2018/3/4</td>\n",
       "      <td>《踏上新征程》MV三分钟讲述广东人民幸福生活</td>\n",
       "      <td>热带风暴</td>\n",
       "    </tr>\n",
       "    <tr>\n",
       "      <th>2867</th>\n",
       "      <td>2017/7/24</td>\n",
       "      <td>转发微博</td>\n",
       "      <td>热带风暴</td>\n",
       "    </tr>\n",
       "    <tr>\n",
       "      <th>2204</th>\n",
       "      <td>2017/6/26</td>\n",
       "      <td>转发微博</td>\n",
       "      <td>热带风暴</td>\n",
       "    </tr>\n",
       "    <tr>\n",
       "      <th>2215</th>\n",
       "      <td>2017/6/27</td>\n",
       "      <td>还有手环，最后还有一个移动电源的上墙名额[二哈]</td>\n",
       "      <td>热带风暴</td>\n",
       "    </tr>\n",
       "    <tr>\n",
       "      <th>2217</th>\n",
       "      <td>2017/6/27</td>\n",
       "      <td>转发微博</td>\n",
       "      <td>热带风暴</td>\n",
       "    </tr>\n",
       "    <tr>\n",
       "      <th>3494</th>\n",
       "      <td>2017/8/20</td>\n",
       "      <td>http://t.cn/h91BSI【台风消息】20日14时，台湾东南洋面的热带低压加强为今...</td>\n",
       "      <td>热带风暴</td>\n",
       "    </tr>\n",
       "    <tr>\n",
       "      <th>3495</th>\n",
       "      <td>2017/8/20</td>\n",
       "      <td>【13号台风】#天气话你知# 14时，13号台风（热带风暴级）诞生了~~暂时没有名字[摊手]</td>\n",
       "      <td>热带风暴</td>\n",
       "    </tr>\n",
       "    <tr>\n",
       "      <th>3501</th>\n",
       "      <td>2017/8/20</td>\n",
       "      <td>http://t.cn/h91BSI【台风消息】20日20时，今年第13号台风“天鸽”（热带...</td>\n",
       "      <td>热带风暴</td>\n",
       "    </tr>\n",
       "    <tr>\n",
       "      <th>3505</th>\n",
       "      <td>2017/8/21</td>\n",
       "      <td>http://t.cn/h91BSI【台风消息】21日08时，今年第13号台风“天鸽”（热带...</td>\n",
       "      <td>热带风暴</td>\n",
       "    </tr>\n",
       "    <tr>\n",
       "      <th>5986</th>\n",
       "      <td>2017/12/18</td>\n",
       "      <td>看雪何必到北方，虽然这是霜[二哈]</td>\n",
       "      <td>热带风暴</td>\n",
       "    </tr>\n",
       "    <tr>\n",
       "      <th>3401</th>\n",
       "      <td>2017/8/15</td>\n",
       "      <td>转发微博</td>\n",
       "      <td>热带风暴</td>\n",
       "    </tr>\n",
       "    <tr>\n",
       "      <th>3415</th>\n",
       "      <td>2017/8/16</td>\n",
       "      <td>转发微博</td>\n",
       "      <td>热带风暴</td>\n",
       "    </tr>\n",
       "    <tr>\n",
       "      <th>3416</th>\n",
       "      <td>2017/8/16</td>\n",
       "      <td>转发微博</td>\n",
       "      <td>热带风暴</td>\n",
       "    </tr>\n",
       "    <tr>\n",
       "      <th>3421</th>\n",
       "      <td>2017/8/16</td>\n",
       "      <td>转发微博</td>\n",
       "      <td>热带风暴</td>\n",
       "    </tr>\n",
       "    <tr>\n",
       "      <th>3422</th>\n",
       "      <td>2017/8/16</td>\n",
       "      <td>转发微博</td>\n",
       "      <td>热带风暴</td>\n",
       "    </tr>\n",
       "    <tr>\n",
       "      <th>3423</th>\n",
       "      <td>2017/8/16</td>\n",
       "      <td>转发微博</td>\n",
       "      <td>热带风暴</td>\n",
       "    </tr>\n",
       "    <tr>\n",
       "      <th>3426</th>\n",
       "      <td>2017/8/16</td>\n",
       "      <td>转发微博</td>\n",
       "      <td>热带风暴</td>\n",
       "    </tr>\n",
       "    <tr>\n",
       "      <th>3427</th>\n",
       "      <td>2017/8/16</td>\n",
       "      <td>转发微博</td>\n",
       "      <td>热带风暴</td>\n",
       "    </tr>\n",
       "    <tr>\n",
       "      <th>3429</th>\n",
       "      <td>2017/8/16</td>\n",
       "      <td>转发微博</td>\n",
       "      <td>热带风暴</td>\n",
       "    </tr>\n",
       "    <tr>\n",
       "      <th>3432</th>\n",
       "      <td>2017/8/16</td>\n",
       "      <td>转发微博</td>\n",
       "      <td>热带风暴</td>\n",
       "    </tr>\n",
       "  </tbody>\n",
       "</table>\n",
       "<p>409 rows × 3 columns</p>\n",
       "</div>"
      ],
      "text/plain": [
       "        statdate                                               text  所属分类\n",
       "id                                                                       \n",
       "3586   2017/8/22                                               转发微博  热带风暴\n",
       "3641   2017/8/23  http://t.cn/h91BSI【台风紧急警报】今天下午16时，今年第13号台风“天鸽”...  热带风暴\n",
       "3642   2017/8/23  【七天天气预报—“天鸽”上岸，仍有风雨】#天气话你知# #13号台风天鸽# 强台风“天鸽”已...  热带风暴\n",
       "3643   2017/8/23  http://t.cn/h91BSI【台风蓝色预警信号】今年第13号台风“天鸽”，23日17...  热带风暴\n",
       "3645   2017/8/23                                               转发微博  热带风暴\n",
       "3646   2017/8/23                                               转发微博  热带风暴\n",
       "3647   2017/8/23                                               转发微博  热带风暴\n",
       "3648   2017/8/23                                               转发微博  热带风暴\n",
       "3649   2017/8/23  #天气话你知##13号台风天鸽# “天鸽”的主风区和主雨区随着台风中心的西移而西移，广州范围...  热带风暴\n",
       "3650   2017/8/23                                               转发微博  热带风暴\n",
       "3651   2017/8/23  http://t.cn/h91BSI【台风预警信号解除】受“天鸽”影响，今天白天广州市区普遍...  热带风暴\n",
       "3652   2017/8/23                                               转发微博  热带风暴\n",
       "3653   2017/8/23                                               转发微博  热带风暴\n",
       "3654   2017/8/23                                               转发微博  热带风暴\n",
       "3655   2017/8/23  http://t.cn/h91BSI【台风消息】今天20时，台风“天鸽”（强热带风暴级）中心...  热带风暴\n",
       "3656   2017/8/23                                               转发微博  热带风暴\n",
       "3657   2017/8/23                                               转发微博  热带风暴\n",
       "3659   2017/8/23                                               转发微博  热带风暴\n",
       "3670   2017/8/24                                               转发微博  热带风暴\n",
       "3706   2017/8/25  http://t.cn/h91BSI【台风消息】25日08时，今年第14号台风“帕卡”（热带...  热带风暴\n",
       "3707   2017/8/25  【早安，广州】#天气话你知##台风帕卡# 13号台风“天鸽”飞走了，14号台风“帕卡”生成[...  热带风暴\n",
       "3708   2017/8/25  #小编8天气#希望各台风都保住自己的“名字”，争取当优秀的台风。 http://t.cn/R...  热带风暴\n",
       "3587   2017/8/22  http://t.cn/h91BSI【台风警报】今天20时，台风“天鸽”（台风级）中心位于广...  热带风暴\n",
       "3590   2017/8/22  #13号台风天鸽# 【台风最新消息】今天晚上10时，今年第13号台风\"天鸽\"（台风级）中心位...  热带风暴\n",
       "3592   2017/8/22  #13号台风天鸽# 【台风最新消息】今天晚上9时，今年第13号台风\"天鸽\"（台风级）中心位于...  热带风暴\n",
       "3593   2017/8/23  #13号台风天鸽#【台风最新消息】今天凌晨4时，今年第13号台风\"天鸽\"（台风级）中心位于北...  热带风暴\n",
       "3594   2017/8/23  #13号台风天鸽#【台风最新消息】今天凌晨3时，今年第13号台风\"天鸽\"（台风级）中心位于北...  热带风暴\n",
       "3595   2017/8/23  http://t.cn/h91BSI【台风紧急警报】今天02时，台风“天鸽”（台风级）中心位...  热带风暴\n",
       "3597   2017/8/23  #13号台风天鸽# 【台风最新消息】今天半夜1时，今年第13号台风\"天鸽\"（台风级）中心位于...  热带风暴\n",
       "3599   2017/8/23  http://t.cn/h91BSI【台风紧急警报】今天05时，台风“天鸽”（台风级）中心位...  热带风暴\n",
       "...          ...                                                ...   ...\n",
       "2652   2017/7/14                                               转发微博  热带风暴\n",
       "2653   2017/7/14                                               转发微博  热带风暴\n",
       "2654   2017/7/14                                               转发微博  热带风暴\n",
       "2655   2017/7/14  【广州气象快报】12日以来我市维持晴热高温天气，最高气温在34～36℃。目前在西沙群岛附近的...  热带风暴\n",
       "2657   2017/7/14                                               转发微博  热带风暴\n",
       "2153   2017/6/23                     #随手拍广州# 风雨过后见彩虹[赞]。转发此条锦鲤[哈哈]。  热带风暴\n",
       "2155   2017/6/23                                               转发微博  热带风暴\n",
       "2156   2017/6/23                                               转发微博  热带风暴\n",
       "8295   2018/3/20                   夜来风雨声，花落知多少~@crazy_susan @天使忍住眼泪  热带风暴\n",
       "8299   2018/3/20                     一等奖价值1000呢~大家赶紧转发告诉自己认识的摄影爱好者呀  热带风暴\n",
       "7914    2018/3/4                             《踏上新征程》MV三分钟讲述广东人民幸福生活  热带风暴\n",
       "2867   2017/7/24                                               转发微博  热带风暴\n",
       "2204   2017/6/26                                               转发微博  热带风暴\n",
       "2215   2017/6/27                           还有手环，最后还有一个移动电源的上墙名额[二哈]  热带风暴\n",
       "2217   2017/6/27                                               转发微博  热带风暴\n",
       "3494   2017/8/20  http://t.cn/h91BSI【台风消息】20日14时，台湾东南洋面的热带低压加强为今...  热带风暴\n",
       "3495   2017/8/20     【13号台风】#天气话你知# 14时，13号台风（热带风暴级）诞生了~~暂时没有名字[摊手]  热带风暴\n",
       "3501   2017/8/20  http://t.cn/h91BSI【台风消息】20日20时，今年第13号台风“天鸽”（热带...  热带风暴\n",
       "3505   2017/8/21  http://t.cn/h91BSI【台风消息】21日08时，今年第13号台风“天鸽”（热带...  热带风暴\n",
       "5986  2017/12/18                                  看雪何必到北方，虽然这是霜[二哈]  热带风暴\n",
       "3401   2017/8/15                                               转发微博  热带风暴\n",
       "3415   2017/8/16                                               转发微博  热带风暴\n",
       "3416   2017/8/16                                               转发微博  热带风暴\n",
       "3421   2017/8/16                                               转发微博  热带风暴\n",
       "3422   2017/8/16                                               转发微博  热带风暴\n",
       "3423   2017/8/16                                               转发微博  热带风暴\n",
       "3426   2017/8/16                                               转发微博  热带风暴\n",
       "3427   2017/8/16                                               转发微博  热带风暴\n",
       "3429   2017/8/16                                               转发微博  热带风暴\n",
       "3432   2017/8/16                                               转发微博  热带风暴\n",
       "\n",
       "[409 rows x 3 columns]"
      ]
     },
     "execution_count": 4,
     "metadata": {},
     "output_type": "execute_result"
    }
   ],
   "source": [
    "rdfb = result.loc[result.所属分类 == '热带风暴', :]\n",
    "rdfb"
   ]
  },
  {
   "cell_type": "code",
   "execution_count": 5,
   "metadata": {
    "collapsed": true
   },
   "outputs": [],
   "source": [
    "X = rdfb.loc[:, ['text']]"
   ]
  },
  {
   "cell_type": "code",
   "execution_count": 6,
   "metadata": {},
   "outputs": [
    {
     "data": {
      "text/plain": [
       "(409, 1)"
      ]
     },
     "execution_count": 6,
     "metadata": {},
     "output_type": "execute_result"
    }
   ],
   "source": [
    "X.shape"
   ]
  },
  {
   "cell_type": "code",
   "execution_count": 7,
   "metadata": {},
   "outputs": [
    {
     "data": {
      "text/html": [
       "<div>\n",
       "<style>\n",
       "    .dataframe thead tr:only-child th {\n",
       "        text-align: right;\n",
       "    }\n",
       "\n",
       "    .dataframe thead th {\n",
       "        text-align: left;\n",
       "    }\n",
       "\n",
       "    .dataframe tbody tr th {\n",
       "        vertical-align: top;\n",
       "    }\n",
       "</style>\n",
       "<table border=\"1\" class=\"dataframe\">\n",
       "  <thead>\n",
       "    <tr style=\"text-align: right;\">\n",
       "      <th></th>\n",
       "      <th>text</th>\n",
       "    </tr>\n",
       "    <tr>\n",
       "      <th>id</th>\n",
       "      <th></th>\n",
       "    </tr>\n",
       "  </thead>\n",
       "  <tbody>\n",
       "    <tr>\n",
       "      <th>3586</th>\n",
       "      <td>转发微博</td>\n",
       "    </tr>\n",
       "    <tr>\n",
       "      <th>3641</th>\n",
       "      <td>http://t.cn/h91BSI【台风紧急警报】今天下午16时，今年第13号台风“天鸽”...</td>\n",
       "    </tr>\n",
       "    <tr>\n",
       "      <th>3642</th>\n",
       "      <td>【七天天气预报—“天鸽”上岸，仍有风雨】#天气话你知# #13号台风天鸽# 强台风“天鸽”已...</td>\n",
       "    </tr>\n",
       "    <tr>\n",
       "      <th>3643</th>\n",
       "      <td>http://t.cn/h91BSI【台风蓝色预警信号】今年第13号台风“天鸽”，23日17...</td>\n",
       "    </tr>\n",
       "    <tr>\n",
       "      <th>3645</th>\n",
       "      <td>转发微博</td>\n",
       "    </tr>\n",
       "  </tbody>\n",
       "</table>\n",
       "</div>"
      ],
      "text/plain": [
       "                                                   text\n",
       "id                                                     \n",
       "3586                                               转发微博\n",
       "3641  http://t.cn/h91BSI【台风紧急警报】今天下午16时，今年第13号台风“天鸽”...\n",
       "3642  【七天天气预报—“天鸽”上岸，仍有风雨】#天气话你知# #13号台风天鸽# 强台风“天鸽”已...\n",
       "3643  http://t.cn/h91BSI【台风蓝色预警信号】今年第13号台风“天鸽”，23日17...\n",
       "3645                                               转发微博"
      ]
     },
     "execution_count": 7,
     "metadata": {},
     "output_type": "execute_result"
    }
   ],
   "source": [
    "X.head()"
   ]
  },
  {
   "cell_type": "code",
   "execution_count": 8,
   "metadata": {},
   "outputs": [
    {
     "data": {
      "text/plain": [
       "text    object\n",
       "dtype: object"
      ]
     },
     "execution_count": 8,
     "metadata": {},
     "output_type": "execute_result"
    }
   ],
   "source": [
    "X.dtypes"
   ]
  },
  {
   "cell_type": "code",
   "execution_count": 9,
   "metadata": {},
   "outputs": [
    {
     "data": {
      "text/plain": [
       "count      409\n",
       "unique     271\n",
       "top       转发微博\n",
       "freq       139\n",
       "Name: text, dtype: object"
      ]
     },
     "execution_count": 9,
     "metadata": {},
     "output_type": "execute_result"
    }
   ],
   "source": [
    "X.text.describe()"
   ]
  },
  {
   "cell_type": "code",
   "execution_count": 10,
   "metadata": {
    "collapsed": true
   },
   "outputs": [],
   "source": [
    "import jieba"
   ]
  },
  {
   "cell_type": "code",
   "execution_count": 11,
   "metadata": {
    "collapsed": true
   },
   "outputs": [],
   "source": [
    "def chinese_word_cut(mytext):\n",
    "    return ' '.join(jieba.cut(mytext))"
   ]
  },
  {
   "cell_type": "code",
   "execution_count": 12,
   "metadata": {},
   "outputs": [
    {
     "name": "stderr",
     "output_type": "stream",
     "text": [
      "Building prefix dict from the default dictionary ...\n",
      "Loading model from cache C:\\Users\\ADMINI~1\\AppData\\Local\\Temp\\1\\jieba.cache\n",
      "Loading model cost 1.519 seconds.\n",
      "Prefix dict has been built succesfully.\n"
     ]
    }
   ],
   "source": [
    "jieba.load_userdict(\"userdict_weibo.txt\")"
   ]
  },
  {
   "cell_type": "code",
   "execution_count": 13,
   "metadata": {},
   "outputs": [
    {
     "name": "stdout",
     "output_type": "stream",
     "text": [
      "Wall time: 513 ms\n"
     ]
    }
   ],
   "source": [
    "%%time\n",
    "X['cutted_text'] = X.text.apply(chinese_word_cut)"
   ]
  },
  {
   "cell_type": "code",
   "execution_count": 14,
   "metadata": {},
   "outputs": [
    {
     "data": {
      "text/html": [
       "<div>\n",
       "<style>\n",
       "    .dataframe thead tr:only-child th {\n",
       "        text-align: right;\n",
       "    }\n",
       "\n",
       "    .dataframe thead th {\n",
       "        text-align: left;\n",
       "    }\n",
       "\n",
       "    .dataframe tbody tr th {\n",
       "        vertical-align: top;\n",
       "    }\n",
       "</style>\n",
       "<table border=\"1\" class=\"dataframe\">\n",
       "  <thead>\n",
       "    <tr style=\"text-align: right;\">\n",
       "      <th></th>\n",
       "      <th>text</th>\n",
       "      <th>cutted_text</th>\n",
       "    </tr>\n",
       "    <tr>\n",
       "      <th>id</th>\n",
       "      <th></th>\n",
       "      <th></th>\n",
       "    </tr>\n",
       "  </thead>\n",
       "  <tbody>\n",
       "    <tr>\n",
       "      <th>3586</th>\n",
       "      <td>转发微博</td>\n",
       "      <td>转发 微博</td>\n",
       "    </tr>\n",
       "    <tr>\n",
       "      <th>3641</th>\n",
       "      <td>http://t.cn/h91BSI【台风紧急警报】今天下午16时，今年第13号台风“天鸽”...</td>\n",
       "      <td>http : / / t . cn / h91BSI 【 台风 紧急警报 】 今天下午 16...</td>\n",
       "    </tr>\n",
       "    <tr>\n",
       "      <th>3642</th>\n",
       "      <td>【七天天气预报—“天鸽”上岸，仍有风雨】#天气话你知# #13号台风天鸽# 强台风“天鸽”已...</td>\n",
       "      <td>【 七天 天气预报 — “ 天鸽 ” 上岸 ， 仍 有 风雨 】 # 天气话你知 #   #...</td>\n",
       "    </tr>\n",
       "    <tr>\n",
       "      <th>3643</th>\n",
       "      <td>http://t.cn/h91BSI【台风蓝色预警信号】今年第13号台风“天鸽”，23日17...</td>\n",
       "      <td>http : / / t . cn / h91BSI 【 台风 蓝色 预警 信号 】 今年 ...</td>\n",
       "    </tr>\n",
       "    <tr>\n",
       "      <th>3645</th>\n",
       "      <td>转发微博</td>\n",
       "      <td>转发 微博</td>\n",
       "    </tr>\n",
       "  </tbody>\n",
       "</table>\n",
       "</div>"
      ],
      "text/plain": [
       "                                                   text  \\\n",
       "id                                                        \n",
       "3586                                               转发微博   \n",
       "3641  http://t.cn/h91BSI【台风紧急警报】今天下午16时，今年第13号台风“天鸽”...   \n",
       "3642  【七天天气预报—“天鸽”上岸，仍有风雨】#天气话你知# #13号台风天鸽# 强台风“天鸽”已...   \n",
       "3643  http://t.cn/h91BSI【台风蓝色预警信号】今年第13号台风“天鸽”，23日17...   \n",
       "3645                                               转发微博   \n",
       "\n",
       "                                            cutted_text  \n",
       "id                                                       \n",
       "3586                                              转发 微博  \n",
       "3641  http : / / t . cn / h91BSI 【 台风 紧急警报 】 今天下午 16...  \n",
       "3642  【 七天 天气预报 — “ 天鸽 ” 上岸 ， 仍 有 风雨 】 # 天气话你知 #   #...  \n",
       "3643  http : / / t . cn / h91BSI 【 台风 蓝色 预警 信号 】 今年 ...  \n",
       "3645                                              转发 微博  "
      ]
     },
     "execution_count": 14,
     "metadata": {},
     "output_type": "execute_result"
    }
   ],
   "source": [
    "X.head()"
   ]
  },
  {
   "cell_type": "code",
   "execution_count": 15,
   "metadata": {},
   "outputs": [
    {
     "data": {
      "text/plain": [
       "(409, 2)"
      ]
     },
     "execution_count": 15,
     "metadata": {},
     "output_type": "execute_result"
    }
   ],
   "source": [
    "X.shape"
   ]
  },
  {
   "cell_type": "code",
   "execution_count": 16,
   "metadata": {
    "collapsed": true
   },
   "outputs": [],
   "source": [
    "def get_custom_stopwords(stop_words_file):\n",
    "    with open(stop_words_file, encoding='utf-8') as f:\n",
    "        stopwords = f.read( )\n",
    "    stopwords_list = stopwords.split('\\n')\n",
    "    custom_stopwords_list = [i for i in stopwords_list]\n",
    "    return custom_stopwords_list"
   ]
  },
  {
   "cell_type": "code",
   "execution_count": 17,
   "metadata": {
    "collapsed": true
   },
   "outputs": [],
   "source": [
    "stop_words_file = 'mystopwords.txt'\n",
    "stopwords = get_custom_stopwords(stop_words_file)"
   ]
  },
  {
   "cell_type": "code",
   "execution_count": 18,
   "metadata": {},
   "outputs": [
    {
     "data": {
      "text/plain": [
       "['划重点', '没错', '缓慢', '增加', '务必', '较强', '辐射', '时段', '雷雨', '']"
      ]
     },
     "execution_count": 18,
     "metadata": {},
     "output_type": "execute_result"
    }
   ],
   "source": [
    "stopwords[-10:]"
   ]
  },
  {
   "cell_type": "code",
   "execution_count": 19,
   "metadata": {
    "collapsed": true
   },
   "outputs": [],
   "source": [
    "from sklearn.feature_extraction.text import CountVectorizer"
   ]
  },
  {
   "cell_type": "code",
   "execution_count": 20,
   "metadata": {
    "collapsed": true
   },
   "outputs": [],
   "source": [
    "vect = CountVectorizer()"
   ]
  },
  {
   "cell_type": "code",
   "execution_count": 21,
   "metadata": {
    "collapsed": true
   },
   "outputs": [],
   "source": [
    "term_matrix = pd.DataFrame(vect.fit_transform(X.cutted_text).toarray(), columns=vect.get_feature_names())"
   ]
  },
  {
   "cell_type": "code",
   "execution_count": 22,
   "metadata": {},
   "outputs": [
    {
     "data": {
      "text/html": [
       "<div>\n",
       "<style>\n",
       "    .dataframe thead tr:only-child th {\n",
       "        text-align: right;\n",
       "    }\n",
       "\n",
       "    .dataframe thead th {\n",
       "        text-align: left;\n",
       "    }\n",
       "\n",
       "    .dataframe tbody tr th {\n",
       "        vertical-align: top;\n",
       "    }\n",
       "</style>\n",
       "<table border=\"1\" class=\"dataframe\">\n",
       "  <thead>\n",
       "    <tr style=\"text-align: right;\">\n",
       "      <th></th>\n",
       "      <th>01</th>\n",
       "      <th>02</th>\n",
       "      <th>04</th>\n",
       "      <th>05</th>\n",
       "      <th>06</th>\n",
       "      <th>07</th>\n",
       "      <th>08</th>\n",
       "      <th>09</th>\n",
       "      <th>10</th>\n",
       "      <th>100</th>\n",
       "      <th>...</th>\n",
       "      <th>鹅銮鼻</th>\n",
       "      <th>黄人</th>\n",
       "      <th>黄人坏</th>\n",
       "      <th>黄埔</th>\n",
       "      <th>黄埔区</th>\n",
       "      <th>黄色</th>\n",
       "      <th>黄色预警信号</th>\n",
       "      <th>黑暗</th>\n",
       "      <th>鼓掌</th>\n",
       "      <th>齐飞</th>\n",
       "    </tr>\n",
       "  </thead>\n",
       "  <tbody>\n",
       "    <tr>\n",
       "      <th>0</th>\n",
       "      <td>0</td>\n",
       "      <td>0</td>\n",
       "      <td>0</td>\n",
       "      <td>0</td>\n",
       "      <td>0</td>\n",
       "      <td>0</td>\n",
       "      <td>0</td>\n",
       "      <td>0</td>\n",
       "      <td>0</td>\n",
       "      <td>0</td>\n",
       "      <td>...</td>\n",
       "      <td>0</td>\n",
       "      <td>0</td>\n",
       "      <td>0</td>\n",
       "      <td>0</td>\n",
       "      <td>0</td>\n",
       "      <td>0</td>\n",
       "      <td>0</td>\n",
       "      <td>0</td>\n",
       "      <td>0</td>\n",
       "      <td>0</td>\n",
       "    </tr>\n",
       "    <tr>\n",
       "      <th>1</th>\n",
       "      <td>0</td>\n",
       "      <td>0</td>\n",
       "      <td>0</td>\n",
       "      <td>0</td>\n",
       "      <td>0</td>\n",
       "      <td>0</td>\n",
       "      <td>0</td>\n",
       "      <td>0</td>\n",
       "      <td>0</td>\n",
       "      <td>0</td>\n",
       "      <td>...</td>\n",
       "      <td>0</td>\n",
       "      <td>0</td>\n",
       "      <td>0</td>\n",
       "      <td>0</td>\n",
       "      <td>0</td>\n",
       "      <td>0</td>\n",
       "      <td>0</td>\n",
       "      <td>0</td>\n",
       "      <td>0</td>\n",
       "      <td>0</td>\n",
       "    </tr>\n",
       "    <tr>\n",
       "      <th>2</th>\n",
       "      <td>0</td>\n",
       "      <td>0</td>\n",
       "      <td>0</td>\n",
       "      <td>0</td>\n",
       "      <td>0</td>\n",
       "      <td>0</td>\n",
       "      <td>0</td>\n",
       "      <td>0</td>\n",
       "      <td>0</td>\n",
       "      <td>0</td>\n",
       "      <td>...</td>\n",
       "      <td>0</td>\n",
       "      <td>0</td>\n",
       "      <td>0</td>\n",
       "      <td>0</td>\n",
       "      <td>0</td>\n",
       "      <td>0</td>\n",
       "      <td>0</td>\n",
       "      <td>0</td>\n",
       "      <td>0</td>\n",
       "      <td>0</td>\n",
       "    </tr>\n",
       "    <tr>\n",
       "      <th>3</th>\n",
       "      <td>0</td>\n",
       "      <td>0</td>\n",
       "      <td>0</td>\n",
       "      <td>0</td>\n",
       "      <td>0</td>\n",
       "      <td>0</td>\n",
       "      <td>0</td>\n",
       "      <td>0</td>\n",
       "      <td>0</td>\n",
       "      <td>0</td>\n",
       "      <td>...</td>\n",
       "      <td>0</td>\n",
       "      <td>0</td>\n",
       "      <td>0</td>\n",
       "      <td>0</td>\n",
       "      <td>0</td>\n",
       "      <td>0</td>\n",
       "      <td>0</td>\n",
       "      <td>0</td>\n",
       "      <td>0</td>\n",
       "      <td>0</td>\n",
       "    </tr>\n",
       "    <tr>\n",
       "      <th>4</th>\n",
       "      <td>0</td>\n",
       "      <td>0</td>\n",
       "      <td>0</td>\n",
       "      <td>0</td>\n",
       "      <td>0</td>\n",
       "      <td>0</td>\n",
       "      <td>0</td>\n",
       "      <td>0</td>\n",
       "      <td>0</td>\n",
       "      <td>0</td>\n",
       "      <td>...</td>\n",
       "      <td>0</td>\n",
       "      <td>0</td>\n",
       "      <td>0</td>\n",
       "      <td>0</td>\n",
       "      <td>0</td>\n",
       "      <td>0</td>\n",
       "      <td>0</td>\n",
       "      <td>0</td>\n",
       "      <td>0</td>\n",
       "      <td>0</td>\n",
       "    </tr>\n",
       "  </tbody>\n",
       "</table>\n",
       "<p>5 rows × 1412 columns</p>\n",
       "</div>"
      ],
      "text/plain": [
       "   01  02  04  05  06  07  08  09  10  100 ...  鹅銮鼻  黄人  黄人坏  黄埔  黄埔区  黄色  \\\n",
       "0   0   0   0   0   0   0   0   0   0    0 ...    0   0    0   0    0   0   \n",
       "1   0   0   0   0   0   0   0   0   0    0 ...    0   0    0   0    0   0   \n",
       "2   0   0   0   0   0   0   0   0   0    0 ...    0   0    0   0    0   0   \n",
       "3   0   0   0   0   0   0   0   0   0    0 ...    0   0    0   0    0   0   \n",
       "4   0   0   0   0   0   0   0   0   0    0 ...    0   0    0   0    0   0   \n",
       "\n",
       "   黄色预警信号  黑暗  鼓掌  齐飞  \n",
       "0       0   0   0   0  \n",
       "1       0   0   0   0  \n",
       "2       0   0   0   0  \n",
       "3       0   0   0   0  \n",
       "4       0   0   0   0  \n",
       "\n",
       "[5 rows x 1412 columns]"
      ]
     },
     "execution_count": 22,
     "metadata": {},
     "output_type": "execute_result"
    }
   ],
   "source": [
    "term_matrix.head()"
   ]
  },
  {
   "cell_type": "code",
   "execution_count": 23,
   "metadata": {},
   "outputs": [
    {
     "data": {
      "text/plain": [
       "(409, 1412)"
      ]
     },
     "execution_count": 23,
     "metadata": {},
     "output_type": "execute_result"
    }
   ],
   "source": [
    "term_matrix.shape"
   ]
  },
  {
   "cell_type": "code",
   "execution_count": 24,
   "metadata": {
    "collapsed": true
   },
   "outputs": [],
   "source": [
    "vect = CountVectorizer(stop_words=frozenset(stopwords)) #加上停用词去除功能"
   ]
  },
  {
   "cell_type": "code",
   "execution_count": 25,
   "metadata": {
    "collapsed": true
   },
   "outputs": [],
   "source": [
    "term_matrix = pd.DataFrame(vect.fit_transform(X.cutted_text).toarray(), columns=vect.get_feature_names())"
   ]
  },
  {
   "cell_type": "code",
   "execution_count": 26,
   "metadata": {},
   "outputs": [
    {
     "data": {
      "text/html": [
       "<div>\n",
       "<style>\n",
       "    .dataframe thead tr:only-child th {\n",
       "        text-align: right;\n",
       "    }\n",
       "\n",
       "    .dataframe thead th {\n",
       "        text-align: left;\n",
       "    }\n",
       "\n",
       "    .dataframe tbody tr th {\n",
       "        vertical-align: top;\n",
       "    }\n",
       "</style>\n",
       "<table border=\"1\" class=\"dataframe\">\n",
       "  <thead>\n",
       "    <tr style=\"text-align: right;\">\n",
       "      <th></th>\n",
       "      <th>01</th>\n",
       "      <th>02</th>\n",
       "      <th>04</th>\n",
       "      <th>05</th>\n",
       "      <th>06</th>\n",
       "      <th>07</th>\n",
       "      <th>08</th>\n",
       "      <th>09</th>\n",
       "      <th>10</th>\n",
       "      <th>100</th>\n",
       "      <th>...</th>\n",
       "      <th>鸽子</th>\n",
       "      <th>鹅銮鼻</th>\n",
       "      <th>黄人</th>\n",
       "      <th>黄人坏</th>\n",
       "      <th>黄埔区</th>\n",
       "      <th>黄色</th>\n",
       "      <th>黄色预警信号</th>\n",
       "      <th>黑暗</th>\n",
       "      <th>鼓掌</th>\n",
       "      <th>齐飞</th>\n",
       "    </tr>\n",
       "  </thead>\n",
       "  <tbody>\n",
       "    <tr>\n",
       "      <th>0</th>\n",
       "      <td>0</td>\n",
       "      <td>0</td>\n",
       "      <td>0</td>\n",
       "      <td>0</td>\n",
       "      <td>0</td>\n",
       "      <td>0</td>\n",
       "      <td>0</td>\n",
       "      <td>0</td>\n",
       "      <td>0</td>\n",
       "      <td>0</td>\n",
       "      <td>...</td>\n",
       "      <td>0</td>\n",
       "      <td>0</td>\n",
       "      <td>0</td>\n",
       "      <td>0</td>\n",
       "      <td>0</td>\n",
       "      <td>0</td>\n",
       "      <td>0</td>\n",
       "      <td>0</td>\n",
       "      <td>0</td>\n",
       "      <td>0</td>\n",
       "    </tr>\n",
       "    <tr>\n",
       "      <th>1</th>\n",
       "      <td>0</td>\n",
       "      <td>0</td>\n",
       "      <td>0</td>\n",
       "      <td>0</td>\n",
       "      <td>0</td>\n",
       "      <td>0</td>\n",
       "      <td>0</td>\n",
       "      <td>0</td>\n",
       "      <td>0</td>\n",
       "      <td>0</td>\n",
       "      <td>...</td>\n",
       "      <td>0</td>\n",
       "      <td>0</td>\n",
       "      <td>0</td>\n",
       "      <td>0</td>\n",
       "      <td>0</td>\n",
       "      <td>0</td>\n",
       "      <td>0</td>\n",
       "      <td>0</td>\n",
       "      <td>0</td>\n",
       "      <td>0</td>\n",
       "    </tr>\n",
       "    <tr>\n",
       "      <th>2</th>\n",
       "      <td>0</td>\n",
       "      <td>0</td>\n",
       "      <td>0</td>\n",
       "      <td>0</td>\n",
       "      <td>0</td>\n",
       "      <td>0</td>\n",
       "      <td>0</td>\n",
       "      <td>0</td>\n",
       "      <td>0</td>\n",
       "      <td>0</td>\n",
       "      <td>...</td>\n",
       "      <td>0</td>\n",
       "      <td>0</td>\n",
       "      <td>0</td>\n",
       "      <td>0</td>\n",
       "      <td>0</td>\n",
       "      <td>0</td>\n",
       "      <td>0</td>\n",
       "      <td>0</td>\n",
       "      <td>0</td>\n",
       "      <td>0</td>\n",
       "    </tr>\n",
       "    <tr>\n",
       "      <th>3</th>\n",
       "      <td>0</td>\n",
       "      <td>0</td>\n",
       "      <td>0</td>\n",
       "      <td>0</td>\n",
       "      <td>0</td>\n",
       "      <td>0</td>\n",
       "      <td>0</td>\n",
       "      <td>0</td>\n",
       "      <td>0</td>\n",
       "      <td>0</td>\n",
       "      <td>...</td>\n",
       "      <td>0</td>\n",
       "      <td>0</td>\n",
       "      <td>0</td>\n",
       "      <td>0</td>\n",
       "      <td>0</td>\n",
       "      <td>0</td>\n",
       "      <td>0</td>\n",
       "      <td>0</td>\n",
       "      <td>0</td>\n",
       "      <td>0</td>\n",
       "    </tr>\n",
       "    <tr>\n",
       "      <th>4</th>\n",
       "      <td>0</td>\n",
       "      <td>0</td>\n",
       "      <td>0</td>\n",
       "      <td>0</td>\n",
       "      <td>0</td>\n",
       "      <td>0</td>\n",
       "      <td>0</td>\n",
       "      <td>0</td>\n",
       "      <td>0</td>\n",
       "      <td>0</td>\n",
       "      <td>...</td>\n",
       "      <td>0</td>\n",
       "      <td>0</td>\n",
       "      <td>0</td>\n",
       "      <td>0</td>\n",
       "      <td>0</td>\n",
       "      <td>0</td>\n",
       "      <td>0</td>\n",
       "      <td>0</td>\n",
       "      <td>0</td>\n",
       "      <td>0</td>\n",
       "    </tr>\n",
       "  </tbody>\n",
       "</table>\n",
       "<p>5 rows × 1156 columns</p>\n",
       "</div>"
      ],
      "text/plain": [
       "   01  02  04  05  06  07  08  09  10  100 ...  鸽子  鹅銮鼻  黄人  黄人坏  黄埔区  黄色  \\\n",
       "0   0   0   0   0   0   0   0   0   0    0 ...   0    0   0    0    0   0   \n",
       "1   0   0   0   0   0   0   0   0   0    0 ...   0    0   0    0    0   0   \n",
       "2   0   0   0   0   0   0   0   0   0    0 ...   0    0   0    0    0   0   \n",
       "3   0   0   0   0   0   0   0   0   0    0 ...   0    0   0    0    0   0   \n",
       "4   0   0   0   0   0   0   0   0   0    0 ...   0    0   0    0    0   0   \n",
       "\n",
       "   黄色预警信号  黑暗  鼓掌  齐飞  \n",
       "0       0   0   0   0  \n",
       "1       0   0   0   0  \n",
       "2       0   0   0   0  \n",
       "3       0   0   0   0  \n",
       "4       0   0   0   0  \n",
       "\n",
       "[5 rows x 1156 columns]"
      ]
     },
     "execution_count": 26,
     "metadata": {},
     "output_type": "execute_result"
    }
   ],
   "source": [
    "term_matrix.head()"
   ]
  },
  {
   "cell_type": "code",
   "execution_count": 27,
   "metadata": {
    "collapsed": true
   },
   "outputs": [],
   "source": [
    "max_df = 0.8 # 在超过这一比例的文档中出现的关键词（过于平凡），去除掉。\n",
    "min_df = 3 # 在地狱这一数量的文档中出现的关键词（过于独特），去除掉。"
   ]
  },
  {
   "cell_type": "code",
   "execution_count": 28,
   "metadata": {
    "collapsed": true
   },
   "outputs": [],
   "source": [
    "vect = CountVectorizer(max_df=max_df,\n",
    "                      min_df=min_df,\n",
    "                      token_pattern=u'(?u)\\\\b[^\\\\d\\\\W]\\\\w+\\\\b',\n",
    "                      stop_words=frozenset(stopwords))"
   ]
  },
  {
   "cell_type": "code",
   "execution_count": 29,
   "metadata": {
    "collapsed": true
   },
   "outputs": [],
   "source": [
    "term_matrix = pd.DataFrame(vect.fit_transform(X.cutted_text).toarray(), columns=vect.get_feature_names())"
   ]
  },
  {
   "cell_type": "code",
   "execution_count": 30,
   "metadata": {},
   "outputs": [
    {
     "data": {
      "text/html": [
       "<div>\n",
       "<style>\n",
       "    .dataframe thead tr:only-child th {\n",
       "        text-align: right;\n",
       "    }\n",
       "\n",
       "    .dataframe thead th {\n",
       "        text-align: left;\n",
       "    }\n",
       "\n",
       "    .dataframe tbody tr th {\n",
       "        vertical-align: top;\n",
       "    }\n",
       "</style>\n",
       "<table border=\"1\" class=\"dataframe\">\n",
       "  <thead>\n",
       "    <tr style=\"text-align: right;\">\n",
       "      <th></th>\n",
       "      <th>baby</th>\n",
       "      <th>doge</th>\n",
       "      <th>r2tuaac</th>\n",
       "      <th>一带</th>\n",
       "      <th>七夕</th>\n",
       "      <th>七天</th>\n",
       "      <th>三亚市</th>\n",
       "      <th>上岸</th>\n",
       "      <th>下沉</th>\n",
       "      <th>不语</th>\n",
       "      <th>...</th>\n",
       "      <th>预警</th>\n",
       "      <th>风力</th>\n",
       "      <th>风速</th>\n",
       "      <th>风雨</th>\n",
       "      <th>飞机</th>\n",
       "      <th>马尼拉</th>\n",
       "      <th>高温</th>\n",
       "      <th>高铁</th>\n",
       "      <th>黄色</th>\n",
       "      <th>黄色预警信号</th>\n",
       "    </tr>\n",
       "  </thead>\n",
       "  <tbody>\n",
       "    <tr>\n",
       "      <th>0</th>\n",
       "      <td>0</td>\n",
       "      <td>0</td>\n",
       "      <td>0</td>\n",
       "      <td>0</td>\n",
       "      <td>0</td>\n",
       "      <td>0</td>\n",
       "      <td>0</td>\n",
       "      <td>0</td>\n",
       "      <td>0</td>\n",
       "      <td>0</td>\n",
       "      <td>...</td>\n",
       "      <td>0</td>\n",
       "      <td>0</td>\n",
       "      <td>0</td>\n",
       "      <td>0</td>\n",
       "      <td>0</td>\n",
       "      <td>0</td>\n",
       "      <td>0</td>\n",
       "      <td>0</td>\n",
       "      <td>0</td>\n",
       "      <td>0</td>\n",
       "    </tr>\n",
       "    <tr>\n",
       "      <th>1</th>\n",
       "      <td>0</td>\n",
       "      <td>0</td>\n",
       "      <td>0</td>\n",
       "      <td>0</td>\n",
       "      <td>0</td>\n",
       "      <td>0</td>\n",
       "      <td>0</td>\n",
       "      <td>0</td>\n",
       "      <td>0</td>\n",
       "      <td>0</td>\n",
       "      <td>...</td>\n",
       "      <td>0</td>\n",
       "      <td>1</td>\n",
       "      <td>0</td>\n",
       "      <td>0</td>\n",
       "      <td>0</td>\n",
       "      <td>0</td>\n",
       "      <td>0</td>\n",
       "      <td>0</td>\n",
       "      <td>0</td>\n",
       "      <td>0</td>\n",
       "    </tr>\n",
       "    <tr>\n",
       "      <th>2</th>\n",
       "      <td>0</td>\n",
       "      <td>0</td>\n",
       "      <td>0</td>\n",
       "      <td>0</td>\n",
       "      <td>0</td>\n",
       "      <td>1</td>\n",
       "      <td>0</td>\n",
       "      <td>1</td>\n",
       "      <td>0</td>\n",
       "      <td>0</td>\n",
       "      <td>...</td>\n",
       "      <td>0</td>\n",
       "      <td>0</td>\n",
       "      <td>0</td>\n",
       "      <td>2</td>\n",
       "      <td>0</td>\n",
       "      <td>0</td>\n",
       "      <td>0</td>\n",
       "      <td>0</td>\n",
       "      <td>0</td>\n",
       "      <td>0</td>\n",
       "    </tr>\n",
       "    <tr>\n",
       "      <th>3</th>\n",
       "      <td>0</td>\n",
       "      <td>0</td>\n",
       "      <td>0</td>\n",
       "      <td>0</td>\n",
       "      <td>0</td>\n",
       "      <td>0</td>\n",
       "      <td>0</td>\n",
       "      <td>0</td>\n",
       "      <td>0</td>\n",
       "      <td>0</td>\n",
       "      <td>...</td>\n",
       "      <td>1</td>\n",
       "      <td>0</td>\n",
       "      <td>0</td>\n",
       "      <td>0</td>\n",
       "      <td>0</td>\n",
       "      <td>0</td>\n",
       "      <td>0</td>\n",
       "      <td>0</td>\n",
       "      <td>0</td>\n",
       "      <td>0</td>\n",
       "    </tr>\n",
       "    <tr>\n",
       "      <th>4</th>\n",
       "      <td>0</td>\n",
       "      <td>0</td>\n",
       "      <td>0</td>\n",
       "      <td>0</td>\n",
       "      <td>0</td>\n",
       "      <td>0</td>\n",
       "      <td>0</td>\n",
       "      <td>0</td>\n",
       "      <td>0</td>\n",
       "      <td>0</td>\n",
       "      <td>...</td>\n",
       "      <td>0</td>\n",
       "      <td>0</td>\n",
       "      <td>0</td>\n",
       "      <td>0</td>\n",
       "      <td>0</td>\n",
       "      <td>0</td>\n",
       "      <td>0</td>\n",
       "      <td>0</td>\n",
       "      <td>0</td>\n",
       "      <td>0</td>\n",
       "    </tr>\n",
       "  </tbody>\n",
       "</table>\n",
       "<p>5 rows × 221 columns</p>\n",
       "</div>"
      ],
      "text/plain": [
       "   baby  doge  r2tuaac  一带  七夕  七天  三亚市  上岸  下沉  不语   ...    预警  风力  风速  风雨  \\\n",
       "0     0     0        0   0   0   0    0   0   0   0   ...     0   0   0   0   \n",
       "1     0     0        0   0   0   0    0   0   0   0   ...     0   1   0   0   \n",
       "2     0     0        0   0   0   1    0   1   0   0   ...     0   0   0   2   \n",
       "3     0     0        0   0   0   0    0   0   0   0   ...     1   0   0   0   \n",
       "4     0     0        0   0   0   0    0   0   0   0   ...     0   0   0   0   \n",
       "\n",
       "   飞机  马尼拉  高温  高铁  黄色  黄色预警信号  \n",
       "0   0    0   0   0   0       0  \n",
       "1   0    0   0   0   0       0  \n",
       "2   0    0   0   0   0       0  \n",
       "3   0    0   0   0   0       0  \n",
       "4   0    0   0   0   0       0  \n",
       "\n",
       "[5 rows x 221 columns]"
      ]
     },
     "execution_count": 30,
     "metadata": {},
     "output_type": "execute_result"
    }
   ],
   "source": [
    "term_matrix.head()"
   ]
  },
  {
   "cell_type": "code",
   "execution_count": 31,
   "metadata": {
    "collapsed": true
   },
   "outputs": [],
   "source": [
    "n_features = 1000"
   ]
  },
  {
   "cell_type": "code",
   "execution_count": 32,
   "metadata": {
    "collapsed": true
   },
   "outputs": [],
   "source": [
    "tf_vectorizer = CountVectorizer(max_features=n_features,\n",
    "                               max_df=max_df,\n",
    "                               min_df=min_df,\n",
    "                               token_pattern=u'(?u)\\\\b[^\\\\d\\\\W]\\\\w+\\\\b',\n",
    "                               stop_words=frozenset(stopwords))"
   ]
  },
  {
   "cell_type": "code",
   "execution_count": 33,
   "metadata": {
    "collapsed": true
   },
   "outputs": [],
   "source": [
    "term_matrix = pd.DataFrame(tf_vectorizer.fit_transform(X.cutted_text).toarray(), columns=tf_vectorizer.get_feature_names())"
   ]
  },
  {
   "cell_type": "code",
   "execution_count": 34,
   "metadata": {},
   "outputs": [
    {
     "data": {
      "text/html": [
       "<div>\n",
       "<style>\n",
       "    .dataframe thead tr:only-child th {\n",
       "        text-align: right;\n",
       "    }\n",
       "\n",
       "    .dataframe thead th {\n",
       "        text-align: left;\n",
       "    }\n",
       "\n",
       "    .dataframe tbody tr th {\n",
       "        vertical-align: top;\n",
       "    }\n",
       "</style>\n",
       "<table border=\"1\" class=\"dataframe\">\n",
       "  <thead>\n",
       "    <tr style=\"text-align: right;\">\n",
       "      <th></th>\n",
       "      <th>baby</th>\n",
       "      <th>doge</th>\n",
       "      <th>r2tuaac</th>\n",
       "      <th>一带</th>\n",
       "      <th>七夕</th>\n",
       "      <th>七天</th>\n",
       "      <th>三亚市</th>\n",
       "      <th>上岸</th>\n",
       "      <th>下沉</th>\n",
       "      <th>不语</th>\n",
       "      <th>...</th>\n",
       "      <th>预警</th>\n",
       "      <th>风力</th>\n",
       "      <th>风速</th>\n",
       "      <th>风雨</th>\n",
       "      <th>飞机</th>\n",
       "      <th>马尼拉</th>\n",
       "      <th>高温</th>\n",
       "      <th>高铁</th>\n",
       "      <th>黄色</th>\n",
       "      <th>黄色预警信号</th>\n",
       "    </tr>\n",
       "  </thead>\n",
       "  <tbody>\n",
       "    <tr>\n",
       "      <th>0</th>\n",
       "      <td>0</td>\n",
       "      <td>0</td>\n",
       "      <td>0</td>\n",
       "      <td>0</td>\n",
       "      <td>0</td>\n",
       "      <td>0</td>\n",
       "      <td>0</td>\n",
       "      <td>0</td>\n",
       "      <td>0</td>\n",
       "      <td>0</td>\n",
       "      <td>...</td>\n",
       "      <td>0</td>\n",
       "      <td>0</td>\n",
       "      <td>0</td>\n",
       "      <td>0</td>\n",
       "      <td>0</td>\n",
       "      <td>0</td>\n",
       "      <td>0</td>\n",
       "      <td>0</td>\n",
       "      <td>0</td>\n",
       "      <td>0</td>\n",
       "    </tr>\n",
       "    <tr>\n",
       "      <th>1</th>\n",
       "      <td>0</td>\n",
       "      <td>0</td>\n",
       "      <td>0</td>\n",
       "      <td>0</td>\n",
       "      <td>0</td>\n",
       "      <td>0</td>\n",
       "      <td>0</td>\n",
       "      <td>0</td>\n",
       "      <td>0</td>\n",
       "      <td>0</td>\n",
       "      <td>...</td>\n",
       "      <td>0</td>\n",
       "      <td>1</td>\n",
       "      <td>0</td>\n",
       "      <td>0</td>\n",
       "      <td>0</td>\n",
       "      <td>0</td>\n",
       "      <td>0</td>\n",
       "      <td>0</td>\n",
       "      <td>0</td>\n",
       "      <td>0</td>\n",
       "    </tr>\n",
       "    <tr>\n",
       "      <th>2</th>\n",
       "      <td>0</td>\n",
       "      <td>0</td>\n",
       "      <td>0</td>\n",
       "      <td>0</td>\n",
       "      <td>0</td>\n",
       "      <td>1</td>\n",
       "      <td>0</td>\n",
       "      <td>1</td>\n",
       "      <td>0</td>\n",
       "      <td>0</td>\n",
       "      <td>...</td>\n",
       "      <td>0</td>\n",
       "      <td>0</td>\n",
       "      <td>0</td>\n",
       "      <td>2</td>\n",
       "      <td>0</td>\n",
       "      <td>0</td>\n",
       "      <td>0</td>\n",
       "      <td>0</td>\n",
       "      <td>0</td>\n",
       "      <td>0</td>\n",
       "    </tr>\n",
       "    <tr>\n",
       "      <th>3</th>\n",
       "      <td>0</td>\n",
       "      <td>0</td>\n",
       "      <td>0</td>\n",
       "      <td>0</td>\n",
       "      <td>0</td>\n",
       "      <td>0</td>\n",
       "      <td>0</td>\n",
       "      <td>0</td>\n",
       "      <td>0</td>\n",
       "      <td>0</td>\n",
       "      <td>...</td>\n",
       "      <td>1</td>\n",
       "      <td>0</td>\n",
       "      <td>0</td>\n",
       "      <td>0</td>\n",
       "      <td>0</td>\n",
       "      <td>0</td>\n",
       "      <td>0</td>\n",
       "      <td>0</td>\n",
       "      <td>0</td>\n",
       "      <td>0</td>\n",
       "    </tr>\n",
       "    <tr>\n",
       "      <th>4</th>\n",
       "      <td>0</td>\n",
       "      <td>0</td>\n",
       "      <td>0</td>\n",
       "      <td>0</td>\n",
       "      <td>0</td>\n",
       "      <td>0</td>\n",
       "      <td>0</td>\n",
       "      <td>0</td>\n",
       "      <td>0</td>\n",
       "      <td>0</td>\n",
       "      <td>...</td>\n",
       "      <td>0</td>\n",
       "      <td>0</td>\n",
       "      <td>0</td>\n",
       "      <td>0</td>\n",
       "      <td>0</td>\n",
       "      <td>0</td>\n",
       "      <td>0</td>\n",
       "      <td>0</td>\n",
       "      <td>0</td>\n",
       "      <td>0</td>\n",
       "    </tr>\n",
       "  </tbody>\n",
       "</table>\n",
       "<p>5 rows × 221 columns</p>\n",
       "</div>"
      ],
      "text/plain": [
       "   baby  doge  r2tuaac  一带  七夕  七天  三亚市  上岸  下沉  不语   ...    预警  风力  风速  风雨  \\\n",
       "0     0     0        0   0   0   0    0   0   0   0   ...     0   0   0   0   \n",
       "1     0     0        0   0   0   0    0   0   0   0   ...     0   1   0   0   \n",
       "2     0     0        0   0   0   1    0   1   0   0   ...     0   0   0   2   \n",
       "3     0     0        0   0   0   0    0   0   0   0   ...     1   0   0   0   \n",
       "4     0     0        0   0   0   0    0   0   0   0   ...     0   0   0   0   \n",
       "\n",
       "   飞机  马尼拉  高温  高铁  黄色  黄色预警信号  \n",
       "0   0    0   0   0   0       0  \n",
       "1   0    0   0   0   0       0  \n",
       "2   0    0   0   0   0       0  \n",
       "3   0    0   0   0   0       0  \n",
       "4   0    0   0   0   0       0  \n",
       "\n",
       "[5 rows x 221 columns]"
      ]
     },
     "execution_count": 34,
     "metadata": {},
     "output_type": "execute_result"
    }
   ],
   "source": [
    "term_matrix.head()"
   ]
  },
  {
   "cell_type": "code",
   "execution_count": 35,
   "metadata": {},
   "outputs": [
    {
     "data": {
      "text/plain": [
       "(409, 221)"
      ]
     },
     "execution_count": 35,
     "metadata": {},
     "output_type": "execute_result"
    }
   ],
   "source": [
    "term_matrix.shape"
   ]
  },
  {
   "cell_type": "code",
   "execution_count": 36,
   "metadata": {
    "collapsed": true
   },
   "outputs": [],
   "source": [
    "tf = tf_vectorizer.fit_transform(X.cutted_text)"
   ]
  },
  {
   "cell_type": "code",
   "execution_count": 37,
   "metadata": {
    "collapsed": true
   },
   "outputs": [],
   "source": [
    "from sklearn.decomposition import LatentDirichletAllocation"
   ]
  },
  {
   "cell_type": "code",
   "execution_count": 38,
   "metadata": {
    "collapsed": true
   },
   "outputs": [],
   "source": [
    "n_topics = 5\n",
    "lda = LatentDirichletAllocation(n_topics=n_topics,\n",
    "                               max_iter=50,\n",
    "                               learning_method='online',\n",
    "                               learning_offset=50.,\n",
    "                               random_state=0)"
   ]
  },
  {
   "cell_type": "code",
   "execution_count": 39,
   "metadata": {},
   "outputs": [
    {
     "name": "stderr",
     "output_type": "stream",
     "text": [
      "D:\\Anaconda3\\lib\\site-packages\\sklearn\\decomposition\\online_lda.py:294: DeprecationWarning: n_topics has been renamed to n_components in version 0.19 and will be removed in 0.21\n",
      "  DeprecationWarning)\n"
     ]
    },
    {
     "name": "stdout",
     "output_type": "stream",
     "text": [
      "Wall time: 8.47 s\n"
     ]
    },
    {
     "data": {
      "text/plain": [
       "LatentDirichletAllocation(batch_size=128, doc_topic_prior=None,\n",
       "             evaluate_every=-1, learning_decay=0.7,\n",
       "             learning_method='online', learning_offset=50.0,\n",
       "             max_doc_update_iter=100, max_iter=50, mean_change_tol=0.001,\n",
       "             n_components=10, n_jobs=1, n_topics=5, perp_tol=0.1,\n",
       "             random_state=0, topic_word_prior=None,\n",
       "             total_samples=1000000.0, verbose=0)"
      ]
     },
     "execution_count": 39,
     "metadata": {},
     "output_type": "execute_result"
    }
   ],
   "source": [
    "%%time\n",
    "lda.fit(tf)"
   ]
  },
  {
   "cell_type": "code",
   "execution_count": 40,
   "metadata": {
    "collapsed": true
   },
   "outputs": [],
   "source": [
    "def print_top_words(model, feature_names, n_top_words):\n",
    "    for topic_idx, topic in enumerate(model.components_):\n",
    "        print('Topic #%d:' % topic_idx)\n",
    "        print(' '.join([feature_names[i]\n",
    "                      for i in topic.argsort()[:-n_top_words -1:-1]]))\n",
    "    print()"
   ]
  },
  {
   "cell_type": "code",
   "execution_count": 41,
   "metadata": {
    "collapsed": true
   },
   "outputs": [],
   "source": [
    "n_top_words = 20"
   ]
  },
  {
   "cell_type": "code",
   "execution_count": 42,
   "metadata": {},
   "outputs": [
    {
     "name": "stdout",
     "output_type": "stream",
     "text": [
      "Topic #0:\n",
      "热带 台风 低压 南海 天气话你知 海面 消息 热带风暴 预警 北方 菲律宾 东部 白色 加强 我区 二哈 扰动 沿海 海南岛 趋向\n",
      "Topic #1:\n",
      "中心 公里 转发 微博 台风 最大 风力 附近 东经 北纬 气压 天鸽 百帕 方向 最低 热带风暴 海面 台风消息 南海 洋面\n",
      "Topic #2:\n",
      "台风 帕卡 风雨 简单 天鸽 帕卡影响广州 登陆 苗柏 小编8天气 彩虹 阵风 随手拍广州 暴雨 转发 允悲 预报 出门 上岸 预警 陆地\n",
      "Topic #3:\n",
      "深圳 南沙 帕卡影响广州 运营 警惕 苗柏 珠海 一带 茂名 湛江 惠东 阳江 穿过 风雨 洛克 天气话你知 停止 消息 台山 粤西\n",
      "Topic #4:\n",
      "台风 登陆 卡努 移动 广东 预警 强度 方向 海南 沿海 我市 热带风暴 帕卡 沿海地区 蓝色 受其 阵风 信号 降水 南沙\n",
      "\n"
     ]
    }
   ],
   "source": [
    "tf_feature_names = tf_vectorizer.get_feature_names()\n",
    "print_top_words(lda, tf_feature_names, n_top_words)"
   ]
  },
  {
   "cell_type": "code",
   "execution_count": 43,
   "metadata": {},
   "outputs": [
    {
     "name": "stderr",
     "output_type": "stream",
     "text": [
      "D:\\Anaconda3\\lib\\site-packages\\pyLDAvis\\_prepare.py:387: DeprecationWarning: \n",
      ".ix is deprecated. Please use\n",
      ".loc for label based indexing or\n",
      ".iloc for positional indexing\n",
      "\n",
      "See the documentation here:\n",
      "http://pandas.pydata.org/pandas-docs/stable/indexing.html#ix-indexer-is-deprecated\n",
      "  topic_term_dists = topic_term_dists.ix[topic_order]\n"
     ]
    },
    {
     "data": {
      "text/html": [
       "\n",
       "<link rel=\"stylesheet\" type=\"text/css\" href=\"https://cdn.rawgit.com/bmabey/pyLDAvis/files/ldavis.v1.0.0.css\">\n",
       "\n",
       "\n",
       "<div id=\"ldavis_el173361049008744632475163045\"></div>\n",
       "<script type=\"text/javascript\">\n",
       "\n",
       "var ldavis_el173361049008744632475163045_data = {\"mdsDat\": {\"Freq\": [56.908593781245834, 17.458008395532037, 16.02423729971036, 7.47635351817112, 2.1328070053406463], \"cluster\": [1, 1, 1, 1, 1], \"topics\": [1, 2, 3, 4, 5], \"x\": [0.3016366766690663, -0.06917646241927966, -0.008504991022052379, -0.12700151361736986, -0.09695370961036434], \"y\": [-0.05582145445260665, -0.019680461410240335, 0.21884506045472216, -0.11448420546696543, -0.028858939124909746]}, \"tinfo\": {\"Category\": [\"Default\", \"Default\", \"Default\", \"Default\", \"Default\", \"Default\", \"Default\", \"Default\", \"Default\", \"Default\", \"Default\", \"Default\", \"Default\", \"Default\", \"Default\", \"Default\", \"Default\", \"Default\", \"Default\", \"Default\", \"Default\", \"Default\", \"Default\", \"Default\", \"Default\", \"Default\", \"Default\", \"Default\", \"Default\", \"Default\", \"Topic1\", \"Topic1\", \"Topic1\", \"Topic1\", \"Topic1\", \"Topic1\", \"Topic1\", \"Topic1\", \"Topic1\", \"Topic1\", \"Topic1\", \"Topic1\", \"Topic1\", \"Topic1\", \"Topic1\", \"Topic1\", \"Topic1\", \"Topic1\", \"Topic1\", \"Topic1\", \"Topic1\", \"Topic1\", \"Topic1\", \"Topic1\", \"Topic1\", \"Topic1\", \"Topic1\", \"Topic1\", \"Topic1\", \"Topic1\", \"Topic1\", \"Topic1\", \"Topic1\", \"Topic1\", \"Topic1\", \"Topic1\", \"Topic1\", \"Topic1\", \"Topic1\", \"Topic1\", \"Topic1\", \"Topic2\", \"Topic2\", \"Topic2\", \"Topic2\", \"Topic2\", \"Topic2\", \"Topic2\", \"Topic2\", \"Topic2\", \"Topic2\", \"Topic2\", \"Topic2\", \"Topic2\", \"Topic2\", \"Topic2\", \"Topic2\", \"Topic2\", \"Topic2\", \"Topic2\", \"Topic2\", \"Topic2\", \"Topic2\", \"Topic2\", \"Topic2\", \"Topic2\", \"Topic2\", \"Topic2\", \"Topic2\", \"Topic2\", \"Topic2\", \"Topic2\", \"Topic2\", \"Topic2\", \"Topic2\", \"Topic2\", \"Topic2\", \"Topic2\", \"Topic2\", \"Topic2\", \"Topic2\", \"Topic2\", \"Topic2\", \"Topic2\", \"Topic2\", \"Topic2\", \"Topic2\", \"Topic2\", \"Topic2\", \"Topic2\", \"Topic2\", \"Topic3\", \"Topic3\", \"Topic3\", \"Topic3\", \"Topic3\", \"Topic3\", \"Topic3\", \"Topic3\", \"Topic3\", \"Topic3\", \"Topic3\", \"Topic3\", \"Topic3\", \"Topic3\", \"Topic3\", \"Topic3\", \"Topic3\", \"Topic3\", \"Topic3\", \"Topic3\", \"Topic3\", \"Topic3\", \"Topic3\", \"Topic3\", \"Topic3\", \"Topic3\", \"Topic3\", \"Topic3\", \"Topic3\", \"Topic3\", \"Topic3\", \"Topic3\", \"Topic3\", \"Topic3\", \"Topic3\", \"Topic3\", \"Topic3\", \"Topic3\", \"Topic3\", \"Topic3\", \"Topic3\", \"Topic3\", \"Topic3\", \"Topic3\", \"Topic3\", \"Topic3\", \"Topic4\", \"Topic4\", \"Topic4\", \"Topic4\", \"Topic4\", \"Topic4\", \"Topic4\", \"Topic4\", \"Topic4\", \"Topic4\", \"Topic4\", \"Topic4\", \"Topic4\", \"Topic4\", \"Topic4\", \"Topic4\", \"Topic4\", \"Topic4\", \"Topic4\", \"Topic4\", \"Topic4\", \"Topic4\", \"Topic4\", \"Topic4\", \"Topic4\", \"Topic4\", \"Topic4\", \"Topic4\", \"Topic4\", \"Topic4\", \"Topic4\", \"Topic4\", \"Topic4\", \"Topic4\", \"Topic4\", \"Topic4\", \"Topic4\", \"Topic4\", \"Topic4\", \"Topic5\", \"Topic5\", \"Topic5\", \"Topic5\", \"Topic5\", \"Topic5\", \"Topic5\", \"Topic5\", \"Topic5\", \"Topic5\", \"Topic5\", \"Topic5\", \"Topic5\", \"Topic5\", \"Topic5\", \"Topic5\", \"Topic5\", \"Topic5\", \"Topic5\", \"Topic5\", \"Topic5\", \"Topic5\", \"Topic5\", \"Topic5\", \"Topic5\", \"Topic5\", \"Topic5\", \"Topic5\", \"Topic5\", \"Topic5\", \"Topic5\", \"Topic5\", \"Topic5\", \"Topic5\", \"Topic5\", \"Topic5\", \"Topic5\", \"Topic5\", \"Topic5\", \"Topic5\", \"Topic5\", \"Topic5\", \"Topic5\"], \"Freq\": [311.0, 79.0, 68.0, 71.0, 282.0, 172.0, 179.0, 35.0, 94.0, 61.0, 45.0, 75.0, 31.0, 70.0, 34.0, 20.0, 27.0, 18.0, 15.0, 47.0, 17.0, 84.0, 26.0, 82.0, 82.0, 90.0, 74.0, 207.0, 113.0, 70.0, 171.53632593656368, 81.89084794264816, 81.89060533438747, 73.06569920032832, 69.81629679502753, 68.157050548864, 276.9185209490236, 30.612410360384324, 30.527966917268063, 109.70524034430859, 28.59413147110816, 172.76911248962733, 24.568936367245687, 19.64130653123693, 101.7795745283375, 15.391519990855258, 38.01125241381847, 14.790074126232112, 193.4099546075949, 32.90962234839878, 12.301688082500526, 32.659994117024794, 16.85357972380542, 10.551615982853477, 10.55125141089918, 10.739507489295756, 46.73394640914507, 8.192859937590223, 6.603275895669049, 106.07817038834591, 29.5883095644879, 28.98924837728012, 69.302589603732, 70.71741523504579, 60.013756110262925, 26.985239056284712, 63.954296032379915, 133.950088970289, 41.77401744681294, 30.70067080975507, 37.87348080398542, 32.58456101487748, 19.03756426383428, 12.349799158457952, 9.248375588958185, 7.237434829466031, 5.340125741628973, 5.285334447527586, 5.264371671604343, 5.235957608443899, 37.474721519498964, 15.599802401525963, 15.823432010573496, 6.758474961849836, 5.108834938324615, 4.288812832675547, 4.298052428052862, 17.999248955229696, 4.27506973354493, 4.274081031967228, 4.218304679632758, 13.188892992426036, 3.2602266051068174, 6.283962493112032, 41.67177127023983, 2.7714737821664452, 6.220247609980228, 5.265694438684059, 2.679248264190423, 3.241832985574037, 5.652585700703177, 12.657272279424843, 18.040069175575997, 12.969885439031769, 25.724453891968878, 36.27439830137957, 11.306578768240545, 21.577378057985616, 9.66533693253211, 9.86767067838834, 67.52251229867615, 6.851531473308453, 20.357160035498666, 7.8435180936808395, 16.12428263456241, 17.125116816226996, 8.635085583801638, 7.33348642278867, 10.484025264469738, 10.137694531977491, 7.257723939823156, 74.61352971010673, 63.258194202741066, 11.342627579478037, 10.864071328055482, 24.672834098782726, 10.338213563282867, 9.152845048183993, 5.965353416715584, 13.332576528112822, 3.766964752237564, 3.714793165463299, 3.7418179695451483, 4.351417705983447, 6.435660983524309, 2.8930360522887137, 2.874121953896006, 2.8827279369706496, 9.591375401111845, 2.776320922322388, 18.83189704827997, 10.181045556885417, 4.519068537403516, 4.825647745004098, 9.137147767133897, 14.950877169106233, 3.7364856865325358, 15.032629660125675, 2.4264148698903947, 4.646001528517527, 2.2798041609974256, 12.114078120052088, 10.188307737143681, 28.177344800862898, 7.255532488242029, 69.63596215446135, 16.146313098916732, 16.70310321186113, 22.4427225041639, 10.762526453436156, 12.83024618555806, 18.593308733219686, 9.0232112075672, 6.672938770862438, 7.132436219266415, 6.868325835151059, 8.350130938395536, 8.042607200208504, 7.077648443462537, 4.836677329003625, 14.917066791235214, 3.8842880674501425, 3.882218990157383, 2.9771273056890495, 2.977005635336217, 2.9768884518084056, 2.9233944949143176, 4.857764798899923, 3.4611854358169194, 4.7993068176281595, 24.782584257908095, 3.839009491275907, 3.8386312694609783, 3.727136336544926, 2.476323150343634, 2.9721070538089465, 10.460978710410402, 3.3697940569007523, 2.045869592266557, 1.9471143266968163, 1.9462684168905962, 3.6299205537933186, 3.6161488602979115, 8.499801183705666, 6.170109000238862, 3.624811353996107, 4.061018233438558, 28.64019986787469, 4.843074097954568, 7.328637817011366, 9.070048199697382, 40.003465551019886, 14.749257763163666, 10.303140248771179, 6.019481206979519, 4.487246251214362, 4.360740330260256, 2.343219394974857, 2.3660991416080868, 3.923862431614784, 2.8289734953595684, 1.8441282668958527, 1.3286552971821926, 4.989303481049117, 1.3089524938472938, 2.3910906163755716, 1.320216397892869, 2.390113899888686, 4.917193968409564, 4.422579208663912, 2.417397039691068, 1.295747660066471, 1.3112309596109488, 1.3607941412452362, 2.986880638818918, 0.5173444947656248, 0.2693058203285229, 0.26950783781155113, 0.26897756033712744, 0.26877964401403553, 0.2691157833062138, 0.2695299967133192, 0.2692425684279485, 0.26955655373300635, 0.26925023634040557, 0.26931666094485646, 1.356856270813065, 1.323544298606206, 1.552774052693629, 0.2720556309107682, 0.32318022895030185, 0.27083784033008823, 0.2952901919783905, 0.27932770821603586, 0.29243088951200147, 0.288488212192832, 0.27430649013975894, 0.27555586436596, 0.2748041456356594], \"Term\": [\"\\u53f0\\u98ce\", \"\\u70ed\\u5e26\", \"\\u4f4e\\u538b\", \"\\u5e15\\u5361\", \"\\u4e2d\\u5fc3\", \"\\u5fae\\u535a\", \"\\u8f6c\\u53d1\", \"\\u98ce\\u96e8\", \"\\u5929\\u9e3d\", \"\\u767b\\u9646\", \"\\u5361\\u52aa\", \"\\u79fb\\u52a8\", \"\\u82d7\\u67cf\", \"\\u5357\\u6d77\", \"\\u5e7f\\u4e1c\", \"\\u5357\\u6c99\", \"\\u5929\\u6c14\\u8bdd\\u4f60\\u77e5\", \"\\u5e15\\u5361\\u5f71\\u54cd\\u5e7f\\u5dde\", \"\\u6df1\\u5733\", \"\\u9884\\u8b66\", \"\\u7b80\\u5355\", \"\\u6d77\\u9762\", \"\\u6d88\\u606f\", \"\\u4e1c\\u7ecf\", \"\\u5317\\u7eac\", \"\\u65b9\\u5411\", \"\\u6c14\\u538b\", \"\\u516c\\u91cc\", \"\\u6700\\u5927\", \"\\u767e\\u5e15\", \"\\u5fae\\u535a\", \"\\u4e1c\\u7ecf\", \"\\u5317\\u7eac\", \"\\u6c14\\u538b\", \"\\u767e\\u5e15\", \"\\u6700\\u4f4e\", \"\\u4e2d\\u5fc3\", \"\\u8303\\u56f4\", \"\\u534a\\u5f84\", \"\\u6700\\u5927\", \"\\u6bcf\\u79d2\", \"\\u8f6c\\u53d1\", \"\\u4e1c\\u504f\", \"\\u504f\\u5357\", \"\\u9644\\u8fd1\", \"\\u516d\\u7ea7\", \"\\u6d0b\\u9762\", \"\\u8b66\\u62a5\", \"\\u516c\\u91cc\", \"\\u897f\\u5317\", \"\\u98ce\\u901f\", \"\\u901f\\u5ea6\", \"\\u65f6\\u5176\", \"\\u7d27\\u6025\\u8b66\\u62a5\", \"\\u516b\\u7ea7\", \"\\u504f\\u4e1c\", \"\\u53f0\\u98ce\\u6d88\\u606f\", \"\\u73e0\\u6d77\\u5e02\", \"\\u5185\\u4ee5\", \"\\u98ce\\u529b\", \"\\u5e7f\\u5dde\\u5e02\", \"\\u5357\\u65b9\", \"\\u65b9\\u5411\", \"\\u5929\\u9e3d\", \"\\u6d77\\u9762\", \"\\u897f\\u504f\", \"\\u70ed\\u5e26\\u98ce\\u66b4\", \"\\u53f0\\u98ce\", \"\\u5357\\u6d77\", \"\\u52a0\\u5f3a\", \"\\u79fb\\u52a8\", \"\\u5e7f\\u4e1c\", \"\\u6d77\\u5357\", \"\\u964d\\u6c34\", \"\\u8def\\u5f84\", \"\\u8fc7\\u7a0b\", \"\\u5c0f\\u4f19\\u4f34\", \"\\u4f34\\u6709\", \"\\u6e2f\\u533a\", \"\\u5e7f\\u4e1c\\u7701\", \"\\u5361\\u52aa\", \"\\u84dd\\u8272\", \"\\u6cbf\\u6d77\\u5730\\u533a\", \"\\u6587\\u660c\", \"\\u5206\\u5728\", \"\\u897f\\u5357\", \"\\u5b63\\u98ce\", \"\\u6211\\u5e02\", \"\\u9633\\u897f\", \"\\u743c\\u6d77\", \"\\u666e\\u904d\", \"\\u53d7\\u5176\", \"\\u51b7\\u7a7a\\u6c14\", \"\\u7ca4\\u897f\", \"\\u767b\\u9646\", \"\\u6d77\\u73e0\", \"\\u6e5b\\u6c5f\", \"\\u5e7f\\u5dde\\u5e02\\u533a\", \"\\u9ec4\\u8272\", \"\\u89e3\\u9664\", \"\\u6d77\\u4e0a\", \"\\u4fe1\\u53f7\", \"\\u6cbf\\u6d77\", \"\\u9635\\u98ce\", \"\\u9884\\u8b66\", \"\\u79fb\\u52a8\", \"\\u5357\\u6c99\", \"\\u5f3a\\u5ea6\", \"\\u591c\\u95f4\", \"r2tuaac\", \"\\u53f0\\u98ce\", \"\\u4e00\\u5e26\", \"\\u65b9\\u5411\", \"\\u66b4\\u96e8\", \"\\u5e15\\u5361\", \"\\u70ed\\u5e26\\u98ce\\u66b4\", \"\\u6211\\u533a\", \"\\u504f\\u897f\", \"\\u98ce\\u529b\", \"\\u516c\\u91cc\", \"\\u65f6\\u901f\", \"\\u70ed\\u5e26\", \"\\u4f4e\\u538b\", \"\\u4e8c\\u54c8\", \"\\u6270\\u52a8\", \"\\u5929\\u6c14\\u8bdd\\u4f60\\u77e5\", \"\\u6d77\\u5357\\u5c9b\", \"\\u7eb3\\u6c99\", \"\\u4ee5\\u4e1c\", \"\\u767d\\u8272\", \"\\u4e2d\\u592e\\u6c14\\u8c61\\u53f0\", \"\\u5c0f\\u7f16\", \"\\u7ee7\\u7eed\\u52a0\\u5f3a\", \"\\u4eca\\u665a\", \"\\u53d1\\u5c55\", \"\\u6ce5\\u840c\", \"\\u7f16\\u53f7\", \"\\u4e2d\\u4e1c\\u90e8\", \"\\u644a\\u624b\", \"\\u4ece\\u5316\\u533a\", \"\\u6d88\\u606f\", \"\\u6c14\\u8c61\\u53f0\", \"\\u6211\\u7701\", \"\\u9a6c\\u5c3c\\u62c9\", \"\\u53f0\\u6e7e\", \"\\u4e1c\\u90e8\", \"doge\", \"\\u83f2\\u5f8b\\u5bbe\", \"\\u63d0\\u524d\", \"\\u4e0d\\u8bed\", \"\\u65e9\\u5b89\", \"\\u6211\\u533a\", \"\\u8d8b\\u5411\", \"\\u5357\\u6d77\", \"\\u9632\\u5fa1\", \"\\u53f0\\u98ce\", \"\\u5317\\u65b9\", \"\\u9884\\u8b66\", \"\\u6d77\\u9762\", \"\\u6cbf\\u6d77\", \"\\u52a0\\u5f3a\", \"\\u70ed\\u5e26\\u98ce\\u66b4\", \"\\u98ce\\u96e8\", \"r2tuaac\", \"\\u8ddd\\u79bb\", \"\\u4fe1\\u53f7\", \"\\u767b\\u9646\", \"\\u5f69\\u8679\", \"\\u968f\\u624b\\u62cd\\u5e7f\\u5dde\", \"\\u51fa\\u95e8\", \"\\u7b80\\u5355\", \"\\u60c5\\u62a5\", \"\\u4e03\\u5915\", \"\\u9ad8\\u94c1\", \"\\u4ea4\\u901a\", \"\\u98de\\u673a\", \"\\u4f9d\\u7136\", \"\\u5141\\u60b2\", \"\\u5929\\u6c14\\u8981\\u95fb\", \"\\u4e0a\\u5cb8\", \"\\u98ce\\u96e8\", \"\\u4e0b\\u6c89\", \"\\u6c14\\u6d41\", \"\\u5ba4\\u5185\", \"\\u4fe1\\u606f\", \"\\u5e0c\\u671b\", \"\\u5e15\\u5361\\u5f71\\u54cd\\u5e7f\\u5dde\", \"\\u8bb0\\u5f97\", \"\\u610f\\u4e49\", \"\\u9ad8\\u6e29\", \"\\u6700\\u9ad8\", \"\\u8302\\u540d\", \"\\u6bd4\\u8f83\", \"\\u5c0f\\u7f168\\u5929\\u6c14\", \"\\u66b4\\u96e8\", \"\\u5916\\u56f4\", \"\\u9646\\u5730\", \"\\u5e15\\u5361\", \"\\u9884\\u62a5\", \"\\u9635\\u98ce\", \"\\u82d7\\u67cf\", \"\\u53f0\\u98ce\", \"\\u5929\\u9e3d\", \"\\u767b\\u9646\", \"\\u8f6c\\u53d1\", \"\\u9884\\u8b66\", \"\\u8fd0\\u8425\", \"\\u9633\\u6c5f\", \"\\u60e0\\u4e1c\", \"\\u8b66\\u60d5\", \"\\u73e0\\u6d77\", \"\\u7a7f\\u8fc7\", \"\\u505c\\u6b62\", \"\\u6df1\\u5733\", \"\\u5434\\u5ddd\", \"\\u8302\\u540d\", \"\\u53f0\\u5c71\", \"\\u6e5b\\u6c5f\", \"\\u5357\\u6c99\", \"\\u5e15\\u5361\\u5f71\\u54cd\\u5e7f\\u5dde\", \"\\u4e00\\u5e26\", \"\\u4e0a\\u5cb8\", \"\\u7ca4\\u897f\", \"\\u6d1b\\u514b\", \"\\u82d7\\u67cf\", \"\\u4eca\\u665a\", \"\\u53ca\\u65f6\", \"\\u6211\\u56fd\", \"\\u6c99\\u5e02\", \"\\u6cb3\\u6e90\\u5e02\", \"\\u6765\\u6e90\\u4e8e\", \"\\u5317\\u90e8\\u6e7e\", \"\\u4ece\\u5316\\u533a\", \"\\u7f16\\u53f7\", \"\\u63d0\\u524d\", \"\\u65e9\\u5b89\", \"\\u5929\\u6c14\\u8bdd\\u4f60\\u77e5\", \"\\u6d88\\u606f\", \"\\u98ce\\u96e8\", \"\\u4fe1\\u606f\", \"\\u4e1c\\u5357\\u65b9\", \"\\u4f9d\\u7136\", \"\\u644a\\u624b\", \"\\u504f\\u5317\", \"\\u767b\\u9646\", \"\\u516c\\u91cc\", \"\\u9884\\u62a5\", \"\\u4e1c\\u90e8\", \"\\u6d77\\u9762\"], \"Total\": [311.0, 79.0, 68.0, 71.0, 282.0, 172.0, 179.0, 35.0, 94.0, 61.0, 45.0, 75.0, 31.0, 70.0, 34.0, 20.0, 27.0, 18.0, 15.0, 47.0, 17.0, 84.0, 26.0, 82.0, 82.0, 90.0, 74.0, 207.0, 113.0, 70.0, 172.5387127502047, 82.88721210156788, 82.88701586331764, 74.06471718412763, 70.8129514808899, 69.15267727402797, 282.4631656774104, 31.601495358330784, 31.515485240500226, 113.25811426023047, 29.59481211611037, 179.5408166052772, 25.56400660528707, 20.636309735997482, 107.71066401977487, 16.37862691686752, 40.53395683763573, 15.794444658944032, 207.18901085667852, 35.43364981409224, 13.302979410121551, 35.549761559032675, 18.428125781438535, 11.539004104766873, 11.539334069174986, 11.746159399290699, 51.20134169943018, 9.230541053886409, 7.595209838211391, 122.62162832817252, 34.71266940686276, 34.025220137782995, 90.43143606014509, 94.67492387144033, 84.17592741576287, 33.73302823292433, 100.33462399008813, 311.3847970573988, 70.81066902124913, 46.84575073200836, 75.17760419859948, 34.56750612520597, 20.320389779321488, 13.297402830424334, 10.201199651813743, 8.236234605507752, 6.2872414375654975, 6.224773295480676, 6.203740332688693, 6.1810012479876635, 45.05098842720199, 18.785203313499906, 19.089691504266067, 8.15574650575013, 6.224750785894773, 5.234261511489237, 5.254742804312902, 22.01586672807492, 5.230535549580866, 5.2308839609721325, 5.168936130689064, 16.860191764617298, 4.2207266859322035, 9.183937715983829, 61.3512817005579, 4.1193806497223795, 9.353369826004117, 8.048660971729213, 4.137448448035478, 5.022588320902264, 8.849988581112122, 20.28127496169768, 30.868712556551692, 22.332335802347515, 47.459237825953565, 75.17760419859948, 20.09000297708026, 46.15060278142033, 16.548106677661668, 17.28248095280999, 311.3847970573988, 11.178516396670913, 90.43143606014509, 14.718018866148938, 71.73949339264242, 100.33462399008813, 21.50551541214637, 18.126397917498018, 122.62162832817252, 207.18901085667852, 26.103951826260317, 79.11976966292133, 68.3915477752264, 12.32038407155991, 11.853452396750743, 27.238043997107788, 11.873214050130377, 11.104877744079866, 7.255143046915082, 16.53164489928209, 4.740797141920673, 4.685732574059741, 4.723022217636863, 5.5873584282124, 8.34243725445807, 3.8634003938556294, 3.8450930005548027, 3.864679584498907, 13.029342064923377, 3.772647538000325, 26.76259062408209, 14.585518514913106, 6.491278110799694, 7.171440700084414, 13.658449074122004, 22.507569600229054, 5.734864545292047, 23.31704274383816, 3.853768755478635, 7.464650606340306, 3.857075815129456, 21.50551541214637, 19.085623310473796, 70.81066902124913, 13.20020466682589, 311.3847970573988, 41.87923857217383, 47.459237825953565, 84.17592741576287, 30.868712556551692, 46.84575073200836, 100.33462399008813, 35.92674922668629, 17.28248095280999, 21.936362375057993, 20.28127496169768, 61.3512817005579, 9.0127352738751, 8.04068685731912, 5.799761798132882, 17.93452581288262, 4.846882862211725, 4.846029484950038, 3.9334281073335218, 3.9333390894676956, 3.93338894531557, 3.949224844618054, 6.743941075200194, 4.959385425438773, 6.885925648997599, 35.92674922668629, 5.8138968095497585, 5.813950828781415, 5.732973502512225, 3.9091625333582307, 4.963959681289681, 18.31425778344077, 5.960826315030579, 3.952357422491293, 4.059466416596178, 4.0582433242780205, 7.9718352814759985, 8.007196705092639, 19.87760661435095, 14.718018866148938, 8.668106244719139, 9.799346803072972, 71.73949339264242, 12.27864598684375, 22.332335802347515, 31.131149418424968, 311.3847970573988, 94.67492387144033, 61.3512817005579, 179.5408166052772, 47.459237825953565, 5.348502937676292, 4.2531018868684285, 5.150897009228016, 8.787411417241485, 6.803330448451781, 5.34095856423802, 4.025046409803966, 15.125814678688851, 4.203084109282683, 7.9718352814759985, 4.856802808042519, 9.353369826004117, 20.09000297708026, 18.31425778344077, 11.178516396670913, 6.885925648997599, 9.183937715983829, 14.114303074380276, 31.131149418424968, 5.5873584282124, 3.6162515317295902, 3.6330022389536505, 3.634514652166682, 3.6325896789398557, 3.6505592870246724, 3.6709469996945643, 3.772647538000325, 3.8450930005548027, 3.853768755478635, 3.857075815129456, 27.238043997107788, 26.76259062408209, 35.92674922668629, 3.9091625333582307, 16.90991320344987, 3.949224844618054, 13.029342064923377, 7.419719548694234, 61.3512817005579, 207.18901085667852, 12.27864598684375, 22.507569600229054, 84.17592741576287], \"loglift\": [30.0, 29.0, 28.0, 27.0, 26.0, 25.0, 24.0, 23.0, 22.0, 21.0, 20.0, 19.0, 18.0, 17.0, 16.0, 15.0, 14.0, 13.0, 12.0, 11.0, 10.0, 9.0, 8.0, 7.0, 6.0, 5.0, 4.0, 3.0, 2.0, 1.0, 0.5579, 0.5516, 0.5516, 0.5501, 0.5495, 0.5492, 0.5439, 0.5319, 0.5319, 0.5319, 0.5293, 0.5253, 0.524, 0.5143, 0.5071, 0.5016, 0.4995, 0.498, 0.4949, 0.4898, 0.4855, 0.4789, 0.4744, 0.4743, 0.4742, 0.4741, 0.4724, 0.4445, 0.4238, 0.4188, 0.404, 0.4035, 0.2976, 0.272, 0.2254, 0.3405, 0.1134, -0.2798, 0.036, 0.1411, -0.1219, 1.6863, 1.6802, 1.6714, 1.6473, 1.6161, 1.5821, 1.5818, 1.5812, 1.5794, 1.5612, 1.5596, 1.5577, 1.5574, 1.5478, 1.5462, 1.5444, 1.5439, 1.5437, 1.5434, 1.5421, 1.4998, 1.4872, 1.3659, 1.3586, 1.349, 1.3374, 1.3211, 1.3108, 1.3076, 1.2971, 1.2739, 1.2082, 1.202, 1.1329, 1.0166, 1.1705, 0.9851, 1.2076, 1.1849, 0.2168, 1.2559, 0.2542, 1.116, 0.2527, -0.0226, 0.8329, 0.8405, -0.7139, -1.272, 0.4654, 1.7724, 1.753, 1.7484, 1.7439, 1.7322, 1.6926, 1.6377, 1.6353, 1.616, 1.6011, 1.5989, 1.5982, 1.5811, 1.5716, 1.5418, 1.54, 1.5379, 1.5247, 1.5244, 1.4796, 1.4716, 1.4689, 1.4349, 1.4291, 1.422, 1.4026, 1.3921, 1.3684, 1.3569, 1.3052, 1.2571, 1.2034, 0.9096, 1.2326, 0.3333, 0.878, 0.7868, 0.5091, 0.7774, 0.536, 0.1454, 0.4494, 0.8794, 0.7076, 0.7483, -0.1633, 2.4795, 2.4659, 2.4118, 2.4092, 2.372, 2.3717, 2.3149, 2.3149, 2.3148, 2.2927, 2.2654, 2.2338, 2.2324, 2.2221, 2.1784, 2.1783, 2.1628, 2.1369, 2.0805, 2.0334, 2.0231, 1.9349, 1.8587, 1.8586, 1.8067, 1.7985, 1.7439, 1.7241, 1.7216, 1.7125, 1.6752, 1.6631, 1.4792, 1.3602, 0.5414, 0.7342, 0.8093, -0.802, 0.2348, 3.6436, 3.2516, 3.0698, 3.0415, 2.9702, 2.7843, 2.7394, 2.7386, 2.6811, 2.6436, 2.5451, 2.4833, 2.4402, 2.4268, 2.3164, 2.1773, 1.9012, 1.5086, 1.5038, 1.4682, 1.2504, 1.2465, 1.2441, 1.2439, 1.2402, 1.2362, 1.2078, 1.19, 1.1866, 1.186, 0.8483, 0.841, 0.7063, 1.1827, -0.1097, 1.168, 0.0607, 0.5682, -1.4984, -2.729, 0.0464, -0.5551, -1.8769], \"logprob\": [30.0, 29.0, 28.0, 27.0, 26.0, 25.0, 24.0, 23.0, 22.0, 21.0, 20.0, 19.0, 18.0, 17.0, 16.0, 15.0, 14.0, 13.0, 12.0, 11.0, 10.0, 9.0, 8.0, 7.0, 6.0, 5.0, 4.0, 3.0, 2.0, 1.0, -2.8245, -3.564, -3.564, -3.678, -3.7235, -3.7475, -2.3456, -4.5479, -4.5507, -3.2715, -4.6161, -2.8174, -4.7679, -4.9917, -3.3465, -5.2355, -4.3315, -5.2754, -2.7045, -4.4756, -5.4596, -4.4832, -5.1448, -5.6131, -5.6131, -5.5954, -4.1249, -5.8661, -6.0818, -3.3052, -4.582, -4.6024, -3.7309, -3.7107, -3.8748, -4.6741, -3.8112, -3.0719, -4.2371, -4.5451, -4.3351, -3.3039, -3.8413, -4.2741, -4.5632, -4.8084, -5.1124, -5.1228, -5.1267, -5.1321, -3.164, -4.0404, -4.0262, -4.8769, -5.1567, -5.3317, -5.3295, -3.8974, -5.3349, -5.3351, -5.3483, -4.2083, -5.6059, -4.9497, -3.0579, -5.7683, -4.9599, -5.1265, -5.8022, -5.6116, -5.0556, -4.2495, -3.8951, -4.2251, -3.5403, -3.1966, -4.3623, -3.716, -4.5191, -4.4984, -2.5752, -4.8632, -3.7743, -4.728, -4.0074, -3.9471, -4.6319, -4.7952, -4.4378, -4.4714, -4.8056, -2.3897, -2.5548, -4.2734, -4.3165, -3.4963, -4.3662, -4.4879, -4.916, -4.1118, -5.3757, -5.3897, -5.3824, -5.2315, -4.8401, -5.6397, -5.6463, -5.6433, -4.4411, -5.6809, -3.7664, -4.3815, -5.1937, -5.1281, -4.4897, -3.9972, -5.3839, -3.9918, -5.8156, -5.166, -5.8779, -4.2076, -4.3808, -3.3635, -4.7202, -2.4587, -3.9203, -3.8864, -3.591, -4.3259, -4.1502, -3.7792, -4.5022, -4.8039, -4.7373, -4.7751, -4.5797, -3.8549, -3.9827, -4.3634, -3.2371, -4.5827, -4.5832, -4.8487, -4.8487, -4.8488, -4.8669, -4.3591, -4.698, -4.3712, -2.7295, -4.5944, -4.5945, -4.624, -5.0329, -4.8504, -3.592, -4.7248, -5.2238, -5.2733, -5.2737, -4.6504, -4.6542, -3.7996, -4.1199, -4.6518, -4.5382, -2.5848, -4.3621, -3.9479, -3.7347, -2.2507, -3.2484, -3.6072, -4.1446, -4.4384, -3.2127, -3.8338, -3.8241, -3.3183, -3.6454, -4.0733, -4.4012, -3.078, -4.4161, -3.8136, -4.4075, -3.814, -3.0926, -3.1986, -3.8026, -4.4262, -4.4144, -4.3773, -3.5911, -5.3444, -5.9972, -5.9965, -5.9985, -5.9992, -5.9979, -5.9964, -5.9975, -5.9963, -5.9974, -5.9972, -4.3802, -4.405, -4.2453, -5.9871, -5.8149, -5.9916, -5.9051, -5.9607, -5.9149, -5.9284, -5.9788, -5.9743, -5.977]}, \"token.table\": {\"Topic\": [2, 3, 2, 3, 2, 4, 5, 4, 4, 5, 3, 4, 3, 4, 1, 1, 3, 1, 1, 2, 3, 3, 3, 1, 3, 3, 4, 3, 5, 3, 1, 3, 2, 1, 3, 4, 2, 3, 3, 4, 1, 1, 2, 3, 1, 1, 2, 3, 5, 2, 4, 1, 1, 2, 3, 4, 1, 1, 2, 4, 2, 1, 2, 3, 1, 2, 3, 1, 1, 1, 1, 3, 2, 3, 5, 1, 3, 1, 2, 1, 3, 4, 2, 3, 1, 2, 3, 5, 1, 3, 1, 2, 3, 4, 1, 2, 3, 2, 5, 2, 3, 4, 1, 2, 3, 4, 2, 4, 1, 3, 5, 1, 2, 3, 4, 2, 3, 4, 2, 3, 2, 3, 4, 2, 4, 1, 2, 3, 4, 2, 4, 5, 1, 2, 2, 1, 2, 3, 2, 4, 1, 2, 3, 4, 1, 4, 4, 5, 3, 4, 2, 3, 1, 2, 3, 4, 1, 3, 3, 3, 4, 3, 4, 1, 2, 1, 2, 3, 4, 1, 3, 1, 2, 2, 2, 4, 1, 1, 2, 3, 2, 4, 1, 1, 2, 4, 1, 3, 4, 1, 2, 3, 1, 1, 2, 3, 4, 2, 4, 3, 1, 3, 1, 2, 5, 2, 3, 2, 2, 3, 2, 3, 1, 3, 4, 1, 2, 3, 5, 2, 4, 5, 2, 2, 5, 1, 3, 1, 2, 3, 3, 5, 1, 2, 1, 2, 3, 4, 2, 3, 1, 1, 2, 3, 2, 5, 3, 4, 2, 3, 5, 1, 3, 4, 3, 3, 1, 2, 4, 5, 2, 4, 5, 1, 1, 3, 2, 3, 1, 2, 3, 1, 3, 2, 2, 3, 3, 5, 1, 2, 4, 1, 3, 1, 2, 3, 4, 2, 1, 4, 2, 5, 1, 4, 2, 3, 2, 5, 2, 2, 3, 4, 1, 2, 3, 2, 4, 2, 4, 2, 3, 4, 2, 3, 4, 1, 2, 3, 1, 3, 4, 5, 4, 1, 3, 2, 4, 4, 2, 4], \"Freq\": [0.17437203478867436, 0.6974881391546974, 0.5786206290234089, 0.40503444031638625, 0.6262011658438572, 0.08945730940626533, 0.17891461881253065, 0.8254180071381138, 0.7261187899593227, 0.14522375799186452, 0.17200167680262668, 0.6880067072105067, 0.6698237149576851, 0.26792948598307403, 0.9779374722438687, 0.6505060000991512, 0.354821454599537, 0.9892961522160896, 0.13328849152906627, 0.17771798870542171, 0.6664424576453314, 0.7762609899234322, 0.8437399619211404, 0.98065883859827, 0.017701423079391154, 0.8928293092252007, 0.7627107482375729, 0.7159018078744853, 0.17897545196862133, 0.7951975289984647, 0.13783325752966433, 0.8269995451779859, 0.8032421041952019, 0.05848675940404623, 0.9211664606137282, 0.759642744597932, 0.640985343601486, 0.34514595424695393, 0.25580926642641627, 0.5116185328528325, 0.936476309070371, 0.40432795071451966, 0.40432795071451966, 0.13477598357150655, 0.9691655269697993, 0.5516815886705579, 0.3861771120693906, 0.49688868061956254, 0.24844434030978127, 0.1482812481380281, 0.7414062406901405, 0.9532612483578486, 0.9315165857590118, 0.04826510807041512, 0.004826510807041512, 0.009653021614083023, 0.9158276866635419, 0.9216335228531938, 0.71077807762324, 0.862104371529474, 0.8032450088331172, 0.6617462526610463, 0.06403995993493997, 0.2775064930514065, 0.4536854214112748, 0.14326908044566572, 0.38205088118844194, 0.989298494413403, 0.8172278162146199, 0.983643429997461, 0.8523089603113901, 0.11755985659467451, 0.5475360064679623, 0.14932800176398972, 0.2488800029399829, 0.5931309586609962, 0.39542063910733083, 0.15537949874976256, 0.821291636248745, 0.8295883109008051, 0.7192142795912181, 0.11986904659853635, 0.7710469834205401, 0.17793391925089386, 0.20589676779631064, 0.20589676779631064, 0.20589676779631064, 0.20589676779631064, 0.2928590192263194, 0.6589327932592186, 0.4303357173063887, 0.2183793192301077, 0.2248022403839344, 0.12845842307653393, 0.917944695197764, 0.03906147639139421, 0.03906147639139421, 0.47584106051623337, 0.23792053025811669, 0.2307309051753326, 0.3460963577629989, 0.4614618103506652, 0.12085974782237809, 0.6042987391118905, 0.12085974782237809, 0.18128962173356714, 0.20163788740245506, 0.6049136622073652, 0.03671335577937178, 0.9178338944842945, 0.03671335577937178, 0.7499345877099552, 0.05281229490915178, 0.04224983592732142, 0.15843688472745532, 0.7612170850145026, 0.17442955205737368, 0.6977182082294947, 0.795261331961202, 0.8536552047686283, 0.25153933755737834, 0.30184720506885404, 0.4024629400918054, 0.20145207942949914, 0.6043562382884974, 0.3624224087797441, 0.22302917463368868, 0.013939323414605543, 0.4042403790235607, 0.16380680208140974, 0.5460226736046991, 0.21840906944187966, 0.028928902084458412, 0.9546537687871276, 0.8089304304262744, 0.8642377700307008, 0.05761585133538005, 0.05761585133538005, 0.6212213457073688, 0.2484885382829475, 0.4333637871367469, 0.4767001658504216, 0.08667275742734938, 0.8876328613788669, 0.9968777282407072, 0.8252726780722577, 0.3882818849642943, 0.3882818849642943, 0.2530135544698964, 0.5060271089397927, 0.4184972937182792, 0.5579963916243723, 0.8257633226408462, 0.8175921585247501, 0.09084357316941667, 0.09084357316941667, 0.1540528664665093, 0.7702643323325464, 0.9279996773779856, 0.518972498585116, 0.259486249292558, 0.7674984623299786, 0.2302495386989936, 0.12261293301538488, 0.8582905311076942, 0.763009004458458, 0.2211620302778139, 0.5185275311817726, 0.2592637655908863, 0.9225029284922185, 0.05426487814660109, 0.6895507668648154, 0.2681586315585393, 0.7738536323269998, 0.5435514163118647, 0.4076635622338985, 0.9833314150736304, 0.9712328403001274, 0.01765877891454777, 0.008829389457273885, 0.24641203597073727, 0.49282407194147454, 0.8217918856058629, 0.9799014734820171, 0.4995506101974451, 0.4995506101974451, 0.9856245021299318, 0.1720000786813666, 0.6880003147254664, 0.06856115529780722, 0.20568346589342165, 0.6856115529780722, 0.8254197016956798, 0.8258571061280798, 0.583114697997977, 0.3563478709987637, 0.03239526099988761, 0.8381486938342823, 0.10476858672928528, 0.7765180137091704, 0.9374855791210852, 0.049341346269530795, 0.4959508070013122, 0.4251006917154105, 0.07085011528590175, 0.6779669764552417, 0.22598899215174725, 0.93502143444782, 0.08422319312848733, 0.8422319312848733, 0.7282648182080919, 0.2427549394026973, 0.7127928594554972, 0.261357381800349, 0.011879880990924954, 0.03736559042606879, 0.22419354255641272, 0.7099462180953069, 0.03736559042606879, 0.4627849903425354, 0.19833642443251517, 0.3305607073875253, 0.8059653905328765, 0.6414800346415126, 0.21382667821383755, 0.05055626447146445, 0.9479299588399583, 0.6378655488490438, 0.16943303641302726, 0.18936633481455986, 0.44096050055641545, 0.44096050055641545, 0.8666880904702434, 0.7646891098797421, 0.016299577975905703, 0.6845822749880395, 0.13039662380724562, 0.16299577975905702, 0.12098009678921019, 0.7863706291298662, 0.9885197345416498, 0.5054696861529929, 0.47886601846073007, 0.013301833846131391, 0.5616969246096373, 0.37446461640642487, 0.11151674824674608, 0.8363756118505956, 0.6533145351756395, 0.1088857558626066, 0.1088857558626066, 0.953288507407307, 0.810454667526439, 0.09005051861404878, 0.8469153469283016, 0.7802151988436, 0.5139546820115289, 0.09636650287716168, 0.28909950863148504, 0.09636650287716168, 0.2508832570396132, 0.5017665140792263, 0.2508832570396132, 0.9809662374672338, 0.34309668202302823, 0.643306278793178, 0.8517341938216697, 0.10646677422770871, 0.8004024961401859, 0.1482226844704048, 0.029644536894080958, 0.9313181163424954, 0.05644352220257548, 0.7641956732998485, 0.5973015919929262, 0.19910053066430872, 0.4551966227678534, 0.4551966227678534, 0.9497010071516407, 0.33552395159659, 0.503285927394885, 0.41916367466027504, 0.5239545933253438, 0.4102776862508959, 0.1823456383337315, 0.31910486708403013, 0.09117281916686575, 0.8822491772719914, 0.9635691942982677, 0.03341858477335032, 0.8499029393017709, 0.7478728247156649, 0.928276268328871, 0.056259167777507335, 0.37878200574918025, 0.5302948080488523, 0.235122512133445, 0.47024502426689, 0.7647400466134923, 0.5821155527597555, 0.08955623888611622, 0.3134468361014068, 0.9469814426292421, 0.009284131790482765, 0.046420658952413825, 0.5102380904033372, 0.40819047232266975, 0.9024318622990132, 0.8705723931567085, 0.24432661412458848, 0.32576881883278463, 0.4072110235409808, 0.5478385492693614, 0.3582021283684286, 0.0842828537337479, 0.8644478257645705, 0.08155168167590288, 0.048931009005541724, 0.9020535648480233, 0.25050972308162034, 0.6958603418933899, 0.05566882735147118, 0.7627010808511118, 0.2788839904897294, 0.6972099762243235, 0.2463377935365432, 0.4926755870730864, 0.7626934872425329, 0.7250845630292855, 0.24169485434309515], \"Term\": [\"doge\", \"doge\", \"r2tuaac\", \"r2tuaac\", \"\\u4e00\\u5e26\", \"\\u4e00\\u5e26\", \"\\u4e00\\u5e26\", \"\\u4e03\\u5915\", \"\\u4e0a\\u5cb8\", \"\\u4e0a\\u5cb8\", \"\\u4e0b\\u6c89\", \"\\u4e0b\\u6c89\", \"\\u4e0d\\u8bed\", \"\\u4e0d\\u8bed\", \"\\u4e1c\\u504f\", \"\\u4e1c\\u5357\\u65b9\", \"\\u4e1c\\u5357\\u65b9\", \"\\u4e1c\\u7ecf\", \"\\u4e1c\\u90e8\", \"\\u4e1c\\u90e8\", \"\\u4e1c\\u90e8\", \"\\u4e2d\\u4e1c\\u90e8\", \"\\u4e2d\\u592e\\u6c14\\u8c61\\u53f0\", \"\\u4e2d\\u5fc3\", \"\\u4e2d\\u5fc3\", \"\\u4e8c\\u54c8\", \"\\u4ea4\\u901a\", \"\\u4eca\\u665a\", \"\\u4eca\\u665a\", \"\\u4ece\\u5316\\u533a\", \"\\u4ee5\\u4e1c\", \"\\u4ee5\\u4e1c\", \"\\u4f34\\u6709\", \"\\u4f4e\\u538b\", \"\\u4f4e\\u538b\", \"\\u4f9d\\u7136\", \"\\u4fe1\\u53f7\", \"\\u4fe1\\u53f7\", \"\\u4fe1\\u606f\", \"\\u4fe1\\u606f\", \"\\u504f\\u4e1c\", \"\\u504f\\u5317\", \"\\u504f\\u5317\", \"\\u504f\\u5317\", \"\\u504f\\u5357\", \"\\u504f\\u897f\", \"\\u504f\\u897f\", \"\\u505c\\u6b62\", \"\\u505c\\u6b62\", \"\\u5141\\u60b2\", \"\\u5141\\u60b2\", \"\\u516b\\u7ea7\", \"\\u516c\\u91cc\", \"\\u516c\\u91cc\", \"\\u516c\\u91cc\", \"\\u516c\\u91cc\", \"\\u516d\\u7ea7\", \"\\u5185\\u4ee5\", \"\\u51b7\\u7a7a\\u6c14\", \"\\u51fa\\u95e8\", \"\\u5206\\u5728\", \"\\u52a0\\u5f3a\", \"\\u52a0\\u5f3a\", \"\\u52a0\\u5f3a\", \"\\u5317\\u65b9\", \"\\u5317\\u65b9\", \"\\u5317\\u65b9\", \"\\u5317\\u7eac\", \"\\u5317\\u90e8\\u6e7e\", \"\\u534a\\u5f84\", \"\\u5357\\u65b9\", \"\\u5357\\u65b9\", \"\\u5357\\u6c99\", \"\\u5357\\u6c99\", \"\\u5357\\u6c99\", \"\\u5357\\u6d77\", \"\\u5357\\u6d77\", \"\\u5361\\u52aa\", \"\\u5361\\u52aa\", \"\\u53ca\\u65f6\", \"\\u53d1\\u5c55\", \"\\u53d1\\u5c55\", \"\\u53d7\\u5176\", \"\\u53d7\\u5176\", \"\\u53f0\\u5c71\", \"\\u53f0\\u5c71\", \"\\u53f0\\u5c71\", \"\\u53f0\\u5c71\", \"\\u53f0\\u6e7e\", \"\\u53f0\\u6e7e\", \"\\u53f0\\u98ce\", \"\\u53f0\\u98ce\", \"\\u53f0\\u98ce\", \"\\u53f0\\u98ce\", \"\\u53f0\\u98ce\\u6d88\\u606f\", \"\\u53f0\\u98ce\\u6d88\\u606f\", \"\\u53f0\\u98ce\\u6d88\\u606f\", \"\\u5434\\u5ddd\", \"\\u5434\\u5ddd\", \"\\u5916\\u56f4\", \"\\u5916\\u56f4\", \"\\u5916\\u56f4\", \"\\u591c\\u95f4\", \"\\u591c\\u95f4\", \"\\u591c\\u95f4\", \"\\u591c\\u95f4\", \"\\u5929\\u6c14\\u8981\\u95fb\", \"\\u5929\\u6c14\\u8981\\u95fb\", \"\\u5929\\u6c14\\u8bdd\\u4f60\\u77e5\", \"\\u5929\\u6c14\\u8bdd\\u4f60\\u77e5\", \"\\u5929\\u6c14\\u8bdd\\u4f60\\u77e5\", \"\\u5929\\u9e3d\", \"\\u5929\\u9e3d\", \"\\u5929\\u9e3d\", \"\\u5929\\u9e3d\", \"\\u5b63\\u98ce\", \"\\u5ba4\\u5185\", \"\\u5ba4\\u5185\", \"\\u5c0f\\u4f19\\u4f34\", \"\\u5c0f\\u7f16\", \"\\u5c0f\\u7f168\\u5929\\u6c14\", \"\\u5c0f\\u7f168\\u5929\\u6c14\", \"\\u5c0f\\u7f168\\u5929\\u6c14\", \"\\u5e0c\\u671b\", \"\\u5e0c\\u671b\", \"\\u5e15\\u5361\", \"\\u5e15\\u5361\", \"\\u5e15\\u5361\", \"\\u5e15\\u5361\", \"\\u5e15\\u5361\\u5f71\\u54cd\\u5e7f\\u5dde\", \"\\u5e15\\u5361\\u5f71\\u54cd\\u5e7f\\u5dde\", \"\\u5e15\\u5361\\u5f71\\u54cd\\u5e7f\\u5dde\", \"\\u5e7f\\u4e1c\", \"\\u5e7f\\u4e1c\", \"\\u5e7f\\u4e1c\\u7701\", \"\\u5e7f\\u5dde\\u5e02\", \"\\u5e7f\\u5dde\\u5e02\", \"\\u5e7f\\u5dde\\u5e02\", \"\\u5e7f\\u5dde\\u5e02\\u533a\", \"\\u5e7f\\u5dde\\u5e02\\u533a\", \"\\u5f3a\\u5ea6\", \"\\u5f3a\\u5ea6\", \"\\u5f3a\\u5ea6\", \"\\u5f69\\u8679\", \"\\u5fae\\u535a\", \"\\u60c5\\u62a5\", \"\\u60e0\\u4e1c\", \"\\u60e0\\u4e1c\", \"\\u610f\\u4e49\", \"\\u610f\\u4e49\", \"\\u6211\\u533a\", \"\\u6211\\u533a\", \"\\u6211\\u56fd\", \"\\u6211\\u5e02\", \"\\u6211\\u5e02\", \"\\u6211\\u5e02\", \"\\u6211\\u7701\", \"\\u6211\\u7701\", \"\\u6270\\u52a8\", \"\\u63d0\\u524d\", \"\\u63d0\\u524d\", \"\\u644a\\u624b\", \"\\u644a\\u624b\", \"\\u6587\\u660c\", \"\\u6587\\u660c\", \"\\u65b9\\u5411\", \"\\u65b9\\u5411\", \"\\u65e9\\u5b89\", \"\\u65e9\\u5b89\", \"\\u65f6\\u5176\", \"\\u65f6\\u5176\", \"\\u65f6\\u901f\", \"\\u65f6\\u901f\", \"\\u666e\\u904d\", \"\\u66b4\\u96e8\", \"\\u66b4\\u96e8\", \"\\u6700\\u4f4e\", \"\\u6700\\u5927\", \"\\u6700\\u5927\", \"\\u6700\\u5927\", \"\\u6700\\u9ad8\", \"\\u6700\\u9ad8\", \"\\u6765\\u6e90\\u4e8e\", \"\\u6bcf\\u79d2\", \"\\u6bd4\\u8f83\", \"\\u6bd4\\u8f83\", \"\\u6c14\\u538b\", \"\\u6c14\\u6d41\", \"\\u6c14\\u6d41\", \"\\u6c14\\u8c61\\u53f0\", \"\\u6c14\\u8c61\\u53f0\", \"\\u6c14\\u8c61\\u53f0\", \"\\u6c99\\u5e02\", \"\\u6cb3\\u6e90\\u5e02\", \"\\u6cbf\\u6d77\", \"\\u6cbf\\u6d77\", \"\\u6cbf\\u6d77\", \"\\u6cbf\\u6d77\\u5730\\u533a\", \"\\u6cbf\\u6d77\\u5730\\u533a\", \"\\u6ce5\\u840c\", \"\\u6d0b\\u9762\", \"\\u6d0b\\u9762\", \"\\u6d1b\\u514b\", \"\\u6d1b\\u514b\", \"\\u6d1b\\u514b\", \"\\u6d77\\u4e0a\", \"\\u6d77\\u4e0a\", \"\\u6d77\\u5357\", \"\\u6d77\\u5357\\u5c9b\", \"\\u6d77\\u5357\\u5c9b\", \"\\u6d77\\u73e0\", \"\\u6d77\\u73e0\", \"\\u6d77\\u9762\", \"\\u6d77\\u9762\", \"\\u6d77\\u9762\", \"\\u6d88\\u606f\", \"\\u6d88\\u606f\", \"\\u6d88\\u606f\", \"\\u6d88\\u606f\", \"\\u6df1\\u5733\", \"\\u6df1\\u5733\", \"\\u6df1\\u5733\", \"\\u6e2f\\u533a\", \"\\u6e5b\\u6c5f\", \"\\u6e5b\\u6c5f\", \"\\u70ed\\u5e26\", \"\\u70ed\\u5e26\", \"\\u70ed\\u5e26\\u98ce\\u66b4\", \"\\u70ed\\u5e26\\u98ce\\u66b4\", \"\\u70ed\\u5e26\\u98ce\\u66b4\", \"\\u73e0\\u6d77\", \"\\u73e0\\u6d77\", \"\\u73e0\\u6d77\\u5e02\", \"\\u743c\\u6d77\", \"\\u767b\\u9646\", \"\\u767b\\u9646\", \"\\u767b\\u9646\", \"\\u767b\\u9646\", \"\\u767d\\u8272\", \"\\u767d\\u8272\", \"\\u767e\\u5e15\", \"\\u79fb\\u52a8\", \"\\u79fb\\u52a8\", \"\\u79fb\\u52a8\", \"\\u7a7f\\u8fc7\", \"\\u7a7f\\u8fc7\", \"\\u7b80\\u5355\", \"\\u7b80\\u5355\", \"\\u7ca4\\u897f\", \"\\u7ca4\\u897f\", \"\\u7ca4\\u897f\", \"\\u7d27\\u6025\\u8b66\\u62a5\", \"\\u7eb3\\u6c99\", \"\\u7eb3\\u6c99\", \"\\u7ee7\\u7eed\\u52a0\\u5f3a\", \"\\u7f16\\u53f7\", \"\\u82d7\\u67cf\", \"\\u82d7\\u67cf\", \"\\u82d7\\u67cf\", \"\\u82d7\\u67cf\", \"\\u8302\\u540d\", \"\\u8302\\u540d\", \"\\u8302\\u540d\", \"\\u8303\\u56f4\", \"\\u83f2\\u5f8b\\u5bbe\", \"\\u83f2\\u5f8b\\u5bbe\", \"\\u84dd\\u8272\", \"\\u84dd\\u8272\", \"\\u897f\\u504f\", \"\\u897f\\u504f\", \"\\u897f\\u504f\", \"\\u897f\\u5317\", \"\\u897f\\u5317\", \"\\u897f\\u5357\", \"\\u89e3\\u9664\", \"\\u89e3\\u9664\", \"\\u8b66\\u60d5\", \"\\u8b66\\u60d5\", \"\\u8b66\\u62a5\", \"\\u8bb0\\u5f97\", \"\\u8bb0\\u5f97\", \"\\u8d8b\\u5411\", \"\\u8d8b\\u5411\", \"\\u8ddd\\u79bb\", \"\\u8ddd\\u79bb\", \"\\u8ddd\\u79bb\", \"\\u8ddd\\u79bb\", \"\\u8def\\u5f84\", \"\\u8f6c\\u53d1\", \"\\u8f6c\\u53d1\", \"\\u8fc7\\u7a0b\", \"\\u8fd0\\u8425\", \"\\u901f\\u5ea6\", \"\\u901f\\u5ea6\", \"\\u9632\\u5fa1\", \"\\u9632\\u5fa1\", \"\\u9633\\u6c5f\", \"\\u9633\\u6c5f\", \"\\u9633\\u897f\", \"\\u9635\\u98ce\", \"\\u9635\\u98ce\", \"\\u9635\\u98ce\", \"\\u9644\\u8fd1\", \"\\u9644\\u8fd1\", \"\\u9644\\u8fd1\", \"\\u9646\\u5730\", \"\\u9646\\u5730\", \"\\u964d\\u6c34\", \"\\u968f\\u624b\\u62cd\\u5e7f\\u5dde\", \"\\u9884\\u62a5\", \"\\u9884\\u62a5\", \"\\u9884\\u62a5\", \"\\u9884\\u8b66\", \"\\u9884\\u8b66\", \"\\u9884\\u8b66\", \"\\u98ce\\u529b\", \"\\u98ce\\u529b\", \"\\u98ce\\u529b\", \"\\u98ce\\u901f\", \"\\u98ce\\u96e8\", \"\\u98ce\\u96e8\", \"\\u98ce\\u96e8\", \"\\u98de\\u673a\", \"\\u9a6c\\u5c3c\\u62c9\", \"\\u9a6c\\u5c3c\\u62c9\", \"\\u9ad8\\u6e29\", \"\\u9ad8\\u6e29\", \"\\u9ad8\\u94c1\", \"\\u9ec4\\u8272\", \"\\u9ec4\\u8272\"]}, \"R\": 30, \"lambda.step\": 0.01, \"plot.opts\": {\"xlab\": \"PC1\", \"ylab\": \"PC2\"}, \"topic.order\": [2, 5, 1, 3, 4]};\n",
       "\n",
       "function LDAvis_load_lib(url, callback){\n",
       "  var s = document.createElement('script');\n",
       "  s.src = url;\n",
       "  s.async = true;\n",
       "  s.onreadystatechange = s.onload = callback;\n",
       "  s.onerror = function(){console.warn(\"failed to load library \" + url);};\n",
       "  document.getElementsByTagName(\"head\")[0].appendChild(s);\n",
       "}\n",
       "\n",
       "if(typeof(LDAvis) !== \"undefined\"){\n",
       "   // already loaded: just create the visualization\n",
       "   !function(LDAvis){\n",
       "       new LDAvis(\"#\" + \"ldavis_el173361049008744632475163045\", ldavis_el173361049008744632475163045_data);\n",
       "   }(LDAvis);\n",
       "}else if(typeof define === \"function\" && define.amd){\n",
       "   // require.js is available: use it to load d3/LDAvis\n",
       "   require.config({paths: {d3: \"https://cdnjs.cloudflare.com/ajax/libs/d3/3.5.5/d3.min\"}});\n",
       "   require([\"d3\"], function(d3){\n",
       "      window.d3 = d3;\n",
       "      LDAvis_load_lib(\"https://cdn.rawgit.com/bmabey/pyLDAvis/files/ldavis.v1.0.0.js\", function(){\n",
       "        new LDAvis(\"#\" + \"ldavis_el173361049008744632475163045\", ldavis_el173361049008744632475163045_data);\n",
       "      });\n",
       "    });\n",
       "}else{\n",
       "    // require.js not available: dynamically load d3 & LDAvis\n",
       "    LDAvis_load_lib(\"https://cdnjs.cloudflare.com/ajax/libs/d3/3.5.5/d3.min.js\", function(){\n",
       "         LDAvis_load_lib(\"https://cdn.rawgit.com/bmabey/pyLDAvis/files/ldavis.v1.0.0.js\", function(){\n",
       "                 new LDAvis(\"#\" + \"ldavis_el173361049008744632475163045\", ldavis_el173361049008744632475163045_data);\n",
       "            })\n",
       "         });\n",
       "}\n",
       "</script>"
      ],
      "text/plain": [
       "PreparedData(topic_coordinates=            Freq  cluster  topics         x         y\n",
       "topic                                                \n",
       "1      56.908594        1       1  0.301637 -0.055821\n",
       "4      17.458008        1       2 -0.069176 -0.019680\n",
       "0      16.024237        1       3 -0.008505  0.218845\n",
       "2       7.476354        1       4 -0.127002 -0.114484\n",
       "3       2.132807        1       5 -0.096954 -0.028859, topic_info=     Category        Freq    Term       Total  loglift  logprob\n",
       "term                                                           \n",
       "68    Default  311.000000      台风  311.000000  30.0000  30.0000\n",
       "156   Default   79.000000      热带   79.000000  29.0000  29.0000\n",
       "31    Default   68.000000      低压   68.000000  28.0000  28.0000\n",
       "93    Default   71.000000      帕卡   71.000000  27.0000  27.0000\n",
       "20    Default  282.000000      中心  282.000000  26.0000  26.0000\n",
       "103   Default  172.000000      微博  172.000000  25.0000  25.0000\n",
       "196   Default  179.000000      转发  179.000000  24.0000  24.0000\n",
       "214   Default   35.000000      风雨   35.000000  23.0000  23.0000\n",
       "84    Default   94.000000      天鸽   94.000000  22.0000  22.0000\n",
       "164   Default   61.000000      登陆   61.000000  21.0000  21.0000\n",
       "60    Default   45.000000      卡努   45.000000  20.0000  20.0000\n",
       "170   Default   75.000000      移动   75.000000  19.0000  19.0000\n",
       "179   Default   31.000000      苗柏   31.000000  18.0000  18.0000\n",
       "59    Default   70.000000      南海   70.000000  17.0000  17.0000\n",
       "96    Default   34.000000      广东   34.000000  16.0000  16.0000\n",
       "58    Default   20.000000      南沙   20.000000  15.0000  15.0000\n",
       "82    Default   27.000000   天气话你知   27.000000  14.0000  14.0000\n",
       "94    Default   18.000000  帕卡影响广州   18.000000  13.0000  13.0000\n",
       "153   Default   15.000000      深圳   15.000000  12.0000  12.0000\n",
       "211   Default   47.000000      预警   47.000000  11.0000  11.0000\n",
       "172   Default   17.000000      简单   17.000000  10.0000  10.0000\n",
       "151   Default   84.000000      海面   84.000000   9.0000   9.0000\n",
       "152   Default   26.000000      消息   26.000000   8.0000   8.0000\n",
       "15    Default   82.000000      东经   82.000000   7.0000   7.0000\n",
       "53    Default   82.000000      北纬   82.000000   6.0000   6.0000\n",
       "115   Default   90.000000      方向   90.000000   5.0000   5.0000\n",
       "132   Default   74.000000      气压   74.000000   4.0000   4.0000\n",
       "44    Default  207.000000      公里  207.000000   3.0000   3.0000\n",
       "124   Default  113.000000      最大  113.000000   2.0000   2.0000\n",
       "166   Default   70.000000      百帕   70.000000   1.0000   1.0000\n",
       "...       ...         ...     ...         ...      ...      ...\n",
       "94     Topic5    4.422579  帕卡影响广州   18.314258   2.4268  -3.1986\n",
       "3      Topic5    2.417397      一带   11.178516   2.3164  -3.8026\n",
       "7      Topic5    1.295748      上岸    6.885926   2.1773  -4.4262\n",
       "173    Topic5    1.311231      粤西    9.183938   1.9012  -4.4144\n",
       "143    Topic5    1.360794      洛克   14.114303   1.5086  -4.3773\n",
       "179    Topic5    2.986881      苗柏   31.131149   1.5038  -3.5911\n",
       "27     Topic5    0.517344      今晚    5.587358   1.4682  -5.3444\n",
       "61     Topic5    0.269306      及时    3.616252   1.2504  -5.9972\n",
       "108    Topic5    0.269508      我国    3.633002   1.2465  -5.9965\n",
       "136    Topic5    0.268978      沙市    3.634515   1.2441  -5.9985\n",
       "137    Topic5    0.268780     河源市    3.632590   1.2439  -5.9992\n",
       "129    Topic5    0.269116     来源于    3.650559   1.2402  -5.9979\n",
       "54     Topic5    0.269530     北部湾    3.670947   1.2362  -5.9964\n",
       "28     Topic5    0.269243     从化区    3.772648   1.2078  -5.9975\n",
       "177    Topic5    0.269557      编号    3.845093   1.1900  -5.9963\n",
       "112    Topic5    0.269250      提前    3.853769   1.1866  -5.9974\n",
       "117    Topic5    0.269317      早安    3.857076   1.1860  -5.9972\n",
       "82     Topic5    1.356856   天气话你知   27.238044   0.8483  -4.3802\n",
       "152    Topic5    1.323544      消息   26.762591   0.8410  -4.4050\n",
       "214    Topic5    1.552774      风雨   35.926749   0.7063  -4.2453\n",
       "34     Topic5    0.272056      信息    3.909163   1.1827  -5.9871\n",
       "13     Topic5    0.323180     东南方   16.909913  -0.1097  -5.8149\n",
       "32     Topic5    0.270838      依然    3.949225   1.1680  -5.9916\n",
       "113    Topic5    0.295290      摊手   13.029342   0.0607  -5.9051\n",
       "36     Topic5    0.279328      偏北    7.419720   0.5682  -5.9607\n",
       "164    Topic5    0.292431      登陆   61.351282  -1.4984  -5.9149\n",
       "44     Topic5    0.288488      公里  207.189011  -2.7290  -5.9284\n",
       "210    Topic5    0.274306      预报   12.278646   0.0464  -5.9788\n",
       "16     Topic5    0.275556      东部   22.507570  -0.5551  -5.9743\n",
       "151    Topic5    0.274804      海面   84.175927  -1.8769  -5.9770\n",
       "\n",
       "[249 rows x 6 columns], token_table=      Topic      Freq     Term\n",
       "term                          \n",
       "1         2  0.174372     doge\n",
       "1         3  0.697488     doge\n",
       "2         2  0.578621  r2tuaac\n",
       "2         3  0.405034  r2tuaac\n",
       "3         2  0.626201       一带\n",
       "3         4  0.089457       一带\n",
       "3         5  0.178915       一带\n",
       "4         4  0.825418       七夕\n",
       "7         4  0.726119       上岸\n",
       "7         5  0.145224       上岸\n",
       "8         3  0.172002       下沉\n",
       "8         4  0.688007       下沉\n",
       "9         3  0.669824       不语\n",
       "9         4  0.267929       不语\n",
       "10        1  0.977937       东偏\n",
       "13        1  0.650506      东南方\n",
       "13        3  0.354821      东南方\n",
       "15        1  0.989296       东经\n",
       "16        1  0.133288       东部\n",
       "16        2  0.177718       东部\n",
       "16        3  0.666442       东部\n",
       "17        3  0.776261      中东部\n",
       "19        3  0.843740    中央气象台\n",
       "20        1  0.980659       中心\n",
       "20        3  0.017701       中心\n",
       "22        3  0.892829       二哈\n",
       "25        4  0.762711       交通\n",
       "27        3  0.715902       今晚\n",
       "27        5  0.178975       今晚\n",
       "28        3  0.795198      从化区\n",
       "...     ...       ...      ...\n",
       "205       3  0.089556       阵风\n",
       "205       4  0.313447       阵风\n",
       "206       1  0.946981       附近\n",
       "206       2  0.009284       附近\n",
       "206       3  0.046421       附近\n",
       "207       2  0.510238       陆地\n",
       "207       4  0.408190       陆地\n",
       "208       2  0.902432       降水\n",
       "209       4  0.870572    随手拍广州\n",
       "210       2  0.244327       预报\n",
       "210       3  0.325769       预报\n",
       "210       4  0.407211       预报\n",
       "211       2  0.547839       预警\n",
       "211       3  0.358202       预警\n",
       "211       4  0.084283       预警\n",
       "212       1  0.864448       风力\n",
       "212       2  0.081552       风力\n",
       "212       3  0.048931       风力\n",
       "213       1  0.902054       风速\n",
       "214       3  0.250510       风雨\n",
       "214       4  0.695860       风雨\n",
       "214       5  0.055669       风雨\n",
       "215       4  0.762701       飞机\n",
       "216       1  0.278884      马尼拉\n",
       "216       3  0.697210      马尼拉\n",
       "217       2  0.246338       高温\n",
       "217       4  0.492676       高温\n",
       "218       4  0.762693       高铁\n",
       "219       2  0.725085       黄色\n",
       "219       4  0.241695       黄色\n",
       "\n",
       "[330 rows x 3 columns], R=30, lambda_step=0.01, plot_opts={'xlab': 'PC1', 'ylab': 'PC2'}, topic_order=[2, 5, 1, 3, 4])"
      ]
     },
     "execution_count": 43,
     "metadata": {},
     "output_type": "execute_result"
    }
   ],
   "source": [
    "import pyLDAvis\n",
    "import pyLDAvis.sklearn\n",
    "pyLDAvis.enable_notebook()\n",
    "pyLDAvis.sklearn.prepare(lda, tf, tf_vectorizer)"
   ]
  },
  {
   "cell_type": "code",
   "execution_count": 44,
   "metadata": {
    "collapsed": true
   },
   "outputs": [],
   "source": [
    "# data = pyLDAvis.sklearn.prepare(lda, tf, tf_vectorizer)\n",
    "# pyLDAvis.show(data)"
   ]
  },
  {
   "cell_type": "code",
   "execution_count": 45,
   "metadata": {},
   "outputs": [
    {
     "name": "stderr",
     "output_type": "stream",
     "text": [
      "D:\\Anaconda3\\lib\\site-packages\\sklearn\\decomposition\\online_lda.py:294: DeprecationWarning: n_topics has been renamed to n_components in version 0.19 and will be removed in 0.21\n",
      "  DeprecationWarning)\n"
     ]
    },
    {
     "name": "stdout",
     "output_type": "stream",
     "text": [
      "Topic #0:\n",
      "台风 热带 低压 中心 公里 海面 南海 移动 预警 加强 风力 热带风暴 北方 方向 最大 菲律宾 强度 附近 我区 消息\n",
      "Topic #1:\n",
      "中心 转发 微博 公里 台风 风力 最大 附近 东经 北纬 气压 百帕 天鸽 最低 方向 热带风暴 海面 台风消息 洋面 南海\n",
      "Topic #2:\n",
      "台风 登陆 帕卡 风雨 广东 天鸽 沿海 天气话你知 简单 帕卡影响广州 沿海地区 热带风暴 阵风 苗柏 小编8天气 深圳 暴雨 海南 预警 摊手\n",
      "\n"
     ]
    },
    {
     "name": "stderr",
     "output_type": "stream",
     "text": [
      "D:\\Anaconda3\\lib\\site-packages\\pyLDAvis\\_prepare.py:387: DeprecationWarning: \n",
      ".ix is deprecated. Please use\n",
      ".loc for label based indexing or\n",
      ".iloc for positional indexing\n",
      "\n",
      "See the documentation here:\n",
      "http://pandas.pydata.org/pandas-docs/stable/indexing.html#ix-indexer-is-deprecated\n",
      "  topic_term_dists = topic_term_dists.ix[topic_order]\n"
     ]
    },
    {
     "name": "stdout",
     "output_type": "stream",
     "text": [
      "Wall time: 17.1 s\n"
     ]
    }
   ],
   "source": [
    "%%time\n",
    "n_topics = 3    #此处的10可以自定义\n",
    "lda = LatentDirichletAllocation(n_topics=n_topics, max_iter=50,\n",
    "                                learning_method='online',\n",
    "                                learning_offset=50.,\n",
    "                                random_state=0)\n",
    "lda.fit(tf)\n",
    "print_top_words(lda, tf_feature_names, n_top_words)\n",
    "pyLDAvis.sklearn.prepare(lda, tf, tf_vectorizer)"
   ]
  },
  {
   "cell_type": "code",
   "execution_count": 46,
   "metadata": {},
   "outputs": [
    {
     "name": "stderr",
     "output_type": "stream",
     "text": [
      "D:\\Anaconda3\\lib\\site-packages\\pyLDAvis\\_prepare.py:387: DeprecationWarning: \n",
      ".ix is deprecated. Please use\n",
      ".loc for label based indexing or\n",
      ".iloc for positional indexing\n",
      "\n",
      "See the documentation here:\n",
      "http://pandas.pydata.org/pandas-docs/stable/indexing.html#ix-indexer-is-deprecated\n",
      "  topic_term_dists = topic_term_dists.ix[topic_order]\n"
     ]
    },
    {
     "name": "stdout",
     "output_type": "stream",
     "text": [
      "\n",
      "Note: if you're in the IPython notebook, pyLDAvis.show() is not the best command\n",
      "      to use. Consider using pyLDAvis.display(), or pyLDAvis.enable_notebook().\n",
      "      See more information at http://pyLDAvis.github.io/quickstart.html .\n",
      "\n",
      "You must interrupt the kernel to end this command\n",
      "\n",
      "Serving to http://127.0.0.1:8889/    [Ctrl-C to exit]\n"
     ]
    },
    {
     "name": "stderr",
     "output_type": "stream",
     "text": [
      "127.0.0.1 - - [21/Jul/2018 21:43:53] \"GET / HTTP/1.1\" 200 -\n",
      "127.0.0.1 - - [21/Jul/2018 21:43:54] \"GET /LDAvis.css HTTP/1.1\" 200 -\n",
      "127.0.0.1 - - [21/Jul/2018 21:43:54] \"GET /d3.js HTTP/1.1\" 200 -\n",
      "127.0.0.1 - - [21/Jul/2018 21:43:54] \"GET /LDAvis.js HTTP/1.1\" 200 -\n"
     ]
    },
    {
     "name": "stdout",
     "output_type": "stream",
     "text": [
      "\n",
      "stopping Server...\n",
      "Wall time: 21min 26s\n"
     ]
    }
   ],
   "source": [
    "%%time\n",
    "data = pyLDAvis.sklearn.prepare(lda, tf, tf_vectorizer)\n",
    "pyLDAvis.show(data)"
   ]
  },
  {
   "cell_type": "markdown",
   "metadata": {},
   "source": [
    "## 日常预报细分主题的结果打标签"
   ]
  },
  {
   "cell_type": "code",
   "execution_count": 47,
   "metadata": {},
   "outputs": [
    {
     "name": "stderr",
     "output_type": "stream",
     "text": [
      "D:\\Anaconda3\\lib\\site-packages\\sklearn\\decomposition\\online_lda.py:294: DeprecationWarning: n_topics has been renamed to n_components in version 0.19 and will be removed in 0.21\n",
      "  DeprecationWarning)\n"
     ]
    },
    {
     "name": "stdout",
     "output_type": "stream",
     "text": [
      "[[ 0.11111971  0.77775512  0.11112517]\n",
      " [ 0.01407895  0.94480601  0.04111504]\n",
      " [ 0.01636432  0.01680319  0.96683249]\n",
      " ..., \n",
      " [ 0.11111971  0.77775512  0.11112517]\n",
      " [ 0.11111971  0.77775512  0.11112517]\n",
      " [ 0.11111971  0.77775512  0.11112517]]\n",
      "(409, 3)\n"
     ]
    }
   ],
   "source": [
    "# Doc Topics 结果\n",
    "# 通过fit_transform函数,可以得到文档主题分布,Doc_Topic distribution matrix\n",
    "doctopic_matrix = lda.fit_transform(tf) # numpy.ndarray\n",
    "print(doctopic_matrix)\n",
    "print(doctopic_matrix.shape)"
   ]
  },
  {
   "cell_type": "code",
   "execution_count": 48,
   "metadata": {},
   "outputs": [
    {
     "data": {
      "text/html": [
       "<div>\n",
       "<style>\n",
       "    .dataframe thead tr:only-child th {\n",
       "        text-align: right;\n",
       "    }\n",
       "\n",
       "    .dataframe thead th {\n",
       "        text-align: left;\n",
       "    }\n",
       "\n",
       "    .dataframe tbody tr th {\n",
       "        vertical-align: top;\n",
       "    }\n",
       "</style>\n",
       "<table border=\"1\" class=\"dataframe\">\n",
       "  <thead>\n",
       "    <tr style=\"text-align: right;\">\n",
       "      <th></th>\n",
       "      <th>热带风暴：热带低压消息</th>\n",
       "      <th>热带风暴：台风中心消息</th>\n",
       "      <th>热带风暴：台风登陆广东</th>\n",
       "    </tr>\n",
       "  </thead>\n",
       "  <tbody>\n",
       "    <tr>\n",
       "      <th>0</th>\n",
       "      <td>0.111120</td>\n",
       "      <td>0.777755</td>\n",
       "      <td>0.111125</td>\n",
       "    </tr>\n",
       "    <tr>\n",
       "      <th>1</th>\n",
       "      <td>0.014079</td>\n",
       "      <td>0.944806</td>\n",
       "      <td>0.041115</td>\n",
       "    </tr>\n",
       "    <tr>\n",
       "      <th>2</th>\n",
       "      <td>0.016364</td>\n",
       "      <td>0.016803</td>\n",
       "      <td>0.966832</td>\n",
       "    </tr>\n",
       "    <tr>\n",
       "      <th>3</th>\n",
       "      <td>0.682048</td>\n",
       "      <td>0.300442</td>\n",
       "      <td>0.017510</td>\n",
       "    </tr>\n",
       "    <tr>\n",
       "      <th>4</th>\n",
       "      <td>0.111120</td>\n",
       "      <td>0.777755</td>\n",
       "      <td>0.111125</td>\n",
       "    </tr>\n",
       "  </tbody>\n",
       "</table>\n",
       "</div>"
      ],
      "text/plain": [
       "   热带风暴：热带低压消息  热带风暴：台风中心消息  热带风暴：台风登陆广东\n",
       "0     0.111120     0.777755     0.111125\n",
       "1     0.014079     0.944806     0.041115\n",
       "2     0.016364     0.016803     0.966832\n",
       "3     0.682048     0.300442     0.017510\n",
       "4     0.111120     0.777755     0.111125"
      ]
     },
     "execution_count": 48,
     "metadata": {},
     "output_type": "execute_result"
    }
   ],
   "source": [
    "doctopic = pd.DataFrame(doctopic_matrix, columns=['热带风暴：热带低压消息', \n",
    "                                                  '热带风暴：台风中心消息', \n",
    "                                                  '热带风暴：台风登陆广东'])\n",
    "#注意此处的主题排序是根据print_top_words(lda, tf_feature_names, n_top_words)的关键词来确定的，而非ldavis呈现的12345，那里只是按照热度排序。\n",
    "doctopic.head()"
   ]
  },
  {
   "cell_type": "code",
   "execution_count": 49,
   "metadata": {},
   "outputs": [
    {
     "data": {
      "text/plain": [
       "(409, 3)"
      ]
     },
     "execution_count": 49,
     "metadata": {},
     "output_type": "execute_result"
    }
   ],
   "source": [
    "doctopic.shape"
   ]
  },
  {
   "cell_type": "code",
   "execution_count": 50,
   "metadata": {},
   "outputs": [
    {
     "data": {
      "text/html": [
       "<div>\n",
       "<style>\n",
       "    .dataframe thead tr:only-child th {\n",
       "        text-align: right;\n",
       "    }\n",
       "\n",
       "    .dataframe thead th {\n",
       "        text-align: left;\n",
       "    }\n",
       "\n",
       "    .dataframe tbody tr th {\n",
       "        vertical-align: top;\n",
       "    }\n",
       "</style>\n",
       "<table border=\"1\" class=\"dataframe\">\n",
       "  <thead>\n",
       "    <tr style=\"text-align: right;\">\n",
       "      <th></th>\n",
       "      <th>热带风暴：热带低压消息</th>\n",
       "      <th>热带风暴：台风中心消息</th>\n",
       "      <th>热带风暴：台风登陆广东</th>\n",
       "      <th>所属分类</th>\n",
       "    </tr>\n",
       "  </thead>\n",
       "  <tbody>\n",
       "    <tr>\n",
       "      <th>0</th>\n",
       "      <td>0.111120</td>\n",
       "      <td>0.777755</td>\n",
       "      <td>0.111125</td>\n",
       "      <td>热带风暴：台风中心消息</td>\n",
       "    </tr>\n",
       "    <tr>\n",
       "      <th>1</th>\n",
       "      <td>0.014079</td>\n",
       "      <td>0.944806</td>\n",
       "      <td>0.041115</td>\n",
       "      <td>热带风暴：台风中心消息</td>\n",
       "    </tr>\n",
       "    <tr>\n",
       "      <th>2</th>\n",
       "      <td>0.016364</td>\n",
       "      <td>0.016803</td>\n",
       "      <td>0.966832</td>\n",
       "      <td>热带风暴：台风登陆广东</td>\n",
       "    </tr>\n",
       "    <tr>\n",
       "      <th>3</th>\n",
       "      <td>0.682048</td>\n",
       "      <td>0.300442</td>\n",
       "      <td>0.017510</td>\n",
       "      <td>热带风暴：热带低压消息</td>\n",
       "    </tr>\n",
       "    <tr>\n",
       "      <th>4</th>\n",
       "      <td>0.111120</td>\n",
       "      <td>0.777755</td>\n",
       "      <td>0.111125</td>\n",
       "      <td>热带风暴：台风中心消息</td>\n",
       "    </tr>\n",
       "  </tbody>\n",
       "</table>\n",
       "</div>"
      ],
      "text/plain": [
       "   热带风暴：热带低压消息  热带风暴：台风中心消息  热带风暴：台风登陆广东         所属分类\n",
       "0     0.111120     0.777755     0.111125  热带风暴：台风中心消息\n",
       "1     0.014079     0.944806     0.041115  热带风暴：台风中心消息\n",
       "2     0.016364     0.016803     0.966832  热带风暴：台风登陆广东\n",
       "3     0.682048     0.300442     0.017510  热带风暴：热带低压消息\n",
       "4     0.111120     0.777755     0.111125  热带风暴：台风中心消息"
      ]
     },
     "execution_count": 50,
     "metadata": {},
     "output_type": "execute_result"
    }
   ],
   "source": [
    "global collist\n",
    "collist = list(doctopic.columns)\n",
    "\n",
    "def appendmax(sr):\n",
    "    one = sr.idxmax()\n",
    "    maxindex = pd.Series(one)\n",
    "    sr = sr.append(maxindex)\n",
    "    return sr\n",
    "\n",
    "dfe = doctopic.apply(lambda x:appendmax(x), axis=1)\n",
    "dfe.columns = collist + ['所属分类']\n",
    "# dfe.to_csv('cluster.csv')\n",
    "dfe.head()"
   ]
  },
  {
   "cell_type": "code",
   "execution_count": 51,
   "metadata": {},
   "outputs": [
    {
     "data": {
      "text/plain": [
       "(409, 4)"
      ]
     },
     "execution_count": 51,
     "metadata": {},
     "output_type": "execute_result"
    }
   ],
   "source": [
    "dfe.shape"
   ]
  },
  {
   "cell_type": "code",
   "execution_count": 52,
   "metadata": {},
   "outputs": [
    {
     "name": "stderr",
     "output_type": "stream",
     "text": [
      "D:\\Anaconda3\\lib\\site-packages\\ipykernel_launcher.py:1: SettingWithCopyWarning: \n",
      "A value is trying to be set on a copy of a slice from a DataFrame\n",
      "\n",
      "See the caveats in the documentation: http://pandas.pydata.org/pandas-docs/stable/indexing.html#indexing-view-versus-copy\n",
      "  \"\"\"Entry point for launching an IPython kernel.\n"
     ]
    },
    {
     "data": {
      "text/plain": [
       "(409, 2)"
      ]
     },
     "execution_count": 52,
     "metadata": {},
     "output_type": "execute_result"
    }
   ],
   "source": [
    "rdfb.drop('所属分类', axis=1, inplace=True)\n",
    "rdfb.shape"
   ]
  },
  {
   "cell_type": "code",
   "execution_count": 53,
   "metadata": {
    "collapsed": true
   },
   "outputs": [],
   "source": [
    "rdfb.to_csv('rdfb.csv', encoding='gb18030')"
   ]
  },
  {
   "cell_type": "code",
   "execution_count": 54,
   "metadata": {},
   "outputs": [
    {
     "data": {
      "text/html": [
       "<div>\n",
       "<style>\n",
       "    .dataframe thead tr:only-child th {\n",
       "        text-align: right;\n",
       "    }\n",
       "\n",
       "    .dataframe thead th {\n",
       "        text-align: left;\n",
       "    }\n",
       "\n",
       "    .dataframe tbody tr th {\n",
       "        vertical-align: top;\n",
       "    }\n",
       "</style>\n",
       "<table border=\"1\" class=\"dataframe\">\n",
       "  <thead>\n",
       "    <tr style=\"text-align: right;\">\n",
       "      <th></th>\n",
       "      <th>id</th>\n",
       "      <th>statdate</th>\n",
       "      <th>text</th>\n",
       "    </tr>\n",
       "  </thead>\n",
       "  <tbody>\n",
       "    <tr>\n",
       "      <th>0</th>\n",
       "      <td>3586</td>\n",
       "      <td>2017/8/22</td>\n",
       "      <td>转发微博</td>\n",
       "    </tr>\n",
       "    <tr>\n",
       "      <th>1</th>\n",
       "      <td>3641</td>\n",
       "      <td>2017/8/23</td>\n",
       "      <td>http://t.cn/h91BSI【台风紧急警报】今天下午16时，今年第13号台风“天鸽”...</td>\n",
       "    </tr>\n",
       "    <tr>\n",
       "      <th>2</th>\n",
       "      <td>3642</td>\n",
       "      <td>2017/8/23</td>\n",
       "      <td>【七天天气预报—“天鸽”上岸，仍有风雨】#天气话你知# #13号台风天鸽# 强台风“天鸽”已...</td>\n",
       "    </tr>\n",
       "    <tr>\n",
       "      <th>3</th>\n",
       "      <td>3643</td>\n",
       "      <td>2017/8/23</td>\n",
       "      <td>http://t.cn/h91BSI【台风蓝色预警信号】今年第13号台风“天鸽”，23日17...</td>\n",
       "    </tr>\n",
       "    <tr>\n",
       "      <th>4</th>\n",
       "      <td>3645</td>\n",
       "      <td>2017/8/23</td>\n",
       "      <td>转发微博</td>\n",
       "    </tr>\n",
       "  </tbody>\n",
       "</table>\n",
       "</div>"
      ],
      "text/plain": [
       "     id   statdate                                               text\n",
       "0  3586  2017/8/22                                               转发微博\n",
       "1  3641  2017/8/23  http://t.cn/h91BSI【台风紧急警报】今天下午16时，今年第13号台风“天鸽”...\n",
       "2  3642  2017/8/23  【七天天气预报—“天鸽”上岸，仍有风雨】#天气话你知# #13号台风天鸽# 强台风“天鸽”已...\n",
       "3  3643  2017/8/23  http://t.cn/h91BSI【台风蓝色预警信号】今年第13号台风“天鸽”，23日17...\n",
       "4  3645  2017/8/23                                               转发微博"
      ]
     },
     "execution_count": 54,
     "metadata": {},
     "output_type": "execute_result"
    }
   ],
   "source": [
    "rdfb = pd.read_csv('rdfb.csv', encoding='gb18030')\n",
    "rdfb.head()"
   ]
  },
  {
   "cell_type": "code",
   "execution_count": 55,
   "metadata": {},
   "outputs": [
    {
     "data": {
      "text/html": [
       "<div>\n",
       "<style>\n",
       "    .dataframe thead tr:only-child th {\n",
       "        text-align: right;\n",
       "    }\n",
       "\n",
       "    .dataframe thead th {\n",
       "        text-align: left;\n",
       "    }\n",
       "\n",
       "    .dataframe tbody tr th {\n",
       "        vertical-align: top;\n",
       "    }\n",
       "</style>\n",
       "<table border=\"1\" class=\"dataframe\">\n",
       "  <thead>\n",
       "    <tr style=\"text-align: right;\">\n",
       "      <th></th>\n",
       "      <th>id</th>\n",
       "      <th>statdate</th>\n",
       "      <th>text</th>\n",
       "      <th>所属分类</th>\n",
       "    </tr>\n",
       "  </thead>\n",
       "  <tbody>\n",
       "    <tr>\n",
       "      <th>0</th>\n",
       "      <td>3586</td>\n",
       "      <td>2017/8/22</td>\n",
       "      <td>转发微博</td>\n",
       "      <td>热带风暴：台风中心消息</td>\n",
       "    </tr>\n",
       "    <tr>\n",
       "      <th>1</th>\n",
       "      <td>3641</td>\n",
       "      <td>2017/8/23</td>\n",
       "      <td>http://t.cn/h91BSI【台风紧急警报】今天下午16时，今年第13号台风“天鸽”...</td>\n",
       "      <td>热带风暴：台风中心消息</td>\n",
       "    </tr>\n",
       "    <tr>\n",
       "      <th>2</th>\n",
       "      <td>3642</td>\n",
       "      <td>2017/8/23</td>\n",
       "      <td>【七天天气预报—“天鸽”上岸，仍有风雨】#天气话你知# #13号台风天鸽# 强台风“天鸽”已...</td>\n",
       "      <td>热带风暴：台风登陆广东</td>\n",
       "    </tr>\n",
       "    <tr>\n",
       "      <th>3</th>\n",
       "      <td>3643</td>\n",
       "      <td>2017/8/23</td>\n",
       "      <td>http://t.cn/h91BSI【台风蓝色预警信号】今年第13号台风“天鸽”，23日17...</td>\n",
       "      <td>热带风暴：热带低压消息</td>\n",
       "    </tr>\n",
       "    <tr>\n",
       "      <th>4</th>\n",
       "      <td>3645</td>\n",
       "      <td>2017/8/23</td>\n",
       "      <td>转发微博</td>\n",
       "      <td>热带风暴：台风中心消息</td>\n",
       "    </tr>\n",
       "  </tbody>\n",
       "</table>\n",
       "</div>"
      ],
      "text/plain": [
       "     id   statdate                                               text  \\\n",
       "0  3586  2017/8/22                                               转发微博   \n",
       "1  3641  2017/8/23  http://t.cn/h91BSI【台风紧急警报】今天下午16时，今年第13号台风“天鸽”...   \n",
       "2  3642  2017/8/23  【七天天气预报—“天鸽”上岸，仍有风雨】#天气话你知# #13号台风天鸽# 强台风“天鸽”已...   \n",
       "3  3643  2017/8/23  http://t.cn/h91BSI【台风蓝色预警信号】今年第13号台风“天鸽”，23日17...   \n",
       "4  3645  2017/8/23                                               转发微博   \n",
       "\n",
       "          所属分类  \n",
       "0  热带风暴：台风中心消息  \n",
       "1  热带风暴：台风中心消息  \n",
       "2  热带风暴：台风登陆广东  \n",
       "3  热带风暴：热带低压消息  \n",
       "4  热带风暴：台风中心消息  "
      ]
     },
     "execution_count": 55,
     "metadata": {},
     "output_type": "execute_result"
    }
   ],
   "source": [
    "frames = [rdfb, dfe['所属分类']]\n",
    "result = pd.concat(frames, axis = 1)\n",
    "result.head()"
   ]
  },
  {
   "cell_type": "code",
   "execution_count": 56,
   "metadata": {
    "collapsed": true
   },
   "outputs": [],
   "source": [
    "result.to_csv('LDA_clustered_rdfb.csv', encoding='gb18030')"
   ]
  },
  {
   "cell_type": "code",
   "execution_count": 57,
   "metadata": {
    "collapsed": true
   },
   "outputs": [],
   "source": [
    "# %%time\n",
    "# n_topics = 10    #此处的10可以自定义\n",
    "# lda = LatentDirichletAllocation(n_topics=n_topics, max_iter=50,\n",
    "#                                 learning_method='online',\n",
    "#                                 learning_offset=50.,\n",
    "#                                 random_state=0)\n",
    "# lda.fit(tf)\n",
    "# print_top_words(lda, tf_feature_names, n_top_words)\n",
    "# pyLDAvis.sklearn.prepare(lda, tf, tf_vectorizer)\n",
    "\n",
    "# %%time\n",
    "# data = pyLDAvis.sklearn.prepare(lda, tf, tf_vectorizer)\n",
    "# pyLDAvis.show(data)"
   ]
  },
  {
   "cell_type": "code",
   "execution_count": null,
   "metadata": {
    "collapsed": true
   },
   "outputs": [],
   "source": []
  },
  {
   "cell_type": "code",
   "execution_count": null,
   "metadata": {
    "collapsed": true
   },
   "outputs": [],
   "source": []
  },
  {
   "cell_type": "code",
   "execution_count": null,
   "metadata": {
    "collapsed": true
   },
   "outputs": [],
   "source": []
  }
 ],
 "metadata": {
  "kernelspec": {
   "display_name": "Python 3",
   "language": "python",
   "name": "python3"
  },
  "language_info": {
   "codemirror_mode": {
    "name": "ipython",
    "version": 3
   },
   "file_extension": ".py",
   "mimetype": "text/x-python",
   "name": "python",
   "nbconvert_exporter": "python",
   "pygments_lexer": "ipython3",
   "version": "3.6.4"
  }
 },
 "nbformat": 4,
 "nbformat_minor": 2
}

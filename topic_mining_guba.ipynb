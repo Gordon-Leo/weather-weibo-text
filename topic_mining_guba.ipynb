{
 "cells": [
  {
   "cell_type": "code",
   "execution_count": 1,
   "metadata": {},
   "outputs": [],
   "source": [
    "# @zhangjoy\n",
    "# @主题挖掘\n",
    "import csv\n",
    "import time\n",
    "import numpy as np\n",
    "import pandas as pd\n",
    "from pandas import Series,DataFrame\n",
    "import tushare as ts\n",
    "import jieba\n",
    "import re\n",
    "from sklearn.feature_extraction.text import CountVectorizer # 词频统计\n",
    "from sklearn.decomposition import LatentDirichletAllocation # LDA\n",
    "from collections import Counter\n",
    "from sklearn.feature_extraction.text import TfidfVectorizer # tf-idf统计\n",
    "from sklearn.cluster import KMeans # k均值聚类"
   ]
  },
  {
   "cell_type": "code",
   "execution_count": 2,
   "metadata": {},
   "outputs": [
    {
     "name": "stdout",
     "output_type": "stream",
     "text": [
      "505\n"
     ]
    }
   ],
   "source": [
    "# 评论文本：comment\n",
    "filepath = \"D:\\\\Program Files\\\\Git\\\\git_work\\\\weibo-text-project\\\\cjpl_20180615_20180620.csv\"   # 评论内容的存储路径\n",
    "with open(filepath, 'r') as f:\n",
    "    reader = csv.reader(f)\n",
    "    comment = [row[7] for row in reader]\n",
    "comment.pop(0) # '评论内容'\n",
    "print(len(comment)) # 6710"
   ]
  },
  {
   "cell_type": "code",
   "execution_count": 3,
   "metadata": {},
   "outputs": [
    {
     "data": {
      "text/plain": [
       "'来源：火山财富 编辑：东方财富网6月15日晚间，方正证券发布了两则公告，一是瑞士信贷对瑞信方正非公开协议单方面增资至控股股东；二是方正证券对全资子公司方正(香港)金融控股有限公司增资约港币6亿元。瑞信方正2017年实现净利润0.26亿元，此次增资后，瑞士信贷将持有瑞信方正51%的股份，正式成为其控股股东。而另一则公告是方正证券对全资子公司方正香港金控增资约港币6亿元，增资后方正香港金控的注册资本为11亿港元，增资金额比原注册资本还多！火山君注意到，这两条公告相映成趣，一条代表国内券商“走出去”，一条则显示了外资金融机构“走进来”。方正证券子公司即将姓瑞士瑞信方正是方正证券和瑞士信贷于2008年10月共同投资设立的外商投资证券公司，自设立至今，方正证券对瑞信方正的持股比例一直是66.70%。瑞信方正2017年实现营业收入2.70亿元，净利润0.26亿元。瑞信方正的经营范围是股票(包括人民币普通股、外资股)和债券(包括政府债券、公司债券)的承销与保荐；证券经纪业务(限前海地区)。从中可以看出，其经营范围相对比较窄。瑞信方正未经审计的2018年一季度财务数据显示，实现营业收入0.40亿元，净利润-0.18亿元。今年4月28日，证监会公布并实施了《外商投资证券公司管理办法》，规定境外股东持有证券公司的股权比例放宽至51%。瑞士信贷马上行动，拟以直接增资的方式将持股比例提高至51%，对瑞信方正实现控股。火山君注意到，在今年4月底证监会规定外商可投资证券公司的比例提高至51%之后，5月已相继有瑞士银行申请对瑞银证券的持股比例增加至51%、野村证券申请设立控股证券公司、摩根大通申请设立拟持股51%的外商投资证券公司。6月瑞士信贷拟通过增资实现对瑞信方正的控股。此外，火山君注意到，瑞士信贷将控股瑞银方正有助于方正证券解决同业竞争的问题。除了瑞信方正外，方正证券还持有民族证券100%的股份，瑞士信贷的增资完成后，方正证券将不再控股瑞信方正，也就解决了瑞信方正与民族证券之间的同业竞争问题。方正证券大幅增资境外子公司今年以来，多家券商在境外业务上都有不小的动作，方正证券也不例外。方正证券公告称，为实现公司国际化战略，推动方正香港金控业务发展，公司决定对方正香港金控进行增值，增资金额约为港币6亿元。本次增资完成后，方正香港金控注册资本从目前的5亿港元增加至约11亿港元。其实，方正证券去年8月才完成对方正香港金控3亿港元的增资，今年又翻倍追加。火山君注意到，方正证券将使用这6亿元港币对境外子公司的业务进行重点开拓，其中包括做大做强经纪和资管等业务、新设公司以业务协同方式开展投行、固守等重点核心业务、打造金融科技平台和开展短融业务等。方正香港金控2017年实现营业收入0.498亿元，净利润为亏损0.16亿元。但净利润为负的状况在2018年一季度有所改善，据未经审计的财务数据显示，方正香港金控2018年一季度实现营收2.49亿元，净利润195.24万元。证券业协会的数据显示，2017年方正证券境外子公司证券业务收入占公司总营收的比例为0.84%，2016年这一数据仅为0.06%。（来源：火山财富 2018-06-18 02:40）[点击查看原文]'"
      ]
     },
     "execution_count": 3,
     "metadata": {},
     "output_type": "execute_result"
    }
   ],
   "source": [
    "comment[101]"
   ]
  },
  {
   "cell_type": "code",
   "execution_count": 4,
   "metadata": {},
   "outputs": [],
   "source": [
    "# comment可视化分析\n",
    "l_lst = [len(c) for c in comment]"
   ]
  },
  {
   "cell_type": "code",
   "execution_count": 5,
   "metadata": {},
   "outputs": [
    {
     "data": {
      "text/plain": [
       "17748"
      ]
     },
     "execution_count": 5,
     "metadata": {},
     "output_type": "execute_result"
    }
   ],
   "source": [
    "max(l_lst)"
   ]
  },
  {
   "cell_type": "code",
   "execution_count": 6,
   "metadata": {},
   "outputs": [
    {
     "data": {
      "text/plain": [
       "48"
      ]
     },
     "execution_count": 6,
     "metadata": {},
     "output_type": "execute_result"
    }
   ],
   "source": [
    "min(l_lst)"
   ]
  },
  {
   "cell_type": "code",
   "execution_count": 7,
   "metadata": {},
   "outputs": [
    {
     "data": {
      "text/plain": [
       "1875.2554455445545"
      ]
     },
     "execution_count": 7,
     "metadata": {},
     "output_type": "execute_result"
    }
   ],
   "source": [
    "sum(l_lst) / len(l_lst)"
   ]
  },
  {
   "cell_type": "code",
   "execution_count": 44,
   "metadata": {
    "collapsed": true
   },
   "outputs": [],
   "source": [
    "t_lst = [466,511,348,195,689,584,451,355,315,128,123,195,202,178,52,50,51,32,48,43,56,303,302,131,67,272,299,263]"
   ]
  },
  {
   "cell_type": "code",
   "execution_count": 45,
   "metadata": {},
   "outputs": [
    {
     "data": {
      "text/plain": [
       "6709"
      ]
     },
     "execution_count": 45,
     "metadata": {},
     "output_type": "execute_result"
    }
   ],
   "source": [
    "sum(t_lst)"
   ]
  },
  {
   "cell_type": "code",
   "execution_count": 5,
   "metadata": {},
   "outputs": [
    {
     "name": "stdout",
     "output_type": "stream",
     "text": [
      "[Getting data:]###########################"
     ]
    }
   ],
   "source": [
    "# 得到所有股票的代码和中文名字\n",
    "stock_name = ts.get_stock_basics()['name'] # 股票名称\n",
    "stock_code = stock_name.index.tolist() # 股票代码\n",
    "# 获得所有的概念列表、行业列表、地域列表、公司名称等\n",
    "concept = ts.get_concept_classified()['c_name'].drop_duplicates().values.tolist() # 概念列表 163\n",
    "industry = ts.get_industry_classified('sw')['c_name'].drop_duplicates().values.tolist() # 申万行业列表 129 > 110\n",
    "place = ts.get_area_classified()['area'].drop_duplicates().values.tolist() # 获取地域列表 32 省份\n",
    "\n",
    "broker = ts.broker_tops()[\"broker\"] # 获取营业部信息：1062\n",
    "pattern = re.compile(u'.*有限.*?公司') # 最小匹配[*?]到'有限 公司'\n",
    "company = [\" \".join(pattern.findall(s)) for s in broker] # list\n",
    "company = pd.Series(company).drop_duplicates().values.tolist() # 证券公司：94"
   ]
  },
  {
   "cell_type": "code",
   "execution_count": 6,
   "metadata": {},
   "outputs": [
    {
     "name": "stderr",
     "output_type": "stream",
     "text": [
      "Building prefix dict from the default dictionary ...\n",
      "Dumping model to file cache /var/folders/xv/52pzd4c57hb49kf41gxp713w0000gn/T/jieba.cache\n",
      "Loading model cost 0.927 seconds.\n",
      "Prefix dict has been built succesfully.\n"
     ]
    }
   ],
   "source": [
    "# 将上述信息作为新词录入词典\n",
    "for d in stock_name:\n",
    "    jieba.add_word(d)\n",
    "for d in stock_code:\n",
    "    jieba.add_word(d)\n",
    "for d in concept:\n",
    "    jieba.add_word(d)\n",
    "for d in industry:\n",
    "    jieba.add_word(d)\n",
    "for d in place:\n",
    "    jieba.add_word(d)    \n",
    "for d in company:\n",
    "    jieba.add_word(d)"
   ]
  },
  {
   "cell_type": "code",
   "execution_count": 8,
   "metadata": {},
   "outputs": [
    {
     "name": "stderr",
     "output_type": "stream",
     "text": [
      "Building prefix dict from the default dictionary ...\n",
      "Loading model from cache C:\\Users\\wu\\AppData\\Local\\Temp\\jieba.cache\n",
      "Loading model cost 0.891 seconds.\n",
      "Prefix dict has been built succesfully.\n"
     ]
    }
   ],
   "source": [
    "# 启用自定义词典\n",
    "jieba.load_userdict(\"D:\\\\Program Files\\\\Git\\\\git_work\\\\weibo-text-project\\\\userdict.txt\")"
   ]
  },
  {
   "cell_type": "code",
   "execution_count": 9,
   "metadata": {},
   "outputs": [],
   "source": [
    "# 停用词列表\n",
    "stop =[line.strip() for line in open('D:\\\\Program Files\\\\Git\\\\git_work\\\\weibo-text-project\\\\mystopwords.txt', encoding='utf-8').readlines()]"
   ]
  },
  {
   "cell_type": "code",
   "execution_count": 10,
   "metadata": {},
   "outputs": [],
   "source": [
    "# 匹配中文\n",
    "pattern = re.compile(u'[\\u4e00-\\u9fa5]{2,20}')"
   ]
  },
  {
   "cell_type": "code",
   "execution_count": 11,
   "metadata": {},
   "outputs": [
    {
     "name": "stdout",
     "output_type": "stream",
     "text": [
      "preprocessing time using 29.01424 s\n"
     ]
    }
   ],
   "source": [
    "text = [] # 清洗后文本\n",
    "t1 = time.time()\n",
    "for sentence in comment:\n",
    "    chinese = pattern.findall(sentence) # 匹配中文：先分句\n",
    "    seg = [jieba.cut(c) for c in chinese] # 双重列表：句上分词\n",
    "    c = []\n",
    "    for ss in seg:\n",
    "        for s in ss:\n",
    "            if s not in stop: # 过滤停用词\n",
    "                c.append(s)\n",
    "    text.append(\" \".join(c))\n",
    "t2 = time.time()\n",
    "print(\"preprocessing time using %.5f s\" %(t2-t1)) # 预处理时间 111.45185 s"
   ]
  },
  {
   "cell_type": "code",
   "execution_count": 12,
   "metadata": {},
   "outputs": [
    {
     "data": {
      "text/plain": [
       "'火山 财富 晚间 方正证券 两则 公告 瑞士 信贷 对瑞信 方正 非 公开 协议 单方面 增 资至 控股股东 方正证券 全资 子公司 方正 香港 金融 控股有限公司 增资 约 港币 瑞信 方正 净利润 增资 瑞士 信贷 将持 有瑞信 方正 股份 正式成为 控股股东 另一则 公告 方正证券 全资 子公司 方正 香 港金控 增资 约 港币 增资 后方 正 香港 金控 注册资本 亿港元 增 资金额 比原 注册资本 火山 君 两条 公告 相映成趣 一条 代表 国内券商 走 一条 外资金融机构 走进 方正证券 子公司 姓 瑞士 瑞信方 方正 证 券 瑞士 信贷 共同 投资 设立 外商投资 证券公司 设立 方正证券 对瑞信 方正 持股比例 瑞信 方正 营业 收入 净利润 瑞信 方正 经营范围 股票 人民币 普通股 外资股 债券 政府债券 公司债券 承销 保荐 证券 经纪业务 限 前海 地区 经营范围 相对 较窄 瑞信 方正 未经 审计 财务数据 营业 收入 净利润 证监会 公布 外商投资 证券公司 管理办法 规定 境外 股东 持 证券公司 股权 比例 放宽 瑞士 信贷 行动 拟以 直接 增资 方式 持股比例 提高 对瑞信 方正 控股 火山 君 月底 证监会 规定 外商 投资 证券公司 比例 提 高至 相继 瑞士银行 申请 瑞银 证券 持股 例 增加 野村 证券 申请 设立 控股 证券公司 摩根大通 申请 设立 拟 持股 外商投资 证券公司 瑞士 信贷 拟 增资 对瑞信 方正 控股 火山 君 瑞士 信贷 控股 瑞银 方正 有助于 方正证券 解决 同业竞争 瑞信 方正 外 方正证券 还持 民族证券 股份 瑞士 信贷 增资 完成 方正证券 控股 瑞信 方正 解决 瑞信 方正 民族证券 同业 竞 争 方正证券 大幅 增资 境外 子公司 券商 境外 业务 不小 动作 方正证券 例外 方正证券 公告称 国际化 战略 方正 香港 金控 业务发展 正 香港 金控 增值 增 资金额 约 港币 增资 完成 方正 香港 金控 注册资本 亿港元 增加 至约 亿港元 方正证券 完成 正 香港 金控 亿港元 增资 翻倍 追加 火山 君 方正证券 使用 港币 境外 子公司 业务 重点 开拓 做 做 强 经纪 资管 业务 新 设 业务 协同 方式 开展 投行 固守 重点 核心 业务 打造 金融 科技 平台 开展 短融 业务 方正 香港 金控 营业 收入 净利润 亏损 净利润 负 状况 有所改善 未经 审计 财务数据 方正 香港 金控 营收 净利润 证券业协会 方正证券 境外 子公司 证券 业务收入 占 总 营收 比例 数据 仅为 火山 财富'"
      ]
     },
     "execution_count": 12,
     "metadata": {},
     "output_type": "execute_result"
    }
   ],
   "source": [
    "text[101]"
   ]
  },
  {
   "cell_type": "code",
   "execution_count": 13,
   "metadata": {},
   "outputs": [
    {
     "name": "stdout",
     "output_type": "stream",
     "text": [
      "火山 财富 晚间 方正证券 两则 公告 瑞士 信贷 对瑞信 方正 非 公开 协议 单方面 增 资至 控股股东 方正证券 全资 子公司 方正 香港 金融 控股有限公司 增资 约 港币 瑞信 方正 净利润 增资 瑞士 信贷 将持 有瑞信 方正 股份 正式成为 控股股东 另一则 公告 方正证券 全资 子公司 方正 香 港金控 增资 约 港币 增资 后方 正 香港 金控 注册资本 亿港元 增 资金额 比原 注册资本 火山 君 两条 公告 相映成趣 一条 代表 国内券商 走 一条 外资金融机构 走进 方正证券 子公司 姓 瑞士 瑞信方 方正 证 券 瑞士 信贷 共同 投资 设立 外商投资 证券公司 设立 方正证券 对瑞信 方正 持股比例 瑞信 方正 营业 收入 净利润 瑞信 方正 经营范围 股票 人民币 普通股 外资股 债券 政府债券 公司债券 承销 保荐 证券 经纪业务 限 前海 地区 经营范围 相对 较窄 瑞信 方正 未经 审计 财务数据 营业 收入 净利润 证监会 公布 外商投资 证券公司 管理办法 规定 境外 股东 持 证券公司 股权 比例 放宽 瑞士 信贷 行动 拟以 直接 增资 方式 持股比例 提高 对瑞信 方正 控股 火山 君 月底 证监会 规定 外商 投资 证券公司 比例 提 高至 相继 瑞士银行 申请 瑞银 证券 持股 例 增加 野村 证券 申请 设立 控股 证券公司 摩根大通 申请 设立 拟 持股 外商投资 证券公司 瑞士 信贷 拟 增资 对瑞信 方正 控股 火山 君 瑞士 信贷 控股 瑞银 方正 有助于 方正证券 解决 同业竞争 瑞信 方正 外 方正证券 还持 民族证券 股份 瑞士 信贷 增资 完成 方正证券 控股 瑞信 方正 解决 瑞信 方正 民族证券 同业 竞 争 方正证券 大幅 增资 境外 子公司 券商 境外 业务 不小 动作 方正证券 例外 方正证券 公告称 国际化 战略 方正 香港 金控 业务发展 正 香港 金控 增值 增 资金额 约 港币 增资 完成 方正 香港 金控 注册资本 亿港元 增加 至约 亿港元 方正证券 完成 正 香港 金控 亿港元 增资 翻倍 追加 火山 君 方正证券 使用 港币 境外 子公司 业务 重点 开拓 做 做 强 经纪 资管 业务 新 设 业务 协同 方式 开展 投行 固守 重点 核心 业务 打造 金融 科技 平台 开展 短融 业务 方正 香港 金控 营业 收入 净利润 亏损 净利润 负 状况 有所改善 未经 审计 财务数据 方正 香港 金控 营收 净利润 证券业协会 方正证券 境外 子公司 证券 业务收入 占 总 营收 比例 数据 仅为 火山 财富\n"
     ]
    }
   ],
   "source": [
    "# 使第6708条评论完美分词\n",
    "jieba.load_userdict(\"D:\\\\Program Files\\\\Git\\\\git_work\\\\weibo-text-project\\\\userdict.txt\")\n",
    "stop =[line.strip() for line in open('D:\\\\Program Files\\\\Git\\\\git_work\\\\weibo-text-project\\\\mystopwords.txt', encoding='utf-8').readlines()]\n",
    "text_101 = \"\" # 清洗后文本\n",
    "comment_101 = comment[101]\n",
    "chinese = pattern.findall(comment_101) # 匹配中文：先分句\n",
    "seg = [jieba.cut(c) for c in chinese] # 双重列表：句上分词\n",
    "c = []\n",
    "for ss in seg:\n",
    "    for s in ss:\n",
    "        if s not in stop: # 过滤停用词\n",
    "            c.append(s)\n",
    "text_101 = \" \".join(c)\n",
    "print(text_101)"
   ]
  },
  {
   "cell_type": "code",
   "execution_count": 14,
   "metadata": {},
   "outputs": [],
   "source": [
    "corpus = text # 清洗后文本作为语料"
   ]
  },
  {
   "cell_type": "code",
   "execution_count": 15,
   "metadata": {},
   "outputs": [],
   "source": [
    "# LDA\n",
    "# 特征处理: 词频做文档特征\n",
    "# 构建 Document-word matrix\n",
    "count_vectorizer = CountVectorizer(stop_words=stop) # 停用词, 特征选择：min_df = 6\n",
    "count = count_vectorizer.fit_transform(corpus) # 文档-词频矩阵：<class 'scipy.sparse.csr.csr_matrix'>\n",
    "word_names = count_vectorizer.get_feature_names() # wordlist 长度：84888"
   ]
  },
  {
   "cell_type": "code",
   "execution_count": 16,
   "metadata": {},
   "outputs": [
    {
     "name": "stdout",
     "output_type": "stream",
     "text": [
      "(505, 314)\n"
     ]
    }
   ],
   "source": [
    "countpie_vectorizer = CountVectorizer(min_df=50,stop_words=stop) # 过滤词出现的文档数 < 50 的词 ：特征提取\n",
    "countpie = countpie_vectorizer.fit_transform(corpus) # 文档-词频矩阵：<class 'scipy.sparse.csr.csr_matrix'>\n",
    "print(countpie.shape)"
   ]
  },
  {
   "cell_type": "code",
   "execution_count": 17,
   "metadata": {},
   "outputs": [],
   "source": [
    "c_lst = [count.sum(axis=0)[0,i] for i in range(len(word_names))] # 每个词的词频列表 耗时：5m"
   ]
  },
  {
   "cell_type": "code",
   "execution_count": 18,
   "metadata": {},
   "outputs": [],
   "source": [
    "less_6 = sum([Counter(c_lst)[i] for i in range(6)]) # 词频 < 6 的个数"
   ]
  },
  {
   "cell_type": "code",
   "execution_count": 19,
   "metadata": {},
   "outputs": [],
   "source": [
    "# 特征选择：基于文档频率，返回文档频率排名前 K 的词语\n",
    "def word_count_select(df,K):\n",
    "    df_mean = df.mean() # 求每列的均值/和等\n",
    "    # 基于 文档频率排序 选择特征，一定返回K个词语\n",
    "    WordTF_series = df_mean.sort_values(ascending=False) # 降序排序\n",
    "    WordTF_topK = WordTF_series[:K] # 选择前 K 的特征\n",
    "    word_feature = WordTF_topK.index # word_name [pandas.core.indexes.base.Index]\n",
    "    feature_list = list(WordTF_topK.index) # list(word_name)\n",
    "    return word_feature,feature_list\n",
    "# 词频小于 6 的个数统计\n",
    "def count_less_n(lst,N):\n",
    "    lessN = sum([Counter(lst)[i] for i in range(N)]) # 词频 < N 的个数\n",
    "    return lessN"
   ]
  },
  {
   "cell_type": "code",
   "execution_count": 20,
   "metadata": {},
   "outputs": [],
   "source": [
    "# 把文档-词语矩阵转为数据框格式\n",
    "count_ndarray = count.toarray()\n",
    "count_df = DataFrame(count_ndarray, columns=word_names)\n",
    "k = len(word_names) - count_less_n(c_lst,6) # 词频 > 6 的个数\n",
    "\n",
    "wordstay_names,wordstay_names_list = word_count_select(count_df,k)\n",
    "count_df2 = count_df[wordstay_names]\n",
    "countstay = count_df2.as_matrix(columns=wordstay_names_list) # matrix"
   ]
  },
  {
   "cell_type": "code",
   "execution_count": 21,
   "metadata": {},
   "outputs": [],
   "source": [
    "# count # 6709x84884 sparse matrix numpy.int64\n",
    "# 去掉低频词：在主题模型中，数据预处理需要去掉低频词，大多数阈值设定为5或6,此处设定为6\n",
    "# matrix是numpy中的特殊类型，作为array的子类出现，所以继承了array的所有特性并且有自己的特殊的地方，专门用来处理线性代数操作"
   ]
  },
  {
   "cell_type": "code",
   "execution_count": 22,
   "metadata": {},
   "outputs": [],
   "source": [
    "# 词频数分布情况\n",
    "f = open('D:\\\\Program Files\\\\Git\\\\git_work\\\\weibo-text-project\\\\count_1.txt','w')\n",
    "f.write(str([Counter(c_lst).most_common(100)[i][0] for i in range(100)]))\n",
    "f.close()\n",
    "f = open('D:\\\\Program Files\\\\Git\\\\git_work\\\\weibo-text-project\\\\count_2.txt','w')\n",
    "f.write(str([Counter(c_lst).most_common(100)[i][1] for i in range(100)]))\n",
    "f.close()"
   ]
  },
  {
   "cell_type": "code",
   "execution_count": null,
   "metadata": {
    "collapsed": true
   },
   "outputs": [],
   "source": []
  },
  {
   "cell_type": "code",
   "execution_count": null,
   "metadata": {
    "collapsed": true
   },
   "outputs": [],
   "source": []
  },
  {
   "cell_type": "code",
   "execution_count": 23,
   "metadata": {},
   "outputs": [
    {
     "data": {
      "text/plain": [
       "LatentDirichletAllocation(batch_size=128, doc_topic_prior=None,\n",
       "             evaluate_every=-1, learning_decay=0.7,\n",
       "             learning_method='batch', learning_offset=10.0,\n",
       "             max_doc_update_iter=100, max_iter=50, mean_change_tol=0.001,\n",
       "             n_components=50, n_jobs=1, n_topics=None, perp_tol=0.1,\n",
       "             random_state=None, topic_word_prior=None,\n",
       "             total_samples=1000000.0, verbose=0)"
      ]
     },
     "execution_count": 23,
     "metadata": {},
     "output_type": "execute_result"
    }
   ],
   "source": [
    "# 主题挖掘建模：LDA算法\n",
    "# 训练模型\n",
    "k = 50 # 选择主题数\n",
    "lda_50 = LatentDirichletAllocation(n_components=k, max_iter=50, learning_method='batch')\n",
    "lda_50.fit(countstay)\n",
    "# 6709文档，单词数：25434，分50个主题 耗时：< 10m"
   ]
  },
  {
   "cell_type": "code",
   "execution_count": 24,
   "metadata": {},
   "outputs": [
    {
     "data": {
      "text/plain": [
       "LatentDirichletAllocation(batch_size=128, doc_topic_prior=None,\n",
       "             evaluate_every=-1, learning_decay=0.7,\n",
       "             learning_method='batch', learning_offset=10.0,\n",
       "             max_doc_update_iter=100, max_iter=50, mean_change_tol=0.001,\n",
       "             n_components=30, n_jobs=1, n_topics=None, perp_tol=0.1,\n",
       "             random_state=None, topic_word_prior=None,\n",
       "             total_samples=1000000.0, verbose=0)"
      ]
     },
     "execution_count": 24,
     "metadata": {},
     "output_type": "execute_result"
    }
   ],
   "source": [
    "# 训练模型\n",
    "k = 30 # 选择主题数\n",
    "lda_30 = LatentDirichletAllocation(n_components=k, max_iter=50, learning_method='batch')\n",
    "lda_30.fit(countstay)\n",
    "# 6709文档，单词数：25434，分30个主题 耗时：12:54-13:01 7m"
   ]
  },
  {
   "cell_type": "code",
   "execution_count": 25,
   "metadata": {},
   "outputs": [
    {
     "data": {
      "text/plain": [
       "LatentDirichletAllocation(batch_size=128, doc_topic_prior=None,\n",
       "             evaluate_every=-1, learning_decay=0.7,\n",
       "             learning_method='batch', learning_offset=10.0,\n",
       "             max_doc_update_iter=100, max_iter=50, mean_change_tol=0.001,\n",
       "             n_components=10, n_jobs=1, n_topics=None, perp_tol=0.1,\n",
       "             random_state=None, topic_word_prior=None,\n",
       "             total_samples=1000000.0, verbose=0)"
      ]
     },
     "execution_count": 25,
     "metadata": {},
     "output_type": "execute_result"
    }
   ],
   "source": [
    "# 训练模型\n",
    "k = 10 # 选择主题数\n",
    "lda_10 = LatentDirichletAllocation(n_components=k, max_iter=50, learning_method='batch')\n",
    "lda_10.fit(countstay)\n",
    "# 6709文档，单词数：25434，分10个主题 耗时：13:02-13:08 6m"
   ]
  },
  {
   "cell_type": "code",
   "execution_count": 26,
   "metadata": {},
   "outputs": [],
   "source": [
    "# 结果展示\n",
    "# Topic Words 结果\n",
    "# topicword_matrix = lda.components_ # numpy.ndarray\n",
    "# print(topicword_matrix[0,1]) # topicword_matrix[i,j]: word j was assigned to topic i\n",
    "# print(topicword_matrix.shape)\n",
    "# topicword_matrix / topicword_matrix.sum(axis=1)[:, np.newaxis] # normalization\n",
    "\n",
    "# Topic（Top）Words结果\n",
    "def print_top_words(model, feature_names, n_top_words):\n",
    "    print(\"# 打印每个主题下权重较高的词\")\n",
    "    topicword_matrix = model.components_ # Topic Words 分布结果 numpy.ndarray\n",
    "    for topic_idx, topic in enumerate(topicword_matrix):\n",
    "        print(\"Topic # %d: \" % topic_idx)\n",
    "        print(''.join([feature_names[i] + ' ' + str(round(topic[i], 2)) + '| ' for i in topic.argsort()[:-n_top_words - 1:-1]]))\n",
    "        # print(\" \".join([feature_names[i] for i in topic.argsort()[:-n_top_words - 1:-1]]))\n",
    "\n",
    "def print_top_words_name(model, feature_names, n_top_words):\n",
    "    print(\"# 打印每个主题下权重较高的词\")\n",
    "    topicword_matrix = model.components_\n",
    "    for topic_idx, topic in enumerate(topicword_matrix):\n",
    "#         print(\"Topic # %d:\" % topic_idx)\n",
    "        print(\"Topic %d:\" % topic_idx, \" \".join([feature_names[i] for i in topic.argsort()[:-n_top_words - 1:-1]]))"
   ]
  },
  {
   "cell_type": "code",
   "execution_count": 27,
   "metadata": {},
   "outputs": [],
   "source": [
    "# Doc Topics 结果\n",
    "# 通过fit_transform函数,可以得到文档主题分布,Doc_Topic distribution matrix\n",
    "# doctopic_matrix = lda.fit_transform(dw_countvector) # numpy.ndarray\n",
    "# print(doctopic_matrix)\n",
    "# print(doctopic_matrix.shape)\n",
    "\n",
    "# Doc（Top）Topic结果\n",
    "def print_top_topics(model, feature_names, n_top_topics):\n",
    "#     fo = open(\"/Users/zhangjoy/Documents/vscode/py_project/lda/data/doc_top_topics.txt\", \"rw+\")\n",
    "    print(\"# 打印每个文档下权重较高的主题\")\n",
    "    doctopic_matrix = model.fit_transform(countstay)\n",
    "    for doc_idx, doc in enumerate(doctopic_matrix):\n",
    "        print(\"Doc # %d:\" % doc_idx)\n",
    "        print(''.join([str(feature_names[i]) + ' ' + str(round(doc[i], 2)) + '| ' for i in doc.argsort()[:-n_top_topics - 1:-1]]))"
   ]
  },
  {
   "cell_type": "code",
   "execution_count": 28,
   "metadata": {},
   "outputs": [
    {
     "name": "stdout",
     "output_type": "stream",
     "text": [
      "# 打印每个主题下权重较高的词\n",
      "Topic 0: 西安 供应 住房 外商投资 部门 投资 经济 美国 国家 开发区\n",
      "Topic 1: 登记 不动产 账户 查询 证券 平台 统一 中国 房价 房地产\n",
      "Topic 2: 银行 分红 记者 数据 方案 年度 贷款 上浮 现金 同比\n",
      "Topic 3: 行业 板块 增长 持续 消费 预计 提升 业绩 预期 龙头\n",
      "Topic 4: 独角兽 股市 股票 投资者 概念 新经济 指数 投资 涨停 资金\n",
      "Topic 5: 券商 苹果 中国 业务 记者 证券 财富 端午节 业绩 净利润\n",
      "Topic 6: 好未来 报告 浑水 富士康 做空 股价 业务 交易 澳洋科技 中国\n",
      "Topic 7: 基金 战略 独角兽 配售 国家队 产品 补贴 注射剂 销量 基金公司\n",
      "Topic 8: 唐小僧 员工持股计划 项目 投资 商行 投资者 资邦 平台 员工 宋城演艺\n",
      "Topic 9: 创新 存托 凭证 试点 投资者 红筹 投票权 上市 境内 证监会\n",
      "Topic 10: 资金 外资 美国 投资 预期 指数 美股 估值 限制 调整\n",
      "Topic 11: 增速 安信信托 下滑 投资 购买 数据 工业 开户 回升 回落\n",
      "Topic 12: 管网 天然气 油气 石油 国家 开放 管道 第三方 资产 发改委\n",
      "Topic 13: 技术 产业 应急 发展 中国 产品 服务 领域 创新 平台\n",
      "Topic 14: 存托 凭证 战略 业务 中国 中心 结算 舆情 研究 投资者\n",
      "Topic 15: 上市公司 公司治理 准则 改革 发展 资本市场 证监会 治理 制度 机构\n",
      "Topic 16: 银隆 珠海 上市公司 记者 颜静刚 格力 上海 格力电器 收购 投资\n",
      "Topic 17: 斯巴鲁 苏宁 中国 激光 零售 销售 电商 品牌 增长 用户\n",
      "Topic 18: 审核 业务 收入 记者 湖南 发审委 申报 支付 保荐 机构\n",
      "Topic 19: 多点 数码 物美 东蓝 飞利信 世界杯 数字化 梅安森 业绩 预测\n",
      "Topic 20: 新能源 汽车 北汽 结构 国家 中国 投资 建设 人民币 融资\n",
      "Topic 21: 河北省 落实 百分百 六个 组织 排放 建筑工地 北京市 工业 粉尘\n",
      "Topic 22: 存款 商行 银行 资金 贴息 支行 存单 储户 吸收 伪造\n",
      "Topic 23: 增长 增速 发展 中国 消费 工业 数据 同比 中国经济 经济\n",
      "Topic 24: 半导体 日本 技术 电池 芯片 电子 集成电路 全球 多氟多 发展\n",
      "Topic 25: 国企 国企改革 足球 改革 案件 信息 办案 传播 融资 虚假\n",
      "Topic 26: 估值 预期 杠杆 风险 下降 底部 历史 乐观 重估 一致\n",
      "Topic 27: 质押 股权 股东 平仓 股票 控股股东 比例 股份 市值 持股\n",
      "Topic 28: 煤炭 能源 项目 茅台 电力 发展 乙醇 国家 股价 产能\n",
      "Topic 29: 小米 金融 京东 关税 美国 发行 中国 反馈 美方 证监会\n",
      "Topic 30: 城市 环比 销售 房价 调控 同比 上涨 土地 房地产 面积\n",
      "Topic 31: 独立 通信 网络 组网 商用 中国 产业 移动 运营商 河西\n",
      "Topic 32: 央行 增长 货币政策 同比 经济 国内 实体经济 融资 金融 违约\n",
      "Topic 33: 中粮 估值 行业 资本 策略 组合 成长 收入 采购 上市\n",
      "Topic 34: 评级 行业 券商 看好 给予 买入 机构 板块 同比 增长\n",
      "Topic 35: 打印 充电桩 充电 英国 快速 大楼 中国 业务 天天基金 意见\n",
      "Topic 36: 营业部 买入 调查 商务部 低价股 证券 利率 龙虎榜 复审 基准利率\n",
      "Topic 37: 美元 加息 美国 黄金 美联储 欧洲 利率 前值 期货 指数\n",
      "Topic 38: 资金 估值 板块 白酒 银行 医药 机构 投资 业绩 股价\n",
      "Topic 39: 震荡 反弹 板块 新低 指数 沪指 下跌 煤炭 行情 大盘\n",
      "Topic 40: 小龙虾 融资 中国 价格 芯片 余额 厂商 体育 产业 资本\n",
      "Topic 41: 基金 投资 分级 股市 机会 整体 估值 基本面 下半年 投资者\n",
      "Topic 42: 调研 机构 上市公司 同比 投资者 接待 增长 销售 次数 净利润\n",
      "Topic 43: 经济 加息 美联储 货币 中国 美国 利率 央行 增速 未来\n",
      "Topic 44: 净流入 主力资金 增持 山东 上市公司 数据 净流出 金额 业绩 行业\n",
      "Topic 45: 公告 基金 项目 股份 控股股东 投资 方正 股权 总股本 增持\n",
      "Topic 46: 券商 生产 食品安全 食品 规范 检查 体系 交易 总局 许可\n",
      "Topic 47: 摇号 项目 房源 记者 楼盘 成都 购房者 中签率 南京 买房\n",
      "Topic 48: 基金 手机 交易 魅族 股票 账户 凡得 出货量 数据 国内\n",
      "Topic 49: 世界杯 中国 赞助商 俄罗斯 赞助 全球 球迷 魔咒 国际足联 体育\n"
     ]
    }
   ],
   "source": [
    "print_top_words_name(lda_50, wordstay_names_list, 10)"
   ]
  },
  {
   "cell_type": "code",
   "execution_count": 29,
   "metadata": {},
   "outputs": [
    {
     "name": "stdout",
     "output_type": "stream",
     "text": [
      "# 打印每个主题下权重较高的词\n",
      "Topic 0: 净流入 主力资金 营业部 买入 净流出 交易日 集体 金额 数据 行业\n",
      "Topic 1: 信息 交易 虚假 案件 行为 办案 违法行为 调查 涉嫌 传播\n",
      "Topic 2: 增长 行业 同比 调研 预计 持续 机构 需求 提升 业绩\n",
      "Topic 3: 银隆 珠海 格力 格力电器 记者 员工 苹果 长园集团 汽车 丰田\n",
      "Topic 4: 加息 美国 美联储 美元 央行 利率 预期 经济 指数 土地\n",
      "Topic 5: 小米 金融 京东 业务 互联网 证监会 发行 生态 估值 服务\n",
      "Topic 6: 增速 上市公司 准则 公司治理 治理 销售 修订 数码 投资 下滑\n",
      "Topic 7: 账户 证券 指数 新经济 管理 股票 措施 中国 结算 限制\n",
      "Topic 8: 零售 电商 京东 苏宁 多点 管网 平台 用户 消费者 小龙虾\n",
      "Topic 9: 存托 凭证 创新 投资者 试点 红筹 投票权 股票 境外 规定\n",
      "Topic 10: 公告 项目 股份 投资 股权 上市公司 记者 控股股东 资产 万股\n",
      "Topic 11: 网络 通信 独立 组网 商用 行业 运营商 充电桩 移动 建设\n",
      "Topic 12: 美国 关税 中国 美方 进口 加征 商品 中方 贸易 措施\n",
      "Topic 13: 新能源 汽车 技术 产品 日本 北汽 半导体 领域 中国 制造\n",
      "Topic 14: 中国 经济 股市 资金 货币 国内 发展 融资 央行 增长\n",
      "Topic 15: 质押 比例 股票 平仓 股东 资金 股权 控股股东 增持 股份\n",
      "Topic 16: 估值 预期 投资 消费 下半年 底部 股市 风险 历史 机会\n",
      "Topic 17: 山东 商行 上市公司 发展 产业 建设 项目 经济 煤炭 江苏\n",
      "Topic 18: 应急 生产 食品安全 食品 产业 中国 装备 重工 规范 检查\n",
      "Topic 19: 足球 融资 上市 发展 定价 患者 创业 中国 药明康德 国内\n",
      "Topic 20: 基金 银行 分红 战略 中粮 配售 独角兽 资本 国家队 规模\n",
      "Topic 21: 下跌 板块 指数 投资者 股价 震荡 新低 好未来 跌幅 沪指\n",
      "Topic 22: 机构 估值 板块 行业 资金 策略 股票 评级 上市公司 买入\n",
      "Topic 23: 国企 国企改革 打印 改革 唐小僧 投资者 补贴 业务 平台 销售\n",
      "Topic 24: 券商 城市 同比 增长 行业 下降 环比 上涨 房价 业务\n",
      "Topic 25: 摇号 河北省 落实 楼盘 房源 成都 购房者 百分百 六个 组织\n",
      "Topic 26: 独角兽 购买 投资者 投资 开户 基金 混合 定价 回归 成交\n",
      "Topic 27: 登记 不动产 证监会 审核 试点 创新 投资者 定价 查询 机构投资者\n",
      "Topic 28: 存款 基金 分级 银行 采购 贴息 商行 进口 固体废物 督察\n",
      "Topic 29: 世界杯 中国 俄罗斯 赞助商 斯巴鲁 全球 品牌 赞助 体育 魔咒\n"
     ]
    }
   ],
   "source": [
    "print_top_words_name(lda_30, wordstay_names_list, 10)"
   ]
  },
  {
   "cell_type": "code",
   "execution_count": 30,
   "metadata": {},
   "outputs": [
    {
     "name": "stdout",
     "output_type": "stream",
     "text": [
      "# 打印每个主题下权重较高的词\n",
      "Topic 0: 世界杯 美国 中国 全球 美元 经济 足球 俄罗斯 赞助商 日本\n",
      "Topic 1: 质押 加息 资金 央行 美联储 股票 平仓 比例 利率 风险\n",
      "Topic 2: 行业 增长 增速 同比 券商 投资 板块 消费 持续 调研\n",
      "Topic 3: 上市公司 银行 股权 记者 股份 股东 分红 净利润 资金 商行\n",
      "Topic 4: 城市 项目 公告 摇号 销售 房价 土地 价格 记者 调控\n",
      "Topic 5: 小米 基金 证监会 发行 登记 不动产 投资者 试点 创新 审核\n",
      "Topic 6: 改革 上市公司 落实 河北省 发展 国企 投资 国企改革 工业 国家\n",
      "Topic 7: 估值 股市 独角兽 股票 指数 买入 投资者 股价 净流入 投资\n",
      "Topic 8: 存托 凭证 创新 投资者 红筹 投票权 规定 试点 交易 境外\n",
      "Topic 9: 中国 技术 新能源 汽车 京东 金融 发展 产品 业务 产业\n"
     ]
    }
   ],
   "source": [
    "print_top_words_name(lda_10, wordstay_names_list, 10)"
   ]
  },
  {
   "cell_type": "code",
   "execution_count": 31,
   "metadata": {},
   "outputs": [
    {
     "data": {
      "text/plain": [
       "LatentDirichletAllocation(batch_size=128, doc_topic_prior=None,\n",
       "             evaluate_every=-1, learning_decay=0.7,\n",
       "             learning_method='batch', learning_offset=10.0,\n",
       "             max_doc_update_iter=100, max_iter=50, mean_change_tol=0.001,\n",
       "             n_components=20, n_jobs=1, n_topics=None, perp_tol=0.1,\n",
       "             random_state=None, topic_word_prior=None,\n",
       "             total_samples=1000000.0, verbose=0)"
      ]
     },
     "execution_count": 31,
     "metadata": {},
     "output_type": "execute_result"
    }
   ],
   "source": [
    "# 训练模型\n",
    "k = 20 # 选择主题数\n",
    "lda_20 = LatentDirichletAllocation(n_components=k, max_iter=50, learning_method='batch')\n",
    "lda_20.fit(countstay)\n",
    "# 6709文档，单词数：25434，分20个主题 耗时：17:28-17:35 7m"
   ]
  },
  {
   "cell_type": "code",
   "execution_count": 32,
   "metadata": {},
   "outputs": [
    {
     "name": "stdout",
     "output_type": "stream",
     "text": [
      "# 打印每个主题下权重较高的词\n",
      "Topic 0: 增速 技术 半导体 激光 好未来 产业 教育 项目 手机 投资 中国 打印 领域 国内 做空 业务 同比 芯片 浑水 报告 华谊兄弟 增长 全球 产品 工业 落户 发展 电子 制造 未来\n",
      "Topic 1: 质押 不动产 登记 股权 上市公司 股份 平仓 控股股东 比例 股东 记者 股价 持股 股票 查询 风险 颜静刚 上海 总股本 研究 市值 亿股 信息 交易 资金 中药 资产 统一 战略 中心\n",
      "Topic 2: 基金 公告 项目 股份 投资 万股 收入 股权 子公司 控股股东 方正 总股本 增持 募集 增资 净利润 减持 产品 业绩 重大 员工持股计划 投资者 股票 计划 战略 认购 方正证券 数码 业务 完成\n",
      "Topic 3: 金融 京东 服务 业务 平台 合作 科技 银行 领域 支付 消费 产品 金融机构 提供 特斯拉 估值 数据 用户 上线 收入 大数据 蚂蚁金服 牌照 供应链 国内 未来 财富 模式 优势 金融服务\n",
      "Topic 4: 应急 摇号 记者 项目 房源 楼盘 分级 中粮 成都 购房者 南京 中签率 产业 西安 装备 中国 重工 二手房 平方米 资本 开盘 购房 河西 客户 楼市 套房 销售 均价 价格 区域\n",
      "Topic 5: 估值 板块 投资 股市 资金 预期 消费 行业 投资者 策略 下半年 下跌 机会 股票 风险 整体 因素 底部 杠杆 周期 行情 历史 短期 基本面 持续 业绩 指数 长期 医药 创新\n",
      "Topic 6: 资金 投资 基金 苏宁 交易 股票 外资 限制 账户 球票 丰田 私募 特大 凡得 净流入 北向 机构 苏宁易购 汇出 资产 信息 督察 买入 入市 境外 管理 取消 刘晓东 幸福 西蒙斯\n",
      "Topic 7: 煤炭 沪指 闪崩 跌停 震荡 板块 反弹 新低 指数 山东 计划 概念 大盘 盘面 市值 加息 机会 美联储 护盘 机构 早盘 跌破 信托 投资者 预测 银行 五大 午后 钢铁 阶段\n",
      "Topic 8: 银行 股价 净流入 买入 数据 主力资金 营业部 增持 金额 涨幅 交易日 股东 独角兽 富士康 净流出 行业 共有 国家队 安信信托 上涨 证券 下跌 配售 战略 龙虎榜 工业富联 股市 股票 总市值 最大\n",
      "Topic 9: 存托 凭证 创新 投资者 红筹 投票权 试点 规定 交易 境外 股票 上市 境内 监管 业务 披露 实施办法 特别 规则 信息披露 风险 规范 制度 发行 证监会 股份 明确 交易所 差异 生产\n",
      "Topic 10: 银隆 珠海 存款 记者 投资 格力 建设 发展 资金 唐小僧 格力电器 银行 项目 新能源 长园集团 国家 中国 员工 生产 产业园 租赁 合作 集体 董明珠 外商投资 宿舍 多氟多 商行 贴息 吸收\n",
      "Topic 11: 美国 关税 中国 日本 进口 美方 加征 商品 贸易 中方 措施 利益 调查 商务部 贸易战 商行 全球 产品 特朗普 欧盟 双方 经济 解决 国家 经贸 坚决 委员 原产 采取 磋商\n",
      "Topic 12: 上市公司 改革 发展 新能源 汽车 国家 北汽 国企 建设 国企改革 准则 投资 公司治理 产业 产品 领域 完善 提升 服务 治理 技术 促进 资本市场 烟台 经济 生产 充电桩 加快 业务 提高\n",
      "Topic 13: 城市 同比 调研 增长 券商 增速 环比 销售 调控 房价 上涨 下降 数据 全国 土地 斯巴鲁 房地产 二线 面积 持续 商品住宅 减少 需求 价格 新建 住宅 规模 融资 销售价格 商品房\n",
      "Topic 14: 世界杯 中国 足球 赞助商 俄罗斯 分红 信息 赞助 体育 全球 品牌 案件 国际足联 魔咒 虚假 平台 商家 英利 营销 球迷 官方 万达 银行 海信 央视 行为 记者 办案 股市 现金\n",
      "Topic 15: 小米 发行 网络 电商 生态 零售 中国 独立 技术 通信 证监会 互联网 多点 业务 全球 移动 模式 智能 组网 反馈 产业 未来 行业 经济 意见 估值 商用 时代 线下 投资\n",
      "Topic 16: 证监会 试点 创新 审核 投资者 河北省 定价 落实 发行 询价 机构 机构投资者 监管 组织 保荐 六个 风险 百分百 估值 排放 北京市 建筑工地 粉尘 工业 依法 发行人 专业 上市 合理 过程\n",
      "Topic 17: 行业 增长 机构 同比 业绩 净利润 产品 板块 销量 基金 预计 看好 提升 产能 销售 推荐 评级 增速 持续 龙头 汽车 需求 券商 品牌 标的 上市公司 渠道 数据 购买 指出\n",
      "Topic 18: 美国 美元 账户 加息 指数 预期 证券 黄金 美联储 美股 管网 苹果 收盘 收涨 中国 期货 收跌 跌幅 估值 经济 调整 宣布 公布 欧洲 利率 全球 前值 资产 欧洲央行 数据\n",
      "Topic 19: 经济 央行 中国 独角兽 加息 美联储 利率 货币 增长 未来 流动性 美国 国内 杠杆 违约 发展 股市 增速 融资 价格 货币政策 持续 消费 中国经济 我国 稳定 社会 投资 下降 平稳\n"
     ]
    }
   ],
   "source": [
    "print_top_words_name(lda_20, wordstay_names_list, 30)"
   ]
  },
  {
   "cell_type": "code",
   "execution_count": null,
   "metadata": {
    "collapsed": true
   },
   "outputs": [],
   "source": []
  },
  {
   "cell_type": "code",
   "execution_count": null,
   "metadata": {
    "collapsed": true
   },
   "outputs": [],
   "source": []
  },
  {
   "cell_type": "code",
   "execution_count": null,
   "metadata": {
    "collapsed": true
   },
   "outputs": [],
   "source": []
  },
  {
   "cell_type": "code",
   "execution_count": null,
   "metadata": {
    "collapsed": true
   },
   "outputs": [],
   "source": []
  },
  {
   "cell_type": "code",
   "execution_count": 37,
   "metadata": {},
   "outputs": [
    {
     "data": {
      "text/plain": [
       "LatentDirichletAllocation(batch_size=128, doc_topic_prior=None,\n",
       "             evaluate_every=-1, learning_decay=0.7,\n",
       "             learning_method='batch', learning_offset=10.0,\n",
       "             max_doc_update_iter=100, max_iter=50, mean_change_tol=0.001,\n",
       "             n_components=30, n_jobs=1, n_topics=None, perp_tol=0.1,\n",
       "             random_state=None, topic_word_prior=None,\n",
       "             total_samples=1000000.0, verbose=0)"
      ]
     },
     "execution_count": 37,
     "metadata": {},
     "output_type": "execute_result"
    }
   ],
   "source": [
    "# 训练模型\n",
    "k = 30 # 选择主题数\n",
    "lda = LatentDirichletAllocation(n_components=k, max_iter=50, learning_method='batch')\n",
    "lda.fit(countstay)\n",
    "# 6709文档，单词数：84884，分20个主题 耗时：2-3m"
   ]
  },
  {
   "cell_type": "code",
   "execution_count": 39,
   "metadata": {},
   "outputs": [
    {
     "name": "stdout",
     "output_type": "stream",
     "text": [
      "# 打印每个主题下权重较高的词\n",
      "Topic 0: 经济 央行 加息 中国 美联储 利率 美国 增长 货币 杠杆 未来 货币政策 国企改革 违约 流动性\n",
      "Topic 1: 世界杯 中国 足球 俄罗斯 赞助商 赞助 体育 全球 球迷 国际足联 品牌 英利 球票 万达 巴西\n",
      "Topic 2: 银行 分红 净流入 主力资金 股价 案件 资金 金额 净流出 数据 信息 共有 特大 涨幅 办案\n",
      "Topic 3: 增速 同比 增长 销售 土地 数据 工业 城市 需求 全国 行业 国企 结构 价格 下滑\n",
      "Topic 4: 投资 中心 唐小僧 研究 中药 战略 舆情 记者 丰田 注射剂 平台 资邦 中国 合作 玛丽\n",
      "Topic 5: 独角兽 估值 美国 股票 指数 股市 策略 调整 美股 经济 成长 预期 收益率 国家队 增长\n",
      "Topic 6: 指数 下跌 估值 投资者 股票 新低 风险 预期 沪指 跌停 股市 底部 板块 白酒 大盘\n",
      "Topic 7: 不动产 登记 城市 房价 查询 房地产 商品住宅 调控 新建 环比 全国 住宅 销售价格 统一 上涨\n",
      "Topic 8: 小米 证监会 发行 试点 审核 创新 定价 投资者 估值 监管 询价 上市 机构 申请 反馈\n",
      "Topic 9: 发展 改革 建设 国家 我国 进口 中国 环保 经营 服务 投资 领域 提升 部门 完善\n",
      "Topic 10: 公告 项目 股份 上市公司 股权 控股股东 子公司 万股 总股本 方正 增持 增资 收入 资产 投资\n",
      "Topic 11: 摇号 西安 记者 房源 项目 城市 楼盘 成都 购房者 南京 套房 买房 中签率 二手房 住房\n",
      "Topic 12: 资金 增持 中粮 外资 买入 净流入 资本 机构 改革 投资 限制 中国 融资 北向 采购\n",
      "Topic 13: 金融 京东 新能源 汽车 品牌 北汽 产品 业务 苏宁 增长 服务 销量 领域 中国 技术\n",
      "Topic 14: 存托 凭证 创新 红筹 投资者 投票权 试点 股票 规定 交易 境外 境内 上市 监管 实施办法\n",
      "Topic 15: 技术 产业 中国 全球 发展 日本 半导体 行业 通信 网络 独立 国家 领域 经济 产品\n",
      "Topic 16: 美元 黄金 商行 期货 主席 美国 收跌 欧洲央行 金价 员工持股计划 收涨 计划 收盘 上海 员工\n",
      "Topic 17: 应急 产业 中国 装备 重工 发展 小龙虾 行业 电影 信息化 教育 低价股 督察 国家 记者\n",
      "Topic 18: 券商 机构 调研 净利润 行业 增长 业绩 同比 业务 数据 收入 上市公司 评级 记者 排名\n",
      "Topic 19: 质押 美国 关税 股权 平仓 比例 控股股东 股票 股份 股东 美方 中国 加征 商品 风险\n",
      "Topic 20: 好未来 浑水 富士康 报告 做空 业务 康得新 股价 概念 市值 交易 财年 互联网 机构 暴风集团\n",
      "Topic 21: 股市 资金 世界杯 投资 投资者 信托 魔咒 融资 股东 计划 国内 闪崩 减持 下跌 持续\n",
      "Topic 22: 河北省 落实 斯巴鲁 组织 百分百 六个 建筑工地 北京市 排放 工业 粉尘 整改 山东省 有限 石家庄市\n",
      "Topic 23: 账户 证券 结算 中国 分级 营业部 配售 管理 价格 投资者 措施 登记 买入 限制 证券公司\n",
      "Topic 24: 上市公司 银隆 珠海 存款 准则 公司治理 治理 记者 格力电器 修订 发展 格力 股东 董明珠 银行\n",
      "Topic 25: 行业 板块 投资 机会 估值 消费 持续 下半年 资金 整体 业绩 龙头 看好 周期 因素\n",
      "Topic 26: 汽车 新能源 充电 生产 动力电池 投资 锂电池 建设 发展 电动汽车 快速 国家 意见 汽车产业 材料\n",
      "Topic 27: 生产 电商 平台 食品 食品安全 多点 体系 打印 零售 规范 用户 检查 消费者 华谊兄弟 物美\n",
      "Topic 28: 基金 战略 配售 激光 募集 产品 投资 规模 充电桩 投资者 数码 记者 独角兽 东蓝 飞利信\n",
      "Topic 29: 交易 颜静刚 上市公司 基金 上海 中技 账户 私募 记者 借款 收购 凡得 资金 信息 股票\n"
     ]
    }
   ],
   "source": [
    "print_top_words_name(lda, wordstay_names, 15)"
   ]
  },
  {
   "cell_type": "code",
   "execution_count": 40,
   "metadata": {},
   "outputs": [
    {
     "name": "stdout",
     "output_type": "stream",
     "text": [
      "[[1.73611111e-04 1.73611111e-04 1.73611111e-04 ... 1.73611111e-04\n",
      "  8.18706560e-01 1.73611111e-04]\n",
      " [1.85185185e-03 1.85185185e-03 1.85185185e-03 ... 1.85185185e-03\n",
      "  5.03672518e-01 1.85185185e-03]\n",
      " [1.10011001e-04 1.10011001e-04 1.10011001e-04 ... 1.10011001e-04\n",
      "  1.10011001e-04 1.10011001e-04]\n",
      " ...\n",
      " [1.23456790e-04 1.23456790e-04 1.23456790e-04 ... 1.23456790e-04\n",
      "  1.23456790e-04 1.23456790e-04]\n",
      " [1.31233596e-04 1.31233596e-04 1.31233596e-04 ... 1.31233596e-04\n",
      "  1.31233596e-04 1.31233596e-04]\n",
      " [8.14995925e-05 8.14995925e-05 8.14995925e-05 ... 8.14995925e-05\n",
      "  9.97636512e-01 8.14995925e-05]]\n",
      "(505, 30)\n"
     ]
    }
   ],
   "source": [
    "# Doc Topics 结果\n",
    "# 通过fit_transform函数,可以得到文档主题分布,Doc_Topic distribution matrix\n",
    "doctopic_matrix = lda.fit_transform(count) # numpy.ndarray\n",
    "print(doctopic_matrix)\n",
    "print(doctopic_matrix.shape)"
   ]
  },
  {
   "cell_type": "code",
   "execution_count": null,
   "metadata": {
    "collapsed": true
   },
   "outputs": [],
   "source": []
  },
  {
   "cell_type": "code",
   "execution_count": 41,
   "metadata": {},
   "outputs": [],
   "source": [
    "def top_topics(model,topN):\n",
    "    doctopic_matrix = model.fit_transform(countstay)\n",
    "    doctopic = doctopic_matrix.argmax(axis=1).tolist() # 取最大值时的索引\n",
    "    print(\"# 打印前 %d 热门主题的序号\" % topN)\n",
    "    print([Counter(doctopic).most_common(topN)[i][0] for i in range(topN)]) # 找出列表元素最多的N个,结果是list类型"
   ]
  },
  {
   "cell_type": "code",
   "execution_count": 45,
   "metadata": {},
   "outputs": [
    {
     "name": "stdout",
     "output_type": "stream",
     "text": [
      "# 打印前 30 热门主题的序号\n",
      "[3, 21, 17, 15, 22, 23, 0, 10, 25, 13, 29, 14, 5, 11, 27, 24, 28, 18, 2, 4, 6, 20, 26, 9, 12, 16, 1, 7, 19, 8]\n"
     ]
    }
   ],
   "source": [
    "top_topics(lda,30)\n",
    "# 6709个文档，lda_50，前10个主题，耗时： 8 m "
   ]
  },
  {
   "cell_type": "code",
   "execution_count": null,
   "metadata": {},
   "outputs": [],
   "source": []
  },
  {
   "cell_type": "code",
   "execution_count": 44,
   "metadata": {},
   "outputs": [],
   "source": [
    "# # 效果等同上述函数\n",
    "# doctopic_matrix = lda.fit_transform(countstay)\n",
    "# doctopic = doctopic_matrix.argmax(axis=1).tolist() # 取最大值时的索引\n",
    "# print(\"# 打印前 %d 热门主题的序号\" % topN)\n",
    "# c = Counter(doctopic)\n",
    "# c.most_common(10) # 找出列表元素最多的N个,结果是list类型"
   ]
  },
  {
   "cell_type": "code",
   "execution_count": null,
   "metadata": {
    "collapsed": true
   },
   "outputs": [],
   "source": []
  },
  {
   "cell_type": "code",
   "execution_count": null,
   "metadata": {
    "collapsed": true
   },
   "outputs": [],
   "source": []
  },
  {
   "cell_type": "code",
   "execution_count": null,
   "metadata": {
    "collapsed": true
   },
   "outputs": [],
   "source": []
  },
  {
   "cell_type": "code",
   "execution_count": null,
   "metadata": {
    "collapsed": true
   },
   "outputs": [],
   "source": []
  },
  {
   "cell_type": "code",
   "execution_count": null,
   "metadata": {
    "collapsed": true
   },
   "outputs": [],
   "source": []
  },
  {
   "cell_type": "code",
   "execution_count": 76,
   "metadata": {},
   "outputs": [
    {
     "name": "stdout",
     "output_type": "stream",
     "text": [
      "14839\n"
     ]
    }
   ],
   "source": [
    "# 主题挖掘建模：文本聚类算法\n",
    "# 特征处理: TF-IDF做文档特征\n",
    "tfidf_vectorizer = TfidfVectorizer(stop_words=stop,max_df=0.9,min_df=10) # 特征提取\n",
    "tfidf = tfidf_vectorizer.fit_transform(corpus) # matrix \n",
    "word_names = tfidf_vectorizer.get_feature_names() # list\n",
    "# tfidf矩阵:元素a[i][j]表示j词在i文档中的tf-idf权重\n",
    "# weight = tfidf.toarray()  # matrix -> ndarray\n",
    "print(len(word_names))"
   ]
  },
  {
   "cell_type": "code",
   "execution_count": 75,
   "metadata": {
    "collapsed": true
   },
   "outputs": [],
   "source": [
    "# 定义余弦相似度\n",
    "from sklearn.metrics.pairwise import cosine_similarity\n",
    "dist = 1 - cosine_similarity(tfidf)"
   ]
  },
  {
   "cell_type": "code",
   "execution_count": 78,
   "metadata": {},
   "outputs": [
    {
     "name": "stdout",
     "output_type": "stream",
     "text": [
      "CPU times: user 3min 36s, sys: 2.12 s, total: 3min 38s\n",
      "Wall time: 3min 41s\n"
     ]
    }
   ],
   "source": [
    "# keans\n",
    "# 训练模型\n",
    "k = 20\n",
    "km_20 = KMeans(n_clusters=k)\n",
    "%time km_20.fit(tfidf)\n",
    "clusters = km_20.labels_.tolist() # 每个文档所属类别"
   ]
  },
  {
   "cell_type": "code",
   "execution_count": 109,
   "metadata": {},
   "outputs": [
    {
     "name": "stdout",
     "output_type": "stream",
     "text": [
      "Top terms per cluster:\n",
      "\n",
      "Cluster 0: 人民币  美元  汇率  升值  中间价  在岸  美元汇率  货币  基点  中国  贬值  指数  官方  交易日  收盘价 \n",
      "Cluster 1: 增持  股份  公告  股东  回购  万股  控股  股本  计划  公司股票  减持  上市公司  晚间  员工  低于 \n",
      "Cluster 2: 卖出  买入  机构  金额  个股  龙虎榜  营业部  融资  当天  资金  数据  交易  万股  席位  证券 \n",
      "Cluster 3: 美股  股市  下跌  指数  美国  暴跌  经济  估值  大跌  调整  跌幅  全球  影响  风险  预期 \n",
      "Cluster 4: 企业  发展  中国  经济  改革  建设  产业  金融  创新  项目  资本  国家  投资  行业  服务 \n",
      "Cluster 5: 板块  反弹  行情  个股  创业板  指数  估值  业绩  大盘  资金  调整  下跌  春节  上涨  震荡 \n",
      "Cluster 6: 基金  比特币  货币  开户  港股  投资  交易  购买  股票  虚拟  乐视网  投资者  持有  资金  指数 \n",
      "Cluster 7: 分红  现金  上市公司  股息  说明会  上交所  投资者  回报  监管  铁公鸡  具备  东安动力  分配利润  利润分配  联美控股 \n",
      "Cluster 8: 中国  股份  增长  投资  企业  集团  业务  上市  产品  公告  发行  项目  行业  销售  股东 \n",
      "Cluster 9: 主力  净流入  资金  流出  个股  乖离  三日  涨跌幅  证券  净流量  最多  排名  金额  半年线  概念 \n",
      "Cluster 10: 业绩  净利润  增长  同比  预计  预告  行业  年报  板块  实现  上市公司  增速  个股  收入  披露 \n",
      "Cluster 11: 美联储  美国  加息  预期  收益率  经济  指数  通胀  前值  美元  股市  鲍威尔  美股  利率  国债 \n",
      "Cluster 12: 万达  腾讯  阿里  零售  饿了么  新零售  步步高  京东  线下  王健林  商业  阿里巴巴  合作  集团  万达电影 \n",
      "Cluster 13: 买入  证券  天风  增持  目标  涨幅  评级  目标价  国泰君安  个股  十日  东北证券  海通证券  净流入  机构 \n",
      "Cluster 14: 美元  黄金  美国  英镑  金价  盎司  欧元  美联储  预期  指数  通胀  英国  反弹  原油  下跌 \n",
      "Cluster 15: 质押  停牌  平仓  信托  股东  股票  股权  股份  股价  风险  闪崩  上市公司  控股  个股  跌停 \n",
      "Cluster 16: 银行  贷款  银行业  流动性  理财  金融机构  监管  银监会  央行  利率  同业  理财产品  业务  万亿元  银监局 \n",
      "Cluster 17: 合约  价格  库存  期货  需求  原油  原油期货  国内  供应  产能  天然气  产量  上涨  煤炭  现货 \n",
      "Cluster 18: 乡村  振兴  农村  农业  文件  一号  农民  中央  战略  宅基地  建设  发展  三农  改革  韩俊 \n",
      "Cluster 19: 个股  跌幅  换手率  板块  成交  仅供参考  构成  涨幅  最大  指数  信息  建议  涨停  证券  两市 \n"
     ]
    }
   ],
   "source": [
    "print(\"Top terms per cluster:\")\n",
    "print()\n",
    "# 按离质心的距离排列聚类中心，由近到远\n",
    "order_centroids = km_20.cluster_centers_.argsort()[:, ::-1] \n",
    "\n",
    "for i in range(k):\n",
    "    print(\"Cluster %d:\" % i, end='')\n",
    "    for ind in order_centroids[i, :15]: # 每个聚类选 15 个词\n",
    "        print(' %s' % word_names[ind], end=' ')\n",
    "    print() # 空行"
   ]
  },
  {
   "cell_type": "code",
   "execution_count": 113,
   "metadata": {
    "scrolled": true
   },
   "outputs": [
    {
     "data": {
      "text/plain": [
       "array([17,  6, 10, ...,  8, 17, 11], dtype=int32)"
      ]
     },
     "execution_count": 113,
     "metadata": {},
     "output_type": "execute_result"
    }
   ],
   "source": [
    "km_20.labels_ # numpy.ndarray"
   ]
  },
  {
   "cell_type": "code",
   "execution_count": 105,
   "metadata": {
    "scrolled": true
   },
   "outputs": [
    {
     "data": {
      "text/plain": [
       "[8, 4, 5, 10, 17, 3, 16, 6, 11, 14, 19, 15, 2, 9, 1, 12, 18, 0, 7, 13]"
      ]
     },
     "execution_count": 105,
     "metadata": {},
     "output_type": "execute_result"
    }
   ],
   "source": [
    "[Counter(km_20.labels_.tolist()).most_common(20)[i][0] for i in range(20)]"
   ]
  },
  {
   "cell_type": "code",
   "execution_count": 106,
   "metadata": {
    "collapsed": true
   },
   "outputs": [
    {
     "data": {
      "text/plain": [
       "[(8, 2564),\n",
       " (4, 808),\n",
       " (5, 518),\n",
       " (10, 454),\n",
       " (17, 268),\n",
       " (3, 237),\n",
       " (16, 211),\n",
       " (6, 207),\n",
       " (11, 195),\n",
       " (14, 176),\n",
       " (19, 173),\n",
       " (15, 151),\n",
       " (2, 141),\n",
       " (9, 141),\n",
       " (1, 128),\n",
       " (12, 85),\n",
       " (18, 75),\n",
       " (0, 62),\n",
       " (7, 59),\n",
       " (13, 56)]"
      ]
     },
     "execution_count": 106,
     "metadata": {},
     "output_type": "execute_result"
    }
   ],
   "source": [
    "Counter(km_20.labels_.tolist()).most_common(20)"
   ]
  }
 ],
 "metadata": {
  "kernelspec": {
   "display_name": "Python 3",
   "language": "python",
   "name": "python3"
  },
  "language_info": {
   "codemirror_mode": {
    "name": "ipython",
    "version": 3
   },
   "file_extension": ".py",
   "mimetype": "text/x-python",
   "name": "python",
   "nbconvert_exporter": "python",
   "pygments_lexer": "ipython3",
   "version": "3.6.4"
  }
 },
 "nbformat": 4,
 "nbformat_minor": 2
}

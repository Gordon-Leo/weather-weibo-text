{
 "cells": [
  {
   "cell_type": "code",
   "execution_count": 1,
   "metadata": {
    "collapsed": true
   },
   "outputs": [],
   "source": [
    "# @zhangjoy\n",
    "# @构建主题热度因子：201802【论文】\n",
    "import os\n",
    "import csv\n",
    "import tushare as ts\n",
    "import pandas as pd\n",
    "import numpy as np\n",
    "import jieba\n",
    "import sys\n",
    "import time\n",
    "import re\n",
    "from sklearn.feature_extraction.text import CountVectorizer # 词频统计\n",
    "from sklearn.decomposition import LatentDirichletAllocation # LDA\n",
    "from sklearn.cluster import KMeans # k均值聚类"
   ]
  },
  {
   "cell_type": "code",
   "execution_count": 47,
   "metadata": {},
   "outputs": [
    {
     "name": "stdout",
     "output_type": "stream",
     "text": [
      "2009\n"
     ]
    }
   ],
   "source": [
    "# 评论文本：comment\n",
    "filepath = \"/Users/zhangjoy/Documents/vscode/py_project/lda/data/cjpl/20160401_20160501.csv\"   # 评论内容的存储路径\n",
    "with open(filepath, 'r') as f:\n",
    "    reader = csv.reader(f)\n",
    "    comment = [row[7] for row in reader]\n",
    "comment.pop(0) # '评论内容'\n",
    "print(len(comment)) # 2009"
   ]
  },
  {
   "cell_type": "code",
   "execution_count": 48,
   "metadata": {
    "collapsed": true
   },
   "outputs": [
    {
     "data": {
      "text/plain": [
       "'来源：中国基金报 编辑：东方财富网股市29日收盘，“红四月”再次爽约：上半月大盘震荡上行，下半月则判若两人一路阴跌不止，最终上证综指和创业板指在四月均以小幅下跌收场。债市风险暴露，一时间风声鹤唳，机构惊慌失色。尽管今年前4月股市和债市表现动荡，公募基金表现分化很大，但前四月里还是有一些基金取得了不错的正收益，基金君跟大家一起来看下吧。1、主动股票型基金：平均跌16.44% 四只次新基金逆势获正收益今年前4月，148只主动股票型基金单位净值平均下跌了16.44%，基金分化十分明显，其中有四只去年四季度成立的圆信永丰优加生活、嘉实环保低碳、工银文体产业和泓德战略转型等次新基金凭借较为稳健的建仓节奏，在今年前四月取得了正回报，其余基金则全部告亏，特别是有三只基金亏损超过30%，今年减亏压力甚大！2、混合型基金： 273只跌幅超两成最多跌35.57%混合型基金现在是数量最多的基金类别，各类混合型基金总数已超过1000只。前4月，混合基金分化同样十分明显。10只表现最好的混合基金前4月收益率均在5%以上，这在今年这样的动荡市场下着实难得，前海开源金银珠宝赚了12.55%居首，主要是受益金价大涨刺激下相关个股不俗的表现。此外还有不少数量的混合基金取得了正收益。但是，跌幅较大的混合基金占比也较高，其中有273只前四月跌幅超过20%，特别是有16只混合基金跌幅超过30%，远超市场。3、打新基金：部分基金靠赎回费大赚今年前4月，有相当数量的绝对收益策略基金(以打新基金为主)在遭遇大比例净赎回之后依靠赎回费计入资产净值飙升，成为今年以来最赚钱的基金群体，在别人家的基金跌的一塌糊涂的时候，这些基金在大口吃肉。原来，除了股票，我们还可以赚赎回费。潜伏那些机构占比高的打新基金成为一些投资者热捧的盈利模式。基金君注意到，一些主流财经媒体竟然将这些基金当做今年的绩优基金加以报道，分析其一季报的持仓、重仓股、观点等等，基金君也只能呵呵了.4、保本基金：好发不好做多只基金亏超3%保本基金毫无疑问是股灾以来基金产品中的爆款，投资者对本金保护的强烈需求使得这类产品已经热卖了大半年。但股市和债市的双重大震荡使得保本基金陷入好发不好做的困境。今年前4月，92只保本基金平均小幅亏损1.14%，一些基金实现了正收益，收益最高的新华阿里一号赚了1.67%，其他取得正收益的保本基金净值涨幅均在0.8%以下。大部分保本基金前4月亏损，其中有25只跌幅超过2%，跌幅最大的甚至超过10%，让人大跌眼镜。5、纯债基金：遭遇“黑色”四月平均收益由正转负一季度纯债基金表现不俗，但债市遭遇黑色四月，使得纯债基金今年以来的收益大幅下滑，统计显示，300余只纯债基金前4月平均收益跌为零。有近200只取得正收益，但收益十分有限，只有29只收益率超过了1%，表现最好的两只债基收益均在3%以上。同时有超过百只纯债基金收益告负，特别是33只跌幅超过1%，表现最差的两只跌幅均超过10%。原来，纯债基金跌起来还可以这么任性。6、二级债基：股债双杀前四月亏大了前4月遭遇股债双杀，二级债基前4月总体表现惨淡。统计显示，140只二级债基前4月平均亏损2.25%，仅有25只基金取得了正收益，其余全部告负，表现最好的工银瑞信双利债券单位净值上涨了2.53%，也是唯一一只收益超2%的二级债基。大部分二级债基亏损，其中有44只亏损幅度超过3%。两只表现最差的基金亏损均超过10%。7、货币基金：收益不断下滑 19只基金收益超1%作为当前基金业规模最大的基金类别，货币市场基金今年以来收益逐步走低，但相比股债的悲惨表现，货币基金获得资金流入并不意外。统计显示，前4月200余只货币基金收益率只有0.85%，其中仅有19只收益率超过了1%，最高的中欧滚钱宝收益率为1.2429%。目前多数货币基金七日年化回报在2.5%左右。虽然已经很低，但比活期利息还是有优势。8、QDII基金：大宗商品基金强劲反弹港股基金依然惨淡前4月海外市场同样出现较大动荡，而大宗商品市场的强劲超跌反弹成为最重要的正收益来源。大宗商品基金也成为表现最好的QDII基金类别，前4月收益超10%的QDII基金全部被大宗商品主题基金占据，其中中银全球资源单位净值大涨28.34%，成为收益冠军。上头全球天然资源以20.75%的涨幅紧随其后。黄金类、油气类基金净值也涨幅居前。而港股基金总体上依然表现不佳，占据跌幅榜前列。（来源：中国基金报 2016-04-30 21:50）[点击查看原文]'"
      ]
     },
     "execution_count": 48,
     "metadata": {},
     "output_type": "execute_result"
    }
   ],
   "source": [
    "comment[0]"
   ]
  },
  {
   "cell_type": "code",
   "execution_count": 49,
   "metadata": {},
   "outputs": [
    {
     "name": "stdout",
     "output_type": "stream",
     "text": [
      "[Getting data:]################################"
     ]
    }
   ],
   "source": [
    "# 得到所有股票的代码和中文名字\n",
    "stock_name = ts.get_stock_basics()['name'] # 股票名称\n",
    "stock_code = stock_name.index.tolist() # 股票代码\n",
    "# 获得所有的概念列表、行业列表、地域列表、公司名称等\n",
    "concept = ts.get_concept_classified()['c_name'].drop_duplicates().values.tolist() # 概念列表 163\n",
    "industry = ts.get_industry_classified('sw')['c_name'].drop_duplicates().values.tolist() # 申万行业列表 129 > 110\n",
    "place = ts.get_area_classified()['area'].drop_duplicates().values.tolist() # 获取地域列表 32 省份\n",
    "\n",
    "broker = ts.broker_tops()[\"broker\"] # 获取营业部信息：1062\n",
    "pattern = re.compile(u'.*有限.*?公司') # 最小匹配[*?]到'有限 公司'\n",
    "company = [\" \".join(pattern.findall(s)) for s in broker] # list\n",
    "company = pd.Series(company).drop_duplicates().values.tolist() # 证券公司：94"
   ]
  },
  {
   "cell_type": "code",
   "execution_count": 50,
   "metadata": {
    "collapsed": true
   },
   "outputs": [],
   "source": [
    "# 启用自定义词典\n",
    "jieba.load_userdict(\"/Users/zhangjoy/Documents/vscode/py_project/lda/data/userdict.txt\")\n",
    "# 停用词列表\n",
    "stop =[line.strip() for line in open('/Users/zhangjoy/Documents/vscode/py_project/lda/data/stopwords.txt').readlines()]"
   ]
  },
  {
   "cell_type": "code",
   "execution_count": 51,
   "metadata": {
    "collapsed": true
   },
   "outputs": [],
   "source": [
    "pattern = re.compile(u'[\\u4e00-\\u9fa5]{2,20}') # 中文"
   ]
  },
  {
   "cell_type": "code",
   "execution_count": 52,
   "metadata": {
    "collapsed": true
   },
   "outputs": [
    {
     "name": "stdout",
     "output_type": "stream",
     "text": [
      "preprocessing time using 46.06072 s\n",
      "股市 收盘 红四月 爽约 大盘 震荡 上行 判若两人 一路 阴跌 上证综指 创业板指 均 小幅 下跌 收场 债市 风险 暴露 一时间 风声鹤唳 机构 惊慌失色 前 股市 债市 表现 动荡 公募基金 表现 分化 很大 但前 里 基金 取得 不错 正收 基金君 一起 主动 股票型基金 平均 跌 次新基金 逆势 获 正收益 前 主动 股票型基金 单位 净值 平均 下跌 基金 分化 十分 明显 成立 圆信 永丰 优加生 嘉实 环保 低碳 工银 文体 产业 和泓德 战略转型 次新基金 稳健 建仓 节奏 前 取得 正回报 基金 告亏 特别 基金 亏损 减亏 压力 甚大 混合型基金 跌幅 超 两成 最多 跌 混合型基金 数量 最多 基金 类别 各类 混合型基金 总数 混合基金 分化 同样 十分 明显 表现 最好 混合基金 前 收益率 均 动荡市场 着实 前海 开源 金银珠宝 赚 居首 主要 受益 金价 大涨 刺激 相关 个股 不俗 表 数量 混合基金 取得 正收益 跌幅 较大 混合基金 占 高 只前 跌幅 特别 混合基金 跌幅 远超 打新基金 部分 基金 赎回费 赚 前 相当 数量 绝对收益 策略 基金 打新基金 为主 遭遇 比例 净 赎回 依靠 赎回费 计入 资产 净值 飙升 成为 今年以来 赚钱 基金 群体 家 基金 跌 一塌糊涂 基金 口吃 肉 原来 股票 赚 赎回费 潜伏 机构 占 比高 打新基金 成为 投资 热 捧 盈利模式 基金君 注意 主流 财经 媒体 基金 当做 绩优 基金 报道 分析 季报 持仓 重仓股 观点 基金君 只能 保本基金 好发 不好 做 多只 基金 亏超 保本基金 毫无疑问 股灾 基金 产品 中 爆 投资者 本金 保护 强烈 需求 类产品 热卖 大半年 股市 债市 双 重大 震荡 保本基金 陷入 好发 不好 做 困境 前 保本基金 平均 小幅 亏损 基金 实现 正收益 收益 最高 新华 阿里 一号 赚 取得 正收益 保本基金 净值 涨幅 均 保本基金 前 亏损 跌幅 跌幅 最大 大跌眼镜 纯债基金 遭遇 黑色 平均 收益 由正 转负 纯债基金 表现 债市 遭遇 黑色 纯债基金 今年以来 收益 大幅 下滑 统计 显示 余 纯债基金 前 平均 收益 跌为 零 有近 取得 正收益 收益 十分 有限 收益率 表现 最好 债基 收益 均 百只 纯债基金 收益 告负 特别 跌幅 表现 最差 跌幅 均 原来 纯债基金 跌 任性 二级债基 股债 双杀 前 亏大 前 遭遇 股债 双杀 二级债基 前 总体 表现 惨淡 统计 显示 二级债基 前 平均 亏损 仅 基金 取得 正收益 告负 表现 最好 工 银瑞信 双利 债券 单位 净值 上涨 唯一 收益 超 二级债基 二级债基 亏损 亏损 幅度 表现 最差 基金 亏损 均 货币基金 收益 不断 下滑 基金 收益 超 当前 基金业 规模 最大 基金 类别 货币 基金 今年以来 收益 走低 相比 股债 悲惨 表现 货币基金 获得 资金 流入 意外 统计 显示 余 货币基金 收益率 仅 收益率 最高 中欧 滚钱宝 收益率 多数 货币基金 七日年化 回报 低 活期 利息 优势 基金 大宗商品基金 强劲 反弹 港股 基金 依然 惨淡 前 海外 同样 出现 较大 动荡 大宗商品 强劲 超跌 反弹 成为 重要 正收益 大宗商品基金 成为 表现 最好 基金 类别 收益 超 基金 大宗商品 主题 基金 占据 中银 全球 资源 单位 净值 大涨 成为 收益冠军 上头 全球 天然资源 涨幅 黄金 类 油气 类 基金净值 涨幅 居前 港股 基金 总体 依然 表现 不佳 占据 跌幅 榜前列\n"
     ]
    }
   ],
   "source": [
    "texts = [] # 清洗后文本\n",
    "t1 = time.time()\n",
    "for sentence in comment:\n",
    "    chinese = pattern.findall(sentence) # 匹配中文：先分句\n",
    "    seg = [jieba.cut(c) for c in chinese] # 双重列表：句上分词\n",
    "    c = []\n",
    "    for ss in seg:\n",
    "        for s in ss:\n",
    "            if s not in stop: # 过滤停用词\n",
    "                c.append(s)\n",
    "    texts.append(\" \".join(c))\n",
    "t2 = time.time()\n",
    "print(\"preprocessing time using %.5f s\" %(t2-t1)) # 2000 words < 1m【6000 2m】\n",
    "print(texts[0])"
   ]
  },
  {
   "cell_type": "code",
   "execution_count": 55,
   "metadata": {},
   "outputs": [
    {
     "data": {
      "text/plain": [
       "(2009, 6586)"
      ]
     },
     "execution_count": 55,
     "metadata": {},
     "output_type": "execute_result"
    }
   ],
   "source": [
    "# 建模\n",
    "corpus = texts\n",
    "# 构建 Document-word matrix\n",
    "count_vectorizer = CountVectorizer(stop_words=stop, min_df = 0.005) # 特征选择：必须在文档总数的 0.5% 中出现过\n",
    "count_matrix = count_vectorizer.fit_transform(corpus)\n",
    "wordnames_list = count_vectorizer.get_feature_names() # word_list\n",
    "count_matrix.shape"
   ]
  },
  {
   "cell_type": "code",
   "execution_count": 56,
   "metadata": {},
   "outputs": [
    {
     "name": "stdout",
     "output_type": "stream",
     "text": [
      "CPU times: user 59.9 s, sys: 453 ms, total: 1min\n",
      "Wall time: 1min 1s\n"
     ]
    },
    {
     "data": {
      "text/plain": [
       "LatentDirichletAllocation(batch_size=128, doc_topic_prior=None,\n",
       "             evaluate_every=-1, learning_decay=0.7,\n",
       "             learning_method='batch', learning_offset=10.0,\n",
       "             max_doc_update_iter=100, max_iter=50, mean_change_tol=0.001,\n",
       "             n_components=20, n_jobs=1, n_topics=None, perp_tol=0.1,\n",
       "             random_state=1234, topic_word_prior=None,\n",
       "             total_samples=1000000.0, verbose=0)"
      ]
     },
     "execution_count": 56,
     "metadata": {},
     "output_type": "execute_result"
    }
   ],
   "source": [
    "# 训练模型\n",
    "k = 20 # 选择主题数\n",
    "lda = LatentDirichletAllocation(n_components=k, max_iter=50,learning_method='batch',random_state=1234)\n",
    "%time lda.fit(count_matrix) # 2000 1m【6000 3m】"
   ]
  },
  {
   "cell_type": "code",
   "execution_count": 16,
   "metadata": {
    "collapsed": true
   },
   "outputs": [],
   "source": [
    "# Doc（Top）Topic结果\n",
    "def print_top_topics(model, feature_names, n_top_topics):\n",
    "    print(\"# 打印每个文档下权重较高的主题\")\n",
    "    doctopic_matrix = model.fit_transform(count_matrix)\n",
    "    for doc_idx, doc in enumerate(doctopic_matrix):\n",
    "        print(\"Doc # %d:\" % doc_idx)\n",
    "        print(''.join([str(feature_names[i]) + ' ' + str(round(doc[i], 2)) + '| ' for i in doc.argsort()[:-n_top_topics - 1:-1]]))\n",
    "# Topic（Top）Words结果\n",
    "def print_top_words(model, feature_names, n_top_words):\n",
    "    print(\"# 打印每个主题下权重较高的词\")\n",
    "    topicword_matrix = model.components_\n",
    "    for topic_idx, topic in enumerate(topicword_matrix):\n",
    "        print(\"Topic # %d: \" % topic_idx)\n",
    "        print(''.join([feature_names[i] + ' ' + str(round(topic[i], 2)) + '| ' for i in topic.argsort()[:-n_top_words - 1:-1]]))\n",
    "        # print(\" \".join([feature_names[i] for i in topic.argsort()[:-n_top_words - 1:-1]]))\n",
    "# 全部文档前几个主题，假设1个文档可以属于多个主题，首先一定属于1个主题，后面几个主题只要满足在1.5倍的差距内，即 0.4*1.5 < 0.6 0.3*1.5 0.5\n",
    "def print_top_topics_number(model, feature_names, toptopicnames_list):\n",
    "    doctopic_matrix = model.fit_transform(count_matrix)\n",
    "    for doc_idx, doc in enumerate(doctopic_matrix):\n",
    "        for i in doc.argsort()[:-k - 1:-1]:\n",
    "            if i == doc.argsort()[:-k - 1:-1][0]:\n",
    "                toptopicnames_list.append(feature_names[i])\n",
    "                continue\n",
    "            elif round(doc[i], 2)*1.5 >= round(doc[doc.argsort()[:-k - 1:-1][0]], 2):\n",
    "                toptopicnames_list.append(feature_names[i])"
   ]
  },
  {
   "cell_type": "code",
   "execution_count": 57,
   "metadata": {},
   "outputs": [],
   "source": [
    "topicnames_list = [i for i in range(k)] # topic_list\n",
    "toptopicnames_list = []\n",
    "print_top_topics_number(lda,topicnames_list,toptopicnames_list) # 全部文档前几个主题\n",
    "# len(toptopicnames_list) # "
   ]
  },
  {
   "cell_type": "code",
   "execution_count": 58,
   "metadata": {},
   "outputs": [
    {
     "name": "stdout",
     "output_type": "stream",
     "text": [
      "[(0, 289), (3, 270), (8, 236), (17, 199), (2, 185), (1, 169), (10, 140), (9, 134), (18, 132), (4, 130), (13, 130), (14, 122), (15, 120), (11, 99), (6, 98), (7, 78), (19, 77), (16, 60), (5, 45), (12, 44)]\n",
      "[(0, 289), (3, 270), (8, 236), (17, 199), (2, 185)]\n"
     ]
    }
   ],
   "source": [
    "# 前 5个 热门主题\n",
    "from collections import Counter\n",
    "print(Counter(toptopicnames_list).most_common(20))\n",
    "print(Counter(toptopicnames_list).most_common(5))"
   ]
  },
  {
   "cell_type": "code",
   "execution_count": 59,
   "metadata": {
    "collapsed": true
   },
   "outputs": [],
   "source": [
    "# 选择前 5 个主题：\n",
    "topicnames = [Counter(toptopicnames_list).most_common(5)[i][0] for i in range(5)]\n",
    "# 主题权重归一化\n",
    "topicweight = [Counter(toptopicnames_list).most_common(5)[i][1] for i in range(5)]\n",
    "topicweight = [i/sum(topicweight) for i in topicweight]"
   ]
  },
  {
   "cell_type": "code",
   "execution_count": 60,
   "metadata": {
    "scrolled": true
   },
   "outputs": [
    {
     "data": {
      "text/plain": [
       "[0, 3, 8, 17, 2]"
      ]
     },
     "execution_count": 60,
     "metadata": {},
     "output_type": "execute_result"
    }
   ],
   "source": [
    "topicnames"
   ]
  },
  {
   "cell_type": "code",
   "execution_count": 61,
   "metadata": {},
   "outputs": [
    {
     "data": {
      "text/plain": [
       "[0.24512298558100085,\n",
       " 0.22900763358778625,\n",
       " 0.2001696352841391,\n",
       " 0.16878710771840544,\n",
       " 0.15691263782866835]"
      ]
     },
     "execution_count": 61,
     "metadata": {},
     "output_type": "execute_result"
    }
   ],
   "source": [
    "topicweight"
   ]
  },
  {
   "cell_type": "code",
   "execution_count": 62,
   "metadata": {
    "collapsed": true
   },
   "outputs": [],
   "source": [
    "# 3.热门主题关键词筛选，为每个主题选择前 N 个主题词\n",
    "def print_hottopic_keywords(model, feature_names, topickeywords_name, topickeywords_prob, n_top_words):\n",
    "    topicword_matrix = model.components_[topicnames]\n",
    "    for topic_idx,topic in enumerate(topicword_matrix):\n",
    "        topickeywords_n = [feature_names[i] for i in topic.argsort()[:-n_top_words - 1:-1]]\n",
    "        topickeywords_name.append(topickeywords_n)\n",
    "        topickeywords_p = [round(topic[i], 2) for i in topic.argsort()[:-n_top_words - 1:-1]]\n",
    "        topickeywords_prob.append(topickeywords_p)"
   ]
  },
  {
   "cell_type": "code",
   "execution_count": 63,
   "metadata": {},
   "outputs": [],
   "source": [
    "topickeywords_name, topickeywords_prob = [],[]\n",
    "print_hottopic_keywords(lda, wordnames_list, topickeywords_name, topickeywords_prob , 100) # 选前100个关键词"
   ]
  },
  {
   "cell_type": "code",
   "execution_count": 77,
   "metadata": {
    "collapsed": true
   },
   "outputs": [
    {
     "name": "stdout",
     "output_type": "stream",
     "text": [
      "改革 1470.71\n",
      "发展 1041.18\n",
      "金融 969.45\n",
      "企业 645.65\n",
      "地方 638.13\n",
      "试点 534.91\n",
      "制度 436.83\n",
      "建设 430.02\n",
      "国家 427.6\n",
      "国务院 415.28\n",
      "经济 391.02\n",
      "监管 386.74\n",
      "创新 381.69\n",
      "加强 368.65\n",
      "会议 360.92\n",
      "政府 354.32\n",
      "完善 341.51\n",
      "支持 337.26\n",
      "推动 318.39\n",
      "机制 314.13\n",
      "中央 311.46\n",
      "全国 306.82\n",
      "重要 301.76\n",
      "提出 290.14\n",
      "社会 278.06\n",
      "平台 273.89\n",
      "促进 273.33\n",
      "快鹿 272.97\n",
      "部门 265.89\n",
      "要求 262.54\n",
      "意见 257.95\n",
      "兑付 256.98\n",
      "加快 253.97\n",
      "开展 250.5\n",
      "合作 242.1\n",
      "习近平 238.32\n",
      "体系 233.49\n",
      "强调 232.74\n",
      "重点 229.36\n",
      "建立 229.03\n",
      "实现 226.24\n",
      "方面 219.06\n",
      "互联网 215.59\n",
      "项目 214.98\n",
      "积极 211.06\n",
      "进一步 210.73\n",
      "方案 210.51\n",
      "李克强 202.85\n",
      "风险 202.3\n",
      "服务 202.02\n",
      "制定 201.77\n",
      "立法 194.74\n",
      "研究 193.18\n",
      "我国 192.39\n",
      "召开 190.19\n",
      "提高 187.72\n",
      "领域 186.12\n",
      "地区 185.31\n",
      "体制 182.48\n",
      "指出 179.43\n",
      "就业 174.85\n",
      "规划 171.32\n",
      "深化 169.62\n",
      "保障 169.49\n",
      "做好 168.31\n",
      "相关 165.15\n",
      "目标 160.9\n",
      "基础 157.63\n",
      "广东 157.6\n",
      "结构性 155.89\n",
      "进行 154.4\n",
      "形成 154.31\n",
      "协调 153.99\n",
      "财政部 153.06\n",
      "总理 152.46\n",
      "行业 152.34\n",
      "任务 151.8\n",
      "方式 151.3\n",
      "明确 150.57\n",
      "补贴 148.19\n",
      "稳定 147.97\n",
      "范围 146.97\n",
      "落实 146.83\n",
      "有效 146.32\n",
      "供给 145.82\n",
      "农业 145.74\n",
      "金融机构 143.35\n",
      "坚持 143.13\n",
      "规范 141.1\n",
      "保护 139.41\n",
      "指导 138.88\n",
      "关系 137.35\n",
      "央行 136.73\n",
      "组织 134.67\n",
      "中国 134.63\n",
      "情况 134.21\n",
      "决定 131.52\n",
      "各地 131.4\n",
      "经营 130.48\n",
      "座谈会 129.28\n"
     ]
    }
   ],
   "source": [
    "for i in range(100):\n",
    "    print(topickeywords_name[2][i],topickeywords_prob[2][i])\n",
    "# print()"
   ]
  },
  {
   "cell_type": "code",
   "execution_count": 38,
   "metadata": {},
   "outputs": [
    {
     "name": "stdout",
     "output_type": "stream",
     "text": [
      "http://www.csindex.com.cn/uploads/file/autofile/closeweight/000300closeweight.xls\n"
     ]
    }
   ],
   "source": [
    "# 股票池：沪深300\n",
    "hs300 = ts.get_hs300s() \n",
    "hs300_code = hs300['code'].values.tolist()\n",
    "hs300_name = hs300['name'].values.tolist()\n",
    "concept_df = ts.get_concept_classified()\n",
    "industry_df = ts.get_industry_classified('sw')\n",
    "\n",
    "# 与股票池相关的概念\n",
    "concept = concept_df.loc[concept_df['code'].isin(hs300_code)]['c_name'].drop_duplicates().values.tolist() # 146\n",
    "# 与股票池相关的行业\n",
    "industry = industry_df.loc[industry_df['code'].isin(hs300_code)]['c_name'].drop_duplicates().values.tolist() # 104"
   ]
  },
  {
   "cell_type": "code",
   "execution_count": 41,
   "metadata": {},
   "outputs": [
    {
     "data": {
      "text/plain": [
       "104"
      ]
     },
     "execution_count": 41,
     "metadata": {},
     "output_type": "execute_result"
    }
   ],
   "source": [
    "len(industry)"
   ]
  },
  {
   "cell_type": "code",
   "execution_count": 82,
   "metadata": {},
   "outputs": [],
   "source": [
    "# 4 主题因子构建：概念类、行业类\n",
    "# 计算每个主题：主题关键词的概念/行业 信息\n",
    "def concept_industry_info(topickeywords_name, concept_stay_list, concept_prob_list, industry_stay_list, industry_prob_list, topickeywords_weight):\n",
    "    for i in range(len(topickeywords_name)):\n",
    "        concept_num, industry_num = 0, 0\n",
    "        concept_stay, concept_prob = [], []\n",
    "        industry_stay, industry_prob = [], []\n",
    "        for j in range(100):\n",
    "            name = topickeywords_name[i][j]\n",
    "            prob = topickeywords_prob[i][j]\n",
    "            for con in concept: # 与关键词相关概念 \n",
    "                if name in con:\n",
    "                    concept_stay.append(con)\n",
    "                    concept_prob.append(prob)\n",
    "#                     print(name,con,prob)\n",
    "                    concept_num = concept_num + 1\n",
    "            for ind in industry: # 与关键词相关行业 \n",
    "                if name in ind:\n",
    "                    industry_stay.append(ind)\n",
    "                    industry_prob.append(prob)\n",
    "                    print(name,ind,prob)\n",
    "                    industry_num = industry_num + 1\n",
    "            \n",
    "        print()\n",
    "        # 主题类别权重\n",
    "        if concept_num > 0 and industry_num > 0: # and place_num > 0:\n",
    "            topickeywords_weight = [0.5, 0.5]\n",
    "        elif concept_num == 0:\n",
    "            topickeywords_weight = [0, 1]\n",
    "        else:\n",
    "            topickeywords_weight = [1, 0]\n",
    "        \n",
    "        concept_stay_list.append(concept_stay)\n",
    "        concept_prob_list.append(concept_prob)\n",
    "        industry_stay_list.append(industry_stay)\n",
    "        industry_prob_list.append(industry_prob)\n",
    "        topickeywords_weight_list.append(topickeywords_weight)"
   ]
  },
  {
   "cell_type": "code",
   "execution_count": 83,
   "metadata": {
    "collapsed": true
   },
   "outputs": [
    {
     "name": "stdout",
     "output_type": "stream",
     "text": [
      "\n",
      "银行 银行 261.23\n",
      "\n",
      "金融 非银金融 969.45\n",
      "金融 多元金融 969.45\n",
      "建设 基础建设 430.02\n",
      "建设 房屋建设 430.02\n",
      "互联网 互联网传媒 215.59\n",
      "服务 医疗服务 202.02\n",
      "服务 采掘服务 202.02\n",
      "服务 环保工程及服务 202.02\n",
      "服务 休闲服务 202.02\n",
      "服务 其他休闲服务 202.02\n",
      "服务 汽车服务 202.02\n",
      "基础 基础建设 157.63\n",
      "农业 农业综合 145.74\n",
      "经营 商业物业经营 130.48\n",
      "\n",
      "工业 工业金属 315.07\n",
      "房地产 房地产 194.97\n",
      "房地产 房地产开发 194.97\n",
      "贸易 商业贸易 176.28\n",
      "贸易 贸易 176.28\n",
      "食品 食品加工 153.53\n",
      "食品 食品饮料 153.53\n",
      "\n",
      "煤炭 煤炭开采 191.51\n",
      "钢铁 钢铁 138.35\n",
      "银行 银行 130.85\n",
      "证券 证券 106.34\n",
      "有色 有色金属 91.19\n",
      "\n"
     ]
    }
   ],
   "source": [
    "concept_stay_list, concept_prob_list, industry_stay_list, industry_prob_list, topickeywords_weight_list = [],[],[],[],[]\n",
    "concept_industry_info(topickeywords_name, concept_stay_list, concept_prob_list, industry_stay_list, industry_prob_list, topickeywords_weight)"
   ]
  },
  {
   "cell_type": "code",
   "execution_count": 71,
   "metadata": {
    "scrolled": true
   },
   "outputs": [
    {
     "data": {
      "text/plain": [
       "['低碳经济',\n",
       " '循环经济',\n",
       " '金融改革',\n",
       " '水域改革',\n",
       " '油气改革',\n",
       " '国企改革',\n",
       " '民营银行',\n",
       " '资产注入',\n",
       " '外资背景',\n",
       " '高校背景']"
      ]
     },
     "execution_count": 71,
     "metadata": {},
     "output_type": "execute_result"
    }
   ],
   "source": [
    "concept_stay_list[1]"
   ]
  },
  {
   "cell_type": "code",
   "execution_count": null,
   "metadata": {
    "collapsed": true
   },
   "outputs": [],
   "source": [
    "concept_df.loc[concept_df['name'] == '安通控股']['c_name'].tolist()\n",
    "industry_df.loc[industry_df['code'] == '600179']['c_name'].tolist()"
   ]
  },
  {
   "cell_type": "code",
   "execution_count": 84,
   "metadata": {
    "collapsed": true
   },
   "outputs": [],
   "source": [
    "def list_sum(a, b): # 两列表对应元素相乘并求和\n",
    "    s = sum([ a[i]*b[i] for i in range(len(a)) ])\n",
    "    return s"
   ]
  },
  {
   "cell_type": "code",
   "execution_count": null,
   "metadata": {
    "collapsed": true
   },
   "outputs": [],
   "source": []
  },
  {
   "cell_type": "code",
   "execution_count": null,
   "metadata": {
    "collapsed": true
   },
   "outputs": [],
   "source": []
  },
  {
   "cell_type": "code",
   "execution_count": 86,
   "metadata": {
    "collapsed": true
   },
   "outputs": [],
   "source": [
    "# 5.匹配个股信息，匹配上即累计得分\n",
    "# 获取单只股票的概念信息、行业信息 --> 从而得到股票主题得分\n",
    "stock_topicscore_list = []\n",
    "for stock_code in hs300_code:\n",
    "    stock_concept = concept_df.loc[concept_df['code'] == stock_code]['c_name'].tolist()\n",
    "    stock_industry = industry_df.loc[industry_df['code'] == stock_code]['c_name'].tolist()\n",
    "    stock_topicscore = []\n",
    "    for i in range(5): # 5个主题得分\n",
    "        concept_stay = concept_stay_list[i]\n",
    "        concept_prob = concept_prob_list[i]\n",
    "        industry_stay = industry_stay_list[i]\n",
    "        industry_prob = industry_prob_list[i]\n",
    "        topickeywords_weight = topickeywords_weight_list[i]\n",
    "#         print(topickeywords_weight)\n",
    "        concept_score = sum([concept_prob[i] for i in range(len(concept_stay)) if concept_stay[i] in stock_concept])\n",
    "#         print('concept_score: %d' % concept_score)\n",
    "        industry_score = sum([industry_prob[i] for i in range(len(industry_stay)) if industry_stay[i] in stock_industry])\n",
    "#         print('industry_score: %d' % industry_score)\n",
    "        ciscore_list = [concept_score,industry_score]\n",
    "#         print(ciscore_list)\n",
    "        topicscore = list_sum(ciscore_list, topickeywords_weight)\n",
    "#         print('topicscore: %d' % topicscore)\n",
    "        stock_topicscore.append(topicscore)\n",
    "#     print(stock_topicscore)\n",
    "#     print()\n",
    "    stock_topicscore = list_sum(stock_topicscore, topicweight)\n",
    "    stock_topicscore_list.append(stock_topicscore)"
   ]
  },
  {
   "cell_type": "code",
   "execution_count": 88,
   "metadata": {
    "collapsed": true
   },
   "outputs": [
    {
     "data": {
      "text/plain": [
       "code\n",
       "002931      N锋龙\n",
       "000862     银星能源\n",
       "000505     京粮控股\n",
       "002323      雅百特\n",
       "002076    雪 莱 特\n",
       "002775     文科园林\n",
       "002930     宏川智慧\n",
       "603718     海利生物\n",
       "603838     四通股份\n",
       "300637     扬帆新材\n",
       "002693     双成药业\n",
       "002813     路畅科技\n",
       "603722      阿科力\n",
       "300634     彩讯股份\n",
       "300653     正海生物\n",
       "000613     大东海A\n",
       "300648     星云股份\n",
       "300504     天邑股份\n",
       "002888     惠威科技\n",
       "300692     中环环保\n",
       "300584     海辰药业\n",
       "603912      佳力图\n",
       "603803     瑞斯康达\n",
       "603322     超讯通信\n",
       "603214      爱婴室\n",
       "600929     湖南盐业\n",
       "300727     润禾材料\n",
       "300540     深冷股份\n",
       "300487     蓝晓科技\n",
       "300514      友讯达\n",
       "          ...  \n",
       "300436      广生堂\n",
       "603266     天龙股份\n",
       "000810     创维数字\n",
       "600135     乐凯胶片\n",
       "300557     理工光科\n",
       "300631     久吾高科\n",
       "300101     振芯科技\n",
       "300680     隆盛科技\n",
       "002208     合肥城建\n",
       "002513     蓝丰生化\n",
       "603081     大丰实业\n",
       "300216     千山药机\n",
       "600539     狮头股份\n",
       "603032     德新交运\n",
       "000703     恒逸石化\n",
       "000533    万 家 乐\n",
       "300116     坚瑞沃能\n",
       "603733     仙鹤股份\n",
       "603596      伯特利\n",
       "603301     振德医疗\n",
       "600806    *ST昆机\n",
       "600432    *ST吉恩\n",
       "300743     天地数码\n",
       "300742     越博动力\n",
       "000950    *ST建峰\n",
       "000629    *ST钒钛\n",
       "000511    *ST烯碳\n",
       "603897     长城科技\n",
       "603876     鼎胜新材\n",
       "603773     沃格光电\n",
       "Name: name, Length: 3513, dtype: object"
      ]
     },
     "execution_count": 88,
     "metadata": {},
     "output_type": "execute_result"
    }
   ],
   "source": [
    "stock_name"
   ]
  },
  {
   "cell_type": "code",
   "execution_count": 87,
   "metadata": {
    "collapsed": true
   },
   "outputs": [
    {
     "data": {
      "text/plain": [
       "[0.4777091346814292,\n",
       " 0.0,\n",
       " 0.19299950992093487,\n",
       " 0.3927911995573563,\n",
       " 0.3833762439895939,\n",
       " 0.047506152179031,\n",
       " 0.047506152179031,\n",
       " 0.09380342991193083,\n",
       " 0.4047014609082243,\n",
       " 0.18722312904512076,\n",
       " 0.0,\n",
       " 0.3153544549468604,\n",
       " 0.0968163738678847,\n",
       " 0.41717029446159826,\n",
       " 0.02230016265501589,\n",
       " 0.317429186381756,\n",
       " 0.06549442905991223,\n",
       " 0.0991087972397987,\n",
       " 0.3034183854407015,\n",
       " 0.09139644054849204,\n",
       " 0.0968163738678847,\n",
       " 0.2938383143275362,\n",
       " 0.030194298367134283,\n",
       " 0.01265655330548488,\n",
       " 0.4377656989774508,\n",
       " 0.16362616544227462,\n",
       " 0.19299950992093487,\n",
       " 0.11447239282022273,\n",
       " 0.018862189721995593,\n",
       " 0.02230016265501589,\n",
       " 0.02230016265501589,\n",
       " 0.19388016907858338,\n",
       " 0.03996125054093302,\n",
       " 0.40372015877327216,\n",
       " 0.26513601499268435,\n",
       " 0.3867652196836638,\n",
       " 0.13166597274143083,\n",
       " 0.5243623376278126,\n",
       " 0.04192581175761804,\n",
       " 0.0968163738678847,\n",
       " 0.010419398966245807,\n",
       " 0.04928900426586075,\n",
       " 0.11823198922099003,\n",
       " 0.0175377450616494,\n",
       " 0.3841520336063087,\n",
       " 0.11765517180037631,\n",
       " 0.05591453083490234,\n",
       " 0.23041739545001713,\n",
       " 0.180026541863195,\n",
       " 0.10405299385397691,\n",
       " 0.055850819710381236,\n",
       " 0.018715782882095803,\n",
       " 0.14007435139730215,\n",
       " 0.05591453083490234,\n",
       " 0.4310509584417228,\n",
       " 0.11823198922099003,\n",
       " 0.5695183953604352,\n",
       " 0.01265655330548488,\n",
       " 0.020838797932491614,\n",
       " 0.03125819689873742,\n",
       " 0.0292815886882414,\n",
       " 0.14294718973485188,\n",
       " 0.0968163738678847,\n",
       " 0.02389519199253574,\n",
       " 0.18002789921913892,\n",
       " 0.2675157211338036,\n",
       " 0.3141790361980456,\n",
       " 0.03874227501235755,\n",
       " 0.19957783802353707,\n",
       " 0.3575706194869163,\n",
       " 0.4337202853494728,\n",
       " 0.01265655330548488,\n",
       " 0.6350789339082167,\n",
       " 0.18335590057140386,\n",
       " 1.0,\n",
       " 0.01265655330548488,\n",
       " 0.1996852126034892,\n",
       " 0.11571986178820581,\n",
       " 0.29470632322206525,\n",
       " 0.09784137992145309,\n",
       " 0.17069934726591895,\n",
       " 0.22165368749302775,\n",
       " 0.01265655330548488,\n",
       " 0.2020624137055901,\n",
       " 0.21151390752969598,\n",
       " 0.3341382306941784,\n",
       " 0.2675157211338036,\n",
       " 0.13578287010398263,\n",
       " 0.1332576068498552,\n",
       " 0.1809761944302845,\n",
       " 0.2701841394591197,\n",
       " 0.29529231475033224,\n",
       " 0.10405299385397691,\n",
       " 0.18823709232756836,\n",
       " 0.1411136740615308,\n",
       " 0.0351338306795866,\n",
       " 0.055850819710381236,\n",
       " 0.03433512050762406,\n",
       " 0.3868024163863865,\n",
       " 0.09986003305996739,\n",
       " 0.04331319138502147,\n",
       " 0.04331319138502147,\n",
       " 0.09139644054849204,\n",
       " 0.0,\n",
       " 0.00846359251147535,\n",
       " 0.11447239282022273,\n",
       " 0.3153544549468604,\n",
       " 0.15308158809453615,\n",
       " 0.10306330848272094,\n",
       " 0.1157800195093616,\n",
       " 0.0,\n",
       " 0.28519277358556494,\n",
       " 0.10405299385397691,\n",
       " 0.01265655330548488,\n",
       " 0.01265655330548488,\n",
       " 0.02307595227173069,\n",
       " 0.02854422438369447,\n",
       " 0.00846359251147535,\n",
       " 0.047506152179031,\n",
       " 0.047506152179031,\n",
       " 0.1068658473585263,\n",
       " 0.09139644054849204,\n",
       " 0.09139644054849204,\n",
       " 0.029269258452133157,\n",
       " 0.18915843905729127,\n",
       " 0.013032585043600902,\n",
       " 0.0,\n",
       " 0.04331319138502147,\n",
       " 0.3070097874155102,\n",
       " 0.3563200091043639,\n",
       " 0.047506152179031,\n",
       " 0.02307595227173069,\n",
       " 0.14001064027278104,\n",
       " 0.09139644054849204,\n",
       " 0.10405299385397691,\n",
       " 0.06367158095362996,\n",
       " 0.3070097874155102,\n",
       " 0.11447239282022273,\n",
       " 0.30142944699409724,\n",
       " 0.0968163738678847,\n",
       " 0.18335590057140386,\n",
       " 0.055850819710381236,\n",
       " 0.059478620159620424,\n",
       " 0.027370306451207863,\n",
       " 0.19987968235060563,\n",
       " 0.11571986178820581,\n",
       " 0.3242048056190328,\n",
       " 0.1800099225294429,\n",
       " 0.10405299385397691,\n",
       " 0.09457921952864563,\n",
       " 0.5421948275667428,\n",
       " 0.01265655330548488,\n",
       " 0.10405299385397691,\n",
       " 0.1068658473585263,\n",
       " 0.047506152179031,\n",
       " 0.27216018854196405,\n",
       " 0.02307595227173069,\n",
       " 0.0,\n",
       " 0.010419398966245807,\n",
       " 0.09139644054849204,\n",
       " 0.09139644054849204,\n",
       " 0.030194298367134283,\n",
       " 0.646268854920143,\n",
       " 0.3918485324074415,\n",
       " 0.12400215348015049,\n",
       " 0.3153544549468604,\n",
       " 0.14207854078630044,\n",
       " 0.047506152179031,\n",
       " 0.4830015795392945,\n",
       " 0.00846359251147535,\n",
       " 0.0,\n",
       " 0.047506152179031,\n",
       " 0.055850819710381236,\n",
       " 0.47679594312278384,\n",
       " 0.027370306451207863,\n",
       " 0.04331319138502147,\n",
       " 0.047506152179031,\n",
       " 0.00846359251147535,\n",
       " 0.006205636416510711,\n",
       " 0.0,\n",
       " 0.00846359251147535,\n",
       " 0.006205636416510711,\n",
       " 0.1422697771570627,\n",
       " 0.06633392980114815,\n",
       " 0.12680668996088104,\n",
       " 0.2206648518486635,\n",
       " 0.12807457076662213,\n",
       " 0.1818648395493265,\n",
       " 0.5713751626514294,\n",
       " 0.02230016265501589,\n",
       " 0.09139644054849204,\n",
       " 0.009643609349531011,\n",
       " 0.01265655330548488,\n",
       " 0.041200777689179346,\n",
       " 0.10306330848272094,\n",
       " 0.4231788089531184,\n",
       " 0.02307595227173069,\n",
       " 0.01265655330548488,\n",
       " 0.027957144027895207,\n",
       " 0.21029908131685146,\n",
       " 0.3377168794086687,\n",
       " 0.0968163738678847,\n",
       " 0.10805501255493556,\n",
       " 0.30833028139758073,\n",
       " 0.19987968235060563,\n",
       " 0.26289886065344525,\n",
       " 0.40300189309219603,\n",
       " 0.21820549944495,\n",
       " 0.02854422438369447,\n",
       " 0.1460925917671845,\n",
       " 0.12513481735596826,\n",
       " 0.022676194393131916,\n",
       " 0.01265655330548488,\n",
       " 0.11447239282022273,\n",
       " 0.0,\n",
       " 0.09139644054849204,\n",
       " 0.14965424962231205,\n",
       " 0.10405299385397691,\n",
       " 0.15766665922511908,\n",
       " 0.01265655330548488,\n",
       " 0.8365062815986901,\n",
       " 0.4683118541687086,\n",
       " 0.02389519199253574,\n",
       " 0.1809761944302845,\n",
       " 0.1581462987884811,\n",
       " 0.00941495556776244,\n",
       " 0.051207356524911,\n",
       " 0.01983435453400825,\n",
       " 0.02854422438369447,\n",
       " 0.08415982056239982,\n",
       " 0.04040289149480877,\n",
       " 0.03700781689516982,\n",
       " 0.02307595227173069,\n",
       " 0.0334953512379765,\n",
       " 0.38892010868867716,\n",
       " 0.010419398966245807,\n",
       " 0.13353257994340037,\n",
       " 0.0,\n",
       " 0.11599483488175093,\n",
       " 0.12865138818723582,\n",
       " 0.047506152179031,\n",
       " 0.041200777689179346,\n",
       " 0.010419398966245807,\n",
       " 0.029135181848341612,\n",
       " 0.49763474105527544,\n",
       " 0.14367700581610102,\n",
       " 0.1332576068498552,\n",
       " 0.12613926075445164,\n",
       " 0.0,\n",
       " 0.010419398966245807,\n",
       " 0.11348270744896674,\n",
       " 0.02389519199253574,\n",
       " 0.0,\n",
       " 0.010419398966245807,\n",
       " 0.01265196993012961,\n",
       " 0.11348270744896674,\n",
       " 0.039837907716665295,\n",
       " 0.0,\n",
       " 0.0,\n",
       " 0.10306330848272094,\n",
       " 0.11348270744896674,\n",
       " 0.006205636416510711,\n",
       " 0.04319426640489635,\n",
       " 0.10926894489923165,\n",
       " 0.14510290639592857,\n",
       " 0.0546915678433372,\n",
       " 0.04203959791320759,\n",
       " 0.11447239282022273,\n",
       " 0.0,\n",
       " 0.12177909136481672,\n",
       " 0.14973623539271194,\n",
       " 0.04319426640489635,\n",
       " 0.11348270744896674,\n",
       " 0.10306330848272094,\n",
       " 0.029135181848341612,\n",
       " 0.2500353565474085,\n",
       " 0.28399434967666043,\n",
       " 0.09139644054849204,\n",
       " 0.0,\n",
       " 0.09139644054849204,\n",
       " 0.0,\n",
       " 0.09986003305996739,\n",
       " 0.00846359251147535,\n",
       " 0.03484959887354612,\n",
       " 0.0,\n",
       " 0.010419398966245807,\n",
       " 0.0175377450616494,\n",
       " 0.12390210641521254,\n",
       " 0.010419398966245807,\n",
       " 0.11348270744896674,\n",
       " 0.09457921952864563,\n",
       " 0.20787422193938707,\n",
       " 0.030194298367134283,\n",
       " 0.0175377450616494,\n",
       " 0.07481446535185815,\n",
       " 0.14510290639592857,\n",
       " 0.020838797932491614,\n",
       " 0.027957144027895207,\n",
       " 0.11348270744896674,\n",
       " 0.13219849033106254]"
      ]
     },
     "execution_count": 87,
     "metadata": {},
     "output_type": "execute_result"
    }
   ],
   "source": [
    "stock_topicscore_list\n",
    "# 最大最小标准化：（原数据-最小值）/（最大值-最小值）\n",
    "stock_topicscore_list = [ (i-min(stock_topicscore_list))/(max(stock_topicscore_list)-min(stock_topicscore_list)) for i in stock_topicscore_list]\n",
    "stock_topicscore_list"
   ]
  },
  {
   "cell_type": "code",
   "execution_count": 100,
   "metadata": {
    "collapsed": true
   },
   "outputs": [],
   "source": [
    "# 保存结果\n",
    "topicfactor_df = pd.DataFrame(stock_topicscore_list)\n",
    "topicfactor_df.columns = ['topicfactor']\n",
    "hs300_name_df = pd.DataFrame(hs300_name)\n",
    "hs300_name_df.columns = ['stockname']\n",
    "file_df = hs300_name_df.join(topicfactor_df)\n",
    "file_df.to_csv(\"/Users/zhangjoy/Documents/vscode/py_project/lda/stock_topicfactor_ex.csv\",encoding='gbk')"
   ]
  }
 ],
 "metadata": {
  "kernelspec": {
   "display_name": "Python 3",
   "language": "python",
   "name": "python3"
  },
  "language_info": {
   "codemirror_mode": {
    "name": "ipython",
    "version": 3
   },
   "file_extension": ".py",
   "mimetype": "text/x-python",
   "name": "python",
   "nbconvert_exporter": "python",
   "pygments_lexer": "ipython3",
   "version": "3.6.4"
  }
 },
 "nbformat": 4,
 "nbformat_minor": 2
}

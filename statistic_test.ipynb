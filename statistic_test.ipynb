{
 "cells": [
  {
   "cell_type": "code",
   "execution_count": 1,
   "metadata": {},
   "outputs": [],
   "source": [
    "import numpy as np\n",
    "import scipy.stats as stats\n",
    "import scipy.optimize as opt"
   ]
  },
  {
   "cell_type": "code",
   "execution_count": 2,
   "metadata": {},
   "outputs": [
    {
     "name": "stdout",
     "output_type": "stream",
     "text": [
      "mean of data is: -1.1919862032689468\n",
      "median of data is: -1.2485051370613434\n",
      "standard deviation of data is: 9.890533117950346\n"
     ]
    }
   ],
   "source": [
    "n = 200\n",
    "norm_dist = stats.norm(loc=0.5, scale=10)  #构造一个正态分布，均值为0.5，标准差为10  “标准差”也称“均方差”，是“方差”开根号\n",
    "dat = norm_dist.rvs(size=n)         #随机取200个点\n",
    "print (\"mean of data is: \" + str(np.mean(dat)))\n",
    "print (\"median of data is: \" + str(np.median(dat)))\n",
    "print (\"standard deviation of data is: \" + str(np.std(dat)))  #因为这200个点是随机取得，所以跟原先的正态分布可能有一些不同"
   ]
  },
  {
   "cell_type": "code",
   "execution_count": 3,
   "metadata": {},
   "outputs": [
    {
     "name": "stdout",
     "output_type": "stream",
     "text": [
      "mean of data is: 0.16150954864183784\n",
      "median of data is: 0.2328718917240204\n",
      "standard deviation of data is: 1.0202097004691926\n"
     ]
    }
   ],
   "source": [
    "norm_dist2 = stats.norm(loc=0.2, scale=1)\n",
    "dat2 = norm_dist2.rvs(size=int(n/2))#随机取100个点\n",
    "print (\"mean of data is: \" + str(np.mean(dat2)))\n",
    "print (\"median of data is: \" + str(np.median(dat2)))\n",
    "print (\"standard deviation of data is: \" + str(np.std(dat2)))"
   ]
  },
  {
   "cell_type": "code",
   "execution_count": 4,
   "metadata": {},
   "outputs": [
    {
     "name": "stdout",
     "output_type": "stream",
     "text": [
      "Two-sample t-statistic D = -1.910, p-value = 0.0575\n"
     ]
    }
   ],
   "source": [
    "stat_val, p_val = stats.ttest_ind(dat, dat2, equal_var=False)\n",
    "#看看两个分布在均值上有没有显著差异\n",
    "#注意，这里我们生成的第二组数据样本大小、方差和第一组均不相等，在运用t检验时需要使用Welch's t-test\n",
    "#即指定ttest_ind中的equal_var=False。\n",
    "print ('Two-sample t-statistic D = %6.3f, p-value = %6.4f' % (stat_val, p_val))"
   ]
  },
  {
   "cell_type": "code",
   "execution_count": 5,
   "metadata": {},
   "outputs": [
    {
     "data": {
      "text/plain": [
       "(0.3934186209743913, 0.034735931329532836)"
      ]
     },
     "execution_count": 5,
     "metadata": {},
     "output_type": "execute_result"
    }
   ],
   "source": [
    "import scipy.stats as stats  \n",
    "x = [76,81,78,76,76,78,76,78,98,88,76,66,44,67,65,59,87,77,79,85,68,76,77,98,99,98,87,67,78]    \n",
    "y = [43,33,23,34,31,51,56,43,44,45,32,33,28,39,31,38,21,27,43,46,41,41,48,56,55,45,68,54,33] \n",
    "r, p = stats.pearsonr(x,y) \n",
    "r, p"
   ]
  },
  {
   "cell_type": "code",
   "execution_count": null,
   "metadata": {},
   "outputs": [],
   "source": []
  },
  {
   "cell_type": "code",
   "execution_count": null,
   "metadata": {},
   "outputs": [],
   "source": []
  }
 ],
 "metadata": {
  "kernelspec": {
   "display_name": "Python 3",
   "language": "python",
   "name": "python3"
  },
  "language_info": {
   "codemirror_mode": {
    "name": "ipython",
    "version": 3
   },
   "file_extension": ".py",
   "mimetype": "text/x-python",
   "name": "python",
   "nbconvert_exporter": "python",
   "pygments_lexer": "ipython3",
   "version": "3.6.4"
  }
 },
 "nbformat": 4,
 "nbformat_minor": 2
}

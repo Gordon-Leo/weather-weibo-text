{
 "cells": [
  {
   "cell_type": "code",
   "execution_count": 1,
   "metadata": {},
   "outputs": [],
   "source": [
    "import pandas as pd\n",
    "import time\n",
    "import datetime"
   ]
  },
  {
   "cell_type": "markdown",
   "metadata": {},
   "source": [
    "# 读数据"
   ]
  },
  {
   "cell_type": "code",
   "execution_count": 2,
   "metadata": {},
   "outputs": [
    {
     "data": {
      "text/html": [
       "<div>\n",
       "<style scoped>\n",
       "    .dataframe tbody tr th:only-of-type {\n",
       "        vertical-align: middle;\n",
       "    }\n",
       "\n",
       "    .dataframe tbody tr th {\n",
       "        vertical-align: top;\n",
       "    }\n",
       "\n",
       "    .dataframe thead th {\n",
       "        text-align: right;\n",
       "    }\n",
       "</style>\n",
       "<table border=\"1\" class=\"dataframe\">\n",
       "  <thead>\n",
       "    <tr style=\"text-align: right;\">\n",
       "      <th></th>\n",
       "      <th>LIST</th>\n",
       "      <th>LISTID</th>\n",
       "    </tr>\n",
       "  </thead>\n",
       "  <tbody>\n",
       "    <tr>\n",
       "      <th>0</th>\n",
       "      <td>出行提示</td>\n",
       "      <td>1</td>\n",
       "    </tr>\n",
       "    <tr>\n",
       "      <th>1</th>\n",
       "      <td>花开富贵·祝福广州</td>\n",
       "      <td>2</td>\n",
       "    </tr>\n",
       "    <tr>\n",
       "      <th>2</th>\n",
       "      <td>天气涂鸦</td>\n",
       "      <td>3</td>\n",
       "    </tr>\n",
       "    <tr>\n",
       "      <th>3</th>\n",
       "      <td>温馨提示</td>\n",
       "      <td>4</td>\n",
       "    </tr>\n",
       "    <tr>\n",
       "      <th>4</th>\n",
       "      <td>台风海葵</td>\n",
       "      <td>5</td>\n",
       "    </tr>\n",
       "    <tr>\n",
       "      <th>5</th>\n",
       "      <td>午间一刻</td>\n",
       "      <td>6</td>\n",
       "    </tr>\n",
       "    <tr>\n",
       "      <th>6</th>\n",
       "      <td>看天穿衣秀</td>\n",
       "      <td>7</td>\n",
       "    </tr>\n",
       "    <tr>\n",
       "      <th>7</th>\n",
       "      <td>小编8同事</td>\n",
       "      <td>8</td>\n",
       "    </tr>\n",
       "    <tr>\n",
       "      <th>8</th>\n",
       "      <td>劳动节快乐</td>\n",
       "      <td>9</td>\n",
       "    </tr>\n",
       "    <tr>\n",
       "      <th>9</th>\n",
       "      <td>512防灾减灾日</td>\n",
       "      <td>10</td>\n",
       "    </tr>\n",
       "    <tr>\n",
       "      <th>10</th>\n",
       "      <td>广州交通</td>\n",
       "      <td>11</td>\n",
       "    </tr>\n",
       "    <tr>\n",
       "      <th>11</th>\n",
       "      <td>广州欢迎你</td>\n",
       "      <td>12</td>\n",
       "    </tr>\n",
       "    <tr>\n",
       "      <th>12</th>\n",
       "      <td>天气君撸猫日常</td>\n",
       "      <td>13</td>\n",
       "    </tr>\n",
       "    <tr>\n",
       "      <th>13</th>\n",
       "      <td>2018广州春运</td>\n",
       "      <td>14</td>\n",
       "    </tr>\n",
       "    <tr>\n",
       "      <th>14</th>\n",
       "      <td>天气会商</td>\n",
       "      <td>15</td>\n",
       "    </tr>\n",
       "    <tr>\n",
       "      <th>15</th>\n",
       "      <td>暴露年龄贴</td>\n",
       "      <td>16</td>\n",
       "    </tr>\n",
       "    <tr>\n",
       "      <th>16</th>\n",
       "      <td>横渡珠江</td>\n",
       "      <td>17</td>\n",
       "    </tr>\n",
       "    <tr>\n",
       "      <th>17</th>\n",
       "      <td>2017</td>\n",
       "      <td>18</td>\n",
       "    </tr>\n",
       "    <tr>\n",
       "      <th>18</th>\n",
       "      <td>出行指引</td>\n",
       "      <td>19</td>\n",
       "    </tr>\n",
       "    <tr>\n",
       "      <th>19</th>\n",
       "      <td>温馨提醒</td>\n",
       "      <td>20</td>\n",
       "    </tr>\n",
       "    <tr>\n",
       "      <th>20</th>\n",
       "      <td>广州能入冬吗？</td>\n",
       "      <td>21</td>\n",
       "    </tr>\n",
       "    <tr>\n",
       "      <th>21</th>\n",
       "      <td>立个flag</td>\n",
       "      <td>22</td>\n",
       "    </tr>\n",
       "    <tr>\n",
       "      <th>22</th>\n",
       "      <td>2018年世界气象日</td>\n",
       "      <td>23</td>\n",
       "    </tr>\n",
       "    <tr>\n",
       "      <th>23</th>\n",
       "      <td>春运这些天</td>\n",
       "      <td>24</td>\n",
       "    </tr>\n",
       "    <tr>\n",
       "      <th>24</th>\n",
       "      <td>气象蛋观察日志</td>\n",
       "      <td>25</td>\n",
       "    </tr>\n",
       "    <tr>\n",
       "      <th>25</th>\n",
       "      <td>早间天气提醒</td>\n",
       "      <td>26</td>\n",
       "    </tr>\n",
       "    <tr>\n",
       "      <th>26</th>\n",
       "      <td>14号台风帕克</td>\n",
       "      <td>27</td>\n",
       "    </tr>\n",
       "    <tr>\n",
       "      <th>27</th>\n",
       "      <td>小编随便8</td>\n",
       "      <td>28</td>\n",
       "    </tr>\n",
       "    <tr>\n",
       "      <th>28</th>\n",
       "      <td>南北对比系列</td>\n",
       "      <td>29</td>\n",
       "    </tr>\n",
       "    <tr>\n",
       "      <th>29</th>\n",
       "      <td>广州国际灯光节</td>\n",
       "      <td>30</td>\n",
       "    </tr>\n",
       "    <tr>\n",
       "      <th>...</th>\n",
       "      <td>...</td>\n",
       "      <td>...</td>\n",
       "    </tr>\n",
       "    <tr>\n",
       "      <th>174</th>\n",
       "      <td>随手拍广州</td>\n",
       "      <td>175</td>\n",
       "    </tr>\n",
       "    <tr>\n",
       "      <th>175</th>\n",
       "      <td>16号台风玛娃</td>\n",
       "      <td>176</td>\n",
       "    </tr>\n",
       "    <tr>\n",
       "      <th>176</th>\n",
       "      <td>预报员最近有点皮啊</td>\n",
       "      <td>177</td>\n",
       "    </tr>\n",
       "    <tr>\n",
       "      <th>177</th>\n",
       "      <td>国防教育日</td>\n",
       "      <td>178</td>\n",
       "    </tr>\n",
       "    <tr>\n",
       "      <th>178</th>\n",
       "      <td>牢记九一八</td>\n",
       "      <td>179</td>\n",
       "    </tr>\n",
       "    <tr>\n",
       "      <th>179</th>\n",
       "      <td>猎户座流星雨</td>\n",
       "      <td>180</td>\n",
       "    </tr>\n",
       "    <tr>\n",
       "      <th>180</th>\n",
       "      <td>小编分享</td>\n",
       "      <td>181</td>\n",
       "    </tr>\n",
       "    <tr>\n",
       "      <th>181</th>\n",
       "      <td>美食时刻</td>\n",
       "      <td>182</td>\n",
       "    </tr>\n",
       "    <tr>\n",
       "      <th>182</th>\n",
       "      <td>小雪</td>\n",
       "      <td>183</td>\n",
       "    </tr>\n",
       "    <tr>\n",
       "      <th>183</th>\n",
       "      <td>热带低压生成消息</td>\n",
       "      <td>184</td>\n",
       "    </tr>\n",
       "    <tr>\n",
       "      <th>184</th>\n",
       "      <td>超级月亮</td>\n",
       "      <td>185</td>\n",
       "    </tr>\n",
       "    <tr>\n",
       "      <th>185</th>\n",
       "      <td>划重点</td>\n",
       "      <td>186</td>\n",
       "    </tr>\n",
       "    <tr>\n",
       "      <th>186</th>\n",
       "      <td>双十二</td>\n",
       "      <td>187</td>\n",
       "    </tr>\n",
       "    <tr>\n",
       "      <th>187</th>\n",
       "      <td>午间分享</td>\n",
       "      <td>188</td>\n",
       "    </tr>\n",
       "    <tr>\n",
       "      <th>188</th>\n",
       "      <td>今天母亲节，打电话跟妈妈说谢谢！</td>\n",
       "      <td>189</td>\n",
       "    </tr>\n",
       "    <tr>\n",
       "      <th>189</th>\n",
       "      <td>小编8首席</td>\n",
       "      <td>190</td>\n",
       "    </tr>\n",
       "    <tr>\n",
       "      <th>190</th>\n",
       "      <td>强对流天气话你知</td>\n",
       "      <td>191</td>\n",
       "    </tr>\n",
       "    <tr>\n",
       "      <th>191</th>\n",
       "      <td>广州中考天气</td>\n",
       "      <td>192</td>\n",
       "    </tr>\n",
       "    <tr>\n",
       "      <th>192</th>\n",
       "      <td>气象汪的日常</td>\n",
       "      <td>193</td>\n",
       "    </tr>\n",
       "    <tr>\n",
       "      <th>193</th>\n",
       "      <td>气象汪日常</td>\n",
       "      <td>194</td>\n",
       "    </tr>\n",
       "    <tr>\n",
       "      <th>194</th>\n",
       "      <td>清远韶关下雪啦！</td>\n",
       "      <td>195</td>\n",
       "    </tr>\n",
       "    <tr>\n",
       "      <th>195</th>\n",
       "      <td>韶关南岭国家森林公园下雪</td>\n",
       "      <td>196</td>\n",
       "    </tr>\n",
       "    <tr>\n",
       "      <th>196</th>\n",
       "      <td>广州春运天气</td>\n",
       "      <td>197</td>\n",
       "    </tr>\n",
       "    <tr>\n",
       "      <th>197</th>\n",
       "      <td>萝岗香雪</td>\n",
       "      <td>198</td>\n",
       "    </tr>\n",
       "    <tr>\n",
       "      <th>198</th>\n",
       "      <td>气象生活</td>\n",
       "      <td>199</td>\n",
       "    </tr>\n",
       "    <tr>\n",
       "      <th>199</th>\n",
       "      <td>这样的大学给我来一个</td>\n",
       "      <td>200</td>\n",
       "    </tr>\n",
       "    <tr>\n",
       "      <th>200</th>\n",
       "      <td>气象*休闲</td>\n",
       "      <td>201</td>\n",
       "    </tr>\n",
       "    <tr>\n",
       "      <th>201</th>\n",
       "      <td>春运广州</td>\n",
       "      <td>202</td>\n",
       "    </tr>\n",
       "    <tr>\n",
       "      <th>202</th>\n",
       "      <td>气象蛋的日常</td>\n",
       "      <td>203</td>\n",
       "    </tr>\n",
       "    <tr>\n",
       "      <th>203</th>\n",
       "      <td>气象喵的日常</td>\n",
       "      <td>204</td>\n",
       "    </tr>\n",
       "  </tbody>\n",
       "</table>\n",
       "<p>204 rows × 2 columns</p>\n",
       "</div>"
      ],
      "text/plain": [
       "                 LIST  LISTID\n",
       "0                出行提示       1\n",
       "1           花开富贵·祝福广州       2\n",
       "2                天气涂鸦       3\n",
       "3                温馨提示       4\n",
       "4                台风海葵       5\n",
       "5                午间一刻       6\n",
       "6               看天穿衣秀       7\n",
       "7               小编8同事       8\n",
       "8               劳动节快乐       9\n",
       "9            512防灾减灾日      10\n",
       "10               广州交通      11\n",
       "11              广州欢迎你      12\n",
       "12            天气君撸猫日常      13\n",
       "13           2018广州春运      14\n",
       "14               天气会商      15\n",
       "15              暴露年龄贴      16\n",
       "16               横渡珠江      17\n",
       "17               2017      18\n",
       "18               出行指引      19\n",
       "19               温馨提醒      20\n",
       "20            广州能入冬吗？      21\n",
       "21             立个flag      22\n",
       "22         2018年世界气象日      23\n",
       "23              春运这些天      24\n",
       "24            气象蛋观察日志      25\n",
       "25             早间天气提醒      26\n",
       "26            14号台风帕克      27\n",
       "27              小编随便8      28\n",
       "28             南北对比系列      29\n",
       "29            广州国际灯光节      30\n",
       "..                ...     ...\n",
       "174             随手拍广州     175\n",
       "175           16号台风玛娃     176\n",
       "176         预报员最近有点皮啊     177\n",
       "177             国防教育日     178\n",
       "178             牢记九一八     179\n",
       "179            猎户座流星雨     180\n",
       "180              小编分享     181\n",
       "181              美食时刻     182\n",
       "182                小雪     183\n",
       "183          热带低压生成消息     184\n",
       "184              超级月亮     185\n",
       "185               划重点     186\n",
       "186               双十二     187\n",
       "187              午间分享     188\n",
       "188  今天母亲节，打电话跟妈妈说谢谢！     189\n",
       "189             小编8首席     190\n",
       "190          强对流天气话你知     191\n",
       "191            广州中考天气     192\n",
       "192            气象汪的日常     193\n",
       "193             气象汪日常     194\n",
       "194          清远韶关下雪啦！     195\n",
       "195      韶关南岭国家森林公园下雪     196\n",
       "196            广州春运天气     197\n",
       "197              萝岗香雪     198\n",
       "198              气象生活     199\n",
       "199        这样的大学给我来一个     200\n",
       "200             气象*休闲     201\n",
       "201              春运广州     202\n",
       "202            气象蛋的日常     203\n",
       "203            气象喵的日常     204\n",
       "\n",
       "[204 rows x 2 columns]"
      ]
     },
     "execution_count": 2,
     "metadata": {},
     "output_type": "execute_result"
    }
   ],
   "source": [
    "with open('微博api数据/小编发送内容分类码表.csv', encoding='gb18030') as f:\n",
    "    xb = pd.read_csv(f)\n",
    "xb"
   ]
  },
  {
   "cell_type": "markdown",
   "metadata": {},
   "source": [
    "# 聚类"
   ]
  },
  {
   "cell_type": "code",
   "execution_count": 3,
   "metadata": {},
   "outputs": [],
   "source": [
    "X = xb.loc[:, ['LIST']]"
   ]
  },
  {
   "cell_type": "code",
   "execution_count": 4,
   "metadata": {},
   "outputs": [
    {
     "data": {
      "text/plain": [
       "(204, 1)"
      ]
     },
     "execution_count": 4,
     "metadata": {},
     "output_type": "execute_result"
    }
   ],
   "source": [
    "X.shape"
   ]
  },
  {
   "cell_type": "code",
   "execution_count": 5,
   "metadata": {},
   "outputs": [
    {
     "data": {
      "text/html": [
       "<div>\n",
       "<style scoped>\n",
       "    .dataframe tbody tr th:only-of-type {\n",
       "        vertical-align: middle;\n",
       "    }\n",
       "\n",
       "    .dataframe tbody tr th {\n",
       "        vertical-align: top;\n",
       "    }\n",
       "\n",
       "    .dataframe thead th {\n",
       "        text-align: right;\n",
       "    }\n",
       "</style>\n",
       "<table border=\"1\" class=\"dataframe\">\n",
       "  <thead>\n",
       "    <tr style=\"text-align: right;\">\n",
       "      <th></th>\n",
       "      <th>LIST</th>\n",
       "    </tr>\n",
       "  </thead>\n",
       "  <tbody>\n",
       "    <tr>\n",
       "      <th>0</th>\n",
       "      <td>出行提示</td>\n",
       "    </tr>\n",
       "    <tr>\n",
       "      <th>1</th>\n",
       "      <td>花开富贵·祝福广州</td>\n",
       "    </tr>\n",
       "    <tr>\n",
       "      <th>2</th>\n",
       "      <td>天气涂鸦</td>\n",
       "    </tr>\n",
       "    <tr>\n",
       "      <th>3</th>\n",
       "      <td>温馨提示</td>\n",
       "    </tr>\n",
       "    <tr>\n",
       "      <th>4</th>\n",
       "      <td>台风海葵</td>\n",
       "    </tr>\n",
       "  </tbody>\n",
       "</table>\n",
       "</div>"
      ],
      "text/plain": [
       "        LIST\n",
       "0       出行提示\n",
       "1  花开富贵·祝福广州\n",
       "2       天气涂鸦\n",
       "3       温馨提示\n",
       "4       台风海葵"
      ]
     },
     "execution_count": 5,
     "metadata": {},
     "output_type": "execute_result"
    }
   ],
   "source": [
    "X.head()"
   ]
  },
  {
   "cell_type": "code",
   "execution_count": 6,
   "metadata": {},
   "outputs": [
    {
     "data": {
      "text/plain": [
       "LIST    object\n",
       "dtype: object"
      ]
     },
     "execution_count": 6,
     "metadata": {},
     "output_type": "execute_result"
    }
   ],
   "source": [
    "X.dtypes"
   ]
  },
  {
   "cell_type": "code",
   "execution_count": 7,
   "metadata": {},
   "outputs": [
    {
     "data": {
      "text/plain": [
       "count          204\n",
       "unique         204\n",
       "top       13号台风天鸽 \n",
       "freq             1\n",
       "Name: LIST, dtype: object"
      ]
     },
     "execution_count": 7,
     "metadata": {},
     "output_type": "execute_result"
    }
   ],
   "source": [
    "X.LIST.describe()"
   ]
  },
  {
   "cell_type": "code",
   "execution_count": 8,
   "metadata": {},
   "outputs": [],
   "source": [
    "import jieba"
   ]
  },
  {
   "cell_type": "code",
   "execution_count": 9,
   "metadata": {},
   "outputs": [],
   "source": [
    "def chinese_word_cut(mytext):\n",
    "    return ' '.join(jieba.cut(mytext))"
   ]
  },
  {
   "cell_type": "code",
   "execution_count": 10,
   "metadata": {},
   "outputs": [
    {
     "name": "stderr",
     "output_type": "stream",
     "text": [
      "Building prefix dict from the default dictionary ...\n",
      "Loading model from cache C:\\Users\\wu\\AppData\\Local\\Temp\\jieba.cache\n",
      "Loading model cost 0.867 seconds.\n",
      "Prefix dict has been built succesfully.\n"
     ]
    }
   ],
   "source": [
    "jieba.load_userdict(\"userdict_weibo.txt\")"
   ]
  },
  {
   "cell_type": "code",
   "execution_count": 11,
   "metadata": {},
   "outputs": [
    {
     "name": "stdout",
     "output_type": "stream",
     "text": [
      "Wall time: 11 ms\n"
     ]
    }
   ],
   "source": [
    "%%time\n",
    "X['cutted_text'] = X.LIST.apply(chinese_word_cut)"
   ]
  },
  {
   "cell_type": "code",
   "execution_count": 12,
   "metadata": {},
   "outputs": [
    {
     "data": {
      "text/html": [
       "<div>\n",
       "<style scoped>\n",
       "    .dataframe tbody tr th:only-of-type {\n",
       "        vertical-align: middle;\n",
       "    }\n",
       "\n",
       "    .dataframe tbody tr th {\n",
       "        vertical-align: top;\n",
       "    }\n",
       "\n",
       "    .dataframe thead th {\n",
       "        text-align: right;\n",
       "    }\n",
       "</style>\n",
       "<table border=\"1\" class=\"dataframe\">\n",
       "  <thead>\n",
       "    <tr style=\"text-align: right;\">\n",
       "      <th></th>\n",
       "      <th>LIST</th>\n",
       "      <th>cutted_text</th>\n",
       "    </tr>\n",
       "  </thead>\n",
       "  <tbody>\n",
       "    <tr>\n",
       "      <th>0</th>\n",
       "      <td>出行提示</td>\n",
       "      <td>出行提示</td>\n",
       "    </tr>\n",
       "    <tr>\n",
       "      <th>1</th>\n",
       "      <td>花开富贵·祝福广州</td>\n",
       "      <td>花 开 富贵 · 祝福 广州</td>\n",
       "    </tr>\n",
       "    <tr>\n",
       "      <th>2</th>\n",
       "      <td>天气涂鸦</td>\n",
       "      <td>天气涂鸦</td>\n",
       "    </tr>\n",
       "    <tr>\n",
       "      <th>3</th>\n",
       "      <td>温馨提示</td>\n",
       "      <td>温馨提示</td>\n",
       "    </tr>\n",
       "    <tr>\n",
       "      <th>4</th>\n",
       "      <td>台风海葵</td>\n",
       "      <td>台风海葵</td>\n",
       "    </tr>\n",
       "  </tbody>\n",
       "</table>\n",
       "</div>"
      ],
      "text/plain": [
       "        LIST     cutted_text\n",
       "0       出行提示            出行提示\n",
       "1  花开富贵·祝福广州  花 开 富贵 · 祝福 广州\n",
       "2       天气涂鸦            天气涂鸦\n",
       "3       温馨提示            温馨提示\n",
       "4       台风海葵            台风海葵"
      ]
     },
     "execution_count": 12,
     "metadata": {},
     "output_type": "execute_result"
    }
   ],
   "source": [
    "X.head()"
   ]
  },
  {
   "cell_type": "code",
   "execution_count": 13,
   "metadata": {},
   "outputs": [
    {
     "data": {
      "text/plain": [
       "(204, 2)"
      ]
     },
     "execution_count": 13,
     "metadata": {},
     "output_type": "execute_result"
    }
   ],
   "source": [
    "X.shape"
   ]
  },
  {
   "cell_type": "code",
   "execution_count": 67,
   "metadata": {},
   "outputs": [],
   "source": [
    "def get_custom_stopwords(stop_words_file):\n",
    "    with open(stop_words_file, encoding='utf-8') as f:\n",
    "        stopwords = f.read( )\n",
    "    stopwords_list = stopwords.split('\\n')\n",
    "    custom_stopwords_list = [i for i in stopwords_list]\n",
    "    return custom_stopwords_list"
   ]
  },
  {
   "cell_type": "code",
   "execution_count": 68,
   "metadata": {},
   "outputs": [],
   "source": [
    "stop_words_file = 'mystopwords.txt'\n",
    "stopwords = get_custom_stopwords(stop_words_file)"
   ]
  },
  {
   "cell_type": "code",
   "execution_count": 69,
   "metadata": {},
   "outputs": [
    {
     "data": {
      "text/plain": [
       "['费用', '创下', '体验', '下发', '活跃', '陆续', '企业', '集团', '收到', '十大']"
      ]
     },
     "execution_count": 69,
     "metadata": {},
     "output_type": "execute_result"
    }
   ],
   "source": [
    "stopwords[-10:]"
   ]
  },
  {
   "cell_type": "code",
   "execution_count": 14,
   "metadata": {},
   "outputs": [],
   "source": [
    "from sklearn.feature_extraction.text import CountVectorizer"
   ]
  },
  {
   "cell_type": "code",
   "execution_count": 15,
   "metadata": {},
   "outputs": [],
   "source": [
    "vect = CountVectorizer()"
   ]
  },
  {
   "cell_type": "code",
   "execution_count": 16,
   "metadata": {},
   "outputs": [],
   "source": [
    "term_matrix = pd.DataFrame(vect.fit_transform(X.cutted_text).toarray(), columns=vect.get_feature_names())"
   ]
  },
  {
   "cell_type": "code",
   "execution_count": 17,
   "metadata": {},
   "outputs": [
    {
     "data": {
      "text/html": [
       "<div>\n",
       "<style scoped>\n",
       "    .dataframe tbody tr th:only-of-type {\n",
       "        vertical-align: middle;\n",
       "    }\n",
       "\n",
       "    .dataframe tbody tr th {\n",
       "        vertical-align: top;\n",
       "    }\n",
       "\n",
       "    .dataframe thead th {\n",
       "        text-align: right;\n",
       "    }\n",
       "</style>\n",
       "<table border=\"1\" class=\"dataframe\">\n",
       "  <thead>\n",
       "    <tr style=\"text-align: right;\">\n",
       "      <th></th>\n",
       "      <th>12</th>\n",
       "      <th>12生日快乐</th>\n",
       "      <th>13号台风天鸽</th>\n",
       "      <th>14号台风帕克</th>\n",
       "      <th>14号台风帕卡</th>\n",
       "      <th>16号台风玛娃</th>\n",
       "      <th>18号台风泰利</th>\n",
       "      <th>2017</th>\n",
       "      <th>2017初台</th>\n",
       "      <th>2017国庆中秋天气</th>\n",
       "      <th>...</th>\n",
       "      <th>随手拍昨日广州</th>\n",
       "      <th>随手拍蓝天</th>\n",
       "      <th>雨水节气</th>\n",
       "      <th>霍金离世</th>\n",
       "      <th>韶关</th>\n",
       "      <th>韶关南岭国家森林公园下雪</th>\n",
       "      <th>预报员最近有点皮啊</th>\n",
       "      <th>预防</th>\n",
       "      <th>首席和你聊聊春节天气那些事儿</th>\n",
       "      <th>高温来袭</th>\n",
       "    </tr>\n",
       "  </thead>\n",
       "  <tbody>\n",
       "    <tr>\n",
       "      <th>0</th>\n",
       "      <td>0</td>\n",
       "      <td>0</td>\n",
       "      <td>0</td>\n",
       "      <td>0</td>\n",
       "      <td>0</td>\n",
       "      <td>0</td>\n",
       "      <td>0</td>\n",
       "      <td>0</td>\n",
       "      <td>0</td>\n",
       "      <td>0</td>\n",
       "      <td>...</td>\n",
       "      <td>0</td>\n",
       "      <td>0</td>\n",
       "      <td>0</td>\n",
       "      <td>0</td>\n",
       "      <td>0</td>\n",
       "      <td>0</td>\n",
       "      <td>0</td>\n",
       "      <td>0</td>\n",
       "      <td>0</td>\n",
       "      <td>0</td>\n",
       "    </tr>\n",
       "    <tr>\n",
       "      <th>1</th>\n",
       "      <td>0</td>\n",
       "      <td>0</td>\n",
       "      <td>0</td>\n",
       "      <td>0</td>\n",
       "      <td>0</td>\n",
       "      <td>0</td>\n",
       "      <td>0</td>\n",
       "      <td>0</td>\n",
       "      <td>0</td>\n",
       "      <td>0</td>\n",
       "      <td>...</td>\n",
       "      <td>0</td>\n",
       "      <td>0</td>\n",
       "      <td>0</td>\n",
       "      <td>0</td>\n",
       "      <td>0</td>\n",
       "      <td>0</td>\n",
       "      <td>0</td>\n",
       "      <td>0</td>\n",
       "      <td>0</td>\n",
       "      <td>0</td>\n",
       "    </tr>\n",
       "    <tr>\n",
       "      <th>2</th>\n",
       "      <td>0</td>\n",
       "      <td>0</td>\n",
       "      <td>0</td>\n",
       "      <td>0</td>\n",
       "      <td>0</td>\n",
       "      <td>0</td>\n",
       "      <td>0</td>\n",
       "      <td>0</td>\n",
       "      <td>0</td>\n",
       "      <td>0</td>\n",
       "      <td>...</td>\n",
       "      <td>0</td>\n",
       "      <td>0</td>\n",
       "      <td>0</td>\n",
       "      <td>0</td>\n",
       "      <td>0</td>\n",
       "      <td>0</td>\n",
       "      <td>0</td>\n",
       "      <td>0</td>\n",
       "      <td>0</td>\n",
       "      <td>0</td>\n",
       "    </tr>\n",
       "    <tr>\n",
       "      <th>3</th>\n",
       "      <td>0</td>\n",
       "      <td>0</td>\n",
       "      <td>0</td>\n",
       "      <td>0</td>\n",
       "      <td>0</td>\n",
       "      <td>0</td>\n",
       "      <td>0</td>\n",
       "      <td>0</td>\n",
       "      <td>0</td>\n",
       "      <td>0</td>\n",
       "      <td>...</td>\n",
       "      <td>0</td>\n",
       "      <td>0</td>\n",
       "      <td>0</td>\n",
       "      <td>0</td>\n",
       "      <td>0</td>\n",
       "      <td>0</td>\n",
       "      <td>0</td>\n",
       "      <td>0</td>\n",
       "      <td>0</td>\n",
       "      <td>0</td>\n",
       "    </tr>\n",
       "    <tr>\n",
       "      <th>4</th>\n",
       "      <td>0</td>\n",
       "      <td>0</td>\n",
       "      <td>0</td>\n",
       "      <td>0</td>\n",
       "      <td>0</td>\n",
       "      <td>0</td>\n",
       "      <td>0</td>\n",
       "      <td>0</td>\n",
       "      <td>0</td>\n",
       "      <td>0</td>\n",
       "      <td>...</td>\n",
       "      <td>0</td>\n",
       "      <td>0</td>\n",
       "      <td>0</td>\n",
       "      <td>0</td>\n",
       "      <td>0</td>\n",
       "      <td>0</td>\n",
       "      <td>0</td>\n",
       "      <td>0</td>\n",
       "      <td>0</td>\n",
       "      <td>0</td>\n",
       "    </tr>\n",
       "  </tbody>\n",
       "</table>\n",
       "<p>5 rows × 225 columns</p>\n",
       "</div>"
      ],
      "text/plain": [
       "   12  12生日快乐  13号台风天鸽  14号台风帕克  14号台风帕卡  16号台风玛娃  18号台风泰利  2017  2017初台  \\\n",
       "0   0       0        0        0        0        0        0     0       0   \n",
       "1   0       0        0        0        0        0        0     0       0   \n",
       "2   0       0        0        0        0        0        0     0       0   \n",
       "3   0       0        0        0        0        0        0     0       0   \n",
       "4   0       0        0        0        0        0        0     0       0   \n",
       "\n",
       "   2017国庆中秋天气  ...   随手拍昨日广州  随手拍蓝天  雨水节气  霍金离世  韶关  韶关南岭国家森林公园下雪  预报员最近有点皮啊  \\\n",
       "0           0  ...         0      0     0     0   0             0          0   \n",
       "1           0  ...         0      0     0     0   0             0          0   \n",
       "2           0  ...         0      0     0     0   0             0          0   \n",
       "3           0  ...         0      0     0     0   0             0          0   \n",
       "4           0  ...         0      0     0     0   0             0          0   \n",
       "\n",
       "   预防  首席和你聊聊春节天气那些事儿  高温来袭  \n",
       "0   0               0     0  \n",
       "1   0               0     0  \n",
       "2   0               0     0  \n",
       "3   0               0     0  \n",
       "4   0               0     0  \n",
       "\n",
       "[5 rows x 225 columns]"
      ]
     },
     "execution_count": 17,
     "metadata": {},
     "output_type": "execute_result"
    }
   ],
   "source": [
    "term_matrix.head()"
   ]
  },
  {
   "cell_type": "code",
   "execution_count": 18,
   "metadata": {},
   "outputs": [
    {
     "data": {
      "text/plain": [
       "(204, 225)"
      ]
     },
     "execution_count": 18,
     "metadata": {},
     "output_type": "execute_result"
    }
   ],
   "source": [
    "term_matrix.shape"
   ]
  },
  {
   "cell_type": "code",
   "execution_count": 75,
   "metadata": {},
   "outputs": [],
   "source": [
    "# df.head()\n",
    "\n",
    "# df.shape\n",
    "\n",
    "# %%time\n",
    "# frames = [df['id'], df['statdate'], term_matrix]\n",
    "# result = pd.concat(frames, axis = 1)\n",
    "\n",
    "# result.head()\n",
    "\n",
    "# result.shape\n",
    "\n",
    "# %%time\n",
    "# result.to_csv('output.csv', encoding='gb18030')"
   ]
  },
  {
   "cell_type": "code",
   "execution_count": 76,
   "metadata": {},
   "outputs": [],
   "source": [
    "vect = CountVectorizer(stop_words=frozenset(stopwords)) #加上停用词去除功能"
   ]
  },
  {
   "cell_type": "code",
   "execution_count": 77,
   "metadata": {},
   "outputs": [],
   "source": [
    "term_matrix = pd.DataFrame(vect.fit_transform(X.cutted_text).toarray(), columns=vect.get_feature_names())"
   ]
  },
  {
   "cell_type": "code",
   "execution_count": 78,
   "metadata": {},
   "outputs": [
    {
     "data": {
      "text/html": [
       "<div>\n",
       "<style scoped>\n",
       "    .dataframe tbody tr th:only-of-type {\n",
       "        vertical-align: middle;\n",
       "    }\n",
       "\n",
       "    .dataframe tbody tr th {\n",
       "        vertical-align: top;\n",
       "    }\n",
       "\n",
       "    .dataframe thead th {\n",
       "        text-align: right;\n",
       "    }\n",
       "</style>\n",
       "<table border=\"1\" class=\"dataframe\">\n",
       "  <thead>\n",
       "    <tr style=\"text-align: right;\">\n",
       "      <th></th>\n",
       "      <th>12</th>\n",
       "      <th>12生日快乐</th>\n",
       "      <th>13号台风天鸽</th>\n",
       "      <th>14号台风帕克</th>\n",
       "      <th>14号台风帕卡</th>\n",
       "      <th>16号台风玛娃</th>\n",
       "      <th>18号台风泰利</th>\n",
       "      <th>2017</th>\n",
       "      <th>2017初台</th>\n",
       "      <th>2017国庆中秋天气</th>\n",
       "      <th>...</th>\n",
       "      <th>随手拍昨日广州</th>\n",
       "      <th>随手拍蓝天</th>\n",
       "      <th>雨水节气</th>\n",
       "      <th>霍金离世</th>\n",
       "      <th>韶关</th>\n",
       "      <th>韶关南岭国家森林公园下雪</th>\n",
       "      <th>预报员最近有点皮啊</th>\n",
       "      <th>预防</th>\n",
       "      <th>首席和你聊聊春节天气那些事儿</th>\n",
       "      <th>高温来袭</th>\n",
       "    </tr>\n",
       "  </thead>\n",
       "  <tbody>\n",
       "    <tr>\n",
       "      <th>0</th>\n",
       "      <td>0</td>\n",
       "      <td>0</td>\n",
       "      <td>0</td>\n",
       "      <td>0</td>\n",
       "      <td>0</td>\n",
       "      <td>0</td>\n",
       "      <td>0</td>\n",
       "      <td>0</td>\n",
       "      <td>0</td>\n",
       "      <td>0</td>\n",
       "      <td>...</td>\n",
       "      <td>0</td>\n",
       "      <td>0</td>\n",
       "      <td>0</td>\n",
       "      <td>0</td>\n",
       "      <td>0</td>\n",
       "      <td>0</td>\n",
       "      <td>0</td>\n",
       "      <td>0</td>\n",
       "      <td>0</td>\n",
       "      <td>0</td>\n",
       "    </tr>\n",
       "    <tr>\n",
       "      <th>1</th>\n",
       "      <td>0</td>\n",
       "      <td>0</td>\n",
       "      <td>0</td>\n",
       "      <td>0</td>\n",
       "      <td>0</td>\n",
       "      <td>0</td>\n",
       "      <td>0</td>\n",
       "      <td>0</td>\n",
       "      <td>0</td>\n",
       "      <td>0</td>\n",
       "      <td>...</td>\n",
       "      <td>0</td>\n",
       "      <td>0</td>\n",
       "      <td>0</td>\n",
       "      <td>0</td>\n",
       "      <td>0</td>\n",
       "      <td>0</td>\n",
       "      <td>0</td>\n",
       "      <td>0</td>\n",
       "      <td>0</td>\n",
       "      <td>0</td>\n",
       "    </tr>\n",
       "    <tr>\n",
       "      <th>2</th>\n",
       "      <td>0</td>\n",
       "      <td>0</td>\n",
       "      <td>0</td>\n",
       "      <td>0</td>\n",
       "      <td>0</td>\n",
       "      <td>0</td>\n",
       "      <td>0</td>\n",
       "      <td>0</td>\n",
       "      <td>0</td>\n",
       "      <td>0</td>\n",
       "      <td>...</td>\n",
       "      <td>0</td>\n",
       "      <td>0</td>\n",
       "      <td>0</td>\n",
       "      <td>0</td>\n",
       "      <td>0</td>\n",
       "      <td>0</td>\n",
       "      <td>0</td>\n",
       "      <td>0</td>\n",
       "      <td>0</td>\n",
       "      <td>0</td>\n",
       "    </tr>\n",
       "    <tr>\n",
       "      <th>3</th>\n",
       "      <td>0</td>\n",
       "      <td>0</td>\n",
       "      <td>0</td>\n",
       "      <td>0</td>\n",
       "      <td>0</td>\n",
       "      <td>0</td>\n",
       "      <td>0</td>\n",
       "      <td>0</td>\n",
       "      <td>0</td>\n",
       "      <td>0</td>\n",
       "      <td>...</td>\n",
       "      <td>0</td>\n",
       "      <td>0</td>\n",
       "      <td>0</td>\n",
       "      <td>0</td>\n",
       "      <td>0</td>\n",
       "      <td>0</td>\n",
       "      <td>0</td>\n",
       "      <td>0</td>\n",
       "      <td>0</td>\n",
       "      <td>0</td>\n",
       "    </tr>\n",
       "    <tr>\n",
       "      <th>4</th>\n",
       "      <td>0</td>\n",
       "      <td>0</td>\n",
       "      <td>0</td>\n",
       "      <td>0</td>\n",
       "      <td>0</td>\n",
       "      <td>0</td>\n",
       "      <td>0</td>\n",
       "      <td>0</td>\n",
       "      <td>0</td>\n",
       "      <td>0</td>\n",
       "      <td>...</td>\n",
       "      <td>0</td>\n",
       "      <td>0</td>\n",
       "      <td>0</td>\n",
       "      <td>0</td>\n",
       "      <td>0</td>\n",
       "      <td>0</td>\n",
       "      <td>0</td>\n",
       "      <td>0</td>\n",
       "      <td>0</td>\n",
       "      <td>0</td>\n",
       "    </tr>\n",
       "  </tbody>\n",
       "</table>\n",
       "<p>5 rows × 221 columns</p>\n",
       "</div>"
      ],
      "text/plain": [
       "   12  12生日快乐  13号台风天鸽  14号台风帕克  14号台风帕卡  16号台风玛娃  18号台风泰利  2017  2017初台  \\\n",
       "0   0       0        0        0        0        0        0     0       0   \n",
       "1   0       0        0        0        0        0        0     0       0   \n",
       "2   0       0        0        0        0        0        0     0       0   \n",
       "3   0       0        0        0        0        0        0     0       0   \n",
       "4   0       0        0        0        0        0        0     0       0   \n",
       "\n",
       "   2017国庆中秋天气  ...   随手拍昨日广州  随手拍蓝天  雨水节气  霍金离世  韶关  韶关南岭国家森林公园下雪  预报员最近有点皮啊  \\\n",
       "0           0  ...         0      0     0     0   0             0          0   \n",
       "1           0  ...         0      0     0     0   0             0          0   \n",
       "2           0  ...         0      0     0     0   0             0          0   \n",
       "3           0  ...         0      0     0     0   0             0          0   \n",
       "4           0  ...         0      0     0     0   0             0          0   \n",
       "\n",
       "   预防  首席和你聊聊春节天气那些事儿  高温来袭  \n",
       "0   0               0     0  \n",
       "1   0               0     0  \n",
       "2   0               0     0  \n",
       "3   0               0     0  \n",
       "4   0               0     0  \n",
       "\n",
       "[5 rows x 221 columns]"
      ]
     },
     "execution_count": 78,
     "metadata": {},
     "output_type": "execute_result"
    }
   ],
   "source": [
    "term_matrix.head()"
   ]
  },
  {
   "cell_type": "markdown",
   "metadata": {},
   "source": [
    "# 这部分不用"
   ]
  },
  {
   "cell_type": "code",
   "execution_count": 33,
   "metadata": {},
   "outputs": [],
   "source": [
    "max_df = 0.8 # 在超过这一比例的文档中出现的关键词（过于平凡），去除掉。\n",
    "min_df = 3 # 在地狱这一数量的文档中出现的关键词（过于独特），去除掉。"
   ]
  },
  {
   "cell_type": "code",
   "execution_count": 34,
   "metadata": {},
   "outputs": [],
   "source": [
    "vect = CountVectorizer(max_df=max_df,\n",
    "                      min_df=min_df,\n",
    "                      token_pattern=u'(?u)\\\\b[^\\\\d\\\\W]\\\\w+\\\\b',\n",
    "                      stop_words=frozenset(stopwords))"
   ]
  },
  {
   "cell_type": "code",
   "execution_count": 35,
   "metadata": {},
   "outputs": [],
   "source": [
    "term_matrix = pd.DataFrame(vect.fit_transform(X.cutted_text).toarray(), columns=vect.get_feature_names())"
   ]
  },
  {
   "cell_type": "code",
   "execution_count": 36,
   "metadata": {},
   "outputs": [
    {
     "data": {
      "text/html": [
       "<div>\n",
       "<style scoped>\n",
       "    .dataframe tbody tr th:only-of-type {\n",
       "        vertical-align: middle;\n",
       "    }\n",
       "\n",
       "    .dataframe tbody tr th {\n",
       "        vertical-align: top;\n",
       "    }\n",
       "\n",
       "    .dataframe thead th {\n",
       "        text-align: right;\n",
       "    }\n",
       "</style>\n",
       "<table border=\"1\" class=\"dataframe\">\n",
       "  <thead>\n",
       "    <tr style=\"text-align: right;\">\n",
       "      <th></th>\n",
       "      <th>广州</th>\n",
       "    </tr>\n",
       "  </thead>\n",
       "  <tbody>\n",
       "    <tr>\n",
       "      <th>0</th>\n",
       "      <td>0</td>\n",
       "    </tr>\n",
       "    <tr>\n",
       "      <th>1</th>\n",
       "      <td>1</td>\n",
       "    </tr>\n",
       "    <tr>\n",
       "      <th>2</th>\n",
       "      <td>0</td>\n",
       "    </tr>\n",
       "    <tr>\n",
       "      <th>3</th>\n",
       "      <td>0</td>\n",
       "    </tr>\n",
       "    <tr>\n",
       "      <th>4</th>\n",
       "      <td>0</td>\n",
       "    </tr>\n",
       "  </tbody>\n",
       "</table>\n",
       "</div>"
      ],
      "text/plain": [
       "   广州\n",
       "0   0\n",
       "1   1\n",
       "2   0\n",
       "3   0\n",
       "4   0"
      ]
     },
     "execution_count": 36,
     "metadata": {},
     "output_type": "execute_result"
    }
   ],
   "source": [
    "term_matrix.head()"
   ]
  },
  {
   "cell_type": "code",
   "execution_count": 79,
   "metadata": {},
   "outputs": [],
   "source": [
    "n_features = 1000"
   ]
  },
  {
   "cell_type": "code",
   "execution_count": 38,
   "metadata": {},
   "outputs": [],
   "source": [
    "tf_vectorizer = CountVectorizer(max_features=n_features,\n",
    "                               max_df=max_df,\n",
    "                               min_df=min_df,\n",
    "                               token_pattern=u'(?u)\\\\b[^\\\\d\\\\W]\\\\w+\\\\b',\n",
    "                               stop_words=frozenset(stopwords))"
   ]
  },
  {
   "cell_type": "code",
   "execution_count": 39,
   "metadata": {},
   "outputs": [],
   "source": [
    "term_matrix = pd.DataFrame(tf_vectorizer.fit_transform(X.cutted_text).toarray(), columns=tf_vectorizer.get_feature_names())"
   ]
  },
  {
   "cell_type": "code",
   "execution_count": 40,
   "metadata": {},
   "outputs": [
    {
     "data": {
      "text/html": [
       "<div>\n",
       "<style scoped>\n",
       "    .dataframe tbody tr th:only-of-type {\n",
       "        vertical-align: middle;\n",
       "    }\n",
       "\n",
       "    .dataframe tbody tr th {\n",
       "        vertical-align: top;\n",
       "    }\n",
       "\n",
       "    .dataframe thead th {\n",
       "        text-align: right;\n",
       "    }\n",
       "</style>\n",
       "<table border=\"1\" class=\"dataframe\">\n",
       "  <thead>\n",
       "    <tr style=\"text-align: right;\">\n",
       "      <th></th>\n",
       "      <th>广州</th>\n",
       "    </tr>\n",
       "  </thead>\n",
       "  <tbody>\n",
       "    <tr>\n",
       "      <th>0</th>\n",
       "      <td>0</td>\n",
       "    </tr>\n",
       "    <tr>\n",
       "      <th>1</th>\n",
       "      <td>1</td>\n",
       "    </tr>\n",
       "    <tr>\n",
       "      <th>2</th>\n",
       "      <td>0</td>\n",
       "    </tr>\n",
       "    <tr>\n",
       "      <th>3</th>\n",
       "      <td>0</td>\n",
       "    </tr>\n",
       "    <tr>\n",
       "      <th>4</th>\n",
       "      <td>0</td>\n",
       "    </tr>\n",
       "  </tbody>\n",
       "</table>\n",
       "</div>"
      ],
      "text/plain": [
       "   广州\n",
       "0   0\n",
       "1   1\n",
       "2   0\n",
       "3   0\n",
       "4   0"
      ]
     },
     "execution_count": 40,
     "metadata": {},
     "output_type": "execute_result"
    }
   ],
   "source": [
    "term_matrix.head()"
   ]
  },
  {
   "cell_type": "markdown",
   "metadata": {},
   "source": [
    "# 以上结束"
   ]
  },
  {
   "cell_type": "code",
   "execution_count": 19,
   "metadata": {},
   "outputs": [
    {
     "data": {
      "text/plain": [
       "(204, 225)"
      ]
     },
     "execution_count": 19,
     "metadata": {},
     "output_type": "execute_result"
    }
   ],
   "source": [
    "term_matrix.shape"
   ]
  },
  {
   "cell_type": "code",
   "execution_count": 20,
   "metadata": {},
   "outputs": [
    {
     "data": {
      "text/plain": [
       "(204, 2)"
      ]
     },
     "execution_count": 20,
     "metadata": {},
     "output_type": "execute_result"
    }
   ],
   "source": [
    "xb.shape"
   ]
  },
  {
   "cell_type": "code",
   "execution_count": 22,
   "metadata": {},
   "outputs": [],
   "source": [
    "ve = vect.fit_transform(X.cutted_text)"
   ]
  },
  {
   "cell_type": "code",
   "execution_count": 24,
   "metadata": {},
   "outputs": [],
   "source": [
    "from sklearn.decomposition import LatentDirichletAllocation"
   ]
  },
  {
   "cell_type": "code",
   "execution_count": 25,
   "metadata": {},
   "outputs": [],
   "source": [
    "n_topics = 5\n",
    "lda = LatentDirichletAllocation(n_topics=n_topics,\n",
    "                               max_iter=50,\n",
    "                               learning_method='online',\n",
    "                               learning_offset=50.,\n",
    "                               random_state=0)"
   ]
  },
  {
   "cell_type": "code",
   "execution_count": 26,
   "metadata": {},
   "outputs": [
    {
     "name": "stderr",
     "output_type": "stream",
     "text": [
      "D:\\Anaconda3\\lib\\site-packages\\sklearn\\decomposition\\online_lda.py:294: DeprecationWarning: n_topics has been renamed to n_components in version 0.19 and will be removed in 0.21\n",
      "  DeprecationWarning)\n"
     ]
    },
    {
     "name": "stdout",
     "output_type": "stream",
     "text": [
      "Wall time: 1.12 s\n"
     ]
    },
    {
     "data": {
      "text/plain": [
       "LatentDirichletAllocation(batch_size=128, doc_topic_prior=None,\n",
       "             evaluate_every=-1, learning_decay=0.7,\n",
       "             learning_method='online', learning_offset=50.0,\n",
       "             max_doc_update_iter=100, max_iter=50, mean_change_tol=0.001,\n",
       "             n_components=10, n_jobs=1, n_topics=5, perp_tol=0.1,\n",
       "             random_state=0, topic_word_prior=None,\n",
       "             total_samples=1000000.0, verbose=0)"
      ]
     },
     "execution_count": 26,
     "metadata": {},
     "output_type": "execute_result"
    }
   ],
   "source": [
    "%%time\n",
    "lda.fit(ve)"
   ]
  },
  {
   "cell_type": "code",
   "execution_count": 27,
   "metadata": {},
   "outputs": [],
   "source": [
    "def print_top_words(model, feature_names, n_top_words):\n",
    "    for topic_idx, topic in enumerate(model.components_):\n",
    "        print('Topic #%d:' % topic_idx)\n",
    "        print(' '.join([feature_names[i]\n",
    "                      for i in topic.argsort()[:-n_top_words -1:-1]]))\n",
    "    print()"
   ]
  },
  {
   "cell_type": "code",
   "execution_count": 28,
   "metadata": {},
   "outputs": [],
   "source": [
    "n_top_words = 20"
   ]
  },
  {
   "cell_type": "code",
   "execution_count": 29,
   "metadata": {},
   "outputs": [
    {
     "name": "stdout",
     "output_type": "stream",
     "text": [
      "Topic #0:\n",
      "13号台风天鸽 嗨森一刻 天气君又要发糖啦 2018春运广州 台风卡努 天气福利 小编分享 奇景 国防教育日 气象 气象喵的日常 台风委员会成立50周年 超级月亮 小雪 牢记九一八 双十一天气大剧透 每日一图 晚安 广州九月的高温 2018广州春运\n",
      "Topic #1:\n",
      "台风 吃货的幸福指数 笑归笑南方的朋友去了北方可要注意 2018世界气象日 这样的大学给我来一个 卡努 气象 韶关南岭国家森林公园下雪 广式生活 纳沙 气象汪的日常 热带低压生成消息 科技周开放日 百万粉丝回馈计划 休闲 抗震救灾气象行动 18号台风泰利 广州春运天气 随手拍广州 预报员最近有点皮啊\n",
      "Topic #2:\n",
      "喜雨 转移 下雪了 国家 妈妈 韶关 天气君的科普time 下雪 12 强对流天气话你知 今天小暑 雨水节气 中大11 打电话 广州天气预警 谢谢 12生日快乐 超粤影响力 母亲节 广州中考天气\n",
      "Topic #3:\n",
      "立个flag 天气直播预告 太阳 猎户座流星雨 我们的广州 午间分享 广州同城 小编8节气 16号台风玛娃 天气微科普 政务微博优秀案例征集 广州春运 划重点 气象蛋的日常 萝岗香雪 明天 随手拍昨日广州 气象生活 秋高气爽 预防\n",
      "Topic #4:\n",
      "独在 每逢佳节倍思亲 双十二 交通实况 地铁抗风行动 小编8科普 气象汪日常 520相约广州天气君 今日大暑 异客 天气话你知 今天立夏 春运广州 异乡 天气会商 劳动节 财富论坛 天气涂鸦 小编8天科普 论如何在广州看雪人\n",
      "\n"
     ]
    }
   ],
   "source": [
    "ve_feature_names = vect.get_feature_names()\n",
    "print_top_words(lda, ve_feature_names, n_top_words)"
   ]
  },
  {
   "cell_type": "code",
   "execution_count": 31,
   "metadata": {},
   "outputs": [
    {
     "name": "stderr",
     "output_type": "stream",
     "text": [
      "D:\\Anaconda3\\lib\\site-packages\\pyLDAvis\\_prepare.py:387: DeprecationWarning: \n",
      ".ix is deprecated. Please use\n",
      ".loc for label based indexing or\n",
      ".iloc for positional indexing\n",
      "\n",
      "See the documentation here:\n",
      "http://pandas.pydata.org/pandas-docs/stable/indexing.html#ix-indexer-is-deprecated\n",
      "  topic_term_dists = topic_term_dists.ix[topic_order]\n"
     ]
    },
    {
     "data": {
      "text/html": [
       "\n",
       "<link rel=\"stylesheet\" type=\"text/css\" href=\"https://cdn.rawgit.com/bmabey/pyLDAvis/files/ldavis.v1.0.0.css\">\n",
       "\n",
       "\n",
       "<div id=\"ldavis_el508010138056897369526906917\"></div>\n",
       "<script type=\"text/javascript\">\n",
       "\n",
       "var ldavis_el508010138056897369526906917_data = {\"mdsDat\": {\"Freq\": [21.57673210941952, 20.279138082994304, 19.535381972301177, 19.448537697261838, 19.16021013802316], \"cluster\": [1, 1, 1, 1, 1], \"topics\": [1, 2, 3, 4, 5], \"x\": [0.05617402547001688, -0.12350835920996411, -0.00617424755077012, 0.04641075861248493, 0.02709782267823246], \"y\": [-0.10976056752563086, -0.010848104328983862, 0.0008479299960489347, 0.08211290805189109, 0.0376478338066747]}, \"tinfo\": {\"Category\": [\"Default\", \"Default\", \"Default\", \"Default\", \"Default\", \"Default\", \"Default\", \"Default\", \"Default\", \"Default\", \"Default\", \"Default\", \"Default\", \"Default\", \"Default\", \"Default\", \"Default\", \"Default\", \"Default\", \"Default\", \"Default\", \"Default\", \"Default\", \"Default\", \"Default\", \"Default\", \"Default\", \"Default\", \"Default\", \"Default\", \"Topic1\", \"Topic1\", \"Topic1\", \"Topic1\", \"Topic1\", \"Topic1\", \"Topic1\", \"Topic1\", \"Topic1\", \"Topic1\", \"Topic1\", \"Topic1\", \"Topic1\", \"Topic1\", \"Topic1\", \"Topic1\", \"Topic1\", \"Topic1\", \"Topic1\", \"Topic1\", \"Topic1\", \"Topic1\", \"Topic1\", \"Topic1\", \"Topic1\", \"Topic1\", \"Topic1\", \"Topic1\", \"Topic1\", \"Topic1\", \"Topic1\", \"Topic1\", \"Topic1\", \"Topic1\", \"Topic1\", \"Topic1\", \"Topic1\", \"Topic1\", \"Topic1\", \"Topic2\", \"Topic2\", \"Topic2\", \"Topic2\", \"Topic2\", \"Topic2\", \"Topic2\", \"Topic2\", \"Topic2\", \"Topic2\", \"Topic2\", \"Topic2\", \"Topic2\", \"Topic2\", \"Topic2\", \"Topic2\", \"Topic2\", \"Topic2\", \"Topic2\", \"Topic2\", \"Topic2\", \"Topic2\", \"Topic2\", \"Topic2\", \"Topic2\", \"Topic2\", \"Topic2\", \"Topic2\", \"Topic2\", \"Topic2\", \"Topic2\", \"Topic2\", \"Topic2\", \"Topic2\", \"Topic3\", \"Topic3\", \"Topic3\", \"Topic3\", \"Topic3\", \"Topic3\", \"Topic3\", \"Topic3\", \"Topic3\", \"Topic3\", \"Topic3\", \"Topic3\", \"Topic3\", \"Topic3\", \"Topic3\", \"Topic3\", \"Topic3\", \"Topic3\", \"Topic3\", \"Topic3\", \"Topic3\", \"Topic3\", \"Topic3\", \"Topic3\", \"Topic3\", \"Topic3\", \"Topic3\", \"Topic3\", \"Topic3\", \"Topic3\", \"Topic3\", \"Topic3\", \"Topic3\", \"Topic3\", \"Topic3\", \"Topic3\", \"Topic4\", \"Topic4\", \"Topic4\", \"Topic4\", \"Topic4\", \"Topic4\", \"Topic4\", \"Topic4\", \"Topic4\", \"Topic4\", \"Topic4\", \"Topic4\", \"Topic4\", \"Topic4\", \"Topic4\", \"Topic4\", \"Topic4\", \"Topic4\", \"Topic4\", \"Topic4\", \"Topic4\", \"Topic4\", \"Topic4\", \"Topic4\", \"Topic4\", \"Topic4\", \"Topic4\", \"Topic4\", \"Topic4\", \"Topic4\", \"Topic4\", \"Topic4\", \"Topic4\", \"Topic4\", \"Topic4\", \"Topic4\", \"Topic4\", \"Topic4\", \"Topic4\", \"Topic5\", \"Topic5\", \"Topic5\", \"Topic5\", \"Topic5\", \"Topic5\", \"Topic5\", \"Topic5\", \"Topic5\", \"Topic5\", \"Topic5\", \"Topic5\", \"Topic5\", \"Topic5\", \"Topic5\", \"Topic5\", \"Topic5\", \"Topic5\", \"Topic5\", \"Topic5\", \"Topic5\", \"Topic5\", \"Topic5\", \"Topic5\", \"Topic5\", \"Topic5\", \"Topic5\", \"Topic5\", \"Topic5\", \"Topic5\", \"Topic5\", \"Topic5\", \"Topic5\", \"Topic5\", \"Topic5\", \"Topic5\", \"Topic5\"], \"Freq\": [1.0, 1.0, 1.0, 1.0, 1.0, 1.0, 1.0, 1.0, 1.0, 1.0, 1.0, 1.0, 1.0, 1.0, 1.0, 1.0, 1.0, 1.0, 1.0, 1.0, 1.0, 1.0, 1.0, 1.0, 1.0, 1.0, 1.0, 1.0, 1.0, 1.0, 1.1687572363579464, 0.780118846363347, 0.7808503503672224, 0.7793087983400332, 0.7812347594154999, 0.7802612411325256, 0.7801309759346832, 0.7806620490005374, 0.7797354683407757, 0.7802934870813032, 0.7794824898574462, 0.7794032701476777, 0.7798442235337346, 0.7796811100390334, 0.7800319878791551, 0.7799467479928911, 0.7807716537708783, 0.7809137594062009, 0.7796099200196448, 0.4947878804764233, 0.4939827999513572, 0.4942297374638631, 0.49492808029171503, 0.49364213561197795, 0.49455773115961676, 0.49534303353939985, 0.49385768116480533, 0.49404642827844186, 0.4949877154117882, 0.49611227254481455, 0.4947526689239262, 0.49518449660536834, 0.4951201214878844, 0.49573696292173514, 0.4951695481129908, 0.495066719189376, 0.4948789186517973, 0.4950483770630452, 0.4953404691060828, 0.7628903012429262, 0.7625395873890214, 0.7622123520315399, 0.7615006541139466, 0.7622125323992334, 0.7634569223025574, 0.7616045844631136, 0.7620792726724251, 0.7624572833285775, 0.7615175153266898, 0.7630123467047586, 0.7630532571806432, 0.7619554784376549, 0.7623458729362949, 0.7613416597080546, 0.7624211816431928, 0.7619596359949043, 0.7627701210097281, 0.7613768937645308, 0.7623896454552154, 0.7619380446070476, 0.7622246278908549, 0.7611608822707094, 0.7615101117950087, 0.7619047835745747, 0.7617348297420666, 0.48254635474423874, 0.4836819436584227, 0.48300313075257983, 0.4827838454615961, 0.4831935298809316, 0.48368838044011697, 0.483368735387129, 0.48364716932941176, 0.7781374814261109, 0.7779456227028558, 0.7763695743233552, 0.7770836584927291, 0.7770904683433889, 0.7765027571641754, 0.7776240156860968, 0.7762943718738988, 0.7768583326307483, 0.778310684434568, 0.7772739637396845, 0.7771210182692501, 0.7779658995083274, 0.7759244447142444, 0.49225183262447575, 0.4932740237991049, 0.4939207276212218, 0.4931056900104359, 0.49298582660381896, 0.4928692988807888, 0.4930670981268091, 0.492439474786733, 0.4921444931904355, 0.4934989830813774, 0.4930836228569026, 0.4929737964473972, 0.49194038711446686, 0.4933468740933006, 0.49293625242584327, 0.4922310168890664, 0.4933619553140469, 0.4932342722026071, 0.4936106654273744, 0.4934368620976468, 0.49303423398170737, 0.4929504867291778, 1.382226438494804, 0.7418556731546607, 0.7409054967722362, 0.7408075384165519, 0.7413137817363963, 0.7406869035555603, 0.7408748692836749, 0.7410115714998426, 0.7416086291154775, 0.7418622291334518, 0.7413394216492784, 0.7410092664857972, 0.7418463299741137, 0.7410209622015587, 0.7407135797691428, 0.7410661312781744, 0.741515300067039, 0.741644175973083, 0.741000227471667, 0.4690746823110392, 0.46989910476157254, 0.469773988308708, 0.4696147769904826, 0.46924455780442265, 0.46990180609927173, 0.46981250296178445, 0.4698217726072885, 0.47004162306390634, 0.46993090861006404, 0.47039529142917574, 0.47097847306107693, 0.470339725526925, 0.471219053960077, 0.741576120075584, 0.47022895058799336, 0.4702528198293494, 0.4701167349960558, 0.47030784854490487, 0.4699631549825457, 1.128344854261522, 0.752573191473364, 0.7520025409240776, 0.7524386617306978, 0.7523565782977922, 0.752389399632685, 0.75260715936295, 0.7523379718489368, 0.7527924772906238, 0.7527314158062748, 0.7534683499110771, 0.7525880509912178, 0.7525361632571055, 0.7532206308151953, 0.7533471730968947, 0.4779802805888604, 0.47826742059979654, 0.4769113269631263, 0.4763169141596073, 0.4782880308460328, 0.47724787867866947, 0.4761695365423901, 0.4779966506365451, 0.47743741330749195, 0.478283309413386, 0.4776990505455724, 0.4765878806635676, 0.4774110755591627, 0.4764894676617092, 0.4768882113229982, 0.47815672892308114, 0.47798886198142515, 0.7525700536711407, 0.4776415744145764, 0.4775250948760257, 0.4782038194528736, 0.47737305199726376], \"Term\": [\"\\u53f0\\u98ce\", \"13\\u53f7\\u53f0\\u98ce\\u5929\\u9e3d\", \"\\u7acb\\u4e2aflag\", \"\\u6c14\\u8c61\", \"\\u6bcf\\u9022\\u4f73\\u8282\\u500d\\u601d\\u4eb2\", \"\\u4ea4\\u901a\\u5b9e\\u51b5\", \"\\u4eca\\u65e5\\u5927\\u6691\", \"520\\u76f8\\u7ea6\\u5e7f\\u5dde\\u5929\\u6c14\\u541b\", \"\\u72ec\\u5728\", \"\\u4eca\\u5929\\u7acb\\u590f\", \"\\u5730\\u94c1\\u6297\\u98ce\\u884c\\u52a8\", \"\\u5929\\u6c14\\u8bdd\\u4f60\\u77e5\", \"\\u5c0f\\u7f168\\u79d1\\u666e\", \"\\u6c14\\u8c61\\u6c6a\\u65e5\\u5e38\", \"\\u5f02\\u5ba2\", \"\\u53cc\\u5341\\u4e8c\", \"\\u6625\\u8fd0\\u5e7f\\u5dde\", \"\\u5f02\\u4e61\", \"\\u56fd\\u9632\\u6559\\u80b2\\u65e5\", \"\\u53f0\\u98ce\\u59d4\\u5458\\u4f1a\\u6210\\u7acb50\\u5468\\u5e74\", \"\\u53cc\\u5341\\u4e00\\u5929\\u6c14\\u5927\\u5267\\u900f\", \"\\u5c0f\\u96ea\", \"\\u55e8\\u68ee\\u4e00\\u523b\", \"\\u5c0f\\u7f16\\u5206\\u4eab\", \"\\u8d85\\u7ea7\\u6708\\u4eae\", \"\\u53f0\\u98ce\\u5361\\u52aa\", \"\\u5929\\u6c14\\u798f\\u5229\", \"\\u7262\\u8bb0\\u4e5d\\u4e00\\u516b\", \"2018\\u6625\\u8fd0\\u5e7f\\u5dde\", \"\\u5947\\u666f\", \"\\u7acb\\u4e2aflag\", \"\\u5929\\u6c14\\u5fae\\u79d1\\u666e\", \"\\u730e\\u6237\\u5ea7\\u6d41\\u661f\\u96e8\", \"\\u79cb\\u9ad8\\u6c14\\u723d\", \"\\u5929\\u6c14\\u76f4\\u64ad\\u9884\\u544a\", \"\\u5c0f\\u7f168\\u8282\\u6c14\", \"16\\u53f7\\u53f0\\u98ce\\u739b\\u5a03\", \"\\u5348\\u95f4\\u5206\\u4eab\", \"\\u6c14\\u8c61\\u86cb\\u7684\\u65e5\\u5e38\", \"\\u5e7f\\u5dde\\u540c\\u57ce\", \"\\u968f\\u624b\\u62cd\\u6628\\u65e5\\u5e7f\\u5dde\", \"\\u6c14\\u8c61\\u751f\\u6d3b\", \"\\u5212\\u91cd\\u70b9\", \"\\u841d\\u5c97\\u9999\\u96ea\", \"\\u653f\\u52a1\\u5fae\\u535a\\u4f18\\u79c0\\u6848\\u4f8b\\u5f81\\u96c6\", \"\\u5e7f\\u5dde\\u6625\\u8fd0\", \"\\u6211\\u4eec\\u7684\\u5e7f\\u5dde\", \"\\u592a\\u9633\", \"\\u660e\\u5929\", \"\\u4eca\\u5929\\u96e8\\u6c34\", \"\\u653f\\u52a1v\\u5f71\\u54cd\\u529b\\u5cf0\\u4f1a\", \"\\u697c\\u4e0b\\u63a5\\u5ba2\\u5c0f\\u7f16\\u7684\\u6028\\u5ff5\", \"\\u770b\\u5929\\u7a7f\\u8863\\u79c0\", \"\\u5929\\u6c14\\u8981\\u95fb\", \"\\u970d\\u91d1\\u79bb\\u4e16\", \"\\u4fbf\\u6c11\\u63d0\\u9192\", \"\\u5bd2\\u6f6e\", \"2017\\u56fd\\u5e86\\u4e2d\\u79cb\\u5929\\u6c14\", \"\\u5c0f\\u7f168\\u5b9e\\u51b5\", \"\\u9884\\u9632\", \"\\u5c0f\\u7f168\\u6c14\\u5019\", \"\\u79d1\\u666e\\u8bb2\\u89e3\", \"\\u5e7f\\u5dde\\u4e4b\\u79cb\", \"\\u5c2c\\u804a\\u5929\\u6c14\", \"7\\u53f7\\u53f0\\u98ce\\u6d1b\\u514b\", \"\\u5357\\u4eac\\u5927\\u5c60\\u674080\\u5e74\\u796d\", \"\\u5929\\u6c14\\u5267\\u900f\", \"\\u8bba\\u5c0f\\u7f16\\u4e3a\\u4ec0\\u4e48\\u8981\\u8f6c\\u53d1\\u5e74\\u521d\\u7684\\u5fae\\u535a\", \"\\u4eca\\u65e5\\u7acb\\u6625\", \"\\u56fd\\u5bb6\", \"\\u97f6\\u5173\", \"\\u4e2d\\u592711\", \"\\u7f8e\\u98df\\u65f6\\u523b\", \"\\u96e8\\u6c34\\u8282\\u6c14\", \"\\u559c\\u96e8\", \"\\u5e7f\\u5dde\\u4e2d\\u8003\\u5929\\u6c14\", \"\\u6253\\u7535\\u8bdd\", \"\\u5929\\u6c14\\u541b\\u7684\\u79d1\\u666etime\", \"\\u5c0f\\u7f168\\u9996\\u5e2d\", \"\\u4e0b\\u96ea\\u4e86\", \"\\u8f6c\\u79fb\", \"\\u8c22\\u8c22\", \"\\u5f3a\\u5bf9\\u6d41\\u5929\\u6c14\\u8bdd\\u4f60\\u77e5\", \"\\u6e05\\u8fdc\", \"\\u4e0b\\u96ea\", \"\\u5e7f\\u5dde\\u5929\\u6c14\\u9884\\u8b66\", \"\\u5988\\u5988\", \"\\u4e45\\u65f1\\u9022\\u7518\", \"12\", \"12\\u751f\\u65e5\\u5feb\\u4e50\", \"\\u4eca\\u5929\\u5c0f\\u6691\", \"\\u5baa\\u6cd5\", \"\\u4eca\\u5929\", \"\\u8d85\\u7ca4\\u5f71\\u54cd\\u529b\", \"\\u6bcd\\u4eb2\\u8282\", \"\\u5173\\u5fc3\\u5929\\u6c14\", \"\\u8981\\u6652\\u814a\\u8089\\u5417\", \"\\u6a2a\\u6e21\\u73e0\\u6c5f\\u4e00\\u7ebf\\u62a5\\u9053\", \"\\u5c0f\\u7f168\\u5929\\u6c14\", \"14\\u53f7\\u53f0\\u98ce\\u5e15\\u5361\", \"\\u5927\\u5bd2\", \"\\u53f0\\u98ce\\u6d77\\u8475\", \"2017\", \"\\u6bcf\\u9022\\u4f73\\u8282\\u500d\\u601d\\u4eb2\", \"\\u4ea4\\u901a\\u5b9e\\u51b5\", \"\\u4eca\\u5929\\u7acb\\u590f\", \"\\u4eca\\u65e5\\u5927\\u6691\", \"520\\u76f8\\u7ea6\\u5e7f\\u5dde\\u5929\\u6c14\\u541b\", \"\\u5929\\u6c14\\u8bdd\\u4f60\\u77e5\", \"\\u5730\\u94c1\\u6297\\u98ce\\u884c\\u52a8\", \"\\u6625\\u8fd0\\u5e7f\\u5dde\", \"\\u5f02\\u5ba2\", \"\\u72ec\\u5728\", \"\\u5c0f\\u7f168\\u79d1\\u666e\", \"\\u6c14\\u8c61\\u6c6a\\u65e5\\u5e38\", \"\\u53cc\\u5341\\u4e8c\", \"\\u5f02\\u4e61\", \"\\u6625\\u8fd0\\u8fd9\\u4e9b\\u5929\", \"\\u611f\\u8c22\", \"\\u5929\\u6c14\\u4f1a\\u5546\", \"\\u5c0f\\u7f16\\u968f\\u4fbf8\", \"\\u7825\\u783a\\u594b\\u8fdb\", \"\\u4eca\\u65e5\\u5927\\u96ea\", \"14\\u53f7\\u53f0\\u98ce\\u5e15\\u514b\", \"\\u4fbf\\u6c11\\u63d0\\u793a\", \"\\u4e91\\u6735\\u6d82\\u9e26\", \"\\u8d22\\u5bcc\\u8bba\\u575b\", \"\\u6d77\\u73e0\\u82b1\\u5e02\\u4ea4\\u901a\\u4fe1\\u606f\", \"\\u9ad8\\u6e29\\u6765\\u88ad\", \"\\u611f\\u6069\\u8282\", \"\\u8bba\\u5982\\u4f55\\u5728\\u5e7f\\u5dde\\u770b\\u96ea\\u4eba\", \"\\u968f\\u540e\\u62cd\\u5e7f\\u5dde\", \"\\u4eca\\u65e5\\u814a\\u516b\\u8282\", \"\\u5c0f\\u7f168\\u5929\\u79d1\\u666e\", \"\\u5929\\u6c14\\u516c\\u544a\", \"\\u52b3\\u52a8\\u8282\", \"\\u5929\\u6c14\\u6d82\\u9e26\", \"\\u5c0f\\u7f16\\u7cbe\\u5206\\u65e5\\u5e38\", \"\\u4e94\\u4e00\", \"\\u53f0\\u98ce\", \"\\u7b11\\u5f52\\u7b11\\u5357\\u65b9\\u7684\\u670b\\u53cb\\u53bb\\u4e86\\u5317\\u65b9\\u53ef\\u8981\\u6ce8\\u610f\", \"\\u6297\\u9707\\u6551\\u707e\\u6c14\\u8c61\\u884c\\u52a8\", \"\\u5e7f\\u5dde\\u6625\\u8fd0\\u5929\\u6c14\", \"\\u7eb3\\u6c99\", \"\\u9884\\u62a5\\u5458\\u6700\\u8fd1\\u6709\\u70b9\\u76ae\\u554a\", \"18\\u53f7\\u53f0\\u98ce\\u6cf0\\u5229\", \"\\u79d1\\u6280\\u5468\\u5f00\\u653e\\u65e5\", \"\\u5361\\u52aa\", \"\\u5403\\u8d27\\u7684\\u5e78\\u798f\\u6307\\u6570\", \"\\u5e7f\\u5f0f\\u751f\\u6d3b\", \"\\u767e\\u4e07\\u7c89\\u4e1d\\u56de\\u9988\\u8ba1\\u5212\", \"2018\\u4e16\\u754c\\u6c14\\u8c61\\u65e5\", \"\\u70ed\\u5e26\\u4f4e\\u538b\\u751f\\u6210\\u6d88\\u606f\", \"\\u968f\\u624b\\u62cd\\u5e7f\\u5dde\", \"\\u6c14\\u8c61\\u6c6a\\u7684\\u65e5\\u5e38\", \"\\u97f6\\u5173\\u5357\\u5cad\\u56fd\\u5bb6\\u68ee\\u6797\\u516c\\u56ed\\u4e0b\\u96ea\", \"\\u8fd9\\u6837\\u7684\\u5927\\u5b66\\u7ed9\\u6211\\u6765\\u4e00\\u4e2a\", \"\\u4f11\\u95f2\", \"\\u5e7f\\u5dde\\u4ea4\\u901a\", \"\\u51fa\\u884c\\u6307\\u5f15\", \"2018\\u5143\\u65e6\\u5047\\u671f\\u4ea4\\u901a\\u6d88\\u606f\", \"\\u968f\\u624b\\u62cd\\u5929\\u6c14\", \"\\u5e7f\\u94c1\\u51fa\\u884c\\u5fae\\u63d0\\u793a\", \"\\u5e15\\u5361\\u5f71\\u54cd\\u5e7f\\u5dde\", \"\\u5b9e\\u51b5\\u64ad\\u62a5\", \"\\u5c0f\\u7f168\\u5929\\u6c14\\u4e0e\\u7f8e\\u98df\", \"\\u5348\\u95f4\\u4e00\\u523b\", \"\\u5929\\u6c14\\u541b\\u64b8\\u732b\\u65e5\\u5e38\", \"\\u5165\\u51ac\", \"\\u66b4\\u9732\\u5e74\\u9f84\\u8d34\", \"2018\\u5e74\\u4e16\\u754c\\u6c14\\u8c61\\u65e5\", \"\\u5348\\u95f4\\u7f8e\\u98df\\u65f6\\u523b\", \"\\u6c14\\u8c61\", \"\\u5e7f\\u5dde\\u6b22\\u8fce\\u4f60\", \"\\u9996\\u5e2d\\u548c\\u4f60\\u804a\\u804a\\u6625\\u8282\\u5929\\u6c14\\u90a3\\u4e9b\\u4e8b\\u513f\", \"\\u5927\\u5bb68\\u5929\\u6c14\", \"\\u51fa\\u884c\\u63d0\\u9192\", \"\\u51b7\\u7a7a\\u6c14\\u771f\\u7684\\u6709\\u8bf7\\u4e0d\\u8981\\u6253\\u6211\", \"13\\u53f7\\u53f0\\u98ce\\u5929\\u9e3d\", \"\\u56fd\\u9632\\u6559\\u80b2\\u65e5\", \"\\u53cc\\u5341\\u4e00\\u5929\\u6c14\\u5927\\u5267\\u900f\", \"\\u53f0\\u98ce\\u59d4\\u5458\\u4f1a\\u6210\\u7acb50\\u5468\\u5e74\", \"\\u5c0f\\u96ea\", \"\\u8d85\\u7ea7\\u6708\\u4eae\", \"\\u5c0f\\u7f16\\u5206\\u4eab\", \"\\u7262\\u8bb0\\u4e5d\\u4e00\\u516b\", \"\\u53f0\\u98ce\\u5361\\u52aa\", \"\\u5929\\u6c14\\u798f\\u5229\", \"\\u55e8\\u68ee\\u4e00\\u523b\", \"\\u5947\\u666f\", \"\\u6c14\\u8c61\\u55b5\\u7684\\u65e5\\u5e38\", \"2018\\u6625\\u8fd0\\u5e7f\\u5dde\", \"\\u5929\\u6c14\\u541b\\u53c8\\u8981\\u53d1\\u7cd6\\u5566\", \"\\u539a\\u88ab\\u5b50\\u53cd\\u800c\\u5bb9\\u6613\\u611f\\u5192\", \"\\u5e7f\\u5dde\\u4e5d\\u6708\\u7684\\u9ad8\\u6e29\", \"\\u5e7f\\u5dde\\u66b4\\u96e8\", \"\\u5e7f\\u5dde\\u5143\\u65e6\\u7a7f\\u5565\\u597d\", \"\\u6bcf\\u65e5\\u4e00\\u56fe\", \"\\u53c8\\u6765\\u8f9f\\u8c23\\u4e86\", \"\\u6c14\\u8c61\\u72d7\\u65e5\\u5e38\", \"\\u5929\\u6c14\\u76f4\\u64ad\", \"\\u51fa\\u884c\\u63d0\\u793a\", \"\\u665a\\u5b89\", \"\\u6731\\u65e5\\u548c\\u9605\\u5175\", \"\\u4ea4\\u901a\\u6d88\\u606f\", \"\\u5f00\\u5fc3\\u4e00\\u523b\", \"\\u6ca1\\u4e8b\\u5c31\\u60f3\\u641e\\u4e8b\\u60c5\", \"\\u5e7f\\u5dde\\u9ad8\\u8003\\u5929\\u6c14\", \"\\u5c0f\\u7f168\\u7f8e\\u98df\", \"\\u65e9\\u95f4\\u5929\\u6c14\\u63d0\\u9192\", \"\\u6c14\\u8c61\", \"2017\\u5e7f\\u9a6c\", \"\\u5c0f\\u7f168\\u8282\\u65e5\", \"2018\\u5e7f\\u5dde\\u6625\\u8fd0\", \"\\u4e00\\u5927\\u6ce2\\u96e8\\u96ea\\u6765\\u88ad\"], \"Total\": [1.0, 1.0, 1.0, 1.0, 1.0, 1.0, 1.0, 1.0, 1.0, 1.0, 1.0, 1.0, 1.0, 1.0, 1.0, 1.0, 1.0, 1.0, 1.0, 1.0, 1.0, 1.0, 1.0, 1.0, 1.0, 1.0, 1.0, 1.0, 1.0, 1.0, 1.5808651763650214, 1.190025940343217, 1.1912390756191749, 1.1892979408176072, 1.1923440427863419, 1.1908681163862724, 1.1907579041965235, 1.1916249121274949, 1.190430250419569, 1.1913214938878163, 1.1902170712091094, 1.1903082326799062, 1.1910960227679146, 1.1913169360311415, 1.1918621441448265, 1.1918253737175433, 1.1934800367276337, 1.1941207484520993, 1.1926497861035237, 0.9037546348513469, 0.9031828112629547, 0.9036777178364022, 0.905123045259498, 0.9032951570063513, 0.9051114497865889, 0.9066733590237432, 0.9040009837450034, 0.904379919102203, 0.9063197149873156, 0.9084146476867574, 0.9060116908270361, 0.9070924801785274, 0.9071424206274503, 0.9088059418317719, 0.9076294913227493, 0.9076536335850919, 0.9067080291892913, 0.9077257549014606, 0.9105454933040961, 1.1749057518984287, 1.1751531124755568, 1.1747610312043646, 1.1737245967918055, 1.1748482354602343, 1.1768994440453802, 1.174162717083635, 1.1749045098798412, 1.175736677781872, 1.1745448868369892, 1.176852293886764, 1.177041407413418, 1.1754450040196136, 1.1760747819653918, 1.1746952690698802, 1.17653044617448, 1.1759698626466075, 1.1779658768231025, 1.1758152744494785, 1.1778117724784776, 1.17713771794064, 1.1775832469808543, 1.1762100963148496, 1.1777811399717404, 1.178685173460116, 1.1786751721426356, 0.8939401567997867, 0.8964313326541239, 0.8954322887533204, 0.8953995198982712, 0.8963091217941188, 0.8974271116815896, 0.8975985213020967, 0.8994559722093831, 1.1883157196386915, 1.188978299953698, 1.18657329520211, 1.1876900262135501, 1.1879308453628812, 1.1875649641846764, 1.1898069081493063, 1.1879702693480931, 1.1890115985202192, 1.191278965095112, 1.1897097104700487, 1.1894892154319299, 1.1919194824854913, 1.1909583283787835, 0.9011191760238179, 0.9030012107832085, 0.9045671063339328, 0.903536348114124, 0.9033494842379474, 0.9031541374657516, 0.9035345746789764, 0.902511176280955, 0.9024596809383949, 0.905014131858165, 0.9044713488031516, 0.9043115924399567, 0.9024890893307631, 0.9051248354430991, 0.904467638191062, 0.9032130995090317, 0.9067424204480994, 0.9063798357280742, 0.9077256285734574, 0.9073053699573685, 0.9059908735064972, 0.9060922480641094, 1.7996461423480994, 1.1569146427633117, 1.156019453541578, 1.156305619534104, 1.1571426757506262, 1.1562902329789346, 1.1566081209699484, 1.1568966726416627, 1.1579257222979475, 1.1583633225865846, 1.1576437382598321, 1.1573374694536602, 1.158791639178895, 1.1575596027601247, 1.1572334189579276, 1.158488092913724, 1.1593244896886379, 1.159551319166951, 1.159202906348949, 0.8828308771203853, 0.8849822474888653, 0.8848106477973647, 0.8852787620773296, 0.8846977700981371, 0.8860031703788727, 0.8859596695115471, 0.8861023192917716, 0.8865657011122424, 0.8863844597803454, 0.8874355738618486, 0.8890008292134173, 0.8874155034075755, 0.88967427997091, 1.808346600037741, 0.8872350143337029, 0.8875987402627806, 0.8874596744206246, 0.8888320448463789, 0.8878996760413367, 1.5418143964648259, 1.1651734255983413, 1.1651503367438343, 1.1658795497925027, 1.1664945426232662, 1.1669007665494195, 1.1674229319461464, 1.1671335962696723, 1.1679898673551574, 1.1680134948537106, 1.1694370920353352, 1.1680895712295998, 1.1681143577971653, 1.169542428882266, 1.1701504255870088, 0.8906072627226058, 0.8919067890013699, 0.889746798815794, 0.8888576467898303, 0.8926704391691094, 0.8908435838486539, 0.8888816073345698, 0.8924966725781096, 0.8915034076319033, 0.8930963008985489, 0.8920127938468214, 0.8901262803983147, 0.8918627265082419, 0.8905159868288327, 0.891278540099995, 0.8938073556897359, 0.8939613467790748, 1.808346600037741, 0.8932926255683018, 0.8931769700610583, 0.895737494922017, 0.8955881146068616], \"loglift\": [30.0, 29.0, 28.0, 27.0, 26.0, 25.0, 24.0, 23.0, 22.0, 21.0, 20.0, 19.0, 18.0, 17.0, 16.0, 15.0, 14.0, 13.0, 12.0, 11.0, 10.0, 9.0, 8.0, 7.0, 6.0, 5.0, 4.0, 3.0, 2.0, 1.0, 1.2315, 1.1113, 1.1112, 1.1108, 1.1108, 1.1107, 1.1107, 1.1106, 1.1104, 1.1104, 1.1103, 1.1101, 1.11, 1.1096, 1.1096, 1.1095, 1.1092, 1.1089, 1.1084, 0.9311, 0.9301, 0.9301, 0.9299, 0.9293, 0.9292, 0.929, 0.929, 0.9289, 0.9287, 0.9287, 0.9286, 0.9282, 0.9281, 0.9275, 0.9276, 0.9274, 0.928, 0.9273, 0.9248, 1.1637, 1.1631, 1.163, 1.1629, 1.1629, 1.1628, 1.1627, 1.1627, 1.1625, 1.1623, 1.1623, 1.1621, 1.1621, 1.162, 1.1619, 1.1618, 1.1616, 1.161, 1.161, 1.1606, 1.1606, 1.1606, 1.1604, 1.1595, 1.1592, 1.159, 0.979, 0.9786, 0.9783, 0.9779, 0.9777, 0.9775, 0.9766, 0.9751, 1.2096, 1.2087, 1.2087, 1.2087, 1.2085, 1.2081, 1.2076, 1.2075, 1.2073, 1.2073, 1.2073, 1.2073, 1.2063, 1.2045, 1.0283, 1.0283, 1.0279, 1.0274, 1.0273, 1.0273, 1.0273, 1.0271, 1.0266, 1.0265, 1.0263, 1.0262, 1.0261, 1.0261, 1.026, 1.0259, 1.0243, 1.0245, 1.0237, 1.0239, 1.0245, 1.0242, 1.3735, 1.193, 1.1925, 1.1922, 1.1921, 1.192, 1.192, 1.1919, 1.1918, 1.1918, 1.1917, 1.1915, 1.1914, 1.1914, 1.1912, 1.1906, 1.1905, 1.1905, 1.1899, 1.005, 1.0043, 1.0043, 1.0034, 1.0033, 1.0032, 1.0031, 1.0029, 1.0029, 1.0028, 1.0026, 1.0021, 1.0025, 1.0019, 0.746, 1.0025, 1.0021, 1.002, 1.0009, 1.0012, 1.3401, 1.2152, 1.2145, 1.2144, 1.2138, 1.2135, 1.2133, 1.2132, 1.2131, 1.213, 1.2127, 1.2127, 1.2126, 1.2123, 1.212, 1.03, 1.0291, 1.0287, 1.0285, 1.0283, 1.0282, 1.0281, 1.0279, 1.0279, 1.0278, 1.0278, 1.0276, 1.0274, 1.027, 1.027, 1.0268, 1.0263, 0.7757, 1.0263, 1.0262, 1.0247, 1.0232], \"logprob\": [30.0, 29.0, 28.0, 27.0, 26.0, 25.0, 24.0, 23.0, 22.0, 21.0, 20.0, 19.0, 18.0, 17.0, 16.0, 15.0, 14.0, 13.0, 12.0, 11.0, 10.0, 9.0, 8.0, 7.0, 6.0, 5.0, 4.0, 3.0, 2.0, 1.0, -3.7529, -4.1572, -4.1562, -4.1582, -4.1557, -4.157, -4.1572, -4.1565, -4.1577, -4.1569, -4.158, -4.1581, -4.1575, -4.1577, -4.1573, -4.1574, -4.1563, -4.1562, -4.1578, -4.6125, -4.6141, -4.6136, -4.6122, -4.6148, -4.613, -4.6114, -4.6144, -4.614, -4.6121, -4.6098, -4.6126, -4.6117, -4.6118, -4.6106, -4.6117, -4.6119, -4.6123, -4.612, -4.6114, -4.1175, -4.1179, -4.1184, -4.1193, -4.1184, -4.1167, -4.1192, -4.1185, -4.118, -4.1193, -4.1173, -4.1173, -4.1187, -4.1182, -4.1195, -4.1181, -4.1187, -4.1176, -4.1195, -4.1181, -4.1187, -4.1184, -4.1198, -4.1193, -4.1188, -4.119, -4.5755, -4.5732, -4.5746, -4.575, -4.5742, -4.5732, -4.5738, -4.5732, -4.0603, -4.0606, -4.0626, -4.0617, -4.0617, -4.0624, -4.061, -4.0627, -4.062, -4.0601, -4.0614, -4.0616, -4.0605, -4.0632, -4.5182, -4.5162, -4.5149, -4.5165, -4.5167, -4.517, -4.5166, -4.5179, -4.5185, -4.5157, -4.5166, -4.5168, -4.5189, -4.516, -4.5169, -4.5183, -4.516, -4.5162, -4.5155, -4.5158, -4.5167, -4.5168, -3.4813, -4.1036, -4.1049, -4.105, -4.1044, -4.1052, -4.1049, -4.1048, -4.104, -4.1036, -4.1043, -4.1048, -4.1036, -4.1047, -4.1052, -4.1047, -4.1041, -4.1039, -4.1048, -4.562, -4.5603, -4.5605, -4.5609, -4.5617, -4.5603, -4.5604, -4.5604, -4.56, -4.5602, -4.5592, -4.558, -4.5593, -4.5575, -4.104, -4.5596, -4.5595, -4.5598, -4.5594, -4.5601, -3.6693, -4.0743, -4.0751, -4.0745, -4.0746, -4.0746, -4.0743, -4.0747, -4.074, -4.0741, -4.0732, -4.0743, -4.0744, -4.0735, -4.0733, -4.5283, -4.5277, -4.5305, -4.5318, -4.5276, -4.5298, -4.5321, -4.5282, -4.5294, -4.5276, -4.5289, -4.5312, -4.5295, -4.5314, -4.5306, -4.5279, -4.5283, -4.0743, -4.529, -4.5292, -4.5278, -4.5295]}, \"token.table\": {\"Topic\": [2, 2, 5, 1, 4, 4, 5, 3, 2, 2, 2, 2, 3, 2, 2, 3, 3, 4, 1, 1, 4, 5, 3, 4, 5, 5, 4, 2, 5, 2, 5, 3, 5, 2, 1, 1, 5, 3, 1, 5, 2, 2, 3, 1, 2, 5, 5, 2, 1, 2, 1, 4, 4, 3, 3, 2, 1, 2, 4, 1, 1, 3, 2, 3, 4, 5, 5, 3, 4, 1, 1, 2, 4, 5, 3, 1, 4, 1, 4, 1, 4, 4, 2, 1, 2, 2, 5, 2, 4, 4, 1, 2, 2, 4, 4], \"Freq\": [0.8490320977992035, 0.8495182719567121, 0.6485864980200381, 0.839801269826347, 0.8645970764595579, 0.8629679108735953, 0.855035247379355, 0.8417998437396638, 0.8499567548392194, 0.8497243071153153, 0.8512369523994172, 0.8504737280847147, 0.8410582430637655, 0.8490541799845717, 0.8491968636305324, 0.8427629410197279, 0.8419705292870726, 0.8626617432746282, 0.8395628739286373, 0.8391902433582284, 0.8636132532019947, 0.8582583452660979, 0.8389828463200513, 0.5556647923548147, 0.85617181103158, 0.8577215375104357, 0.8632870020150804, 0.8496902645842705, 0.8551122645336654, 0.8511321000720155, 0.8582413381823215, 0.8404725112543321, 0.8545909808974753, 0.8505305812918804, 0.8403178166953139, 0.838684108039102, 0.8561544917126547, 0.842059196893326, 0.8374362486342091, 0.8560987313218978, 0.8489210253669954, 0.8501882470938411, 0.840541176725291, 0.8397235480907257, 0.8513936003697289, 0.8565875936092459, 0.8572693342835144, 0.8516707143314707, 0.8394039771217017, 0.8503619282805647, 0.8390490939799332, 0.8648232639420345, 0.8638236159798162, 0.8396599412183217, 0.8410346890177918, 0.8502860662728051, 0.8378858206475488, 0.8511329998233398, 0.8650373459861793, 0.839023208273395, 0.8384691060626229, 0.8417719077673189, 0.8484101673085777, 0.8415271997782298, 0.5529913347248417, 0.5529913347248417, 0.8560805655071341, 0.840696987434962, 0.8631940251408979, 0.8401185277434914, 0.8400324165548956, 0.8512846065957146, 0.8638864017157871, 0.8567999440647965, 0.8394339439378581, 0.8394620529722182, 0.8640522115576765, 0.8408321966088074, 0.8643814297750514, 0.6325650124695391, 0.8643680035127586, 0.8641976663347158, 0.8519886204424318, 0.8394071885954113, 0.8507416311102156, 0.8484029684232196, 0.8569708998966956, 0.8495877831498966, 0.8624025374904696, 0.8641299012091147, 0.8401828743593192, 0.8511737685065855, 0.8509529433942592, 0.8625712722316182, 0.864834771996399], \"Term\": [\"12\", \"12\\u751f\\u65e5\\u5feb\\u4e50\", \"13\\u53f7\\u53f0\\u98ce\\u5929\\u9e3d\", \"16\\u53f7\\u53f0\\u98ce\\u739b\\u5a03\", \"18\\u53f7\\u53f0\\u98ce\\u6cf0\\u5229\", \"2018\\u4e16\\u754c\\u6c14\\u8c61\\u65e5\", \"2018\\u6625\\u8fd0\\u5e7f\\u5dde\", \"520\\u76f8\\u7ea6\\u5e7f\\u5dde\\u5929\\u6c14\\u541b\", \"\\u4e0b\\u96ea\", \"\\u4e0b\\u96ea\\u4e86\", \"\\u4e2d\\u592711\", \"\\u4e45\\u65f1\\u9022\\u7518\", \"\\u4ea4\\u901a\\u5b9e\\u51b5\", \"\\u4eca\\u5929\", \"\\u4eca\\u5929\\u5c0f\\u6691\", \"\\u4eca\\u5929\\u7acb\\u590f\", \"\\u4eca\\u65e5\\u5927\\u6691\", \"\\u4f11\\u95f2\", \"\\u5212\\u91cd\\u70b9\", \"\\u5348\\u95f4\\u5206\\u4eab\", \"\\u5361\\u52aa\", \"\\u53cc\\u5341\\u4e00\\u5929\\u6c14\\u5927\\u5267\\u900f\", \"\\u53cc\\u5341\\u4e8c\", \"\\u53f0\\u98ce\", \"\\u53f0\\u98ce\\u5361\\u52aa\", \"\\u53f0\\u98ce\\u59d4\\u5458\\u4f1a\\u6210\\u7acb50\\u5468\\u5e74\", \"\\u5403\\u8d27\\u7684\\u5e78\\u798f\\u6307\\u6570\", \"\\u559c\\u96e8\", \"\\u55e8\\u68ee\\u4e00\\u523b\", \"\\u56fd\\u5bb6\", \"\\u56fd\\u9632\\u6559\\u80b2\\u65e5\", \"\\u5730\\u94c1\\u6297\\u98ce\\u884c\\u52a8\", \"\\u5929\\u6c14\\u541b\\u53c8\\u8981\\u53d1\\u7cd6\\u5566\", \"\\u5929\\u6c14\\u541b\\u7684\\u79d1\\u666etime\", \"\\u5929\\u6c14\\u5fae\\u79d1\\u666e\", \"\\u5929\\u6c14\\u76f4\\u64ad\\u9884\\u544a\", \"\\u5929\\u6c14\\u798f\\u5229\", \"\\u5929\\u6c14\\u8bdd\\u4f60\\u77e5\", \"\\u592a\\u9633\", \"\\u5947\\u666f\", \"\\u5988\\u5988\", \"\\u5baa\\u6cd5\", \"\\u5c0f\\u7f168\\u79d1\\u666e\", \"\\u5c0f\\u7f168\\u8282\\u6c14\", \"\\u5c0f\\u7f168\\u9996\\u5e2d\", \"\\u5c0f\\u7f16\\u5206\\u4eab\", \"\\u5c0f\\u96ea\", \"\\u5e7f\\u5dde\\u4e2d\\u8003\\u5929\\u6c14\", \"\\u5e7f\\u5dde\\u540c\\u57ce\", \"\\u5e7f\\u5dde\\u5929\\u6c14\\u9884\\u8b66\", \"\\u5e7f\\u5dde\\u6625\\u8fd0\", \"\\u5e7f\\u5dde\\u6625\\u8fd0\\u5929\\u6c14\", \"\\u5e7f\\u5f0f\\u751f\\u6d3b\", \"\\u5f02\\u4e61\", \"\\u5f02\\u5ba2\", \"\\u5f3a\\u5bf9\\u6d41\\u5929\\u6c14\\u8bdd\\u4f60\\u77e5\", \"\\u6211\\u4eec\\u7684\\u5e7f\\u5dde\", \"\\u6253\\u7535\\u8bdd\", \"\\u6297\\u9707\\u6551\\u707e\\u6c14\\u8c61\\u884c\\u52a8\", \"\\u653f\\u52a1\\u5fae\\u535a\\u4f18\\u79c0\\u6848\\u4f8b\\u5f81\\u96c6\", \"\\u660e\\u5929\", \"\\u6625\\u8fd0\\u5e7f\\u5dde\", \"\\u6bcd\\u4eb2\\u8282\", \"\\u6bcf\\u9022\\u4f73\\u8282\\u500d\\u601d\\u4eb2\", \"\\u6c14\\u8c61\", \"\\u6c14\\u8c61\", \"\\u6c14\\u8c61\\u55b5\\u7684\\u65e5\\u5e38\", \"\\u6c14\\u8c61\\u6c6a\\u65e5\\u5e38\", \"\\u6c14\\u8c61\\u6c6a\\u7684\\u65e5\\u5e38\", \"\\u6c14\\u8c61\\u751f\\u6d3b\", \"\\u6c14\\u8c61\\u86cb\\u7684\\u65e5\\u5e38\", \"\\u6e05\\u8fdc\", \"\\u70ed\\u5e26\\u4f4e\\u538b\\u751f\\u6210\\u6d88\\u606f\", \"\\u7262\\u8bb0\\u4e5d\\u4e00\\u516b\", \"\\u72ec\\u5728\", \"\\u730e\\u6237\\u5ea7\\u6d41\\u661f\\u96e8\", \"\\u767e\\u4e07\\u7c89\\u4e1d\\u56de\\u9988\\u8ba1\\u5212\", \"\\u79cb\\u9ad8\\u6c14\\u723d\", \"\\u79d1\\u6280\\u5468\\u5f00\\u653e\\u65e5\", \"\\u7acb\\u4e2aflag\", \"\\u7b11\\u5f52\\u7b11\\u5357\\u65b9\\u7684\\u670b\\u53cb\\u53bb\\u4e86\\u5317\\u65b9\\u53ef\\u8981\\u6ce8\\u610f\", \"\\u7eb3\\u6c99\", \"\\u7f8e\\u98df\\u65f6\\u523b\", \"\\u841d\\u5c97\\u9999\\u96ea\", \"\\u8c22\\u8c22\", \"\\u8d85\\u7ca4\\u5f71\\u54cd\\u529b\", \"\\u8d85\\u7ea7\\u6708\\u4eae\", \"\\u8f6c\\u79fb\", \"\\u8fd9\\u6837\\u7684\\u5927\\u5b66\\u7ed9\\u6211\\u6765\\u4e00\\u4e2a\", \"\\u968f\\u624b\\u62cd\\u5e7f\\u5dde\", \"\\u968f\\u624b\\u62cd\\u6628\\u65e5\\u5e7f\\u5dde\", \"\\u96e8\\u6c34\\u8282\\u6c14\", \"\\u97f6\\u5173\", \"\\u97f6\\u5173\\u5357\\u5cad\\u56fd\\u5bb6\\u68ee\\u6797\\u516c\\u56ed\\u4e0b\\u96ea\", \"\\u9884\\u62a5\\u5458\\u6700\\u8fd1\\u6709\\u70b9\\u76ae\\u554a\"]}, \"R\": 30, \"lambda.step\": 0.01, \"plot.opts\": {\"xlab\": \"PC1\", \"ylab\": \"PC2\"}, \"topic.order\": [4, 3, 5, 2, 1]};\n",
       "\n",
       "function LDAvis_load_lib(url, callback){\n",
       "  var s = document.createElement('script');\n",
       "  s.src = url;\n",
       "  s.async = true;\n",
       "  s.onreadystatechange = s.onload = callback;\n",
       "  s.onerror = function(){console.warn(\"failed to load library \" + url);};\n",
       "  document.getElementsByTagName(\"head\")[0].appendChild(s);\n",
       "}\n",
       "\n",
       "if(typeof(LDAvis) !== \"undefined\"){\n",
       "   // already loaded: just create the visualization\n",
       "   !function(LDAvis){\n",
       "       new LDAvis(\"#\" + \"ldavis_el508010138056897369526906917\", ldavis_el508010138056897369526906917_data);\n",
       "   }(LDAvis);\n",
       "}else if(typeof define === \"function\" && define.amd){\n",
       "   // require.js is available: use it to load d3/LDAvis\n",
       "   require.config({paths: {d3: \"https://cdnjs.cloudflare.com/ajax/libs/d3/3.5.5/d3.min\"}});\n",
       "   require([\"d3\"], function(d3){\n",
       "      window.d3 = d3;\n",
       "      LDAvis_load_lib(\"https://cdn.rawgit.com/bmabey/pyLDAvis/files/ldavis.v1.0.0.js\", function(){\n",
       "        new LDAvis(\"#\" + \"ldavis_el508010138056897369526906917\", ldavis_el508010138056897369526906917_data);\n",
       "      });\n",
       "    });\n",
       "}else{\n",
       "    // require.js not available: dynamically load d3 & LDAvis\n",
       "    LDAvis_load_lib(\"https://cdnjs.cloudflare.com/ajax/libs/d3/3.5.5/d3.min.js\", function(){\n",
       "         LDAvis_load_lib(\"https://cdn.rawgit.com/bmabey/pyLDAvis/files/ldavis.v1.0.0.js\", function(){\n",
       "                 new LDAvis(\"#\" + \"ldavis_el508010138056897369526906917\", ldavis_el508010138056897369526906917_data);\n",
       "            })\n",
       "         });\n",
       "}\n",
       "</script>"
      ],
      "text/plain": [
       "PreparedData(topic_coordinates=            Freq  cluster  topics         x         y\n",
       "topic                                                \n",
       "3      21.576732        1       1  0.056174 -0.109761\n",
       "2      20.279138        1       2 -0.123508 -0.010848\n",
       "4      19.535382        1       3 -0.006174  0.000848\n",
       "1      19.448538        1       4  0.046411  0.082113\n",
       "0      19.160210        1       5  0.027098  0.037648, topic_info=     Category      Freq         Term     Total  loglift  logprob\n",
       "term                                                            \n",
       "64    Default  1.000000           台风  1.000000  30.0000  30.0000\n",
       "2     Default  1.000000      13号台风天鸽  1.000000  29.0000  29.0000\n",
       "195   Default  1.000000       立个flag  1.000000  28.0000  28.0000\n",
       "168   Default  1.000000           气象  1.000000  27.0000  27.0000\n",
       "167   Default  1.000000      每逢佳节倍思亲  1.000000  26.0000  26.0000\n",
       "29    Default  1.000000         交通实况  1.000000  25.0000  25.0000\n",
       "35    Default  1.000000         今日大暑  1.000000  24.0000  24.0000\n",
       "19    Default  1.000000   520相约广州天气君  1.000000  23.0000  23.0000\n",
       "185   Default  1.000000           独在  1.000000  22.0000  22.0000\n",
       "33    Default  1.000000         今天立夏  1.000000  21.0000  21.0000\n",
       "74    Default  1.000000       地铁抗风行动  1.000000  20.0000  20.0000\n",
       "93    Default  1.000000        天气话你知  1.000000  19.0000  19.0000\n",
       "109   Default  1.000000        小编8科普  1.000000  18.0000  18.0000\n",
       "171   Default  1.000000        气象汪日常  1.000000  17.0000  17.0000\n",
       "142   Default  1.000000           异客  1.000000  16.0000  16.0000\n",
       "63    Default  1.000000          双十二  1.000000  15.0000  15.0000\n",
       "157   Default  1.000000         春运广州  1.000000  14.0000  14.0000\n",
       "141   Default  1.000000           异乡  1.000000  13.0000  13.0000\n",
       "73    Default  1.000000        国防教育日  1.000000  12.0000  12.0000\n",
       "66    Default  1.000000  台风委员会成立50周年  1.000000  11.0000  11.0000\n",
       "62    Default  1.000000     双十一天气大剧透  1.000000  10.0000  10.0000\n",
       "118   Default  1.000000           小雪  1.000000   9.0000   9.0000\n",
       "71    Default  1.000000         嗨森一刻  1.000000   8.0000   8.0000\n",
       "115   Default  1.000000         小编分享  1.000000   7.0000   7.0000\n",
       "209   Default  1.000000         超级月亮  1.000000   6.0000   6.0000\n",
       "65    Default  1.000000         台风卡努  1.000000   5.0000   5.0000\n",
       "91    Default  1.000000         天气福利  1.000000   4.0000   4.0000\n",
       "184   Default  1.000000        牢记九一八  1.000000   3.0000   3.0000\n",
       "16    Default  1.000000     2018春运广州  1.000000   2.0000   2.0000\n",
       "95    Default  1.000000           奇景  1.000000   1.0000   1.0000\n",
       "...       ...       ...          ...       ...      ...      ...\n",
       "184    Topic5  0.752338        牢记九一八  1.167134   1.2132  -4.0747\n",
       "65     Topic5  0.752792         台风卡努  1.167990   1.2131  -4.0740\n",
       "91     Topic5  0.752731         天气福利  1.168013   1.2130  -4.0741\n",
       "71     Topic5  0.753468         嗨森一刻  1.169437   1.2127  -4.0732\n",
       "95     Topic5  0.752588           奇景  1.168090   1.2127  -4.0743\n",
       "169    Topic5  0.752536       气象喵的日常  1.168114   1.2126  -4.0744\n",
       "16     Topic5  0.753221     2018春运广州  1.169542   1.2123  -4.0735\n",
       "83     Topic5  0.753347     天气君又要发糖啦  1.170150   1.2120  -4.0733\n",
       "60     Topic5  0.477980    厚被子反而容易感冒  0.890607   1.0300  -4.5283\n",
       "124    Topic5  0.478267      广州九月的高温  0.891907   1.0291  -4.5277\n",
       "133    Topic5  0.476911         广州暴雨  0.889747   1.0287  -4.5305\n",
       "126    Topic5  0.476317      广州元旦穿啥好  0.888858   1.0285  -4.5318\n",
       "166    Topic5  0.478288         每日一图  0.892670   1.0283  -4.5276\n",
       "61     Topic5  0.477248        又来辟谣了  0.890844   1.0282  -4.5298\n",
       "173    Topic5  0.476170        气象狗日常  0.888882   1.0281  -4.5321\n",
       "89     Topic5  0.477997         天气直播  0.892497   1.0279  -4.5282\n",
       "48     Topic5  0.477437         出行提示  0.891503   1.0279  -4.5294\n",
       "159    Topic5  0.478283           晚安  0.893096   1.0278  -4.5276\n",
       "161    Topic5  0.477699        朱日和阅兵  0.892013   1.0278  -4.5289\n",
       "30     Topic5  0.476588         交通消息  0.890126   1.0276  -4.5312\n",
       "140    Topic5  0.477411         开心一刻  0.891863   1.0274  -4.5295\n",
       "177    Topic5  0.476489      没事就想搞事情  0.890516   1.0270  -4.5314\n",
       "136    Topic5  0.476888       广州高考天气  0.891279   1.0270  -4.5306\n",
       "110    Topic5  0.478157        小编8美食  0.893807   1.0268  -4.5279\n",
       "154    Topic5  0.477989       早间天气提醒  0.893961   1.0263  -4.5283\n",
       "168    Topic5  0.752570           气象  1.808347   0.7757  -4.0743\n",
       "10     Topic5  0.477642       2017广马  0.893293   1.0263  -4.5290\n",
       "111    Topic5  0.477525        小编8节日  0.893177   1.0262  -4.5292\n",
       "14     Topic5  0.478204     2018广州春运  0.895737   1.0247  -4.5278\n",
       "21     Topic5  0.477373      一大波雨雪来袭  0.895588   1.0232  -4.5295\n",
       "\n",
       "[215 rows x 6 columns], token_table=      Topic      Freq              Term\n",
       "term                                   \n",
       "0         2  0.849032                12\n",
       "1         2  0.849518            12生日快乐\n",
       "2         5  0.648586           13号台风天鸽\n",
       "5         1  0.839801           16号台风玛娃\n",
       "6         4  0.864597           18号台风泰利\n",
       "11        4  0.862968         2018世界气象日\n",
       "16        5  0.855035          2018春运广州\n",
       "19        3  0.841800        520相约广州天气君\n",
       "22        2  0.849957                下雪\n",
       "23        2  0.849724               下雪了\n",
       "24        2  0.851237              中大11\n",
       "25        2  0.850474              久旱逢甘\n",
       "29        3  0.841058              交通实况\n",
       "31        2  0.849054                今天\n",
       "32        2  0.849197              今天小暑\n",
       "33        3  0.842763              今天立夏\n",
       "35        3  0.841971              今日大暑\n",
       "40        4  0.862662                休闲\n",
       "50        1  0.839563               划重点\n",
       "54        1  0.839190              午间分享\n",
       "59        4  0.863613                卡努\n",
       "62        5  0.858258          双十一天气大剧透\n",
       "63        3  0.838983               双十二\n",
       "64        4  0.555665                台风\n",
       "65        5  0.856172              台风卡努\n",
       "66        5  0.857722       台风委员会成立50周年\n",
       "68        4  0.863287           吃货的幸福指数\n",
       "69        2  0.849690                喜雨\n",
       "71        5  0.855112              嗨森一刻\n",
       "72        2  0.851132                国家\n",
       "...     ...       ...               ...\n",
       "168       5  0.552991                气象\n",
       "169       5  0.856081            气象喵的日常\n",
       "171       3  0.840697             气象汪日常\n",
       "172       4  0.863194            气象汪的日常\n",
       "174       1  0.840119              气象生活\n",
       "175       1  0.840032            气象蛋的日常\n",
       "179       2  0.851285                清远\n",
       "182       4  0.863886          热带低压生成消息\n",
       "184       5  0.856800             牢记九一八\n",
       "185       3  0.839434                独在\n",
       "186       1  0.839462            猎户座流星雨\n",
       "187       4  0.864052          百万粉丝回馈计划\n",
       "191       1  0.840832              秋高气爽\n",
       "192       4  0.864381            科技周开放日\n",
       "195       1  0.632565            立个flag\n",
       "196       4  0.864368  笑归笑南方的朋友去了北方可要注意\n",
       "197       4  0.864198                纳沙\n",
       "198       2  0.851989              美食时刻\n",
       "199       1  0.839407              萝岗香雪\n",
       "206       2  0.850742                谢谢\n",
       "208       2  0.848403             超粤影响力\n",
       "209       5  0.856971              超级月亮\n",
       "210       2  0.849588                转移\n",
       "211       4  0.862403        这样的大学给我来一个\n",
       "214       4  0.864130             随手拍广州\n",
       "215       1  0.840183           随手拍昨日广州\n",
       "217       2  0.851174              雨水节气\n",
       "219       2  0.850953                韶关\n",
       "220       4  0.862571      韶关南岭国家森林公园下雪\n",
       "221       4  0.864835         预报员最近有点皮啊\n",
       "\n",
       "[95 rows x 3 columns], R=30, lambda_step=0.01, plot_opts={'xlab': 'PC1', 'ylab': 'PC2'}, topic_order=[4, 3, 5, 2, 1])"
      ]
     },
     "execution_count": 31,
     "metadata": {},
     "output_type": "execute_result"
    }
   ],
   "source": [
    "import pyLDAvis\n",
    "import pyLDAvis.sklearn\n",
    "pyLDAvis.enable_notebook()\n",
    "pyLDAvis.sklearn.prepare(lda, ve, vect)"
   ]
  },
  {
   "cell_type": "code",
   "execution_count": 33,
   "metadata": {},
   "outputs": [
    {
     "name": "stderr",
     "output_type": "stream",
     "text": [
      "D:\\Anaconda3\\lib\\site-packages\\pyLDAvis\\_prepare.py:387: DeprecationWarning: \n",
      ".ix is deprecated. Please use\n",
      ".loc for label based indexing or\n",
      ".iloc for positional indexing\n",
      "\n",
      "See the documentation here:\n",
      "http://pandas.pydata.org/pandas-docs/stable/indexing.html#ix-indexer-is-deprecated\n",
      "  topic_term_dists = topic_term_dists.ix[topic_order]\n"
     ]
    },
    {
     "name": "stdout",
     "output_type": "stream",
     "text": [
      "\n",
      "Note: if you're in the IPython notebook, pyLDAvis.show() is not the best command\n",
      "      to use. Consider using pyLDAvis.display(), or pyLDAvis.enable_notebook().\n",
      "      See more information at http://pyLDAvis.github.io/quickstart.html .\n",
      "\n",
      "You must interrupt the kernel to end this command\n",
      "\n",
      "Serving to http://127.0.0.1:8889/    [Ctrl-C to exit]\n"
     ]
    },
    {
     "name": "stderr",
     "output_type": "stream",
     "text": [
      "127.0.0.1 - - [21/Jun/2018 14:45:05] \"GET / HTTP/1.1\" 200 -\n",
      "127.0.0.1 - - [21/Jun/2018 14:45:06] \"GET /LDAvis.css HTTP/1.1\" 200 -\n",
      "127.0.0.1 - - [21/Jun/2018 14:45:06] \"GET /d3.js HTTP/1.1\" 200 -\n",
      "127.0.0.1 - - [21/Jun/2018 14:45:06] \"GET /LDAvis.js HTTP/1.1\" 200 -\n"
     ]
    },
    {
     "name": "stdout",
     "output_type": "stream",
     "text": [
      "\n",
      "stopping Server...\n"
     ]
    }
   ],
   "source": [
    "data = pyLDAvis.sklearn.prepare(lda, ve, vect)\n",
    "pyLDAvis.show(data)"
   ]
  },
  {
   "cell_type": "code",
   "execution_count": null,
   "metadata": {},
   "outputs": [],
   "source": []
  },
  {
   "cell_type": "code",
   "execution_count": null,
   "metadata": {},
   "outputs": [],
   "source": []
  },
  {
   "cell_type": "code",
   "execution_count": null,
   "metadata": {},
   "outputs": [],
   "source": []
  },
  {
   "cell_type": "code",
   "execution_count": null,
   "metadata": {},
   "outputs": [],
   "source": []
  },
  {
   "cell_type": "code",
   "execution_count": null,
   "metadata": {},
   "outputs": [],
   "source": []
  }
 ],
 "metadata": {
  "kernelspec": {
   "display_name": "Python 3",
   "language": "python",
   "name": "python3"
  },
  "language_info": {
   "codemirror_mode": {
    "name": "ipython",
    "version": 3
   },
   "file_extension": ".py",
   "mimetype": "text/x-python",
   "name": "python",
   "nbconvert_exporter": "python",
   "pygments_lexer": "ipython3",
   "version": "3.6.4"
  }
 },
 "nbformat": 4,
 "nbformat_minor": 2
}

{
 "cells": [
  {
   "cell_type": "code",
   "execution_count": null,
   "metadata": {
    "collapsed": true
   },
   "outputs": [],
   "source": [
    "# @zhangjoy\n",
    "# @配对T检验：有无添加主题热度因子的年化收益率/夏普比率是否有显著差异\n",
    "# @方差分析：用于两个及两个以上样本均数差别的显著性检验。\n",
    "# @20180404"
   ]
  },
  {
   "cell_type": "code",
   "execution_count": 1,
   "metadata": {},
   "outputs": [
    {
     "name": "stdout",
     "output_type": "stream",
     "text": [
      "Ttest_relResult(statistic=-14.011091007966353, pvalue=3.978168953443301e-12)\n"
     ]
    }
   ],
   "source": [
    "# 配对T检验：夏普比率\n",
    "import pandas as pd\n",
    "from scipy.stats import ttest_rel\n",
    "sharpe_t_test = pd.read_excel('/Users/zhangjoy/Documents/jupyter/graduation_design/sharpe.xlsx') \n",
    "Group1 = sharpe_t_test[sharpe_t_test['group']==1]['sharpe']\n",
    "Group2 = sharpe_t_test[sharpe_t_test['group']==2]['sharpe']\n",
    "print(ttest_rel(Group1,Group2))\n",
    "\n",
    "#输出 (a,b):a是t值，b是p值"
   ]
  },
  {
   "cell_type": "code",
   "execution_count": 9,
   "metadata": {},
   "outputs": [
    {
     "name": "stdout",
     "output_type": "stream",
     "text": [
      "Ttest_relResult(statistic=-16.038476892719483, pvalue=2.938935037809141e-13)\n"
     ]
    }
   ],
   "source": [
    "# 配对T检验：年化收益率\n",
    "import pandas as pd\n",
    "from scipy.stats import ttest_rel\n",
    "annual_yield_t_test = pd.read_excel('/Users/zhangjoy/Documents/jupyter/graduation_design/annual_yield.xlsx') \n",
    "Group1 = annual_yield_t_test[annual_yield_t_test['group']==1]['annual_yield']\n",
    "Group2 = annual_yield_t_test[annual_yield_t_test['group']==2]['annual_yield']\n",
    "print(ttest_rel(Group1,Group2))\n",
    "\n",
    "#输出 (a,b):a是t值，b是p值"
   ]
  },
  {
   "cell_type": "code",
   "execution_count": null,
   "metadata": {
    "collapsed": true
   },
   "outputs": [],
   "source": []
  },
  {
   "cell_type": "code",
   "execution_count": 7,
   "metadata": {},
   "outputs": [
    {
     "name": "stdout",
     "output_type": "stream",
     "text": [
      "0.009874656663464536 0.9213162596236758\n",
      "\n",
      "0.18886648753315702 0.66608646029606\n"
     ]
    }
   ],
   "source": [
    "# 方差分析\n",
    "import pandas as pd\n",
    "from scipy import stats\n",
    "sharpe_t_test = pd.read_excel('/Users/zhangjoy/Documents/jupyter/graduation_design/sharpe.xlsx') \n",
    "Group1 = sharpe_t_test[sharpe_t_test['group']==1]['sharpe']\n",
    "Group2 = sharpe_t_test[sharpe_t_test['group']==2]['sharpe']\n",
    "\n",
    "args = [Group1,Group2]\n",
    "\n",
    "# levene方差齐性检验。levene(*args, **kwds)  Perform Levene test for equal variances.如果p<0.05，则方差不齐\n",
    "w,p = stats.levene(*args)\n",
    "print(w,p) # 方差齐性\n",
    "print()\n",
    "\n",
    "# 进行方差分析\n",
    "f,p = stats.f_oneway(*args)\n",
    "print(f,p)"
   ]
  }
 ],
 "metadata": {
  "kernelspec": {
   "display_name": "Python 3",
   "language": "python",
   "name": "python3"
  },
  "language_info": {
   "codemirror_mode": {
    "name": "ipython",
    "version": 3
   },
   "file_extension": ".py",
   "mimetype": "text/x-python",
   "name": "python",
   "nbconvert_exporter": "python",
   "pygments_lexer": "ipython3",
   "version": "3.6.3"
  }
 },
 "nbformat": 4,
 "nbformat_minor": 2
}
